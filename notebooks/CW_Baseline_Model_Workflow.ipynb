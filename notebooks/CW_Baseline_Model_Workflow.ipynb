{
 "cells": [
  {
   "cell_type": "markdown",
   "metadata": {},
   "source": [
    "# Baseline Model Workflow"
   ]
  },
  {
   "cell_type": "markdown",
   "metadata": {},
   "source": [
    "## Import Packages and Data"
   ]
  },
  {
   "cell_type": "code",
   "execution_count": 1,
   "metadata": {},
   "outputs": [],
   "source": [
    "%load_ext autoreload\n",
    "%autoreload 2"
   ]
  },
  {
   "cell_type": "code",
   "execution_count": 2,
   "metadata": {},
   "outputs": [],
   "source": [
    "import pandas as pd\n",
    "import numpy as np\n",
    "import matplotlib.pyplot as plt"
   ]
  },
  {
   "cell_type": "code",
   "execution_count": 3,
   "metadata": {},
   "outputs": [],
   "source": [
    "from sklearn.pipeline import make_pipeline\n",
    "from sklearn.preprocessing import StandardScaler, OneHotEncoder, RobustScaler\n",
    "from sklearn.compose import make_column_transformer, make_column_selector"
   ]
  },
  {
   "cell_type": "code",
   "execution_count": 4,
   "metadata": {},
   "outputs": [],
   "source": [
    "train_values = pd.read_csv('/Users/chantalwuerschinger/code/chantalwuer/earthquake_damage/raw_data/challenge_data/train_values.csv')\n",
    "train_labels = pd.read_csv('/Users/chantalwuerschinger/code/chantalwuer/earthquake_damage/raw_data/challenge_data/train_labels.csv')\n",
    "test_values = pd.read_csv('/Users/chantalwuerschinger/code/chantalwuer/earthquake_damage/raw_data/challenge_data/test_values.csv')"
   ]
  },
  {
   "cell_type": "code",
   "execution_count": 4,
   "metadata": {},
   "outputs": [
    {
     "data": {
      "text/html": [
       "<div>\n",
       "<style scoped>\n",
       "    .dataframe tbody tr th:only-of-type {\n",
       "        vertical-align: middle;\n",
       "    }\n",
       "\n",
       "    .dataframe tbody tr th {\n",
       "        vertical-align: top;\n",
       "    }\n",
       "\n",
       "    .dataframe thead th {\n",
       "        text-align: right;\n",
       "    }\n",
       "</style>\n",
       "<table border=\"1\" class=\"dataframe\">\n",
       "  <thead>\n",
       "    <tr style=\"text-align: right;\">\n",
       "      <th></th>\n",
       "      <th>building_id</th>\n",
       "      <th>geo_level_1_id</th>\n",
       "      <th>geo_level_2_id</th>\n",
       "      <th>geo_level_3_id</th>\n",
       "      <th>count_floors_pre_eq</th>\n",
       "      <th>age</th>\n",
       "      <th>area_percentage</th>\n",
       "      <th>height_percentage</th>\n",
       "      <th>land_surface_condition</th>\n",
       "      <th>foundation_type</th>\n",
       "      <th>...</th>\n",
       "      <th>has_secondary_use_agriculture</th>\n",
       "      <th>has_secondary_use_hotel</th>\n",
       "      <th>has_secondary_use_rental</th>\n",
       "      <th>has_secondary_use_institution</th>\n",
       "      <th>has_secondary_use_school</th>\n",
       "      <th>has_secondary_use_industry</th>\n",
       "      <th>has_secondary_use_health_post</th>\n",
       "      <th>has_secondary_use_gov_office</th>\n",
       "      <th>has_secondary_use_use_police</th>\n",
       "      <th>has_secondary_use_other</th>\n",
       "    </tr>\n",
       "  </thead>\n",
       "  <tbody>\n",
       "    <tr>\n",
       "      <th>0</th>\n",
       "      <td>802906</td>\n",
       "      <td>6</td>\n",
       "      <td>487</td>\n",
       "      <td>12198</td>\n",
       "      <td>2</td>\n",
       "      <td>30</td>\n",
       "      <td>6</td>\n",
       "      <td>5</td>\n",
       "      <td>t</td>\n",
       "      <td>r</td>\n",
       "      <td>...</td>\n",
       "      <td>0</td>\n",
       "      <td>0</td>\n",
       "      <td>0</td>\n",
       "      <td>0</td>\n",
       "      <td>0</td>\n",
       "      <td>0</td>\n",
       "      <td>0</td>\n",
       "      <td>0</td>\n",
       "      <td>0</td>\n",
       "      <td>0</td>\n",
       "    </tr>\n",
       "    <tr>\n",
       "      <th>1</th>\n",
       "      <td>28830</td>\n",
       "      <td>8</td>\n",
       "      <td>900</td>\n",
       "      <td>2812</td>\n",
       "      <td>2</td>\n",
       "      <td>10</td>\n",
       "      <td>8</td>\n",
       "      <td>7</td>\n",
       "      <td>o</td>\n",
       "      <td>r</td>\n",
       "      <td>...</td>\n",
       "      <td>0</td>\n",
       "      <td>0</td>\n",
       "      <td>0</td>\n",
       "      <td>0</td>\n",
       "      <td>0</td>\n",
       "      <td>0</td>\n",
       "      <td>0</td>\n",
       "      <td>0</td>\n",
       "      <td>0</td>\n",
       "      <td>0</td>\n",
       "    </tr>\n",
       "    <tr>\n",
       "      <th>2</th>\n",
       "      <td>94947</td>\n",
       "      <td>21</td>\n",
       "      <td>363</td>\n",
       "      <td>8973</td>\n",
       "      <td>2</td>\n",
       "      <td>10</td>\n",
       "      <td>5</td>\n",
       "      <td>5</td>\n",
       "      <td>t</td>\n",
       "      <td>r</td>\n",
       "      <td>...</td>\n",
       "      <td>0</td>\n",
       "      <td>0</td>\n",
       "      <td>0</td>\n",
       "      <td>0</td>\n",
       "      <td>0</td>\n",
       "      <td>0</td>\n",
       "      <td>0</td>\n",
       "      <td>0</td>\n",
       "      <td>0</td>\n",
       "      <td>0</td>\n",
       "    </tr>\n",
       "    <tr>\n",
       "      <th>3</th>\n",
       "      <td>590882</td>\n",
       "      <td>22</td>\n",
       "      <td>418</td>\n",
       "      <td>10694</td>\n",
       "      <td>2</td>\n",
       "      <td>10</td>\n",
       "      <td>6</td>\n",
       "      <td>5</td>\n",
       "      <td>t</td>\n",
       "      <td>r</td>\n",
       "      <td>...</td>\n",
       "      <td>0</td>\n",
       "      <td>0</td>\n",
       "      <td>0</td>\n",
       "      <td>0</td>\n",
       "      <td>0</td>\n",
       "      <td>0</td>\n",
       "      <td>0</td>\n",
       "      <td>0</td>\n",
       "      <td>0</td>\n",
       "      <td>0</td>\n",
       "    </tr>\n",
       "    <tr>\n",
       "      <th>4</th>\n",
       "      <td>201944</td>\n",
       "      <td>11</td>\n",
       "      <td>131</td>\n",
       "      <td>1488</td>\n",
       "      <td>3</td>\n",
       "      <td>30</td>\n",
       "      <td>8</td>\n",
       "      <td>9</td>\n",
       "      <td>t</td>\n",
       "      <td>r</td>\n",
       "      <td>...</td>\n",
       "      <td>0</td>\n",
       "      <td>0</td>\n",
       "      <td>0</td>\n",
       "      <td>0</td>\n",
       "      <td>0</td>\n",
       "      <td>0</td>\n",
       "      <td>0</td>\n",
       "      <td>0</td>\n",
       "      <td>0</td>\n",
       "      <td>0</td>\n",
       "    </tr>\n",
       "  </tbody>\n",
       "</table>\n",
       "<p>5 rows × 39 columns</p>\n",
       "</div>"
      ],
      "text/plain": [
       "   building_id  geo_level_1_id  geo_level_2_id  geo_level_3_id  \\\n",
       "0       802906               6             487           12198   \n",
       "1        28830               8             900            2812   \n",
       "2        94947              21             363            8973   \n",
       "3       590882              22             418           10694   \n",
       "4       201944              11             131            1488   \n",
       "\n",
       "   count_floors_pre_eq  age  area_percentage  height_percentage  \\\n",
       "0                    2   30                6                  5   \n",
       "1                    2   10                8                  7   \n",
       "2                    2   10                5                  5   \n",
       "3                    2   10                6                  5   \n",
       "4                    3   30                8                  9   \n",
       "\n",
       "  land_surface_condition foundation_type  ... has_secondary_use_agriculture  \\\n",
       "0                      t               r  ...                             0   \n",
       "1                      o               r  ...                             0   \n",
       "2                      t               r  ...                             0   \n",
       "3                      t               r  ...                             0   \n",
       "4                      t               r  ...                             0   \n",
       "\n",
       "  has_secondary_use_hotel has_secondary_use_rental  \\\n",
       "0                       0                        0   \n",
       "1                       0                        0   \n",
       "2                       0                        0   \n",
       "3                       0                        0   \n",
       "4                       0                        0   \n",
       "\n",
       "  has_secondary_use_institution has_secondary_use_school  \\\n",
       "0                             0                        0   \n",
       "1                             0                        0   \n",
       "2                             0                        0   \n",
       "3                             0                        0   \n",
       "4                             0                        0   \n",
       "\n",
       "   has_secondary_use_industry  has_secondary_use_health_post  \\\n",
       "0                           0                              0   \n",
       "1                           0                              0   \n",
       "2                           0                              0   \n",
       "3                           0                              0   \n",
       "4                           0                              0   \n",
       "\n",
       "   has_secondary_use_gov_office  has_secondary_use_use_police  \\\n",
       "0                             0                             0   \n",
       "1                             0                             0   \n",
       "2                             0                             0   \n",
       "3                             0                             0   \n",
       "4                             0                             0   \n",
       "\n",
       "   has_secondary_use_other  \n",
       "0                        0  \n",
       "1                        0  \n",
       "2                        0  \n",
       "3                        0  \n",
       "4                        0  \n",
       "\n",
       "[5 rows x 39 columns]"
      ]
     },
     "execution_count": 4,
     "metadata": {},
     "output_type": "execute_result"
    }
   ],
   "source": [
    "train_values.head()"
   ]
  },
  {
   "cell_type": "code",
   "execution_count": 5,
   "metadata": {},
   "outputs": [
    {
     "data": {
      "text/html": [
       "<div>\n",
       "<style scoped>\n",
       "    .dataframe tbody tr th:only-of-type {\n",
       "        vertical-align: middle;\n",
       "    }\n",
       "\n",
       "    .dataframe tbody tr th {\n",
       "        vertical-align: top;\n",
       "    }\n",
       "\n",
       "    .dataframe thead th {\n",
       "        text-align: right;\n",
       "    }\n",
       "</style>\n",
       "<table border=\"1\" class=\"dataframe\">\n",
       "  <thead>\n",
       "    <tr style=\"text-align: right;\">\n",
       "      <th></th>\n",
       "      <th>building_id</th>\n",
       "      <th>damage_grade</th>\n",
       "    </tr>\n",
       "  </thead>\n",
       "  <tbody>\n",
       "    <tr>\n",
       "      <th>0</th>\n",
       "      <td>802906</td>\n",
       "      <td>3</td>\n",
       "    </tr>\n",
       "    <tr>\n",
       "      <th>1</th>\n",
       "      <td>28830</td>\n",
       "      <td>2</td>\n",
       "    </tr>\n",
       "    <tr>\n",
       "      <th>2</th>\n",
       "      <td>94947</td>\n",
       "      <td>3</td>\n",
       "    </tr>\n",
       "    <tr>\n",
       "      <th>3</th>\n",
       "      <td>590882</td>\n",
       "      <td>2</td>\n",
       "    </tr>\n",
       "    <tr>\n",
       "      <th>4</th>\n",
       "      <td>201944</td>\n",
       "      <td>3</td>\n",
       "    </tr>\n",
       "  </tbody>\n",
       "</table>\n",
       "</div>"
      ],
      "text/plain": [
       "   building_id  damage_grade\n",
       "0       802906             3\n",
       "1        28830             2\n",
       "2        94947             3\n",
       "3       590882             2\n",
       "4       201944             3"
      ]
     },
     "execution_count": 5,
     "metadata": {},
     "output_type": "execute_result"
    }
   ],
   "source": [
    "train_labels.head()"
   ]
  },
  {
   "cell_type": "markdown",
   "metadata": {},
   "source": [
    "### Define X and y (Train)"
   ]
  },
  {
   "cell_type": "code",
   "execution_count": 5,
   "metadata": {},
   "outputs": [],
   "source": [
    "X = train_values.drop(columns=['building_id'])\n",
    "y = train_labels['damage_grade']"
   ]
  },
  {
   "cell_type": "code",
   "execution_count": 7,
   "metadata": {},
   "outputs": [
    {
     "data": {
      "image/png": "[encoded data removed]",
      "text/plain": [
       "<Figure size 640x480 with 1 Axes>"
      ]
     },
     "metadata": {},
     "output_type": "display_data"
    }
   ],
   "source": [
    "plt.hist(y, bins=3);"
   ]
  },
  {
   "cell_type": "code",
   "execution_count": 8,
   "metadata": {},
   "outputs": [
    {
     "data": {
      "text/plain": [
       "Index(['land_surface_condition', 'foundation_type', 'roof_type',\n",
       "       'ground_floor_type', 'other_floor_type', 'position',\n",
       "       'plan_configuration', 'legal_ownership_status'],\n",
       "      dtype='object')"
      ]
     },
     "execution_count": 8,
     "metadata": {},
     "output_type": "execute_result"
    }
   ],
   "source": [
    "X_object = X.select_dtypes(include='object')\n",
    "X_object.columns"
   ]
  },
  {
   "cell_type": "code",
   "execution_count": 9,
   "metadata": {},
   "outputs": [
    {
     "data": {
      "text/plain": [
       "Index(['geo_level_1_id', 'geo_level_2_id', 'geo_level_3_id',\n",
       "       'count_floors_pre_eq', 'age', 'area_percentage', 'height_percentage',\n",
       "       'has_superstructure_adobe_mud', 'has_superstructure_mud_mortar_stone',\n",
       "       'has_superstructure_stone_flag',\n",
       "       'has_superstructure_cement_mortar_stone',\n",
       "       'has_superstructure_mud_mortar_brick',\n",
       "       'has_superstructure_cement_mortar_brick', 'has_superstructure_timber',\n",
       "       'has_superstructure_bamboo', 'has_superstructure_rc_non_engineered',\n",
       "       'has_superstructure_rc_engineered', 'has_superstructure_other',\n",
       "       'count_families', 'has_secondary_use', 'has_secondary_use_agriculture',\n",
       "       'has_secondary_use_hotel', 'has_secondary_use_rental',\n",
       "       'has_secondary_use_institution', 'has_secondary_use_school',\n",
       "       'has_secondary_use_industry', 'has_secondary_use_health_post',\n",
       "       'has_secondary_use_gov_office', 'has_secondary_use_use_police',\n",
       "       'has_secondary_use_other'],\n",
       "      dtype='object')"
      ]
     },
     "execution_count": 9,
     "metadata": {},
     "output_type": "execute_result"
    }
   ],
   "source": [
    "X_int = X.select_dtypes(include='int64')\n",
    "X_int.columns"
   ]
  },
  {
   "cell_type": "code",
   "execution_count": 10,
   "metadata": {},
   "outputs": [
    {
     "data": {
      "text/html": [
       "<div>\n",
       "<style scoped>\n",
       "    .dataframe tbody tr th:only-of-type {\n",
       "        vertical-align: middle;\n",
       "    }\n",
       "\n",
       "    .dataframe tbody tr th {\n",
       "        vertical-align: top;\n",
       "    }\n",
       "\n",
       "    .dataframe thead th {\n",
       "        text-align: right;\n",
       "    }\n",
       "</style>\n",
       "<table border=\"1\" class=\"dataframe\">\n",
       "  <thead>\n",
       "    <tr style=\"text-align: right;\">\n",
       "      <th></th>\n",
       "      <th>geo_level_1_id</th>\n",
       "      <th>geo_level_2_id</th>\n",
       "      <th>geo_level_3_id</th>\n",
       "      <th>count_floors_pre_eq</th>\n",
       "      <th>age</th>\n",
       "      <th>area_percentage</th>\n",
       "      <th>height_percentage</th>\n",
       "      <th>has_superstructure_adobe_mud</th>\n",
       "      <th>has_superstructure_mud_mortar_stone</th>\n",
       "      <th>has_superstructure_stone_flag</th>\n",
       "      <th>...</th>\n",
       "      <th>has_secondary_use_agriculture</th>\n",
       "      <th>has_secondary_use_hotel</th>\n",
       "      <th>has_secondary_use_rental</th>\n",
       "      <th>has_secondary_use_institution</th>\n",
       "      <th>has_secondary_use_school</th>\n",
       "      <th>has_secondary_use_industry</th>\n",
       "      <th>has_secondary_use_health_post</th>\n",
       "      <th>has_secondary_use_gov_office</th>\n",
       "      <th>has_secondary_use_use_police</th>\n",
       "      <th>has_secondary_use_other</th>\n",
       "    </tr>\n",
       "  </thead>\n",
       "  <tbody>\n",
       "    <tr>\n",
       "      <th>count</th>\n",
       "      <td>260601.000000</td>\n",
       "      <td>260601.000000</td>\n",
       "      <td>260601.000000</td>\n",
       "      <td>260601.000000</td>\n",
       "      <td>260601.000000</td>\n",
       "      <td>260601.000000</td>\n",
       "      <td>260601.000000</td>\n",
       "      <td>260601.000000</td>\n",
       "      <td>260601.000000</td>\n",
       "      <td>260601.000000</td>\n",
       "      <td>...</td>\n",
       "      <td>260601.000000</td>\n",
       "      <td>260601.000000</td>\n",
       "      <td>260601.000000</td>\n",
       "      <td>260601.000000</td>\n",
       "      <td>260601.000000</td>\n",
       "      <td>260601.000000</td>\n",
       "      <td>260601.000000</td>\n",
       "      <td>260601.000000</td>\n",
       "      <td>260601.000000</td>\n",
       "      <td>260601.000000</td>\n",
       "    </tr>\n",
       "    <tr>\n",
       "      <th>mean</th>\n",
       "      <td>13.900353</td>\n",
       "      <td>701.074685</td>\n",
       "      <td>6257.876148</td>\n",
       "      <td>2.129723</td>\n",
       "      <td>26.535029</td>\n",
       "      <td>8.018051</td>\n",
       "      <td>5.434365</td>\n",
       "      <td>0.088645</td>\n",
       "      <td>0.761935</td>\n",
       "      <td>0.034332</td>\n",
       "      <td>...</td>\n",
       "      <td>0.064378</td>\n",
       "      <td>0.033626</td>\n",
       "      <td>0.008101</td>\n",
       "      <td>0.000940</td>\n",
       "      <td>0.000361</td>\n",
       "      <td>0.001071</td>\n",
       "      <td>0.000188</td>\n",
       "      <td>0.000146</td>\n",
       "      <td>0.000088</td>\n",
       "      <td>0.005119</td>\n",
       "    </tr>\n",
       "    <tr>\n",
       "      <th>std</th>\n",
       "      <td>8.033617</td>\n",
       "      <td>412.710734</td>\n",
       "      <td>3646.369645</td>\n",
       "      <td>0.727665</td>\n",
       "      <td>73.565937</td>\n",
       "      <td>4.392231</td>\n",
       "      <td>1.918418</td>\n",
       "      <td>0.284231</td>\n",
       "      <td>0.425900</td>\n",
       "      <td>0.182081</td>\n",
       "      <td>...</td>\n",
       "      <td>0.245426</td>\n",
       "      <td>0.180265</td>\n",
       "      <td>0.089638</td>\n",
       "      <td>0.030647</td>\n",
       "      <td>0.018989</td>\n",
       "      <td>0.032703</td>\n",
       "      <td>0.013711</td>\n",
       "      <td>0.012075</td>\n",
       "      <td>0.009394</td>\n",
       "      <td>0.071364</td>\n",
       "    </tr>\n",
       "    <tr>\n",
       "      <th>min</th>\n",
       "      <td>0.000000</td>\n",
       "      <td>0.000000</td>\n",
       "      <td>0.000000</td>\n",
       "      <td>1.000000</td>\n",
       "      <td>0.000000</td>\n",
       "      <td>1.000000</td>\n",
       "      <td>2.000000</td>\n",
       "      <td>0.000000</td>\n",
       "      <td>0.000000</td>\n",
       "      <td>0.000000</td>\n",
       "      <td>...</td>\n",
       "      <td>0.000000</td>\n",
       "      <td>0.000000</td>\n",
       "      <td>0.000000</td>\n",
       "      <td>0.000000</td>\n",
       "      <td>0.000000</td>\n",
       "      <td>0.000000</td>\n",
       "      <td>0.000000</td>\n",
       "      <td>0.000000</td>\n",
       "      <td>0.000000</td>\n",
       "      <td>0.000000</td>\n",
       "    </tr>\n",
       "    <tr>\n",
       "      <th>25%</th>\n",
       "      <td>7.000000</td>\n",
       "      <td>350.000000</td>\n",
       "      <td>3073.000000</td>\n",
       "      <td>2.000000</td>\n",
       "      <td>10.000000</td>\n",
       "      <td>5.000000</td>\n",
       "      <td>4.000000</td>\n",
       "      <td>0.000000</td>\n",
       "      <td>1.000000</td>\n",
       "      <td>0.000000</td>\n",
       "      <td>...</td>\n",
       "      <td>0.000000</td>\n",
       "      <td>0.000000</td>\n",
       "      <td>0.000000</td>\n",
       "      <td>0.000000</td>\n",
       "      <td>0.000000</td>\n",
       "      <td>0.000000</td>\n",
       "      <td>0.000000</td>\n",
       "      <td>0.000000</td>\n",
       "      <td>0.000000</td>\n",
       "      <td>0.000000</td>\n",
       "    </tr>\n",
       "    <tr>\n",
       "      <th>50%</th>\n",
       "      <td>12.000000</td>\n",
       "      <td>702.000000</td>\n",
       "      <td>6270.000000</td>\n",
       "      <td>2.000000</td>\n",
       "      <td>15.000000</td>\n",
       "      <td>7.000000</td>\n",
       "      <td>5.000000</td>\n",
       "      <td>0.000000</td>\n",
       "      <td>1.000000</td>\n",
       "      <td>0.000000</td>\n",
       "      <td>...</td>\n",
       "      <td>0.000000</td>\n",
       "      <td>0.000000</td>\n",
       "      <td>0.000000</td>\n",
       "      <td>0.000000</td>\n",
       "      <td>0.000000</td>\n",
       "      <td>0.000000</td>\n",
       "      <td>0.000000</td>\n",
       "      <td>0.000000</td>\n",
       "      <td>0.000000</td>\n",
       "      <td>0.000000</td>\n",
       "    </tr>\n",
       "    <tr>\n",
       "      <th>75%</th>\n",
       "      <td>21.000000</td>\n",
       "      <td>1050.000000</td>\n",
       "      <td>9412.000000</td>\n",
       "      <td>2.000000</td>\n",
       "      <td>30.000000</td>\n",
       "      <td>9.000000</td>\n",
       "      <td>6.000000</td>\n",
       "      <td>0.000000</td>\n",
       "      <td>1.000000</td>\n",
       "      <td>0.000000</td>\n",
       "      <td>...</td>\n",
       "      <td>0.000000</td>\n",
       "      <td>0.000000</td>\n",
       "      <td>0.000000</td>\n",
       "      <td>0.000000</td>\n",
       "      <td>0.000000</td>\n",
       "      <td>0.000000</td>\n",
       "      <td>0.000000</td>\n",
       "      <td>0.000000</td>\n",
       "      <td>0.000000</td>\n",
       "      <td>0.000000</td>\n",
       "    </tr>\n",
       "    <tr>\n",
       "      <th>max</th>\n",
       "      <td>30.000000</td>\n",
       "      <td>1427.000000</td>\n",
       "      <td>12567.000000</td>\n",
       "      <td>9.000000</td>\n",
       "      <td>995.000000</td>\n",
       "      <td>100.000000</td>\n",
       "      <td>32.000000</td>\n",
       "      <td>1.000000</td>\n",
       "      <td>1.000000</td>\n",
       "      <td>1.000000</td>\n",
       "      <td>...</td>\n",
       "      <td>1.000000</td>\n",
       "      <td>1.000000</td>\n",
       "      <td>1.000000</td>\n",
       "      <td>1.000000</td>\n",
       "      <td>1.000000</td>\n",
       "      <td>1.000000</td>\n",
       "      <td>1.000000</td>\n",
       "      <td>1.000000</td>\n",
       "      <td>1.000000</td>\n",
       "      <td>1.000000</td>\n",
       "    </tr>\n",
       "  </tbody>\n",
       "</table>\n",
       "<p>8 rows × 30 columns</p>\n",
       "</div>"
      ],
      "text/plain": [
       "       geo_level_1_id  geo_level_2_id  geo_level_3_id  count_floors_pre_eq  \\\n",
       "count   260601.000000   260601.000000   260601.000000        260601.000000   \n",
       "mean        13.900353      701.074685     6257.876148             2.129723   \n",
       "std          8.033617      412.710734     3646.369645             0.727665   \n",
       "min          0.000000        0.000000        0.000000             1.000000   \n",
       "25%          7.000000      350.000000     3073.000000             2.000000   \n",
       "50%         12.000000      702.000000     6270.000000             2.000000   \n",
       "75%         21.000000     1050.000000     9412.000000             2.000000   \n",
       "max         30.000000     1427.000000    12567.000000             9.000000   \n",
       "\n",
       "                 age  area_percentage  height_percentage  \\\n",
       "count  260601.000000    260601.000000      260601.000000   \n",
       "mean       26.535029         8.018051           5.434365   \n",
       "std        73.565937         4.392231           1.918418   \n",
       "min         0.000000         1.000000           2.000000   \n",
       "25%        10.000000         5.000000           4.000000   \n",
       "50%        15.000000         7.000000           5.000000   \n",
       "75%        30.000000         9.000000           6.000000   \n",
       "max       995.000000       100.000000          32.000000   \n",
       "\n",
       "       has_superstructure_adobe_mud  has_superstructure_mud_mortar_stone  \\\n",
       "count                 260601.000000                        260601.000000   \n",
       "mean                       0.088645                             0.761935   \n",
       "std                        0.284231                             0.425900   \n",
       "min                        0.000000                             0.000000   \n",
       "25%                        0.000000                             1.000000   \n",
       "50%                        0.000000                             1.000000   \n",
       "75%                        0.000000                             1.000000   \n",
       "max                        1.000000                             1.000000   \n",
       "\n",
       "       has_superstructure_stone_flag  ...  has_secondary_use_agriculture  \\\n",
       "count                  260601.000000  ...                  260601.000000   \n",
       "mean                        0.034332  ...                       0.064378   \n",
       "std                         0.182081  ...                       0.245426   \n",
       "min                         0.000000  ...                       0.000000   \n",
       "25%                         0.000000  ...                       0.000000   \n",
       "50%                         0.000000  ...                       0.000000   \n",
       "75%                         0.000000  ...                       0.000000   \n",
       "max                         1.000000  ...                       1.000000   \n",
       "\n",
       "       has_secondary_use_hotel  has_secondary_use_rental  \\\n",
       "count            260601.000000             260601.000000   \n",
       "mean                  0.033626                  0.008101   \n",
       "std                   0.180265                  0.089638   \n",
       "min                   0.000000                  0.000000   \n",
       "25%                   0.000000                  0.000000   \n",
       "50%                   0.000000                  0.000000   \n",
       "75%                   0.000000                  0.000000   \n",
       "max                   1.000000                  1.000000   \n",
       "\n",
       "       has_secondary_use_institution  has_secondary_use_school  \\\n",
       "count                  260601.000000             260601.000000   \n",
       "mean                        0.000940                  0.000361   \n",
       "std                         0.030647                  0.018989   \n",
       "min                         0.000000                  0.000000   \n",
       "25%                         0.000000                  0.000000   \n",
       "50%                         0.000000                  0.000000   \n",
       "75%                         0.000000                  0.000000   \n",
       "max                         1.000000                  1.000000   \n",
       "\n",
       "       has_secondary_use_industry  has_secondary_use_health_post  \\\n",
       "count               260601.000000                  260601.000000   \n",
       "mean                     0.001071                       0.000188   \n",
       "std                      0.032703                       0.013711   \n",
       "min                      0.000000                       0.000000   \n",
       "25%                      0.000000                       0.000000   \n",
       "50%                      0.000000                       0.000000   \n",
       "75%                      0.000000                       0.000000   \n",
       "max                      1.000000                       1.000000   \n",
       "\n",
       "       has_secondary_use_gov_office  has_secondary_use_use_police  \\\n",
       "count                 260601.000000                 260601.000000   \n",
       "mean                       0.000146                      0.000088   \n",
       "std                        0.012075                      0.009394   \n",
       "min                        0.000000                      0.000000   \n",
       "25%                        0.000000                      0.000000   \n",
       "50%                        0.000000                      0.000000   \n",
       "75%                        0.000000                      0.000000   \n",
       "max                        1.000000                      1.000000   \n",
       "\n",
       "       has_secondary_use_other  \n",
       "count            260601.000000  \n",
       "mean                  0.005119  \n",
       "std                   0.071364  \n",
       "min                   0.000000  \n",
       "25%                   0.000000  \n",
       "50%                   0.000000  \n",
       "75%                   0.000000  \n",
       "max                   1.000000  \n",
       "\n",
       "[8 rows x 30 columns]"
      ]
     },
     "execution_count": 10,
     "metadata": {},
     "output_type": "execute_result"
    }
   ],
   "source": [
    "X.describe()"
   ]
  },
  {
   "cell_type": "markdown",
   "metadata": {},
   "source": [
    "## Preproc Pipeline"
   ]
  },
  {
   "cell_type": "code",
   "execution_count": 6,
   "metadata": {},
   "outputs": [],
   "source": [
    "num_transformer = make_pipeline(RobustScaler())\n",
    "num_col = make_column_selector(dtype_include=['int64', 'float64'])\n",
    "\n",
    "cat_transformer = make_pipeline(OneHotEncoder(handle_unknown='ignore'))\n",
    "cat_col = make_column_selector(dtype_include=['object'])"
   ]
  },
  {
   "cell_type": "code",
   "execution_count": 7,
   "metadata": {},
   "outputs": [],
   "source": [
    "preproc_basic = make_column_transformer((num_transformer, num_col),\n",
    "                                        (cat_transformer, cat_col), \n",
    "                                        remainder='passthrough')"
   ]
  },
  {
   "cell_type": "code",
   "execution_count": 8,
   "metadata": {},
   "outputs": [],
   "source": [
    "X_preproc = preproc_basic.fit_transform(X)"
   ]
  },
  {
   "cell_type": "code",
   "execution_count": 14,
   "metadata": {},
   "outputs": [
    {
     "data": {
      "text/plain": [
       "(260601, 38)"
      ]
     },
     "execution_count": 14,
     "metadata": {},
     "output_type": "execute_result"
    }
   ],
   "source": [
    "X.shape"
   ]
  },
  {
   "cell_type": "code",
   "execution_count": 15,
   "metadata": {},
   "outputs": [
    {
     "data": {
      "text/plain": [
       "(260601, 68)"
      ]
     },
     "execution_count": 15,
     "metadata": {},
     "output_type": "execute_result"
    }
   ],
   "source": [
    "X_preproc.shape"
   ]
  },
  {
   "cell_type": "markdown",
   "metadata": {},
   "source": [
    "### Control Size of Train Dataset"
   ]
  },
  {
   "cell_type": "code",
   "execution_count": 16,
   "metadata": {},
   "outputs": [],
   "source": [
    "X_train = X[:260601]\n",
    "y_train = y[:260601]"
   ]
  },
  {
   "cell_type": "markdown",
   "metadata": {},
   "source": [
    "### Change y_train from 123 to 012"
   ]
  },
  {
   "cell_type": "code",
   "execution_count": 17,
   "metadata": {},
   "outputs": [
    {
     "data": {
      "text/plain": [
       "array([2, 1, 0])"
      ]
     },
     "execution_count": 17,
     "metadata": {},
     "output_type": "execute_result"
    }
   ],
   "source": [
    "new_values = {1:0, 2:1, 3:2}\n",
    "y_train = y_train.replace(new_values)\n",
    "y_train.unique()"
   ]
  },
  {
   "cell_type": "markdown",
   "metadata": {},
   "source": [
    "### Import Preprocessor"
   ]
  },
  {
   "cell_type": "code",
   "execution_count": 29,
   "metadata": {},
   "outputs": [],
   "source": [
    "from earthquake_damage.ml_logic.preprocessor import preprocess_features"
   ]
  },
  {
   "cell_type": "code",
   "execution_count": 30,
   "metadata": {},
   "outputs": [
    {
     "name": "stdout",
     "output_type": "stream",
     "text": [
      "\n",
      "Preprocess features...\n",
      "\n",
      "✅ X_processed, with shape (260601, 68)\n"
     ]
    }
   ],
   "source": [
    "X_processed = preprocess_features(X_train)"
   ]
  },
  {
   "cell_type": "code",
   "execution_count": 26,
   "metadata": {},
   "outputs": [
    {
     "name": "stdout",
     "output_type": "stream",
     "text": [
      "This is a test function\n"
     ]
    }
   ],
   "source": [
    "from earthquake_damage.ml_logic.test import this_is_a_test_function\n",
    "\n",
    "this_is_a_test_function()"
   ]
  },
  {
   "cell_type": "markdown",
   "metadata": {},
   "source": [
    "## Model"
   ]
  },
  {
   "cell_type": "markdown",
   "metadata": {},
   "source": [
    "### Baseline Model: DecisionTreeClassifier"
   ]
  },
  {
   "cell_type": "code",
   "execution_count": 46,
   "metadata": {},
   "outputs": [],
   "source": [
    "from sklearn.tree import DecisionTreeClassifier\n",
    "\n",
    "model = DecisionTreeClassifier(max_depth = 2)\n",
    "\n",
    "# pipe_baseline = make_pipeline(preproc_basic, model)"
   ]
  },
  {
   "cell_type": "code",
   "execution_count": 47,
   "metadata": {},
   "outputs": [
    {
     "data": {
      "text/html": [
       "<style>#sk-container-id-1 {color: black;background-color: white;}#sk-container-id-1 pre{padding: 0;}#sk-container-id-1 div.sk-toggleable {background-color: white;}#sk-container-id-1 label.sk-toggleable__label {cursor: pointer;display: block;width: 100%;margin-bottom: 0;padding: 0.3em;box-sizing: border-box;text-align: center;}#sk-container-id-1 label.sk-toggleable__label-arrow:before {content: \"▸\";float: left;margin-right: 0.25em;color: #696969;}#sk-container-id-1 label.sk-toggleable__label-arrow:hover:before {color: black;}#sk-container-id-1 div.sk-estimator:hover label.sk-toggleable__label-arrow:before {color: black;}#sk-container-id-1 div.sk-toggleable__content {max-height: 0;max-width: 0;overflow: hidden;text-align: left;background-color: #f0f8ff;}#sk-container-id-1 div.sk-toggleable__content pre {margin: 0.2em;color: black;border-radius: 0.25em;background-color: #f0f8ff;}#sk-container-id-1 input.sk-toggleable__control:checked~div.sk-toggleable__content {max-height: 200px;max-width: 100%;overflow: auto;}#sk-container-id-1 input.sk-toggleable__control:checked~label.sk-toggleable__label-arrow:before {content: \"▾\";}#sk-container-id-1 div.sk-estimator input.sk-toggleable__control:checked~label.sk-toggleable__label {background-color: #d4ebff;}#sk-container-id-1 div.sk-label input.sk-toggleable__control:checked~label.sk-toggleable__label {background-color: #d4ebff;}#sk-container-id-1 input.sk-hidden--visually {border: 0;clip: rect(1px 1px 1px 1px);clip: rect(1px, 1px, 1px, 1px);height: 1px;margin: -1px;overflow: hidden;padding: 0;position: absolute;width: 1px;}#sk-container-id-1 div.sk-estimator {font-family: monospace;background-color: #f0f8ff;border: 1px dotted black;border-radius: 0.25em;box-sizing: border-box;margin-bottom: 0.5em;}#sk-container-id-1 div.sk-estimator:hover {background-color: #d4ebff;}#sk-container-id-1 div.sk-parallel-item::after {content: \"\";width: 100%;border-bottom: 1px solid gray;flex-grow: 1;}#sk-container-id-1 div.sk-label:hover label.sk-toggleable__label {background-color: #d4ebff;}#sk-container-id-1 div.sk-serial::before {content: \"\";position: absolute;border-left: 1px solid gray;box-sizing: border-box;top: 0;bottom: 0;left: 50%;z-index: 0;}#sk-container-id-1 div.sk-serial {display: flex;flex-direction: column;align-items: center;background-color: white;padding-right: 0.2em;padding-left: 0.2em;position: relative;}#sk-container-id-1 div.sk-item {position: relative;z-index: 1;}#sk-container-id-1 div.sk-parallel {display: flex;align-items: stretch;justify-content: center;background-color: white;position: relative;}#sk-container-id-1 div.sk-item::before, #sk-container-id-1 div.sk-parallel-item::before {content: \"\";position: absolute;border-left: 1px solid gray;box-sizing: border-box;top: 0;bottom: 0;left: 50%;z-index: -1;}#sk-container-id-1 div.sk-parallel-item {display: flex;flex-direction: column;z-index: 1;position: relative;background-color: white;}#sk-container-id-1 div.sk-parallel-item:first-child::after {align-self: flex-end;width: 50%;}#sk-container-id-1 div.sk-parallel-item:last-child::after {align-self: flex-start;width: 50%;}#sk-container-id-1 div.sk-parallel-item:only-child::after {width: 0;}#sk-container-id-1 div.sk-dashed-wrapped {border: 1px dashed gray;margin: 0 0.4em 0.5em 0.4em;box-sizing: border-box;padding-bottom: 0.4em;background-color: white;}#sk-container-id-1 div.sk-label label {font-family: monospace;font-weight: bold;display: inline-block;line-height: 1.2em;}#sk-container-id-1 div.sk-label-container {text-align: center;}#sk-container-id-1 div.sk-container {/* jupyter's `normalize.less` sets `[hidden] { display: none; }` but bootstrap.min.css set `[hidden] { display: none !important; }` so we also need the `!important` here to be able to override the default hidden behavior on the sphinx rendered scikit-learn.org. See: https://github.com/scikit-learn/scikit-learn/issues/21755 */display: inline-block !important;position: relative;}#sk-container-id-1 div.sk-text-repr-fallback {display: none;}</style><div id=\"sk-container-id-1\" class=\"sk-top-container\"><div class=\"sk-text-repr-fallback\"><pre>DecisionTreeClassifier(max_depth=2)</pre><b>In a Jupyter environment, please rerun this cell to show the HTML representation or trust the notebook. <br />On GitHub, the HTML representation is unable to render, please try loading this page with nbviewer.org.</b></div><div class=\"sk-container\" hidden><div class=\"sk-item\"><div class=\"sk-estimator sk-toggleable\"><input class=\"sk-toggleable__control sk-hidden--visually\" id=\"sk-estimator-id-1\" type=\"checkbox\" checked><label for=\"sk-estimator-id-1\" class=\"sk-toggleable__label sk-toggleable__label-arrow\">DecisionTreeClassifier</label><div class=\"sk-toggleable__content\"><pre>DecisionTreeClassifier(max_depth=2)</pre></div></div></div></div></div>"
      ],
      "text/plain": [
       "DecisionTreeClassifier(max_depth=2)"
      ]
     },
     "execution_count": 47,
     "metadata": {},
     "output_type": "execute_result"
    }
   ],
   "source": [
    "# pipe_baseline.fit(X_train, y_train)\n",
    "model.fit(X_preproc, y_train)"
   ]
  },
  {
   "cell_type": "code",
   "execution_count": 48,
   "metadata": {},
   "outputs": [
    {
     "data": {
      "text/plain": [
       "0.5703968960243608"
      ]
     },
     "execution_count": 48,
     "metadata": {},
     "output_type": "execute_result"
    }
   ],
   "source": [
    "from sklearn.model_selection import cross_val_score\n",
    "\n",
    "# Cross validate model\n",
    "model_score = cross_val_score(model, X_preproc, y_train, cv=10, scoring='f1_micro')\n",
    "model_score = model_score.mean()\n",
    "model_score"
   ]
  },
  {
   "cell_type": "markdown",
   "metadata": {},
   "source": [
    "### XGBClassifier"
   ]
  },
  {
   "cell_type": "code",
   "execution_count": 49,
   "metadata": {},
   "outputs": [
    {
     "data": {
      "text/html": [
       "<style>#sk-container-id-2 {color: black;background-color: white;}#sk-container-id-2 pre{padding: 0;}#sk-container-id-2 div.sk-toggleable {background-color: white;}#sk-container-id-2 label.sk-toggleable__label {cursor: pointer;display: block;width: 100%;margin-bottom: 0;padding: 0.3em;box-sizing: border-box;text-align: center;}#sk-container-id-2 label.sk-toggleable__label-arrow:before {content: \"▸\";float: left;margin-right: 0.25em;color: #696969;}#sk-container-id-2 label.sk-toggleable__label-arrow:hover:before {color: black;}#sk-container-id-2 div.sk-estimator:hover label.sk-toggleable__label-arrow:before {color: black;}#sk-container-id-2 div.sk-toggleable__content {max-height: 0;max-width: 0;overflow: hidden;text-align: left;background-color: #f0f8ff;}#sk-container-id-2 div.sk-toggleable__content pre {margin: 0.2em;color: black;border-radius: 0.25em;background-color: #f0f8ff;}#sk-container-id-2 input.sk-toggleable__control:checked~div.sk-toggleable__content {max-height: 200px;max-width: 100%;overflow: auto;}#sk-container-id-2 input.sk-toggleable__control:checked~label.sk-toggleable__label-arrow:before {content: \"▾\";}#sk-container-id-2 div.sk-estimator input.sk-toggleable__control:checked~label.sk-toggleable__label {background-color: #d4ebff;}#sk-container-id-2 div.sk-label input.sk-toggleable__control:checked~label.sk-toggleable__label {background-color: #d4ebff;}#sk-container-id-2 input.sk-hidden--visually {border: 0;clip: rect(1px 1px 1px 1px);clip: rect(1px, 1px, 1px, 1px);height: 1px;margin: -1px;overflow: hidden;padding: 0;position: absolute;width: 1px;}#sk-container-id-2 div.sk-estimator {font-family: monospace;background-color: #f0f8ff;border: 1px dotted black;border-radius: 0.25em;box-sizing: border-box;margin-bottom: 0.5em;}#sk-container-id-2 div.sk-estimator:hover {background-color: #d4ebff;}#sk-container-id-2 div.sk-parallel-item::after {content: \"\";width: 100%;border-bottom: 1px solid gray;flex-grow: 1;}#sk-container-id-2 div.sk-label:hover label.sk-toggleable__label {background-color: #d4ebff;}#sk-container-id-2 div.sk-serial::before {content: \"\";position: absolute;border-left: 1px solid gray;box-sizing: border-box;top: 0;bottom: 0;left: 50%;z-index: 0;}#sk-container-id-2 div.sk-serial {display: flex;flex-direction: column;align-items: center;background-color: white;padding-right: 0.2em;padding-left: 0.2em;position: relative;}#sk-container-id-2 div.sk-item {position: relative;z-index: 1;}#sk-container-id-2 div.sk-parallel {display: flex;align-items: stretch;justify-content: center;background-color: white;position: relative;}#sk-container-id-2 div.sk-item::before, #sk-container-id-2 div.sk-parallel-item::before {content: \"\";position: absolute;border-left: 1px solid gray;box-sizing: border-box;top: 0;bottom: 0;left: 50%;z-index: -1;}#sk-container-id-2 div.sk-parallel-item {display: flex;flex-direction: column;z-index: 1;position: relative;background-color: white;}#sk-container-id-2 div.sk-parallel-item:first-child::after {align-self: flex-end;width: 50%;}#sk-container-id-2 div.sk-parallel-item:last-child::after {align-self: flex-start;width: 50%;}#sk-container-id-2 div.sk-parallel-item:only-child::after {width: 0;}#sk-container-id-2 div.sk-dashed-wrapped {border: 1px dashed gray;margin: 0 0.4em 0.5em 0.4em;box-sizing: border-box;padding-bottom: 0.4em;background-color: white;}#sk-container-id-2 div.sk-label label {font-family: monospace;font-weight: bold;display: inline-block;line-height: 1.2em;}#sk-container-id-2 div.sk-label-container {text-align: center;}#sk-container-id-2 div.sk-container {/* jupyter's `normalize.less` sets `[hidden] { display: none; }` but bootstrap.min.css set `[hidden] { display: none !important; }` so we also need the `!important` here to be able to override the default hidden behavior on the sphinx rendered scikit-learn.org. See: https://github.com/scikit-learn/scikit-learn/issues/21755 */display: inline-block !important;position: relative;}#sk-container-id-2 div.sk-text-repr-fallback {display: none;}</style><div id=\"sk-container-id-2\" class=\"sk-top-container\"><div class=\"sk-text-repr-fallback\"><pre>XGBClassifier(base_score=0.5, booster=&#x27;gbtree&#x27;, callbacks=None,\n",
       "              colsample_bylevel=1, colsample_bynode=1, colsample_bytree=1,\n",
       "              early_stopping_rounds=None, enable_categorical=False,\n",
       "              eval_metric=None, feature_types=None, gamma=0, gpu_id=-1,\n",
       "              grow_policy=&#x27;depthwise&#x27;, importance_type=None,\n",
       "              interaction_constraints=&#x27;&#x27;, learning_rate=0.300000012,\n",
       "              max_bin=256, max_cat_threshold=64, max_cat_to_onehot=4,\n",
       "              max_delta_step=0, max_depth=6, max_leaves=0, min_child_weight=1,\n",
       "              missing=nan, monotone_constraints=&#x27;()&#x27;, n_estimators=100,\n",
       "              n_jobs=-1, num_parallel_tree=1, objective=&#x27;multi:softprob&#x27;,\n",
       "              predictor=&#x27;auto&#x27;, ...)</pre><b>In a Jupyter environment, please rerun this cell to show the HTML representation or trust the notebook. <br />On GitHub, the HTML representation is unable to render, please try loading this page with nbviewer.org.</b></div><div class=\"sk-container\" hidden><div class=\"sk-item\"><div class=\"sk-estimator sk-toggleable\"><input class=\"sk-toggleable__control sk-hidden--visually\" id=\"sk-estimator-id-2\" type=\"checkbox\" checked><label for=\"sk-estimator-id-2\" class=\"sk-toggleable__label sk-toggleable__label-arrow\">XGBClassifier</label><div class=\"sk-toggleable__content\"><pre>XGBClassifier(base_score=0.5, booster=&#x27;gbtree&#x27;, callbacks=None,\n",
       "              colsample_bylevel=1, colsample_bynode=1, colsample_bytree=1,\n",
       "              early_stopping_rounds=None, enable_categorical=False,\n",
       "              eval_metric=None, feature_types=None, gamma=0, gpu_id=-1,\n",
       "              grow_policy=&#x27;depthwise&#x27;, importance_type=None,\n",
       "              interaction_constraints=&#x27;&#x27;, learning_rate=0.300000012,\n",
       "              max_bin=256, max_cat_threshold=64, max_cat_to_onehot=4,\n",
       "              max_delta_step=0, max_depth=6, max_leaves=0, min_child_weight=1,\n",
       "              missing=nan, monotone_constraints=&#x27;()&#x27;, n_estimators=100,\n",
       "              n_jobs=-1, num_parallel_tree=1, objective=&#x27;multi:softprob&#x27;,\n",
       "              predictor=&#x27;auto&#x27;, ...)</pre></div></div></div></div></div>"
      ],
      "text/plain": [
       "XGBClassifier(base_score=0.5, booster='gbtree', callbacks=None,\n",
       "              colsample_bylevel=1, colsample_bynode=1, colsample_bytree=1,\n",
       "              early_stopping_rounds=None, enable_categorical=False,\n",
       "              eval_metric=None, feature_types=None, gamma=0, gpu_id=-1,\n",
       "              grow_policy='depthwise', importance_type=None,\n",
       "              interaction_constraints='', learning_rate=0.300000012,\n",
       "              max_bin=256, max_cat_threshold=64, max_cat_to_onehot=4,\n",
       "              max_delta_step=0, max_depth=6, max_leaves=0, min_child_weight=1,\n",
       "              missing=nan, monotone_constraints='()', n_estimators=100,\n",
       "              n_jobs=-1, num_parallel_tree=1, objective='multi:softprob',\n",
       "              predictor='auto', ...)"
      ]
     },
     "execution_count": 49,
     "metadata": {},
     "output_type": "execute_result"
    }
   ],
   "source": [
    "from xgboost import XGBClassifier\n",
    "\n",
    "xgb_model = XGBClassifier(n_jobs=-1)\n",
    "\n",
    "# pipe_XGBClass = make_pipeline(preproc_basic, xgb_model)\n",
    "# pipe_XGBClass.fit(X_train, y_train)\n",
    "\n",
    "xgb_model.fit(X_preproc, y_train)"
   ]
  },
  {
   "cell_type": "code",
   "execution_count": 50,
   "metadata": {},
   "outputs": [
    {
     "data": {
      "text/plain": [
       "0.7285236769462566"
      ]
     },
     "execution_count": 50,
     "metadata": {},
     "output_type": "execute_result"
    }
   ],
   "source": [
    "# Cross validate model\n",
    "xgb_model_score = cross_val_score(xgb_model, X_preproc, y_train, cv=10, scoring='f1_micro')\n",
    "xgb_model_score = xgb_model_score.mean()\n",
    "xgb_model_score"
   ]
  },
  {
   "cell_type": "markdown",
   "metadata": {},
   "source": [
    "### Ensemble Model"
   ]
  },
  {
   "cell_type": "code",
   "execution_count": null,
   "metadata": {},
   "outputs": [],
   "source": [
    "# stacked_ensemble = StackingRegressor(\n",
    "#     estimators = [(\"rf\", RandomForestRegressor(n_estimators=100)),\n",
    "#                   (\"knn\", KNeighborsRegressor(n_neighbors=10)),\n",
    "#                   (\"xgb\", xgb_reg)],\n",
    "#     final_estimator = LinearRegression())\n",
    "\n",
    "# pipe_stacked_ensemble = make_pipeline(preproc_baseline2, SelectPercentile(mutual_info_regression), stacked_ensemble)\n",
    "# pipe_stacked_ensemble = make_pipeline(preproc_baseline2, stacked_ensemble)"
   ]
  },
  {
   "cell_type": "markdown",
   "metadata": {},
   "source": [
    "### Neural Network"
   ]
  },
  {
   "cell_type": "code",
   "execution_count": 9,
   "metadata": {},
   "outputs": [
    {
     "name": "stderr",
     "output_type": "stream",
     "text": [
      "2022-12-06 15:10:46.782532: I tensorflow/core/platform/cpu_feature_guard.cc:193] This TensorFlow binary is optimized with oneAPI Deep Neural Network Library (oneDNN) to use the following CPU instructions in performance-critical operations:  AVX2 FMA\n",
      "To enable them in other operations, rebuild TensorFlow with the appropriate compiler flags.\n"
     ]
    }
   ],
   "source": [
    "from keras.callbacks import EarlyStopping\n",
    "from keras.models import Sequential\n",
    "from keras import layers"
   ]
  },
  {
   "cell_type": "code",
   "execution_count": 20,
   "metadata": {},
   "outputs": [],
   "source": [
    "from sklearn.preprocessing import LabelEncoder\n",
    "\n",
    "le = LabelEncoder()\n",
    "y_processed = le.fit_transform(y)"
   ]
  },
  {
   "cell_type": "code",
   "execution_count": 21,
   "metadata": {},
   "outputs": [
    {
     "name": "stdout",
     "output_type": "stream",
     "text": [
      "[[0. 0. 1.]\n",
      " [0. 1. 0.]\n",
      " [0. 0. 1.]\n",
      " ...\n",
      " [0. 0. 1.]\n",
      " [0. 1. 0.]\n",
      " [0. 0. 1.]]\n"
     ]
    }
   ],
   "source": [
    "from tensorflow.keras.utils import to_categorical\n",
    "y_cat = to_categorical(y_processed)\n",
    "print(y_cat)"
   ]
  },
  {
   "cell_type": "code",
   "execution_count": 22,
   "metadata": {},
   "outputs": [],
   "source": [
    "def init_model():\n",
    "    model = Sequential()\n",
    "    \n",
    "    # model.add(layers.Dense(10, input_dim=X_train.shape[1], activation='relu'))\n",
    "    model.add(layers.Dense(50, input_dim=X_preproc.shape[1], activation='relu'))\n",
    "    model.add(layers.Dense(20, activation='relu'))\n",
    "    model.add(layers.Dropout(rate=0.2))\n",
    "    model.add(layers.Dense(3, activation='softmax'))\n",
    "    \n",
    "    model.compile(loss='categorical_crossentropy', optimizer='adam', metrics=['Accuracy', 'Precision', 'Recall'])\n",
    "    \n",
    "    return model"
   ]
  },
  {
   "cell_type": "code",
   "execution_count": 23,
   "metadata": {},
   "outputs": [
    {
     "name": "stdout",
     "output_type": "stream",
     "text": [
      "Model: \"sequential_1\"\n",
      "_________________________________________________________________\n",
      " Layer (type)                Output Shape              Param #   \n",
      "=================================================================\n",
      " dense_3 (Dense)             (None, 50)                3450      \n",
      "                                                                 \n",
      " dense_4 (Dense)             (None, 20)                1020      \n",
      "                                                                 \n",
      " dropout_1 (Dropout)         (None, 20)                0         \n",
      "                                                                 \n",
      " dense_5 (Dense)             (None, 3)                 63        \n",
      "                                                                 \n",
      "=================================================================\n",
      "Total params: 4,533\n",
      "Trainable params: 4,533\n",
      "Non-trainable params: 0\n",
      "_________________________________________________________________\n"
     ]
    }
   ],
   "source": [
    "model = init_model()\n",
    "model.summary()"
   ]
  },
  {
   "cell_type": "code",
   "execution_count": 24,
   "metadata": {},
   "outputs": [
    {
     "name": "stdout",
     "output_type": "stream",
     "text": [
      "Epoch 1/100\n",
      "6515/6515 [==============================] - 16s 2ms/step - loss: 0.7895 - Accuracy: 0.6039 - precision: 0.6138 - recall: 0.5605 - val_loss: 0.7583 - val_Accuracy: 0.6287 - val_precision: 0.6385 - val_recall: 0.5970\n",
      "Epoch 2/100\n",
      "6515/6515 [==============================] - 13s 2ms/step - loss: 0.7580 - Accuracy: 0.6306 - precision: 0.6378 - recall: 0.6066 - val_loss: 0.7398 - val_Accuracy: 0.6442 - val_precision: 0.6502 - val_recall: 0.6243\n",
      "Epoch 3/100\n",
      "6515/6515 [==============================] - 13s 2ms/step - loss: 0.7398 - Accuracy: 0.6458 - precision: 0.6519 - recall: 0.6270 - val_loss: 0.7262 - val_Accuracy: 0.6526 - val_precision: 0.6570 - val_recall: 0.6391\n",
      "Epoch 4/100\n",
      "6515/6515 [==============================] - 13s 2ms/step - loss: 0.7282 - Accuracy: 0.6523 - precision: 0.6580 - recall: 0.6369 - val_loss: 0.7169 - val_Accuracy: 0.6630 - val_precision: 0.6680 - val_recall: 0.6471\n",
      "Epoch 5/100\n",
      "6515/6515 [==============================] - 13s 2ms/step - loss: 0.7199 - Accuracy: 0.6577 - precision: 0.6623 - recall: 0.6442 - val_loss: 0.7110 - val_Accuracy: 0.6655 - val_precision: 0.6705 - val_recall: 0.6543\n",
      "Epoch 6/100\n",
      "6515/6515 [==============================] - 14s 2ms/step - loss: 0.7151 - Accuracy: 0.6604 - precision: 0.6645 - recall: 0.6484 - val_loss: 0.7066 - val_Accuracy: 0.6678 - val_precision: 0.6719 - val_recall: 0.6575\n",
      "Epoch 7/100\n",
      "6515/6515 [==============================] - 11s 2ms/step - loss: 0.7115 - Accuracy: 0.6624 - precision: 0.6665 - recall: 0.6510 - val_loss: 0.7045 - val_Accuracy: 0.6679 - val_precision: 0.6718 - val_recall: 0.6569\n",
      "Epoch 8/100\n",
      "6515/6515 [==============================] - 11s 2ms/step - loss: 0.7089 - Accuracy: 0.6648 - precision: 0.6691 - recall: 0.6539 - val_loss: 0.7023 - val_Accuracy: 0.6705 - val_precision: 0.6743 - val_recall: 0.6608\n",
      "Epoch 9/100\n",
      "6515/6515 [==============================] - 11s 2ms/step - loss: 0.7078 - Accuracy: 0.6653 - precision: 0.6694 - recall: 0.6549 - val_loss: 0.7050 - val_Accuracy: 0.6691 - val_precision: 0.6733 - val_recall: 0.6603\n",
      "Epoch 10/100\n",
      "6515/6515 [==============================] - 11s 2ms/step - loss: 0.7060 - Accuracy: 0.6658 - precision: 0.6702 - recall: 0.6557 - val_loss: 0.7017 - val_Accuracy: 0.6707 - val_precision: 0.6748 - val_recall: 0.6606\n",
      "Epoch 11/100\n",
      "6515/6515 [==============================] - 11s 2ms/step - loss: 0.7044 - Accuracy: 0.6676 - precision: 0.6716 - recall: 0.6569 - val_loss: 0.7004 - val_Accuracy: 0.6738 - val_precision: 0.6779 - val_recall: 0.6637\n",
      "Epoch 12/100\n",
      "6515/6515 [==============================] - 11s 2ms/step - loss: 0.7028 - Accuracy: 0.6680 - precision: 0.6722 - recall: 0.6576 - val_loss: 0.6983 - val_Accuracy: 0.6750 - val_precision: 0.6783 - val_recall: 0.6666\n",
      "Epoch 13/100\n",
      "6515/6515 [==============================] - 11s 2ms/step - loss: 0.7022 - Accuracy: 0.6692 - precision: 0.6731 - recall: 0.6585 - val_loss: 0.6970 - val_Accuracy: 0.6759 - val_precision: 0.6801 - val_recall: 0.6671\n",
      "Epoch 14/100\n",
      "6515/6515 [==============================] - 11s 2ms/step - loss: 0.7015 - Accuracy: 0.6697 - precision: 0.6739 - recall: 0.6599 - val_loss: 0.6983 - val_Accuracy: 0.6752 - val_precision: 0.6795 - val_recall: 0.6655\n",
      "Epoch 15/100\n",
      "6515/6515 [==============================] - 11s 2ms/step - loss: 0.7003 - Accuracy: 0.6707 - precision: 0.6748 - recall: 0.6608 - val_loss: 0.6948 - val_Accuracy: 0.6738 - val_precision: 0.6772 - val_recall: 0.6658\n",
      "Epoch 16/100\n",
      "6515/6515 [==============================] - 12s 2ms/step - loss: 0.6996 - Accuracy: 0.6706 - precision: 0.6748 - recall: 0.6610 - val_loss: 0.6963 - val_Accuracy: 0.6714 - val_precision: 0.6746 - val_recall: 0.6635\n",
      "Epoch 17/100\n",
      "6515/6515 [==============================] - 11s 2ms/step - loss: 0.6988 - Accuracy: 0.6715 - precision: 0.6755 - recall: 0.6614 - val_loss: 0.6989 - val_Accuracy: 0.6736 - val_precision: 0.6756 - val_recall: 0.6678\n",
      "Epoch 18/100\n",
      "6515/6515 [==============================] - 11s 2ms/step - loss: 0.6985 - Accuracy: 0.6717 - precision: 0.6760 - recall: 0.6617 - val_loss: 0.6963 - val_Accuracy: 0.6770 - val_precision: 0.6808 - val_recall: 0.6673\n",
      "Epoch 19/100\n",
      "6515/6515 [==============================] - 74s 11ms/step - loss: 0.6986 - Accuracy: 0.6719 - precision: 0.6764 - recall: 0.6618 - val_loss: 0.6972 - val_Accuracy: 0.6722 - val_precision: 0.6772 - val_recall: 0.6627\n",
      "Epoch 20/100\n",
      "6515/6515 [==============================] - 14s 2ms/step - loss: 0.6971 - Accuracy: 0.6726 - precision: 0.6763 - recall: 0.6623 - val_loss: 0.6980 - val_Accuracy: 0.6739 - val_precision: 0.6772 - val_recall: 0.6645\n",
      "Epoch 21/100\n",
      "6515/6515 [==============================] - 11s 2ms/step - loss: 0.6968 - Accuracy: 0.6725 - precision: 0.6765 - recall: 0.6620 - val_loss: 0.6958 - val_Accuracy: 0.6745 - val_precision: 0.6784 - val_recall: 0.6660\n",
      "Epoch 22/100\n",
      "6515/6515 [==============================] - 11s 2ms/step - loss: 0.6958 - Accuracy: 0.6730 - precision: 0.6771 - recall: 0.6629 - val_loss: 0.6958 - val_Accuracy: 0.6746 - val_precision: 0.6785 - val_recall: 0.6669\n",
      "Epoch 23/100\n",
      "6515/6515 [==============================] - 11s 2ms/step - loss: 0.6954 - Accuracy: 0.6738 - precision: 0.6780 - recall: 0.6636 - val_loss: 0.6961 - val_Accuracy: 0.6760 - val_precision: 0.6802 - val_recall: 0.6656\n",
      "Epoch 24/100\n",
      "6515/6515 [==============================] - 11s 2ms/step - loss: 0.6955 - Accuracy: 0.6739 - precision: 0.6780 - recall: 0.6638 - val_loss: 0.6945 - val_Accuracy: 0.6747 - val_precision: 0.6798 - val_recall: 0.6661\n",
      "Epoch 25/100\n",
      "6515/6515 [==============================] - 11s 2ms/step - loss: 0.6947 - Accuracy: 0.6737 - precision: 0.6780 - recall: 0.6636 - val_loss: 0.6959 - val_Accuracy: 0.6731 - val_precision: 0.6765 - val_recall: 0.6651\n",
      "Epoch 26/100\n",
      "6515/6515 [==============================] - 11s 2ms/step - loss: 0.6946 - Accuracy: 0.6742 - precision: 0.6781 - recall: 0.6644 - val_loss: 0.6938 - val_Accuracy: 0.6757 - val_precision: 0.6800 - val_recall: 0.6668\n",
      "Epoch 27/100\n",
      "6515/6515 [==============================] - 11s 2ms/step - loss: 0.6942 - Accuracy: 0.6744 - precision: 0.6785 - recall: 0.6640 - val_loss: 0.6939 - val_Accuracy: 0.6750 - val_precision: 0.6793 - val_recall: 0.6641\n",
      "Epoch 28/100\n",
      "6515/6515 [==============================] - 12s 2ms/step - loss: 0.6938 - Accuracy: 0.6740 - precision: 0.6783 - recall: 0.6639 - val_loss: 0.6943 - val_Accuracy: 0.6746 - val_precision: 0.6788 - val_recall: 0.6651\n",
      "Epoch 29/100\n",
      "6515/6515 [==============================] - 11s 2ms/step - loss: 0.6935 - Accuracy: 0.6748 - precision: 0.6790 - recall: 0.6649 - val_loss: 0.6975 - val_Accuracy: 0.6749 - val_precision: 0.6778 - val_recall: 0.6669\n",
      "Epoch 30/100\n",
      "6515/6515 [==============================] - 11s 2ms/step - loss: 0.6928 - Accuracy: 0.6750 - precision: 0.6790 - recall: 0.6652 - val_loss: 0.6943 - val_Accuracy: 0.6762 - val_precision: 0.6808 - val_recall: 0.6655\n",
      "Epoch 31/100\n",
      "6515/6515 [==============================] - 118s 18ms/step - loss: 0.6930 - Accuracy: 0.6751 - precision: 0.6793 - recall: 0.6649 - val_loss: 0.6955 - val_Accuracy: 0.6741 - val_precision: 0.6771 - val_recall: 0.6653\n",
      "Epoch 32/100\n",
      "6515/6515 [==============================] - 12s 2ms/step - loss: 0.6924 - Accuracy: 0.6746 - precision: 0.6787 - recall: 0.6644 - val_loss: 0.6935 - val_Accuracy: 0.6778 - val_precision: 0.6836 - val_recall: 0.6651\n",
      "Epoch 33/100\n",
      "6515/6515 [==============================] - 12s 2ms/step - loss: 0.6920 - Accuracy: 0.6751 - precision: 0.6796 - recall: 0.6655 - val_loss: 0.6960 - val_Accuracy: 0.6738 - val_precision: 0.6776 - val_recall: 0.6664\n",
      "Epoch 34/100\n",
      "6515/6515 [==============================] - 11s 2ms/step - loss: 0.6925 - Accuracy: 0.6745 - precision: 0.6786 - recall: 0.6647 - val_loss: 0.6928 - val_Accuracy: 0.6755 - val_precision: 0.6796 - val_recall: 0.6668\n",
      "Epoch 35/100\n",
      "6515/6515 [==============================] - 11s 2ms/step - loss: 0.6917 - Accuracy: 0.6755 - precision: 0.6793 - recall: 0.6653 - val_loss: 0.6940 - val_Accuracy: 0.6773 - val_precision: 0.6811 - val_recall: 0.6684\n",
      "Epoch 36/100\n",
      "6515/6515 [==============================] - 12s 2ms/step - loss: 0.6915 - Accuracy: 0.6756 - precision: 0.6801 - recall: 0.6658 - val_loss: 0.6939 - val_Accuracy: 0.6765 - val_precision: 0.6808 - val_recall: 0.6676\n",
      "Epoch 37/100\n",
      "6515/6515 [==============================] - 11s 2ms/step - loss: 0.6916 - Accuracy: 0.6752 - precision: 0.6794 - recall: 0.6656 - val_loss: 0.6935 - val_Accuracy: 0.6766 - val_precision: 0.6807 - val_recall: 0.6680\n",
      "Epoch 38/100\n",
      "6515/6515 [==============================] - 12s 2ms/step - loss: 0.6912 - Accuracy: 0.6757 - precision: 0.6798 - recall: 0.6659 - val_loss: 0.6954 - val_Accuracy: 0.6772 - val_precision: 0.6804 - val_recall: 0.6687\n",
      "Epoch 39/100\n",
      "6515/6515 [==============================] - 14s 2ms/step - loss: 0.6910 - Accuracy: 0.6759 - precision: 0.6801 - recall: 0.6660 - val_loss: 0.6937 - val_Accuracy: 0.6768 - val_precision: 0.6809 - val_recall: 0.6674\n",
      "Epoch 40/100\n",
      "6515/6515 [==============================] - 14s 2ms/step - loss: 0.6908 - Accuracy: 0.6762 - precision: 0.6803 - recall: 0.6662 - val_loss: 0.6926 - val_Accuracy: 0.6759 - val_precision: 0.6801 - val_recall: 0.6677\n",
      "Epoch 41/100\n",
      "6515/6515 [==============================] - 12s 2ms/step - loss: 0.6913 - Accuracy: 0.6760 - precision: 0.6800 - recall: 0.6665 - val_loss: 0.6936 - val_Accuracy: 0.6752 - val_precision: 0.6797 - val_recall: 0.6657\n",
      "Epoch 42/100\n",
      "6515/6515 [==============================] - 13s 2ms/step - loss: 0.6904 - Accuracy: 0.6763 - precision: 0.6802 - recall: 0.6666 - val_loss: 0.6939 - val_Accuracy: 0.6754 - val_precision: 0.6790 - val_recall: 0.6655\n",
      "Epoch 43/100\n",
      "6515/6515 [==============================] - 12s 2ms/step - loss: 0.6901 - Accuracy: 0.6770 - precision: 0.6811 - recall: 0.6670 - val_loss: 0.6949 - val_Accuracy: 0.6753 - val_precision: 0.6784 - val_recall: 0.6677\n",
      "Epoch 44/100\n",
      "6515/6515 [==============================] - 12s 2ms/step - loss: 0.6904 - Accuracy: 0.6758 - precision: 0.6800 - recall: 0.6663 - val_loss: 0.6961 - val_Accuracy: 0.6749 - val_precision: 0.6788 - val_recall: 0.6672\n",
      "Epoch 45/100\n",
      "6515/6515 [==============================] - 12s 2ms/step - loss: 0.6899 - Accuracy: 0.6767 - precision: 0.6806 - recall: 0.6668 - val_loss: 0.6919 - val_Accuracy: 0.6771 - val_precision: 0.6822 - val_recall: 0.6673\n",
      "Epoch 46/100\n",
      "6515/6515 [==============================] - 12s 2ms/step - loss: 0.6898 - Accuracy: 0.6765 - precision: 0.6807 - recall: 0.6670 - val_loss: 0.6935 - val_Accuracy: 0.6756 - val_precision: 0.6800 - val_recall: 0.6655\n",
      "Epoch 47/100\n",
      "6515/6515 [==============================] - 16s 2ms/step - loss: 0.6898 - Accuracy: 0.6756 - precision: 0.6798 - recall: 0.6659 - val_loss: 0.6951 - val_Accuracy: 0.6759 - val_precision: 0.6793 - val_recall: 0.6679\n",
      "Epoch 48/100\n",
      "6515/6515 [==============================] - 12s 2ms/step - loss: 0.6889 - Accuracy: 0.6770 - precision: 0.6809 - recall: 0.6670 - val_loss: 0.6936 - val_Accuracy: 0.6766 - val_precision: 0.6799 - val_recall: 0.6695\n",
      "Epoch 49/100\n",
      "6515/6515 [==============================] - 12s 2ms/step - loss: 0.6897 - Accuracy: 0.6765 - precision: 0.6804 - recall: 0.6662 - val_loss: 0.6943 - val_Accuracy: 0.6748 - val_precision: 0.6790 - val_recall: 0.6659\n",
      "Epoch 50/100\n",
      "6515/6515 [==============================] - 12s 2ms/step - loss: 0.6896 - Accuracy: 0.6764 - precision: 0.6806 - recall: 0.6667 - val_loss: 0.6937 - val_Accuracy: 0.6729 - val_precision: 0.6776 - val_recall: 0.6629\n",
      "Epoch 51/100\n",
      "6515/6515 [==============================] - 13s 2ms/step - loss: 0.6889 - Accuracy: 0.6765 - precision: 0.6808 - recall: 0.6669 - val_loss: 0.6954 - val_Accuracy: 0.6770 - val_precision: 0.6828 - val_recall: 0.6658\n",
      "Epoch 52/100\n",
      "6515/6515 [==============================] - 13s 2ms/step - loss: 0.6896 - Accuracy: 0.6770 - precision: 0.6811 - recall: 0.6669 - val_loss: 0.6935 - val_Accuracy: 0.6764 - val_precision: 0.6794 - val_recall: 0.6684\n",
      "Epoch 53/100\n",
      "6515/6515 [==============================] - 15s 2ms/step - loss: 0.6893 - Accuracy: 0.6772 - precision: 0.6813 - recall: 0.6673 - val_loss: 0.6938 - val_Accuracy: 0.6757 - val_precision: 0.6797 - val_recall: 0.6672\n",
      "Epoch 54/100\n",
      "6515/6515 [==============================] - 15s 2ms/step - loss: 0.6886 - Accuracy: 0.6771 - precision: 0.6811 - recall: 0.6675 - val_loss: 0.6932 - val_Accuracy: 0.6770 - val_precision: 0.6808 - val_recall: 0.6664\n",
      "Epoch 55/100\n",
      "6515/6515 [==============================] - 14s 2ms/step - loss: 0.6882 - Accuracy: 0.6774 - precision: 0.6819 - recall: 0.6676 - val_loss: 0.6930 - val_Accuracy: 0.6754 - val_precision: 0.6795 - val_recall: 0.6666\n",
      "Epoch 56/100\n",
      "6515/6515 [==============================] - 13s 2ms/step - loss: 0.6886 - Accuracy: 0.6769 - precision: 0.6807 - recall: 0.6667 - val_loss: 0.6917 - val_Accuracy: 0.6781 - val_precision: 0.6818 - val_recall: 0.6691\n",
      "Epoch 57/100\n",
      "6515/6515 [==============================] - 13s 2ms/step - loss: 0.6884 - Accuracy: 0.6771 - precision: 0.6815 - recall: 0.6673 - val_loss: 0.6918 - val_Accuracy: 0.6780 - val_precision: 0.6821 - val_recall: 0.6691\n",
      "Epoch 58/100\n",
      "6515/6515 [==============================] - 16s 2ms/step - loss: 0.6881 - Accuracy: 0.6769 - precision: 0.6812 - recall: 0.6670 - val_loss: 0.6933 - val_Accuracy: 0.6770 - val_precision: 0.6814 - val_recall: 0.6672\n",
      "Epoch 59/100\n",
      "6515/6515 [==============================] - 14s 2ms/step - loss: 0.6885 - Accuracy: 0.6769 - precision: 0.6804 - recall: 0.6669 - val_loss: 0.6943 - val_Accuracy: 0.6759 - val_precision: 0.6793 - val_recall: 0.6680\n",
      "Epoch 60/100\n",
      "6515/6515 [==============================] - 12s 2ms/step - loss: 0.6876 - Accuracy: 0.6777 - precision: 0.6821 - recall: 0.6678 - val_loss: 0.6939 - val_Accuracy: 0.6741 - val_precision: 0.6784 - val_recall: 0.6639\n",
      "Epoch 61/100\n",
      "6515/6515 [==============================] - 12s 2ms/step - loss: 0.6880 - Accuracy: 0.6770 - precision: 0.6811 - recall: 0.6666 - val_loss: 0.6932 - val_Accuracy: 0.6773 - val_precision: 0.6816 - val_recall: 0.6674\n",
      "Epoch 62/100\n",
      "6515/6515 [==============================] - 13s 2ms/step - loss: 0.6870 - Accuracy: 0.6786 - precision: 0.6826 - recall: 0.6687 - val_loss: 0.6929 - val_Accuracy: 0.6763 - val_precision: 0.6801 - val_recall: 0.6666\n",
      "Epoch 63/100\n",
      "6515/6515 [==============================] - 13s 2ms/step - loss: 0.6873 - Accuracy: 0.6782 - precision: 0.6823 - recall: 0.6684 - val_loss: 0.6946 - val_Accuracy: 0.6758 - val_precision: 0.6790 - val_recall: 0.6688\n",
      "Epoch 64/100\n",
      "6515/6515 [==============================] - 13s 2ms/step - loss: 0.6875 - Accuracy: 0.6779 - precision: 0.6820 - recall: 0.6683 - val_loss: 0.6924 - val_Accuracy: 0.6765 - val_precision: 0.6795 - val_recall: 0.6678\n",
      "Epoch 65/100\n",
      "6515/6515 [==============================] - 13s 2ms/step - loss: 0.6876 - Accuracy: 0.6778 - precision: 0.6820 - recall: 0.6682 - val_loss: 0.6928 - val_Accuracy: 0.6768 - val_precision: 0.6799 - val_recall: 0.6685\n",
      "Epoch 66/100\n",
      "6515/6515 [==============================] - 16s 3ms/step - loss: 0.6869 - Accuracy: 0.6789 - precision: 0.6828 - recall: 0.6689 - val_loss: 0.6957 - val_Accuracy: 0.6755 - val_precision: 0.6786 - val_recall: 0.6666\n",
      "Epoch 67/100\n",
      "6515/6515 [==============================] - 19s 3ms/step - loss: 0.6881 - Accuracy: 0.6775 - precision: 0.6817 - recall: 0.6681 - val_loss: 0.6922 - val_Accuracy: 0.6765 - val_precision: 0.6807 - val_recall: 0.6670\n",
      "Epoch 68/100\n",
      "6515/6515 [==============================] - 22s 3ms/step - loss: 0.6871 - Accuracy: 0.6778 - precision: 0.6819 - recall: 0.6679 - val_loss: 0.6942 - val_Accuracy: 0.6731 - val_precision: 0.6770 - val_recall: 0.6647\n",
      "Epoch 69/100\n",
      "6515/6515 [==============================] - 19s 3ms/step - loss: 0.6869 - Accuracy: 0.6787 - precision: 0.6827 - recall: 0.6687 - val_loss: 0.6934 - val_Accuracy: 0.6769 - val_precision: 0.6800 - val_recall: 0.6701\n",
      "Epoch 70/100\n",
      "6515/6515 [==============================] - 20s 3ms/step - loss: 0.6866 - Accuracy: 0.6784 - precision: 0.6826 - recall: 0.6693 - val_loss: 0.6936 - val_Accuracy: 0.6763 - val_precision: 0.6801 - val_recall: 0.6674\n",
      "Epoch 71/100\n",
      "6515/6515 [==============================] - 16s 2ms/step - loss: 0.6870 - Accuracy: 0.6786 - precision: 0.6827 - recall: 0.6689 - val_loss: 0.6929 - val_Accuracy: 0.6784 - val_precision: 0.6823 - val_recall: 0.6690\n",
      "Epoch 72/100\n",
      "6515/6515 [==============================] - 14s 2ms/step - loss: 0.6865 - Accuracy: 0.6784 - precision: 0.6825 - recall: 0.6690 - val_loss: 0.6941 - val_Accuracy: 0.6776 - val_precision: 0.6814 - val_recall: 0.6683\n",
      "Epoch 73/100\n",
      "6515/6515 [==============================] - 13s 2ms/step - loss: 0.6869 - Accuracy: 0.6786 - precision: 0.6828 - recall: 0.6690 - val_loss: 0.6918 - val_Accuracy: 0.6783 - val_precision: 0.6814 - val_recall: 0.6696\n",
      "Epoch 74/100\n",
      "6515/6515 [==============================] - 14s 2ms/step - loss: 0.6867 - Accuracy: 0.6791 - precision: 0.6833 - recall: 0.6695 - val_loss: 0.6931 - val_Accuracy: 0.6768 - val_precision: 0.6803 - val_recall: 0.6692\n",
      "Epoch 75/100\n",
      "6515/6515 [==============================] - 14s 2ms/step - loss: 0.6866 - Accuracy: 0.6788 - precision: 0.6830 - recall: 0.6693 - val_loss: 0.6923 - val_Accuracy: 0.6782 - val_precision: 0.6819 - val_recall: 0.6686\n",
      "Epoch 76/100\n",
      "6515/6515 [==============================] - 14s 2ms/step - loss: 0.6865 - Accuracy: 0.6786 - precision: 0.6828 - recall: 0.6691 - val_loss: 0.6922 - val_Accuracy: 0.6795 - val_precision: 0.6839 - val_recall: 0.6675\n"
     ]
    }
   ],
   "source": [
    "es = EarlyStopping(patience=20, restore_best_weights=True)\n",
    "\n",
    "history = model.fit(X_preproc, y_cat, \n",
    "          epochs=100, batch_size=32, verbose=1,\n",
    "          callbacks=[es], validation_split=0.2)\n"
   ]
  },
  {
   "cell_type": "markdown",
   "metadata": {},
   "source": [
    "### Push Models to MLFlow"
   ]
  },
  {
   "cell_type": "code",
   "execution_count": 29,
   "metadata": {},
   "outputs": [
    {
     "data": {
      "text/plain": [
       "<Experiment: artifact_location='mlflow-artifacts:/6901', creation_time=None, experiment_id='6901', last_update_time=None, lifecycle_stage='active', name='earthquake_damage', tags={}>"
      ]
     },
     "execution_count": 29,
     "metadata": {},
     "output_type": "execute_result"
    }
   ],
   "source": [
    "# import mlflow\n",
    "# import os\n",
    "# import mlflow.keras\n",
    "\n",
    "# experiment_name = os.environ.get('MLFLOW_EXPERIMENT')\n",
    "# tracking_uri = os.environ.get('MLFLOW_TRACKING_URI')\n",
    "\n",
    "# mlflow.set_tracking_uri(tracking_uri)\n",
    "# mlflow.set_experiment(experiment_name=experiment_name)"
   ]
  },
  {
   "cell_type": "code",
   "execution_count": 30,
   "metadata": {},
   "outputs": [
    {
     "ename": "TypeError",
     "evalue": "log_model() got an unexpected keyword argument 'keras_model'",
     "output_type": "error",
     "traceback": [
      "\u001b[0;31m---------------------------------------------------------------------------\u001b[0m",
      "\u001b[0;31mTypeError\u001b[0m                                 Traceback (most recent call last)",
      "Cell \u001b[0;32mIn [30], line 9\u001b[0m\n\u001b[1;32m      6\u001b[0m mlflow\u001b[39m.\u001b[39mlog_params(params)\n\u001b[1;32m      7\u001b[0m mlflow\u001b[39m.\u001b[39mlog_metrics(metrics)\n\u001b[0;32m----> 9\u001b[0m mlflow\u001b[39m.\u001b[39;49mkeras\u001b[39m.\u001b[39;49mlog_model(keras_model\u001b[39m=\u001b[39;49mpipe_XGBClass,\n\u001b[1;32m     10\u001b[0m                        artifact_path\u001b[39m=\u001b[39;49m\u001b[39m\"\u001b[39;49m\u001b[39mmodel\u001b[39;49m\u001b[39m\"\u001b[39;49m,\n\u001b[1;32m     11\u001b[0m                        keras_module\u001b[39m=\u001b[39;49m\u001b[39m\"\u001b[39;49m\u001b[39mtensorflow.keras\u001b[39;49m\u001b[39m\"\u001b[39;49m,\n\u001b[1;32m     12\u001b[0m                        registered_model_name\u001b[39m=\u001b[39;49m\u001b[39m\"\u001b[39;49m\u001b[39mpipe_XGBClass\u001b[39;49m\u001b[39m\"\u001b[39;49m)\n",
      "\u001b[0;31mTypeError\u001b[0m: log_model() got an unexpected keyword argument 'keras_model'"
     ]
    }
   ],
   "source": [
    "# params = dict(max_depth=5, n_estimators=100, learning_rate=0.1, n_jobs=-1)\n",
    "# metrics = dict(f1_micro=0.6951)\n",
    "\n",
    "# with mlflow.start_run():\n",
    "\n",
    "#     mlflow.log_params(params)\n",
    "#     mlflow.log_metrics(metrics)\n",
    "\n",
    "#     mlflow.keras.log_model(keras_model=pipe_XGBClass,\n",
    "#                            artifact_path=\"model\",\n",
    "#                            keras_module=\"tensorflow.keras\",\n",
    "#                            registered_model_name=\"pipe_XGBClass\")"
   ]
  },
  {
   "cell_type": "markdown",
   "metadata": {},
   "source": [
    "## Make Submission"
   ]
  },
  {
   "cell_type": "markdown",
   "metadata": {},
   "source": [
    "### Prediction"
   ]
  },
  {
   "cell_type": "code",
   "execution_count": 25,
   "metadata": {},
   "outputs": [],
   "source": [
    "X_test = test_values.drop(columns=['building_id'])"
   ]
  },
  {
   "cell_type": "code",
   "execution_count": 26,
   "metadata": {},
   "outputs": [],
   "source": [
    "X_test_preproc = preproc_basic.transform(X_test)"
   ]
  },
  {
   "cell_type": "code",
   "execution_count": 27,
   "metadata": {},
   "outputs": [
    {
     "data": {
      "text/plain": [
       "(86868, 68)"
      ]
     },
     "execution_count": 27,
     "metadata": {},
     "output_type": "execute_result"
    }
   ],
   "source": [
    "X_test_preproc.shape"
   ]
  },
  {
   "cell_type": "code",
   "execution_count": 32,
   "metadata": {},
   "outputs": [
    {
     "name": "stdout",
     "output_type": "stream",
     "text": [
      "2715/2715 [==============================] - 5s 2ms/step\n"
     ]
    },
    {
     "data": {
      "text/plain": [
       "array([[0.00099741, 0.21435948, 0.78464305],\n",
       "       [0.0040013 , 0.8159751 , 0.18002357],\n",
       "       [0.09889787, 0.62669903, 0.2744031 ],\n",
       "       ...,\n",
       "       [0.08699775, 0.66734004, 0.24566224],\n",
       "       [0.00314495, 0.5900889 , 0.40676618],\n",
       "       [0.46833032, 0.52169776, 0.0099719 ]], dtype=float32)"
      ]
     },
     "execution_count": 32,
     "metadata": {},
     "output_type": "execute_result"
    }
   ],
   "source": [
    "y_pred = model.predict(X_test_preproc)\n",
    "y_pred"
   ]
  },
  {
   "cell_type": "code",
   "execution_count": 33,
   "metadata": {},
   "outputs": [
    {
     "data": {
      "text/plain": [
       "array([2, 1, 1, ..., 1, 1, 1])"
      ]
     },
     "execution_count": 33,
     "metadata": {},
     "output_type": "execute_result"
    }
   ],
   "source": [
    "predict_classes = np.argmax(y_pred,axis=1)\n",
    "predict_classes"
   ]
  },
  {
   "cell_type": "markdown",
   "metadata": {},
   "source": [
    "### CSV Export"
   ]
  },
  {
   "cell_type": "code",
   "execution_count": 34,
   "metadata": {},
   "outputs": [],
   "source": [
    "building_id = test_values['building_id']"
   ]
  },
  {
   "cell_type": "code",
   "execution_count": null,
   "metadata": {},
   "outputs": [],
   "source": []
  },
  {
   "cell_type": "code",
   "execution_count": 38,
   "metadata": {},
   "outputs": [
    {
     "data": {
      "text/html": [
       "<div>\n",
       "<style scoped>\n",
       "    .dataframe tbody tr th:only-of-type {\n",
       "        vertical-align: middle;\n",
       "    }\n",
       "\n",
       "    .dataframe tbody tr th {\n",
       "        vertical-align: top;\n",
       "    }\n",
       "\n",
       "    .dataframe thead th {\n",
       "        text-align: right;\n",
       "    }\n",
       "</style>\n",
       "<table border=\"1\" class=\"dataframe\">\n",
       "  <thead>\n",
       "    <tr style=\"text-align: right;\">\n",
       "      <th></th>\n",
       "      <th>building_id</th>\n",
       "      <th>damage_grade</th>\n",
       "    </tr>\n",
       "  </thead>\n",
       "  <tbody>\n",
       "    <tr>\n",
       "      <th>0</th>\n",
       "      <td>300051</td>\n",
       "      <td>3</td>\n",
       "    </tr>\n",
       "    <tr>\n",
       "      <th>1</th>\n",
       "      <td>99355</td>\n",
       "      <td>2</td>\n",
       "    </tr>\n",
       "    <tr>\n",
       "      <th>2</th>\n",
       "      <td>890251</td>\n",
       "      <td>2</td>\n",
       "    </tr>\n",
       "    <tr>\n",
       "      <th>3</th>\n",
       "      <td>745817</td>\n",
       "      <td>1</td>\n",
       "    </tr>\n",
       "    <tr>\n",
       "      <th>4</th>\n",
       "      <td>421793</td>\n",
       "      <td>3</td>\n",
       "    </tr>\n",
       "    <tr>\n",
       "      <th>...</th>\n",
       "      <td>...</td>\n",
       "      <td>...</td>\n",
       "    </tr>\n",
       "    <tr>\n",
       "      <th>86863</th>\n",
       "      <td>310028</td>\n",
       "      <td>2</td>\n",
       "    </tr>\n",
       "    <tr>\n",
       "      <th>86864</th>\n",
       "      <td>663567</td>\n",
       "      <td>2</td>\n",
       "    </tr>\n",
       "    <tr>\n",
       "      <th>86865</th>\n",
       "      <td>1049160</td>\n",
       "      <td>2</td>\n",
       "    </tr>\n",
       "    <tr>\n",
       "      <th>86866</th>\n",
       "      <td>442785</td>\n",
       "      <td>2</td>\n",
       "    </tr>\n",
       "    <tr>\n",
       "      <th>86867</th>\n",
       "      <td>501372</td>\n",
       "      <td>2</td>\n",
       "    </tr>\n",
       "  </tbody>\n",
       "</table>\n",
       "<p>86868 rows × 2 columns</p>\n",
       "</div>"
      ],
      "text/plain": [
       "       building_id  damage_grade\n",
       "0           300051             3\n",
       "1            99355             2\n",
       "2           890251             2\n",
       "3           745817             1\n",
       "4           421793             3\n",
       "...            ...           ...\n",
       "86863       310028             2\n",
       "86864       663567             2\n",
       "86865      1049160             2\n",
       "86866       442785             2\n",
       "86867       501372             2\n",
       "\n",
       "[86868 rows x 2 columns]"
      ]
     },
     "execution_count": 38,
     "metadata": {},
     "output_type": "execute_result"
    }
   ],
   "source": [
    "y_pred_submission = pd.DataFrame(predict_classes, columns=['damage_grade'])\n",
    "y_pred_submission\n",
    "\n",
    "new_values = {0:1, 1:2, 2:3}\n",
    "y_pred_submission = y_pred_submission.replace(new_values)\n",
    "\n",
    "submission = pd.concat([building_id, y_pred_submission], axis=1)\n",
    "submission"
   ]
  },
  {
   "cell_type": "code",
   "execution_count": null,
   "metadata": {},
   "outputs": [],
   "source": []
  },
  {
   "cell_type": "code",
   "execution_count": 39,
   "metadata": {},
   "outputs": [],
   "source": [
    "submission.to_csv('/Users/chantalwuerschinger/code/chantalwuer/earthquake_damage/raw_data/challenge_data/submissions/submission_neural_network.csv', index=False)  "
   ]
  },
  {
   "cell_type": "markdown",
   "metadata": {},
   "source": [
    "# Test model with new dataset"
   ]
  },
  {
   "cell_type": "code",
   "execution_count": 43,
   "metadata": {},
   "outputs": [],
   "source": [
    "from earthquake_damage.ml_logic.preprocessor import cus_imputation, preprocess_features, preprocess_targets\n",
    "from earthquake_damage.ml_logic.model import init_model, train_model, \\\n",
    "cross_validate, predict, predict_submit, ensemble_model,simple_ensemble,nn_clf\n",
    "from earthquake_damage.data.main import train_test_val\n",
    "from earthquake_damage.data.merge_dataset import drop_and_merge\n",
    "\n",
    "from sklearn.linear_model import LogisticRegression\n"
   ]
  },
  {
   "cell_type": "code",
   "execution_count": 33,
   "metadata": {},
   "outputs": [],
   "source": [
    "X_processed = pd.read_csv('/Users/chantalwuerschinger/code/chantalwuer/earthquake_damage/processed_data/X_processed.csv')\n",
    "y_processed = pd.read_csv('/Users/chantalwuerschinger/code/chantalwuer/earthquake_damage/processed_data/y_processed.csv')"
   ]
  },
  {
   "cell_type": "code",
   "execution_count": 46,
   "metadata": {},
   "outputs": [
    {
     "data": {
      "text/html": [
       "<div>\n",
       "<style scoped>\n",
       "    .dataframe tbody tr th:only-of-type {\n",
       "        vertical-align: middle;\n",
       "    }\n",
       "\n",
       "    .dataframe tbody tr th {\n",
       "        vertical-align: top;\n",
       "    }\n",
       "\n",
       "    .dataframe thead th {\n",
       "        text-align: right;\n",
       "    }\n",
       "</style>\n",
       "<table border=\"1\" class=\"dataframe\">\n",
       "  <thead>\n",
       "    <tr style=\"text-align: right;\">\n",
       "      <th></th>\n",
       "      <th>0</th>\n",
       "      <th>1</th>\n",
       "      <th>2</th>\n",
       "      <th>3</th>\n",
       "      <th>4</th>\n",
       "      <th>5</th>\n",
       "      <th>6</th>\n",
       "      <th>7</th>\n",
       "      <th>8</th>\n",
       "      <th>9</th>\n",
       "      <th>...</th>\n",
       "      <th>69</th>\n",
       "      <th>70</th>\n",
       "      <th>71</th>\n",
       "      <th>72</th>\n",
       "      <th>73</th>\n",
       "      <th>74</th>\n",
       "      <th>75</th>\n",
       "      <th>76</th>\n",
       "      <th>77</th>\n",
       "      <th>78</th>\n",
       "    </tr>\n",
       "  </thead>\n",
       "  <tbody>\n",
       "    <tr>\n",
       "      <th>0</th>\n",
       "      <td>-1.5</td>\n",
       "      <td>-1.491315</td>\n",
       "      <td>-1.491439</td>\n",
       "      <td>-1.0</td>\n",
       "      <td>-0.388889</td>\n",
       "      <td>0.0</td>\n",
       "      <td>0.0</td>\n",
       "      <td>0.0</td>\n",
       "      <td>0.0</td>\n",
       "      <td>0.0</td>\n",
       "      <td>...</td>\n",
       "      <td>0.0</td>\n",
       "      <td>0.0</td>\n",
       "      <td>1.0</td>\n",
       "      <td>0.0</td>\n",
       "      <td>1.0</td>\n",
       "      <td>0.0</td>\n",
       "      <td>0.0</td>\n",
       "      <td>0.0</td>\n",
       "      <td>0.0</td>\n",
       "      <td>0.0</td>\n",
       "    </tr>\n",
       "    <tr>\n",
       "      <th>1</th>\n",
       "      <td>-1.5</td>\n",
       "      <td>-1.491315</td>\n",
       "      <td>-1.491439</td>\n",
       "      <td>-1.0</td>\n",
       "      <td>-0.055556</td>\n",
       "      <td>0.0</td>\n",
       "      <td>0.0</td>\n",
       "      <td>0.0</td>\n",
       "      <td>0.0</td>\n",
       "      <td>0.0</td>\n",
       "      <td>...</td>\n",
       "      <td>0.0</td>\n",
       "      <td>1.0</td>\n",
       "      <td>0.0</td>\n",
       "      <td>0.0</td>\n",
       "      <td>1.0</td>\n",
       "      <td>0.0</td>\n",
       "      <td>0.0</td>\n",
       "      <td>0.0</td>\n",
       "      <td>0.0</td>\n",
       "      <td>0.0</td>\n",
       "    </tr>\n",
       "    <tr>\n",
       "      <th>2</th>\n",
       "      <td>-1.5</td>\n",
       "      <td>-1.491315</td>\n",
       "      <td>-1.491439</td>\n",
       "      <td>-1.0</td>\n",
       "      <td>0.222222</td>\n",
       "      <td>0.0</td>\n",
       "      <td>0.0</td>\n",
       "      <td>0.0</td>\n",
       "      <td>0.0</td>\n",
       "      <td>0.0</td>\n",
       "      <td>...</td>\n",
       "      <td>0.0</td>\n",
       "      <td>0.0</td>\n",
       "      <td>1.0</td>\n",
       "      <td>0.0</td>\n",
       "      <td>1.0</td>\n",
       "      <td>0.0</td>\n",
       "      <td>0.0</td>\n",
       "      <td>0.0</td>\n",
       "      <td>0.0</td>\n",
       "      <td>0.0</td>\n",
       "    </tr>\n",
       "    <tr>\n",
       "      <th>3</th>\n",
       "      <td>-1.5</td>\n",
       "      <td>-1.491315</td>\n",
       "      <td>-1.491439</td>\n",
       "      <td>-1.0</td>\n",
       "      <td>0.222222</td>\n",
       "      <td>0.0</td>\n",
       "      <td>0.0</td>\n",
       "      <td>0.0</td>\n",
       "      <td>0.0</td>\n",
       "      <td>0.0</td>\n",
       "      <td>...</td>\n",
       "      <td>0.0</td>\n",
       "      <td>0.0</td>\n",
       "      <td>1.0</td>\n",
       "      <td>0.0</td>\n",
       "      <td>1.0</td>\n",
       "      <td>0.0</td>\n",
       "      <td>0.0</td>\n",
       "      <td>0.0</td>\n",
       "      <td>0.0</td>\n",
       "      <td>0.0</td>\n",
       "    </tr>\n",
       "    <tr>\n",
       "      <th>4</th>\n",
       "      <td>-1.5</td>\n",
       "      <td>-1.491315</td>\n",
       "      <td>-1.491439</td>\n",
       "      <td>-1.0</td>\n",
       "      <td>0.777778</td>\n",
       "      <td>0.0</td>\n",
       "      <td>0.0</td>\n",
       "      <td>0.0</td>\n",
       "      <td>0.0</td>\n",
       "      <td>0.0</td>\n",
       "      <td>...</td>\n",
       "      <td>0.0</td>\n",
       "      <td>0.0</td>\n",
       "      <td>1.0</td>\n",
       "      <td>0.0</td>\n",
       "      <td>1.0</td>\n",
       "      <td>0.0</td>\n",
       "      <td>0.0</td>\n",
       "      <td>0.0</td>\n",
       "      <td>0.0</td>\n",
       "      <td>0.0</td>\n",
       "    </tr>\n",
       "  </tbody>\n",
       "</table>\n",
       "<p>5 rows × 79 columns</p>\n",
       "</div>"
      ],
      "text/plain": [
       "     0         1         2    3         4    5    6    7    8    9  ...   69  \\\n",
       "0 -1.5 -1.491315 -1.491439 -1.0 -0.388889  0.0  0.0  0.0  0.0  0.0  ...  0.0   \n",
       "1 -1.5 -1.491315 -1.491439 -1.0 -0.055556  0.0  0.0  0.0  0.0  0.0  ...  0.0   \n",
       "2 -1.5 -1.491315 -1.491439 -1.0  0.222222  0.0  0.0  0.0  0.0  0.0  ...  0.0   \n",
       "3 -1.5 -1.491315 -1.491439 -1.0  0.222222  0.0  0.0  0.0  0.0  0.0  ...  0.0   \n",
       "4 -1.5 -1.491315 -1.491439 -1.0  0.777778  0.0  0.0  0.0  0.0  0.0  ...  0.0   \n",
       "\n",
       "    70   71   72   73   74   75   76   77   78  \n",
       "0  0.0  1.0  0.0  1.0  0.0  0.0  0.0  0.0  0.0  \n",
       "1  1.0  0.0  0.0  1.0  0.0  0.0  0.0  0.0  0.0  \n",
       "2  0.0  1.0  0.0  1.0  0.0  0.0  0.0  0.0  0.0  \n",
       "3  0.0  1.0  0.0  1.0  0.0  0.0  0.0  0.0  0.0  \n",
       "4  0.0  1.0  0.0  1.0  0.0  0.0  0.0  0.0  0.0  \n",
       "\n",
       "[5 rows x 79 columns]"
      ]
     },
     "execution_count": 46,
     "metadata": {},
     "output_type": "execute_result"
    }
   ],
   "source": [
    "X_processed.head()"
   ]
  },
  {
   "cell_type": "code",
   "execution_count": 34,
   "metadata": {},
   "outputs": [],
   "source": [
    "# Concat X and y\n",
    "train = pd.concat([X_processed, y_processed], axis=1)"
   ]
  },
  {
   "cell_type": "code",
   "execution_count": 35,
   "metadata": {},
   "outputs": [
    {
     "data": {
      "text/html": [
       "<div>\n",
       "<style scoped>\n",
       "    .dataframe tbody tr th:only-of-type {\n",
       "        vertical-align: middle;\n",
       "    }\n",
       "\n",
       "    .dataframe tbody tr th {\n",
       "        vertical-align: top;\n",
       "    }\n",
       "\n",
       "    .dataframe thead th {\n",
       "        text-align: right;\n",
       "    }\n",
       "</style>\n",
       "<table border=\"1\" class=\"dataframe\">\n",
       "  <thead>\n",
       "    <tr style=\"text-align: right;\">\n",
       "      <th></th>\n",
       "      <th>0</th>\n",
       "      <th>1</th>\n",
       "      <th>2</th>\n",
       "      <th>3</th>\n",
       "      <th>4</th>\n",
       "      <th>5</th>\n",
       "      <th>6</th>\n",
       "      <th>7</th>\n",
       "      <th>8</th>\n",
       "      <th>9</th>\n",
       "      <th>...</th>\n",
       "      <th>70</th>\n",
       "      <th>71</th>\n",
       "      <th>72</th>\n",
       "      <th>73</th>\n",
       "      <th>74</th>\n",
       "      <th>75</th>\n",
       "      <th>76</th>\n",
       "      <th>77</th>\n",
       "      <th>78</th>\n",
       "      <th>0</th>\n",
       "    </tr>\n",
       "  </thead>\n",
       "  <tbody>\n",
       "    <tr>\n",
       "      <th>0</th>\n",
       "      <td>-1.5</td>\n",
       "      <td>-1.491315</td>\n",
       "      <td>-1.491439</td>\n",
       "      <td>-1.0</td>\n",
       "      <td>-0.388889</td>\n",
       "      <td>0.0</td>\n",
       "      <td>0.0</td>\n",
       "      <td>0.0</td>\n",
       "      <td>0.0</td>\n",
       "      <td>0.0</td>\n",
       "      <td>...</td>\n",
       "      <td>0.0</td>\n",
       "      <td>1.0</td>\n",
       "      <td>0.0</td>\n",
       "      <td>1.0</td>\n",
       "      <td>0.0</td>\n",
       "      <td>0.0</td>\n",
       "      <td>0.0</td>\n",
       "      <td>0.0</td>\n",
       "      <td>0.0</td>\n",
       "      <td>2</td>\n",
       "    </tr>\n",
       "    <tr>\n",
       "      <th>1</th>\n",
       "      <td>-1.5</td>\n",
       "      <td>-1.491315</td>\n",
       "      <td>-1.491439</td>\n",
       "      <td>-1.0</td>\n",
       "      <td>-0.055556</td>\n",
       "      <td>0.0</td>\n",
       "      <td>0.0</td>\n",
       "      <td>0.0</td>\n",
       "      <td>0.0</td>\n",
       "      <td>0.0</td>\n",
       "      <td>...</td>\n",
       "      <td>1.0</td>\n",
       "      <td>0.0</td>\n",
       "      <td>0.0</td>\n",
       "      <td>1.0</td>\n",
       "      <td>0.0</td>\n",
       "      <td>0.0</td>\n",
       "      <td>0.0</td>\n",
       "      <td>0.0</td>\n",
       "      <td>0.0</td>\n",
       "      <td>4</td>\n",
       "    </tr>\n",
       "    <tr>\n",
       "      <th>2</th>\n",
       "      <td>-1.5</td>\n",
       "      <td>-1.491315</td>\n",
       "      <td>-1.491439</td>\n",
       "      <td>-1.0</td>\n",
       "      <td>0.222222</td>\n",
       "      <td>0.0</td>\n",
       "      <td>0.0</td>\n",
       "      <td>0.0</td>\n",
       "      <td>0.0</td>\n",
       "      <td>0.0</td>\n",
       "      <td>...</td>\n",
       "      <td>0.0</td>\n",
       "      <td>1.0</td>\n",
       "      <td>0.0</td>\n",
       "      <td>1.0</td>\n",
       "      <td>0.0</td>\n",
       "      <td>0.0</td>\n",
       "      <td>0.0</td>\n",
       "      <td>0.0</td>\n",
       "      <td>0.0</td>\n",
       "      <td>1</td>\n",
       "    </tr>\n",
       "    <tr>\n",
       "      <th>3</th>\n",
       "      <td>-1.5</td>\n",
       "      <td>-1.491315</td>\n",
       "      <td>-1.491439</td>\n",
       "      <td>-1.0</td>\n",
       "      <td>0.222222</td>\n",
       "      <td>0.0</td>\n",
       "      <td>0.0</td>\n",
       "      <td>0.0</td>\n",
       "      <td>0.0</td>\n",
       "      <td>0.0</td>\n",
       "      <td>...</td>\n",
       "      <td>0.0</td>\n",
       "      <td>1.0</td>\n",
       "      <td>0.0</td>\n",
       "      <td>1.0</td>\n",
       "      <td>0.0</td>\n",
       "      <td>0.0</td>\n",
       "      <td>0.0</td>\n",
       "      <td>0.0</td>\n",
       "      <td>0.0</td>\n",
       "      <td>1</td>\n",
       "    </tr>\n",
       "    <tr>\n",
       "      <th>4</th>\n",
       "      <td>-1.5</td>\n",
       "      <td>-1.491315</td>\n",
       "      <td>-1.491439</td>\n",
       "      <td>-1.0</td>\n",
       "      <td>0.777778</td>\n",
       "      <td>0.0</td>\n",
       "      <td>0.0</td>\n",
       "      <td>0.0</td>\n",
       "      <td>0.0</td>\n",
       "      <td>0.0</td>\n",
       "      <td>...</td>\n",
       "      <td>0.0</td>\n",
       "      <td>1.0</td>\n",
       "      <td>0.0</td>\n",
       "      <td>1.0</td>\n",
       "      <td>0.0</td>\n",
       "      <td>0.0</td>\n",
       "      <td>0.0</td>\n",
       "      <td>0.0</td>\n",
       "      <td>0.0</td>\n",
       "      <td>0</td>\n",
       "    </tr>\n",
       "  </tbody>\n",
       "</table>\n",
       "<p>5 rows × 80 columns</p>\n",
       "</div>"
      ],
      "text/plain": [
       "     0         1         2    3         4    5    6    7    8    9  ...   70  \\\n",
       "0 -1.5 -1.491315 -1.491439 -1.0 -0.388889  0.0  0.0  0.0  0.0  0.0  ...  0.0   \n",
       "1 -1.5 -1.491315 -1.491439 -1.0 -0.055556  0.0  0.0  0.0  0.0  0.0  ...  1.0   \n",
       "2 -1.5 -1.491315 -1.491439 -1.0  0.222222  0.0  0.0  0.0  0.0  0.0  ...  0.0   \n",
       "3 -1.5 -1.491315 -1.491439 -1.0  0.222222  0.0  0.0  0.0  0.0  0.0  ...  0.0   \n",
       "4 -1.5 -1.491315 -1.491439 -1.0  0.777778  0.0  0.0  0.0  0.0  0.0  ...  0.0   \n",
       "\n",
       "    71   72   73   74   75   76   77   78  0  \n",
       "0  1.0  0.0  1.0  0.0  0.0  0.0  0.0  0.0  2  \n",
       "1  0.0  0.0  1.0  0.0  0.0  0.0  0.0  0.0  4  \n",
       "2  1.0  0.0  1.0  0.0  0.0  0.0  0.0  0.0  1  \n",
       "3  1.0  0.0  1.0  0.0  0.0  0.0  0.0  0.0  1  \n",
       "4  1.0  0.0  1.0  0.0  0.0  0.0  0.0  0.0  0  \n",
       "\n",
       "[5 rows x 80 columns]"
      ]
     },
     "execution_count": 35,
     "metadata": {},
     "output_type": "execute_result"
    }
   ],
   "source": [
    "train.head()"
   ]
  },
  {
   "cell_type": "code",
   "execution_count": 50,
   "metadata": {},
   "outputs": [],
   "source": [
    "y = train.sample(n=1000, random_state=1)\n"
   ]
  },
  {
   "cell_type": "code",
   "execution_count": 51,
   "metadata": {},
   "outputs": [],
   "source": [
    "X_train, X_test, X_val, y_train, y_test, y_val = train_test_val()"
   ]
  },
  {
   "cell_type": "code",
   "execution_count": 24,
   "metadata": {},
   "outputs": [
    {
     "data": {
      "text/html": [
       "<style>#sk-container-id-2 {color: black;background-color: white;}#sk-container-id-2 pre{padding: 0;}#sk-container-id-2 div.sk-toggleable {background-color: white;}#sk-container-id-2 label.sk-toggleable__label {cursor: pointer;display: block;width: 100%;margin-bottom: 0;padding: 0.3em;box-sizing: border-box;text-align: center;}#sk-container-id-2 label.sk-toggleable__label-arrow:before {content: \"▸\";float: left;margin-right: 0.25em;color: #696969;}#sk-container-id-2 label.sk-toggleable__label-arrow:hover:before {color: black;}#sk-container-id-2 div.sk-estimator:hover label.sk-toggleable__label-arrow:before {color: black;}#sk-container-id-2 div.sk-toggleable__content {max-height: 0;max-width: 0;overflow: hidden;text-align: left;background-color: #f0f8ff;}#sk-container-id-2 div.sk-toggleable__content pre {margin: 0.2em;color: black;border-radius: 0.25em;background-color: #f0f8ff;}#sk-container-id-2 input.sk-toggleable__control:checked~div.sk-toggleable__content {max-height: 200px;max-width: 100%;overflow: auto;}#sk-container-id-2 input.sk-toggleable__control:checked~label.sk-toggleable__label-arrow:before {content: \"▾\";}#sk-container-id-2 div.sk-estimator input.sk-toggleable__control:checked~label.sk-toggleable__label {background-color: #d4ebff;}#sk-container-id-2 div.sk-label input.sk-toggleable__control:checked~label.sk-toggleable__label {background-color: #d4ebff;}#sk-container-id-2 input.sk-hidden--visually {border: 0;clip: rect(1px 1px 1px 1px);clip: rect(1px, 1px, 1px, 1px);height: 1px;margin: -1px;overflow: hidden;padding: 0;position: absolute;width: 1px;}#sk-container-id-2 div.sk-estimator {font-family: monospace;background-color: #f0f8ff;border: 1px dotted black;border-radius: 0.25em;box-sizing: border-box;margin-bottom: 0.5em;}#sk-container-id-2 div.sk-estimator:hover {background-color: #d4ebff;}#sk-container-id-2 div.sk-parallel-item::after {content: \"\";width: 100%;border-bottom: 1px solid gray;flex-grow: 1;}#sk-container-id-2 div.sk-label:hover label.sk-toggleable__label {background-color: #d4ebff;}#sk-container-id-2 div.sk-serial::before {content: \"\";position: absolute;border-left: 1px solid gray;box-sizing: border-box;top: 0;bottom: 0;left: 50%;z-index: 0;}#sk-container-id-2 div.sk-serial {display: flex;flex-direction: column;align-items: center;background-color: white;padding-right: 0.2em;padding-left: 0.2em;position: relative;}#sk-container-id-2 div.sk-item {position: relative;z-index: 1;}#sk-container-id-2 div.sk-parallel {display: flex;align-items: stretch;justify-content: center;background-color: white;position: relative;}#sk-container-id-2 div.sk-item::before, #sk-container-id-2 div.sk-parallel-item::before {content: \"\";position: absolute;border-left: 1px solid gray;box-sizing: border-box;top: 0;bottom: 0;left: 50%;z-index: -1;}#sk-container-id-2 div.sk-parallel-item {display: flex;flex-direction: column;z-index: 1;position: relative;background-color: white;}#sk-container-id-2 div.sk-parallel-item:first-child::after {align-self: flex-end;width: 50%;}#sk-container-id-2 div.sk-parallel-item:last-child::after {align-self: flex-start;width: 50%;}#sk-container-id-2 div.sk-parallel-item:only-child::after {width: 0;}#sk-container-id-2 div.sk-dashed-wrapped {border: 1px dashed gray;margin: 0 0.4em 0.5em 0.4em;box-sizing: border-box;padding-bottom: 0.4em;background-color: white;}#sk-container-id-2 div.sk-label label {font-family: monospace;font-weight: bold;display: inline-block;line-height: 1.2em;}#sk-container-id-2 div.sk-label-container {text-align: center;}#sk-container-id-2 div.sk-container {/* jupyter's `normalize.less` sets `[hidden] { display: none; }` but bootstrap.min.css set `[hidden] { display: none !important; }` so we also need the `!important` here to be able to override the default hidden behavior on the sphinx rendered scikit-learn.org. See: https://github.com/scikit-learn/scikit-learn/issues/21755 */display: inline-block !important;position: relative;}#sk-container-id-2 div.sk-text-repr-fallback {display: none;}</style><div id=\"sk-container-id-2\" class=\"sk-top-container\"><div class=\"sk-text-repr-fallback\"><pre>DecisionTreeClassifier(max_depth=2)</pre><b>In a Jupyter environment, please rerun this cell to show the HTML representation or trust the notebook. <br />On GitHub, the HTML representation is unable to render, please try loading this page with nbviewer.org.</b></div><div class=\"sk-container\" hidden><div class=\"sk-item\"><div class=\"sk-estimator sk-toggleable\"><input class=\"sk-toggleable__control sk-hidden--visually\" id=\"sk-estimator-id-2\" type=\"checkbox\" checked><label for=\"sk-estimator-id-2\" class=\"sk-toggleable__label sk-toggleable__label-arrow\">DecisionTreeClassifier</label><div class=\"sk-toggleable__content\"><pre>DecisionTreeClassifier(max_depth=2)</pre></div></div></div></div></div>"
      ],
      "text/plain": [
       "DecisionTreeClassifier(max_depth=2)"
      ]
     },
     "execution_count": 24,
     "metadata": {},
     "output_type": "execute_result"
    }
   ],
   "source": [
    "from sklearn.tree import DecisionTreeClassifier\n",
    "\n",
    "model = DecisionTreeClassifier(max_depth = 2)\n",
    "model.fit(X_train, y_train)"
   ]
  },
  {
   "cell_type": "code",
   "execution_count": 25,
   "metadata": {},
   "outputs": [],
   "source": [
    "from sklearn.linear_model import LogisticRegression\n",
    "from sklearn.model_selection import cross_val_score\n",
    "\n",
    "# Cross validate model\n",
    "model_score = cross_val_score(model, X_train, y_train, cv=10, scoring='f1_micro')\n",
    "model_score = model_score.mean()"
   ]
  },
  {
   "cell_type": "code",
   "execution_count": 26,
   "metadata": {},
   "outputs": [
    {
     "data": {
      "text/plain": [
       "0.44430061277672506"
      ]
     },
     "execution_count": 26,
     "metadata": {},
     "output_type": "execute_result"
    }
   ],
   "source": [
    "model_score"
   ]
  },
  {
   "cell_type": "code",
   "execution_count": null,
   "metadata": {},
   "outputs": [],
   "source": []
  }
 ],
 "metadata": {
  "kernelspec": {
   "display_name": "Python 3.10.6 64-bit ('earthquake_env')",
   "language": "python",
   "name": "python3"
  },
  "language_info": {
   "codemirror_mode": {
    "name": "ipython",
    "version": 3
   },
   "file_extension": ".py",
   "mimetype": "text/x-python",
   "name": "python",
   "nbconvert_exporter": "python",
   "pygments_lexer": "ipython3",
   "version": "3.10.6"
  },
  "orig_nbformat": 4,
  "vscode": {
   "interpreter": {
    "hash": "2f9be42f8ee9d683210b4f105245095b23f8a50188902d8867e978f6bd462757"
   }
  }
 },
 "nbformat": 4,
 "nbformat_minor": 2
}
