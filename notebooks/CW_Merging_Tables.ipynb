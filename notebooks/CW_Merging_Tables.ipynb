{
  "cells": [
    {
      "cell_type": "markdown",
      "metadata": {
        "id": "view-in-github",
        "colab_type": "text"
      },
      "source": [
        "<a href=\"https://colab.research.google.com/github/chantalwuer/earthquake_damage/blob/table_merge/notebooks/CW_Merging_Tables.ipynb\" target=\"_parent\"><img src=\"https://colab.research.google.com/assets/colab-badge.svg\" alt=\"Open In Colab\"/></a>"
      ]
    },
    {
      "cell_type": "markdown",
      "metadata": {
        "id": "VhE6M5obBxF3"
      },
      "source": [
        "# Merging Tables onto Train Data"
      ]
    },
    {
      "cell_type": "markdown",
      "metadata": {
        "id": "XOZMLEv5BxF7"
      },
      "source": [
        "## Import Packages and Data"
      ]
    },
    {
      "cell_type": "code",
      "execution_count": 1,
      "metadata": {
        "id": "IBR1CO8gBxF9"
      },
      "outputs": [],
      "source": [
        "%load_ext autoreload\n",
        "%autoreload 2"
      ]
    },
    {
      "cell_type": "code",
      "execution_count": 2,
      "metadata": {
        "id": "-TQzUZ3IBxF-"
      },
      "outputs": [],
      "source": [
        "import pandas as pd\n",
        "import numpy as np\n",
        "import matplotlib.pyplot as plt\n",
        "pd.set_option('display.max_columns', None)\n",
        "pd.set_option('display.max_rows', None)"
      ]
    },
    {
      "cell_type": "markdown",
      "source": [
        "### Google Colab"
      ],
      "metadata": {
        "id": "XKxtATa3B7jU"
      }
    },
    {
      "cell_type": "code",
      "source": [
        "from google.colab import drive\n",
        "drive.mount('/content/drive')"
      ],
      "metadata": {
        "id": "ZalD7PloB39o",
        "outputId": "80abeaf3-7465-474b-a01c-9627e140f7d8",
        "colab": {
          "base_uri": "https://localhost:8080/"
        }
      },
      "execution_count": 3,
      "outputs": [
        {
          "output_type": "stream",
          "name": "stdout",
          "text": [
            "Mounted at /content/drive\n"
          ]
        }
      ]
    },
    {
      "cell_type": "code",
      "source": [
        "i_demographics = pd.read_csv('/content/drive/MyDrive/Modeling_Earthquakes/Nepal_Open_Data/individual/csv_individual_demographics.csv')\n",
        "mapping = pd.read_csv('/content/drive/MyDrive/Modeling_Earthquakes/Nepal_Open_Data/geographical/mapping.csv')"
      ],
      "metadata": {
        "id": "lpNQi0ucB6_T"
      },
      "execution_count": 4,
      "outputs": []
    },
    {
      "cell_type": "markdown",
      "source": [
        "### VS Code"
      ],
      "metadata": {
        "id": "EGVPLnXtCJEW"
      }
    },
    {
      "cell_type": "code",
      "execution_count": null,
      "metadata": {
        "id": "lE0k-cTLBxF_"
      },
      "outputs": [],
      "source": [
        "train_values = pd.read_csv('/Users/chantalwuerschinger/code/chantalwuer/earthquake_damage/raw_data/challenge_data/train_values.csv')\n",
        "train_labels = pd.read_csv('/Users/chantalwuerschinger/code/chantalwuer/earthquake_damage/raw_data/challenge_data/train_labels.csv')\n",
        "test_values = pd.read_csv('/Users/chantalwuerschinger/code/chantalwuer/earthquake_damage/raw_data/challenge_data/test_values.csv')"
      ]
    },
    {
      "cell_type": "code",
      "execution_count": null,
      "metadata": {
        "id": "BkCtGc8-BxGA"
      },
      "outputs": [],
      "source": [
        "b_structure = pd.read_csv('/Users/chantalwuerschinger/code/chantalwuer/earthquake_damage/raw_data/building/csv_building_structure.csv')\n",
        "b_damage_assessment = pd.read_csv('/Users/chantalwuerschinger/code/chantalwuer/earthquake_damage/raw_data/building/csv_building_damage_assessment.csv', low_memory=False)\n",
        "b_owner_use = pd.read_csv('/Users/chantalwuerschinger/code/chantalwuer/earthquake_damage/raw_data/building/csv_building_ownership_and_use.csv')"
      ]
    },
    {
      "cell_type": "code",
      "execution_count": null,
      "metadata": {
        "id": "3GZb5P6LBxGA"
      },
      "outputs": [],
      "source": [
        "h_demographics = pd.read_csv('/Users/chantalwuerschinger/code/chantalwuer/earthquake_damage/raw_data/household/csv_household_demographics.csv')\n"
      ]
    },
    {
      "cell_type": "markdown",
      "metadata": {
        "id": "7cX3saNuBxGB"
      },
      "source": [
        "## Drop Unrelated Info from DataFrames"
      ]
    },
    {
      "cell_type": "markdown",
      "metadata": {
        "id": "EUNI3cqQBxGC"
      },
      "source": [
        "### Building Structure"
      ]
    },
    {
      "cell_type": "code",
      "execution_count": null,
      "metadata": {
        "id": "p6KWWXHxBxGC",
        "outputId": "bdabbd46-73c3-437c-b633-f43a20f65623"
      },
      "outputs": [
        {
          "data": {
            "text/plain": [
              "Index(['building_id', 'district_id', 'vdcmun_id', 'ward_id',\n",
              "       'count_floors_pre_eq', 'count_floors_post_eq', 'age_building',\n",
              "       'plinth_area_sq_ft', 'height_ft_pre_eq', 'height_ft_post_eq',\n",
              "       'land_surface_condition', 'foundation_type', 'roof_type',\n",
              "       'ground_floor_type', 'other_floor_type', 'position',\n",
              "       'plan_configuration', 'has_superstructure_adobe_mud',\n",
              "       'has_superstructure_mud_mortar_stone', 'has_superstructure_stone_flag',\n",
              "       'has_superstructure_cement_mortar_stone',\n",
              "       'has_superstructure_mud_mortar_brick',\n",
              "       'has_superstructure_cement_mortar_brick', 'has_superstructure_timber',\n",
              "       'has_superstructure_bamboo', 'has_superstructure_rc_non_engineered',\n",
              "       'has_superstructure_rc_engineered', 'has_superstructure_other',\n",
              "       'condition_post_eq', 'damage_grade', 'technical_solution_proposed'],\n",
              "      dtype='object')"
            ]
          },
          "execution_count": 85,
          "metadata": {},
          "output_type": "execute_result"
        }
      ],
      "source": [
        "b_structure.columns"
      ]
    },
    {
      "cell_type": "code",
      "execution_count": null,
      "metadata": {
        "id": "pbvLzFpXBxGE"
      },
      "outputs": [],
      "source": [
        "b_str_keep = ['building_id', 'district_id', 'vdcmun_id', 'ward_id',\n",
        "       'count_floors_pre_eq', 'age_building',\n",
        "       'land_surface_condition', 'foundation_type', 'roof_type',\n",
        "       'ground_floor_type', 'other_floor_type', 'position',\n",
        "       'plan_configuration', 'has_superstructure_adobe_mud',\n",
        "       'has_superstructure_mud_mortar_stone', 'has_superstructure_stone_flag',\n",
        "       'has_superstructure_cement_mortar_stone',\n",
        "       'has_superstructure_mud_mortar_brick',\n",
        "       'has_superstructure_cement_mortar_brick', 'has_superstructure_timber',\n",
        "       'has_superstructure_bamboo', 'has_superstructure_rc_non_engineered',\n",
        "       'has_superstructure_rc_engineered', 'has_superstructure_other', 'damage_grade']"
      ]
    },
    {
      "cell_type": "code",
      "execution_count": null,
      "metadata": {
        "id": "9HiULUxgBxGE",
        "outputId": "54ab13c5-2832-4da1-fc2c-df0896f4bad8"
      },
      "outputs": [
        {
          "data": {
            "text/plain": [
              "['count_floors_post_eq',\n",
              " 'plinth_area_sq_ft',\n",
              " 'height_ft_pre_eq',\n",
              " 'height_ft_post_eq',\n",
              " 'condition_post_eq',\n",
              " 'technical_solution_proposed']"
            ]
          },
          "execution_count": 87,
          "metadata": {},
          "output_type": "execute_result"
        }
      ],
      "source": [
        "drop = []\n",
        "for i in b_structure.columns:\n",
        "    if i not in b_str_keep:\n",
        "        drop.append(i)\n",
        "        \n",
        "drop"
      ]
    },
    {
      "cell_type": "code",
      "execution_count": null,
      "metadata": {
        "id": "1N9phFy9BxGF"
      },
      "outputs": [],
      "source": [
        "b_structure = b_structure.drop(drop, axis=1)"
      ]
    },
    {
      "cell_type": "markdown",
      "metadata": {
        "id": "1CBQ47N3BxGG"
      },
      "source": [
        "### Building Damage Assessment --> NOT NEEDED"
      ]
    },
    {
      "cell_type": "code",
      "execution_count": null,
      "metadata": {
        "id": "SfU9O-8eBxGG",
        "outputId": "9d6bd1ed-9a97-4a05-c014-4f03ceef7cd4"
      },
      "outputs": [
        {
          "data": {
            "text/plain": [
              "Index(['building_id', 'district_id', 'vdcmun_id', 'ward_id',\n",
              "       'damage_overall_collapse', 'damage_overall_leaning',\n",
              "       'damage_overall_adjacent_building_risk', 'damage_foundation_severe',\n",
              "       'damage_foundation_moderate', 'damage_foundation_insignificant',\n",
              "       'damage_roof_severe', 'damage_roof_moderate',\n",
              "       'damage_roof_insignificant', 'damage_corner_separation_severe',\n",
              "       'damage_corner_separation_moderate',\n",
              "       'damage_corner_separation_insignificant',\n",
              "       'damage_diagonal_cracking_severe', 'damage_diagonal_cracking_moderate',\n",
              "       'damage_diagonal_cracking_insignificant',\n",
              "       'damage_in_plane_failure_severe', 'damage_in_plane_failure_moderate',\n",
              "       'damage_in_plane_failure_insignificant',\n",
              "       'damage_out_of_plane_failure_severe',\n",
              "       'damage_out_of_plane_failure_moderate',\n",
              "       'damage_out_of_plane_failure_insignificant',\n",
              "       'damage_out_of_plane_failure_walls_ncfr_severe',\n",
              "       'damage_out_of_plane_failure_walls_ncfr_moderate',\n",
              "       'damage_out_of_plane_failure_walls_ncfr_insignificant',\n",
              "       'damage_gable_failure_severe', 'damage_gable_failure_moderate',\n",
              "       'damage_gable_failure_insignificant',\n",
              "       'damage_delamination_failure_severe',\n",
              "       'damage_delamination_failure_moderate',\n",
              "       'damage_delamination_failure_insignificant',\n",
              "       'damage_column_failure_severe', 'damage_column_failure_moderate',\n",
              "       'damage_column_failure_insignificant', 'damage_beam_failure_severe',\n",
              "       'damage_beam_failure_moderate', 'damage_beam_failure_insignificant',\n",
              "       'damage_infill_partition_failure_severe',\n",
              "       'damage_infill_partition_failure_moderate',\n",
              "       'damage_infill_partition_failure_insignificant',\n",
              "       'damage_staircase_severe', 'damage_staircase_moderate',\n",
              "       'damage_staircase_insignificant', 'damage_parapet_severe',\n",
              "       'damage_parapet_moderate', 'damage_parapet_insignificant',\n",
              "       'damage_cladding_glazing_severe', 'damage_cladding_glazing_moderate',\n",
              "       'damage_cladding_glazing_insignificant', 'area_assesed', 'damage_grade',\n",
              "       'technical_solution_proposed', 'has_repair_started',\n",
              "       'has_damage_foundation', 'has_damage_roof',\n",
              "       'has_damage_corner_separation', 'has_damage_diagonal_cracking',\n",
              "       'has_damage_in_plane_failure', 'has_damage_out_of_plane_failure',\n",
              "       'has_damage_out_of_plane_walls_ncfr_failure',\n",
              "       'has_damage_gable_failure', 'has_damage_delamination_failure',\n",
              "       'has_damage_column_failure', 'has_damage_beam_failure',\n",
              "       'has_damage_infill_partition_failure', 'has_damage_staircase',\n",
              "       'has_damage_parapet', 'has_damage_cladding_glazing',\n",
              "       'has_geotechnical_risk', 'has_geotechnical_risk_land_settlement',\n",
              "       'has_geotechnical_risk_fault_crack',\n",
              "       'has_geotechnical_risk_liquefaction', 'has_geotechnical_risk_landslide',\n",
              "       'has_geotechnical_risk_rock_fall', 'has_geotechnical_risk_flood',\n",
              "       'has_geotechnical_risk_other'],\n",
              "      dtype='object')"
            ]
          },
          "execution_count": 89,
          "metadata": {},
          "output_type": "execute_result"
        }
      ],
      "source": [
        "b_damage_assessment.columns"
      ]
    },
    {
      "cell_type": "code",
      "execution_count": null,
      "metadata": {
        "id": "OMWMh4UuBxGG"
      },
      "outputs": [],
      "source": [
        "b_dam_keep = ['building_id',\n",
        "        'damage_grade']"
      ]
    },
    {
      "cell_type": "code",
      "execution_count": null,
      "metadata": {
        "id": "PXLT6rdRBxGH",
        "outputId": "054e8a07-e0f2-4f7a-9cca-9494e98005cc"
      },
      "outputs": [
        {
          "data": {
            "text/plain": [
              "['district_id',\n",
              " 'vdcmun_id',\n",
              " 'ward_id',\n",
              " 'damage_overall_collapse',\n",
              " 'damage_overall_leaning',\n",
              " 'damage_overall_adjacent_building_risk',\n",
              " 'damage_foundation_severe',\n",
              " 'damage_foundation_moderate',\n",
              " 'damage_foundation_insignificant',\n",
              " 'damage_roof_severe',\n",
              " 'damage_roof_moderate',\n",
              " 'damage_roof_insignificant',\n",
              " 'damage_corner_separation_severe',\n",
              " 'damage_corner_separation_moderate',\n",
              " 'damage_corner_separation_insignificant',\n",
              " 'damage_diagonal_cracking_severe',\n",
              " 'damage_diagonal_cracking_moderate',\n",
              " 'damage_diagonal_cracking_insignificant',\n",
              " 'damage_in_plane_failure_severe',\n",
              " 'damage_in_plane_failure_moderate',\n",
              " 'damage_in_plane_failure_insignificant',\n",
              " 'damage_out_of_plane_failure_severe',\n",
              " 'damage_out_of_plane_failure_moderate',\n",
              " 'damage_out_of_plane_failure_insignificant',\n",
              " 'damage_out_of_plane_failure_walls_ncfr_severe',\n",
              " 'damage_out_of_plane_failure_walls_ncfr_moderate',\n",
              " 'damage_out_of_plane_failure_walls_ncfr_insignificant',\n",
              " 'damage_gable_failure_severe',\n",
              " 'damage_gable_failure_moderate',\n",
              " 'damage_gable_failure_insignificant',\n",
              " 'damage_delamination_failure_severe',\n",
              " 'damage_delamination_failure_moderate',\n",
              " 'damage_delamination_failure_insignificant',\n",
              " 'damage_column_failure_severe',\n",
              " 'damage_column_failure_moderate',\n",
              " 'damage_column_failure_insignificant',\n",
              " 'damage_beam_failure_severe',\n",
              " 'damage_beam_failure_moderate',\n",
              " 'damage_beam_failure_insignificant',\n",
              " 'damage_infill_partition_failure_severe',\n",
              " 'damage_infill_partition_failure_moderate',\n",
              " 'damage_infill_partition_failure_insignificant',\n",
              " 'damage_staircase_severe',\n",
              " 'damage_staircase_moderate',\n",
              " 'damage_staircase_insignificant',\n",
              " 'damage_parapet_severe',\n",
              " 'damage_parapet_moderate',\n",
              " 'damage_parapet_insignificant',\n",
              " 'damage_cladding_glazing_severe',\n",
              " 'damage_cladding_glazing_moderate',\n",
              " 'damage_cladding_glazing_insignificant',\n",
              " 'area_assesed',\n",
              " 'technical_solution_proposed',\n",
              " 'has_repair_started',\n",
              " 'has_damage_foundation',\n",
              " 'has_damage_roof',\n",
              " 'has_damage_corner_separation',\n",
              " 'has_damage_diagonal_cracking',\n",
              " 'has_damage_in_plane_failure',\n",
              " 'has_damage_out_of_plane_failure',\n",
              " 'has_damage_out_of_plane_walls_ncfr_failure',\n",
              " 'has_damage_gable_failure',\n",
              " 'has_damage_delamination_failure',\n",
              " 'has_damage_column_failure',\n",
              " 'has_damage_beam_failure',\n",
              " 'has_damage_infill_partition_failure',\n",
              " 'has_damage_staircase',\n",
              " 'has_damage_parapet',\n",
              " 'has_damage_cladding_glazing',\n",
              " 'has_geotechnical_risk',\n",
              " 'has_geotechnical_risk_land_settlement',\n",
              " 'has_geotechnical_risk_fault_crack',\n",
              " 'has_geotechnical_risk_liquefaction',\n",
              " 'has_geotechnical_risk_landslide',\n",
              " 'has_geotechnical_risk_rock_fall',\n",
              " 'has_geotechnical_risk_flood',\n",
              " 'has_geotechnical_risk_other']"
            ]
          },
          "execution_count": 91,
          "metadata": {},
          "output_type": "execute_result"
        }
      ],
      "source": [
        "b_dam_drop = []\n",
        "for i in b_damage_assessment.columns:\n",
        "    if i not in b_dam_keep:\n",
        "        b_dam_drop.append(i)\n",
        "        \n",
        "b_dam_drop"
      ]
    },
    {
      "cell_type": "code",
      "execution_count": null,
      "metadata": {
        "id": "RFT8vJfFBxGH"
      },
      "outputs": [],
      "source": [
        "b_damage_assessment = b_damage_assessment.drop(b_dam_drop, axis=1)"
      ]
    },
    {
      "cell_type": "markdown",
      "metadata": {
        "id": "TXWOv66zBxGH"
      },
      "source": [
        "### Building Ownership and Use"
      ]
    },
    {
      "cell_type": "code",
      "execution_count": null,
      "metadata": {
        "id": "AWQPffwnBxGI",
        "outputId": "670bbdb2-4328-4217-b70c-2fe99e556cb3"
      },
      "outputs": [
        {
          "data": {
            "text/plain": [
              "Index(['building_id', 'district_id', 'vdcmun_id', 'ward_id',\n",
              "       'legal_ownership_status', 'count_families', 'has_secondary_use',\n",
              "       'has_secondary_use_agriculture', 'has_secondary_use_hotel',\n",
              "       'has_secondary_use_rental', 'has_secondary_use_institution',\n",
              "       'has_secondary_use_school', 'has_secondary_use_industry',\n",
              "       'has_secondary_use_health_post', 'has_secondary_use_gov_office',\n",
              "       'has_secondary_use_use_police', 'has_secondary_use_other'],\n",
              "      dtype='object')"
            ]
          },
          "execution_count": 93,
          "metadata": {},
          "output_type": "execute_result"
        }
      ],
      "source": [
        "b_owner_use.columns"
      ]
    },
    {
      "cell_type": "markdown",
      "metadata": {
        "id": "BBd-ijiiBxGI"
      },
      "source": [
        "Here we are keeping all columns"
      ]
    },
    {
      "cell_type": "code",
      "execution_count": null,
      "metadata": {
        "id": "H4bcFGROBxGI"
      },
      "outputs": [],
      "source": [
        "b_owner_keep = ['building_id',\n",
        "       'legal_ownership_status', 'count_families', 'has_secondary_use',\n",
        "       'has_secondary_use_agriculture', 'has_secondary_use_hotel',\n",
        "       'has_secondary_use_rental', 'has_secondary_use_institution',\n",
        "       'has_secondary_use_school', 'has_secondary_use_industry',\n",
        "       'has_secondary_use_health_post', 'has_secondary_use_gov_office',\n",
        "       'has_secondary_use_use_police', 'has_secondary_use_other']"
      ]
    },
    {
      "cell_type": "code",
      "execution_count": null,
      "metadata": {
        "id": "eKEBvJQKBxGJ",
        "outputId": "de8079e5-fa21-4b54-c943-db3d14420e95"
      },
      "outputs": [
        {
          "data": {
            "text/plain": [
              "['district_id', 'vdcmun_id', 'ward_id']"
            ]
          },
          "execution_count": 95,
          "metadata": {},
          "output_type": "execute_result"
        }
      ],
      "source": [
        "b_owner_drop = []\n",
        "for i in b_owner_use.columns:\n",
        "    if i not in b_owner_keep:\n",
        "        b_owner_drop.append(i)\n",
        "        \n",
        "b_owner_drop"
      ]
    },
    {
      "cell_type": "code",
      "execution_count": null,
      "metadata": {
        "id": "o3Cw9PrKBxGL"
      },
      "outputs": [],
      "source": [
        "b_owner_use = b_owner_use.drop(b_owner_drop, axis=1)"
      ]
    },
    {
      "cell_type": "markdown",
      "metadata": {
        "id": "JGCKHnRwBxGL"
      },
      "source": [
        "## Merging Tables"
      ]
    },
    {
      "cell_type": "code",
      "execution_count": null,
      "metadata": {
        "id": "q4cvsC2dBxGL",
        "outputId": "6cd6e4ae-07b3-43df-8546-2c2bbb9435ac"
      },
      "outputs": [
        {
          "data": {
            "text/html": [
              "<div>\n",
              "<style scoped>\n",
              "    .dataframe tbody tr th:only-of-type {\n",
              "        vertical-align: middle;\n",
              "    }\n",
              "\n",
              "    .dataframe tbody tr th {\n",
              "        vertical-align: top;\n",
              "    }\n",
              "\n",
              "    .dataframe thead th {\n",
              "        text-align: right;\n",
              "    }\n",
              "</style>\n",
              "<table border=\"1\" class=\"dataframe\">\n",
              "  <thead>\n",
              "    <tr style=\"text-align: right;\">\n",
              "      <th></th>\n",
              "      <th>building_id</th>\n",
              "      <th>district_id</th>\n",
              "      <th>vdcmun_id</th>\n",
              "      <th>ward_id</th>\n",
              "      <th>count_floors_pre_eq</th>\n",
              "      <th>age_building</th>\n",
              "      <th>land_surface_condition</th>\n",
              "      <th>foundation_type</th>\n",
              "      <th>roof_type</th>\n",
              "      <th>ground_floor_type</th>\n",
              "      <th>other_floor_type</th>\n",
              "      <th>position</th>\n",
              "      <th>plan_configuration</th>\n",
              "      <th>has_superstructure_adobe_mud</th>\n",
              "      <th>has_superstructure_mud_mortar_stone</th>\n",
              "      <th>has_superstructure_stone_flag</th>\n",
              "      <th>has_superstructure_cement_mortar_stone</th>\n",
              "      <th>has_superstructure_mud_mortar_brick</th>\n",
              "      <th>has_superstructure_cement_mortar_brick</th>\n",
              "      <th>has_superstructure_timber</th>\n",
              "      <th>has_superstructure_bamboo</th>\n",
              "      <th>has_superstructure_rc_non_engineered</th>\n",
              "      <th>has_superstructure_rc_engineered</th>\n",
              "      <th>has_superstructure_other</th>\n",
              "      <th>damage_grade</th>\n",
              "      <th>legal_ownership_status</th>\n",
              "      <th>count_families</th>\n",
              "      <th>has_secondary_use</th>\n",
              "      <th>has_secondary_use_agriculture</th>\n",
              "      <th>has_secondary_use_hotel</th>\n",
              "      <th>has_secondary_use_rental</th>\n",
              "      <th>has_secondary_use_institution</th>\n",
              "      <th>has_secondary_use_school</th>\n",
              "      <th>has_secondary_use_industry</th>\n",
              "      <th>has_secondary_use_health_post</th>\n",
              "      <th>has_secondary_use_gov_office</th>\n",
              "      <th>has_secondary_use_use_police</th>\n",
              "      <th>has_secondary_use_other</th>\n",
              "    </tr>\n",
              "  </thead>\n",
              "  <tbody>\n",
              "    <tr>\n",
              "      <th>0</th>\n",
              "      <td>120101000011</td>\n",
              "      <td>12</td>\n",
              "      <td>1207</td>\n",
              "      <td>120703</td>\n",
              "      <td>1</td>\n",
              "      <td>9</td>\n",
              "      <td>Flat</td>\n",
              "      <td>Other</td>\n",
              "      <td>Bamboo/Timber-Light roof</td>\n",
              "      <td>Mud</td>\n",
              "      <td>Not applicable</td>\n",
              "      <td>Not attached</td>\n",
              "      <td>Rectangular</td>\n",
              "      <td>0</td>\n",
              "      <td>1</td>\n",
              "      <td>0</td>\n",
              "      <td>0</td>\n",
              "      <td>0</td>\n",
              "      <td>0</td>\n",
              "      <td>0</td>\n",
              "      <td>1</td>\n",
              "      <td>0</td>\n",
              "      <td>0</td>\n",
              "      <td>0</td>\n",
              "      <td>Grade 3</td>\n",
              "      <td>Private</td>\n",
              "      <td>1.0</td>\n",
              "      <td>0.0</td>\n",
              "      <td>0</td>\n",
              "      <td>0</td>\n",
              "      <td>0</td>\n",
              "      <td>0</td>\n",
              "      <td>0</td>\n",
              "      <td>0</td>\n",
              "      <td>0</td>\n",
              "      <td>0</td>\n",
              "      <td>0</td>\n",
              "      <td>0</td>\n",
              "    </tr>\n",
              "    <tr>\n",
              "      <th>1</th>\n",
              "      <td>120101000021</td>\n",
              "      <td>12</td>\n",
              "      <td>1207</td>\n",
              "      <td>120703</td>\n",
              "      <td>1</td>\n",
              "      <td>15</td>\n",
              "      <td>Flat</td>\n",
              "      <td>Other</td>\n",
              "      <td>Bamboo/Timber-Light roof</td>\n",
              "      <td>Mud</td>\n",
              "      <td>Not applicable</td>\n",
              "      <td>Not attached</td>\n",
              "      <td>Rectangular</td>\n",
              "      <td>0</td>\n",
              "      <td>1</td>\n",
              "      <td>0</td>\n",
              "      <td>0</td>\n",
              "      <td>0</td>\n",
              "      <td>0</td>\n",
              "      <td>0</td>\n",
              "      <td>1</td>\n",
              "      <td>0</td>\n",
              "      <td>0</td>\n",
              "      <td>0</td>\n",
              "      <td>Grade 5</td>\n",
              "      <td>Private</td>\n",
              "      <td>1.0</td>\n",
              "      <td>0.0</td>\n",
              "      <td>0</td>\n",
              "      <td>0</td>\n",
              "      <td>0</td>\n",
              "      <td>0</td>\n",
              "      <td>0</td>\n",
              "      <td>0</td>\n",
              "      <td>0</td>\n",
              "      <td>0</td>\n",
              "      <td>0</td>\n",
              "      <td>0</td>\n",
              "    </tr>\n",
              "    <tr>\n",
              "      <th>2</th>\n",
              "      <td>120101000031</td>\n",
              "      <td>12</td>\n",
              "      <td>1207</td>\n",
              "      <td>120703</td>\n",
              "      <td>1</td>\n",
              "      <td>20</td>\n",
              "      <td>Flat</td>\n",
              "      <td>Other</td>\n",
              "      <td>Bamboo/Timber-Light roof</td>\n",
              "      <td>Mud</td>\n",
              "      <td>Not applicable</td>\n",
              "      <td>Not attached</td>\n",
              "      <td>Rectangular</td>\n",
              "      <td>0</td>\n",
              "      <td>1</td>\n",
              "      <td>0</td>\n",
              "      <td>0</td>\n",
              "      <td>0</td>\n",
              "      <td>0</td>\n",
              "      <td>0</td>\n",
              "      <td>0</td>\n",
              "      <td>0</td>\n",
              "      <td>0</td>\n",
              "      <td>0</td>\n",
              "      <td>Grade 2</td>\n",
              "      <td>Private</td>\n",
              "      <td>1.0</td>\n",
              "      <td>0.0</td>\n",
              "      <td>0</td>\n",
              "      <td>0</td>\n",
              "      <td>0</td>\n",
              "      <td>0</td>\n",
              "      <td>0</td>\n",
              "      <td>0</td>\n",
              "      <td>0</td>\n",
              "      <td>0</td>\n",
              "      <td>0</td>\n",
              "      <td>0</td>\n",
              "    </tr>\n",
              "    <tr>\n",
              "      <th>3</th>\n",
              "      <td>120101000041</td>\n",
              "      <td>12</td>\n",
              "      <td>1207</td>\n",
              "      <td>120703</td>\n",
              "      <td>1</td>\n",
              "      <td>20</td>\n",
              "      <td>Flat</td>\n",
              "      <td>Other</td>\n",
              "      <td>Bamboo/Timber-Light roof</td>\n",
              "      <td>Mud</td>\n",
              "      <td>Not applicable</td>\n",
              "      <td>Not attached</td>\n",
              "      <td>Rectangular</td>\n",
              "      <td>0</td>\n",
              "      <td>1</td>\n",
              "      <td>0</td>\n",
              "      <td>0</td>\n",
              "      <td>0</td>\n",
              "      <td>0</td>\n",
              "      <td>0</td>\n",
              "      <td>0</td>\n",
              "      <td>0</td>\n",
              "      <td>0</td>\n",
              "      <td>0</td>\n",
              "      <td>Grade 2</td>\n",
              "      <td>Private</td>\n",
              "      <td>1.0</td>\n",
              "      <td>0.0</td>\n",
              "      <td>0</td>\n",
              "      <td>0</td>\n",
              "      <td>0</td>\n",
              "      <td>0</td>\n",
              "      <td>0</td>\n",
              "      <td>0</td>\n",
              "      <td>0</td>\n",
              "      <td>0</td>\n",
              "      <td>0</td>\n",
              "      <td>0</td>\n",
              "    </tr>\n",
              "    <tr>\n",
              "      <th>4</th>\n",
              "      <td>120101000051</td>\n",
              "      <td>12</td>\n",
              "      <td>1207</td>\n",
              "      <td>120703</td>\n",
              "      <td>1</td>\n",
              "      <td>30</td>\n",
              "      <td>Flat</td>\n",
              "      <td>Other</td>\n",
              "      <td>Bamboo/Timber-Light roof</td>\n",
              "      <td>Mud</td>\n",
              "      <td>Not applicable</td>\n",
              "      <td>Not attached</td>\n",
              "      <td>Rectangular</td>\n",
              "      <td>0</td>\n",
              "      <td>1</td>\n",
              "      <td>0</td>\n",
              "      <td>0</td>\n",
              "      <td>0</td>\n",
              "      <td>0</td>\n",
              "      <td>0</td>\n",
              "      <td>0</td>\n",
              "      <td>0</td>\n",
              "      <td>0</td>\n",
              "      <td>0</td>\n",
              "      <td>Grade 1</td>\n",
              "      <td>Private</td>\n",
              "      <td>1.0</td>\n",
              "      <td>0.0</td>\n",
              "      <td>0</td>\n",
              "      <td>0</td>\n",
              "      <td>0</td>\n",
              "      <td>0</td>\n",
              "      <td>0</td>\n",
              "      <td>0</td>\n",
              "      <td>0</td>\n",
              "      <td>0</td>\n",
              "      <td>0</td>\n",
              "      <td>0</td>\n",
              "    </tr>\n",
              "  </tbody>\n",
              "</table>\n",
              "</div>"
            ],
            "text/plain": [
              "    building_id  district_id  vdcmun_id  ward_id  count_floors_pre_eq  \\\n",
              "0  120101000011           12       1207   120703                    1   \n",
              "1  120101000021           12       1207   120703                    1   \n",
              "2  120101000031           12       1207   120703                    1   \n",
              "3  120101000041           12       1207   120703                    1   \n",
              "4  120101000051           12       1207   120703                    1   \n",
              "\n",
              "   age_building land_surface_condition foundation_type  \\\n",
              "0             9                   Flat           Other   \n",
              "1            15                   Flat           Other   \n",
              "2            20                   Flat           Other   \n",
              "3            20                   Flat           Other   \n",
              "4            30                   Flat           Other   \n",
              "\n",
              "                  roof_type ground_floor_type other_floor_type      position  \\\n",
              "0  Bamboo/Timber-Light roof               Mud   Not applicable  Not attached   \n",
              "1  Bamboo/Timber-Light roof               Mud   Not applicable  Not attached   \n",
              "2  Bamboo/Timber-Light roof               Mud   Not applicable  Not attached   \n",
              "3  Bamboo/Timber-Light roof               Mud   Not applicable  Not attached   \n",
              "4  Bamboo/Timber-Light roof               Mud   Not applicable  Not attached   \n",
              "\n",
              "  plan_configuration  has_superstructure_adobe_mud  \\\n",
              "0        Rectangular                             0   \n",
              "1        Rectangular                             0   \n",
              "2        Rectangular                             0   \n",
              "3        Rectangular                             0   \n",
              "4        Rectangular                             0   \n",
              "\n",
              "   has_superstructure_mud_mortar_stone  has_superstructure_stone_flag  \\\n",
              "0                                    1                              0   \n",
              "1                                    1                              0   \n",
              "2                                    1                              0   \n",
              "3                                    1                              0   \n",
              "4                                    1                              0   \n",
              "\n",
              "   has_superstructure_cement_mortar_stone  \\\n",
              "0                                       0   \n",
              "1                                       0   \n",
              "2                                       0   \n",
              "3                                       0   \n",
              "4                                       0   \n",
              "\n",
              "   has_superstructure_mud_mortar_brick  \\\n",
              "0                                    0   \n",
              "1                                    0   \n",
              "2                                    0   \n",
              "3                                    0   \n",
              "4                                    0   \n",
              "\n",
              "   has_superstructure_cement_mortar_brick  has_superstructure_timber  \\\n",
              "0                                       0                          0   \n",
              "1                                       0                          0   \n",
              "2                                       0                          0   \n",
              "3                                       0                          0   \n",
              "4                                       0                          0   \n",
              "\n",
              "   has_superstructure_bamboo  has_superstructure_rc_non_engineered  \\\n",
              "0                          1                                     0   \n",
              "1                          1                                     0   \n",
              "2                          0                                     0   \n",
              "3                          0                                     0   \n",
              "4                          0                                     0   \n",
              "\n",
              "   has_superstructure_rc_engineered  has_superstructure_other damage_grade  \\\n",
              "0                                 0                         0      Grade 3   \n",
              "1                                 0                         0      Grade 5   \n",
              "2                                 0                         0      Grade 2   \n",
              "3                                 0                         0      Grade 2   \n",
              "4                                 0                         0      Grade 1   \n",
              "\n",
              "  legal_ownership_status  count_families  has_secondary_use  \\\n",
              "0                Private             1.0                0.0   \n",
              "1                Private             1.0                0.0   \n",
              "2                Private             1.0                0.0   \n",
              "3                Private             1.0                0.0   \n",
              "4                Private             1.0                0.0   \n",
              "\n",
              "   has_secondary_use_agriculture  has_secondary_use_hotel  \\\n",
              "0                              0                        0   \n",
              "1                              0                        0   \n",
              "2                              0                        0   \n",
              "3                              0                        0   \n",
              "4                              0                        0   \n",
              "\n",
              "   has_secondary_use_rental  has_secondary_use_institution  \\\n",
              "0                         0                              0   \n",
              "1                         0                              0   \n",
              "2                         0                              0   \n",
              "3                         0                              0   \n",
              "4                         0                              0   \n",
              "\n",
              "   has_secondary_use_school  has_secondary_use_industry  \\\n",
              "0                         0                           0   \n",
              "1                         0                           0   \n",
              "2                         0                           0   \n",
              "3                         0                           0   \n",
              "4                         0                           0   \n",
              "\n",
              "   has_secondary_use_health_post  has_secondary_use_gov_office  \\\n",
              "0                              0                             0   \n",
              "1                              0                             0   \n",
              "2                              0                             0   \n",
              "3                              0                             0   \n",
              "4                              0                             0   \n",
              "\n",
              "   has_secondary_use_use_police  has_secondary_use_other  \n",
              "0                             0                        0  \n",
              "1                             0                        0  \n",
              "2                             0                        0  \n",
              "3                             0                        0  \n",
              "4                             0                        0  "
            ]
          },
          "execution_count": 97,
          "metadata": {},
          "output_type": "execute_result"
        }
      ],
      "source": [
        "merged = pd.merge(b_structure, b_owner_use, on='building_id', how='inner')\n",
        "merged.head()"
      ]
    },
    {
      "cell_type": "code",
      "execution_count": null,
      "metadata": {
        "id": "kndN5ngPBxGM",
        "outputId": "6c7cdd65-cbc9-4d87-a36f-26e7f6c5fb7d"
      },
      "outputs": [
        {
          "data": {
            "text/plain": [
              "building_id                                0\n",
              "district_id                                0\n",
              "vdcmun_id                                  0\n",
              "ward_id                                    0\n",
              "count_floors_pre_eq                        0\n",
              "age_building                               0\n",
              "land_surface_condition                     0\n",
              "foundation_type                            0\n",
              "roof_type                                  0\n",
              "ground_floor_type                          0\n",
              "other_floor_type                           0\n",
              "position                                   1\n",
              "plan_configuration                         1\n",
              "has_superstructure_adobe_mud               0\n",
              "has_superstructure_mud_mortar_stone        0\n",
              "has_superstructure_stone_flag              0\n",
              "has_superstructure_cement_mortar_stone     0\n",
              "has_superstructure_mud_mortar_brick        0\n",
              "has_superstructure_cement_mortar_brick     0\n",
              "has_superstructure_timber                  0\n",
              "has_superstructure_bamboo                  0\n",
              "has_superstructure_rc_non_engineered       0\n",
              "has_superstructure_rc_engineered           0\n",
              "has_superstructure_other                   0\n",
              "damage_grade                              12\n",
              "legal_ownership_status                     0\n",
              "count_families                             2\n",
              "has_secondary_use                         10\n",
              "has_secondary_use_agriculture              0\n",
              "has_secondary_use_hotel                    0\n",
              "has_secondary_use_rental                   0\n",
              "has_secondary_use_institution              0\n",
              "has_secondary_use_school                   0\n",
              "has_secondary_use_industry                 0\n",
              "has_secondary_use_health_post              0\n",
              "has_secondary_use_gov_office               0\n",
              "has_secondary_use_use_police               0\n",
              "has_secondary_use_other                    0\n",
              "dtype: int64"
            ]
          },
          "execution_count": 98,
          "metadata": {},
          "output_type": "execute_result"
        }
      ],
      "source": [
        "merged.isna().sum()"
      ]
    },
    {
      "cell_type": "code",
      "execution_count": null,
      "metadata": {
        "id": "Xw21tBaABxGM",
        "outputId": "8327020a-c6b6-4a9c-c280-48fa79c9e699"
      },
      "outputs": [
        {
          "data": {
            "text/plain": [
              "building_id                                 int64\n",
              "district_id                                 int64\n",
              "vdcmun_id                                   int64\n",
              "ward_id                                     int64\n",
              "count_floors_pre_eq                         int64\n",
              "age_building                                int64\n",
              "land_surface_condition                     object\n",
              "foundation_type                            object\n",
              "roof_type                                  object\n",
              "ground_floor_type                          object\n",
              "other_floor_type                           object\n",
              "position                                   object\n",
              "plan_configuration                         object\n",
              "has_superstructure_adobe_mud                int64\n",
              "has_superstructure_mud_mortar_stone         int64\n",
              "has_superstructure_stone_flag               int64\n",
              "has_superstructure_cement_mortar_stone      int64\n",
              "has_superstructure_mud_mortar_brick         int64\n",
              "has_superstructure_cement_mortar_brick      int64\n",
              "has_superstructure_timber                   int64\n",
              "has_superstructure_bamboo                   int64\n",
              "has_superstructure_rc_non_engineered        int64\n",
              "has_superstructure_rc_engineered            int64\n",
              "has_superstructure_other                    int64\n",
              "damage_grade                               object\n",
              "legal_ownership_status                     object\n",
              "count_families                            float64\n",
              "has_secondary_use                         float64\n",
              "has_secondary_use_agriculture               int64\n",
              "has_secondary_use_hotel                     int64\n",
              "has_secondary_use_rental                    int64\n",
              "has_secondary_use_institution               int64\n",
              "has_secondary_use_school                    int64\n",
              "has_secondary_use_industry                  int64\n",
              "has_secondary_use_health_post               int64\n",
              "has_secondary_use_gov_office                int64\n",
              "has_secondary_use_use_police                int64\n",
              "has_secondary_use_other                     int64\n",
              "dtype: object"
            ]
          },
          "execution_count": 99,
          "metadata": {},
          "output_type": "execute_result"
        }
      ],
      "source": [
        "merged.dtypes"
      ]
    },
    {
      "cell_type": "code",
      "execution_count": null,
      "metadata": {
        "id": "O3ljNbLcBxGM"
      },
      "outputs": [],
      "source": [
        "merged.to_csv('/Users/chantalwuerschinger/code/chantalwuer/earthquake_damage/raw_data/merged_table.csv', index=False)"
      ]
    },
    {
      "cell_type": "markdown",
      "metadata": {
        "id": "zMFOvuaUBxGN"
      },
      "source": [
        "### Test Train Test Split"
      ]
    },
    {
      "cell_type": "code",
      "execution_count": null,
      "metadata": {
        "id": "MeklC7PsBxGN"
      },
      "outputs": [],
      "source": [
        "from earthquake_damage.data.main import train_test_val\n",
        "\n",
        "X_train, X_test, X_val, y_train, y_test, y_val = train_test_val(merged)"
      ]
    },
    {
      "cell_type": "markdown",
      "metadata": {
        "id": "bB-c8SOjBxGN"
      },
      "source": [
        "## Merge additional information"
      ]
    },
    {
      "cell_type": "code",
      "execution_count": null,
      "metadata": {
        "id": "PzDznpwxBxGN"
      },
      "outputs": [],
      "source": [
        "merged_df = merged.copy()"
      ]
    },
    {
      "cell_type": "markdown",
      "metadata": {
        "id": "M5JJUSuLBxGN"
      },
      "source": [
        "### Household Demographics"
      ]
    },
    {
      "cell_type": "code",
      "execution_count": null,
      "metadata": {
        "id": "KY_0w_OzBxGO"
      },
      "outputs": [],
      "source": [
        "h_dem_drop = ['district_id', 'ward_id', 'vdcmun_id', 'is_bank_account_present_in_household', 'caste_household']"
      ]
    },
    {
      "cell_type": "code",
      "execution_count": null,
      "metadata": {
        "id": "pD02SC8zBxGO",
        "outputId": "dfa1867a-f961-4081-e9d2-799ef094a9df"
      },
      "outputs": [
        {
          "data": {
            "text/html": [
              "<div>\n",
              "<style scoped>\n",
              "    .dataframe tbody tr th:only-of-type {\n",
              "        vertical-align: middle;\n",
              "    }\n",
              "\n",
              "    .dataframe tbody tr th {\n",
              "        vertical-align: top;\n",
              "    }\n",
              "\n",
              "    .dataframe thead th {\n",
              "        text-align: right;\n",
              "    }\n",
              "</style>\n",
              "<table border=\"1\" class=\"dataframe\">\n",
              "  <thead>\n",
              "    <tr style=\"text-align: right;\">\n",
              "      <th></th>\n",
              "      <th>household_id</th>\n",
              "      <th>district_id</th>\n",
              "      <th>vdcmun_id</th>\n",
              "      <th>ward_id</th>\n",
              "      <th>gender_household_head</th>\n",
              "      <th>age_household_head</th>\n",
              "      <th>caste_household</th>\n",
              "      <th>education_level_household_head</th>\n",
              "      <th>income_level_household</th>\n",
              "      <th>size_household</th>\n",
              "      <th>is_bank_account_present_in_household</th>\n",
              "    </tr>\n",
              "  </thead>\n",
              "  <tbody>\n",
              "    <tr>\n",
              "      <th>0</th>\n",
              "      <td>12010100001101</td>\n",
              "      <td>12</td>\n",
              "      <td>1207</td>\n",
              "      <td>120703</td>\n",
              "      <td>Male</td>\n",
              "      <td>31.0</td>\n",
              "      <td>Rai</td>\n",
              "      <td>Illiterate</td>\n",
              "      <td>Rs. 10 thousand</td>\n",
              "      <td>3.0</td>\n",
              "      <td>0.0</td>\n",
              "    </tr>\n",
              "    <tr>\n",
              "      <th>1</th>\n",
              "      <td>12010100002101</td>\n",
              "      <td>12</td>\n",
              "      <td>1207</td>\n",
              "      <td>120703</td>\n",
              "      <td>Female</td>\n",
              "      <td>62.0</td>\n",
              "      <td>Rai</td>\n",
              "      <td>Illiterate</td>\n",
              "      <td>Rs. 10 thousand</td>\n",
              "      <td>6.0</td>\n",
              "      <td>0.0</td>\n",
              "    </tr>\n",
              "    <tr>\n",
              "      <th>2</th>\n",
              "      <td>12010100003101</td>\n",
              "      <td>12</td>\n",
              "      <td>1207</td>\n",
              "      <td>120703</td>\n",
              "      <td>Male</td>\n",
              "      <td>51.0</td>\n",
              "      <td>Gharti/Bhujel</td>\n",
              "      <td>Illiterate</td>\n",
              "      <td>Rs. 10 thousand</td>\n",
              "      <td>13.0</td>\n",
              "      <td>0.0</td>\n",
              "    </tr>\n",
              "    <tr>\n",
              "      <th>3</th>\n",
              "      <td>12010100004101</td>\n",
              "      <td>12</td>\n",
              "      <td>1207</td>\n",
              "      <td>120703</td>\n",
              "      <td>Male</td>\n",
              "      <td>48.0</td>\n",
              "      <td>Gharti/Bhujel</td>\n",
              "      <td>Illiterate</td>\n",
              "      <td>Rs. 10 thousand</td>\n",
              "      <td>5.0</td>\n",
              "      <td>0.0</td>\n",
              "    </tr>\n",
              "    <tr>\n",
              "      <th>4</th>\n",
              "      <td>12010100005101</td>\n",
              "      <td>12</td>\n",
              "      <td>1207</td>\n",
              "      <td>120703</td>\n",
              "      <td>Male</td>\n",
              "      <td>70.0</td>\n",
              "      <td>Gharti/Bhujel</td>\n",
              "      <td>Illiterate</td>\n",
              "      <td>Rs. 10 thousand</td>\n",
              "      <td>8.0</td>\n",
              "      <td>0.0</td>\n",
              "    </tr>\n",
              "  </tbody>\n",
              "</table>\n",
              "</div>"
            ],
            "text/plain": [
              "     household_id  district_id  vdcmun_id  ward_id gender_household_head  \\\n",
              "0  12010100001101           12       1207   120703                  Male   \n",
              "1  12010100002101           12       1207   120703                Female   \n",
              "2  12010100003101           12       1207   120703                  Male   \n",
              "3  12010100004101           12       1207   120703                  Male   \n",
              "4  12010100005101           12       1207   120703                  Male   \n",
              "\n",
              "   age_household_head caste_household education_level_household_head  \\\n",
              "0                31.0             Rai                     Illiterate   \n",
              "1                62.0             Rai                     Illiterate   \n",
              "2                51.0   Gharti/Bhujel                     Illiterate   \n",
              "3                48.0   Gharti/Bhujel                     Illiterate   \n",
              "4                70.0   Gharti/Bhujel                     Illiterate   \n",
              "\n",
              "  income_level_household  size_household  is_bank_account_present_in_household  \n",
              "0        Rs. 10 thousand             3.0                                   0.0  \n",
              "1        Rs. 10 thousand             6.0                                   0.0  \n",
              "2        Rs. 10 thousand            13.0                                   0.0  \n",
              "3        Rs. 10 thousand             5.0                                   0.0  \n",
              "4        Rs. 10 thousand             8.0                                   0.0  "
            ]
          },
          "execution_count": 136,
          "metadata": {},
          "output_type": "execute_result"
        }
      ],
      "source": [
        "h_demographics.head()"
      ]
    },
    {
      "cell_type": "code",
      "execution_count": null,
      "metadata": {
        "id": "futH6KcTBxGO",
        "outputId": "8ce3f966-80cf-40ba-b4df-6a4a34ed6c09"
      },
      "outputs": [
        {
          "data": {
            "text/plain": [
              "household_id                              int64\n",
              "district_id                               int64\n",
              "vdcmun_id                                 int64\n",
              "ward_id                                   int64\n",
              "gender_household_head                    object\n",
              "age_household_head                      float64\n",
              "caste_household                          object\n",
              "education_level_household_head           object\n",
              "income_level_household                   object\n",
              "size_household                          float64\n",
              "is_bank_account_present_in_household    float64\n",
              "dtype: object"
            ]
          },
          "execution_count": 137,
          "metadata": {},
          "output_type": "execute_result"
        }
      ],
      "source": [
        "h_demographics.dtypes"
      ]
    },
    {
      "cell_type": "code",
      "execution_count": null,
      "metadata": {
        "id": "QoNuN6drBxGO",
        "outputId": "b223ed45-352d-4819-9a8d-debd74f81795"
      },
      "outputs": [
        {
          "data": {
            "text/plain": [
              "Male      507924\n",
              "Female    239439\n",
              "Name: gender_household_head, dtype: int64"
            ]
          },
          "execution_count": 138,
          "metadata": {},
          "output_type": "execute_result"
        }
      ],
      "source": [
        "h_demographics.gender_household_head.value_counts()"
      ]
    },
    {
      "cell_type": "markdown",
      "metadata": {
        "id": "yY1supOYBxGP"
      },
      "source": [
        "#### Casts (discard for now)"
      ]
    },
    {
      "cell_type": "code",
      "execution_count": null,
      "metadata": {
        "id": "yl3cSXgGBxGP",
        "outputId": "ed18e4bb-46a1-4f81-d5d8-0c5de19cb33c"
      },
      "outputs": [
        {
          "data": {
            "text/plain": [
              "array(['Rai', 'Gharti/Bhujel', 'Brahman-Hill', 'Sanyasi/Dashnami',\n",
              "       'Chhetree', 'Tamang', nan, 'Kami', 'Newar', 'Gurung', 'Magar',\n",
              "       '0thers', 'Sarki', 'Damai/Dholi', 'Sherpa', 'Majhi', 'Pahari',\n",
              "       'Sunuwar', 'Tharu', 'Rajbansi', 'Sonar', 'Jirel', 'Raute',\n",
              "       'Badhaee', 'Brahman-Tarai', 'Jhangad/Dhagar', 'Khatwe', 'Khawas',\n",
              "       'Lohar', 'Bin', 'Yadav', 'Koiri/Kushwaha', 'Danuwar', 'Limbu',\n",
              "       'Sudhi', 'Kurmi', 'Nuniya', 'Dusadh/Pasawan/Pasi', 'Dom', 'Teli',\n",
              "       'Musalman', 'Thakuri', 'Ghale', 'Darai', 'Bhote', 'Hayu', 'Thami',\n",
              "       'Haluwai', 'Kayastha', 'Kamar', 'Kalwar', 'Kewat', 'Musahar',\n",
              "       'Kumal', 'Chamar/Harijan/Ram', 'Mallaha', 'Rajput', 'Hajam/Thakur',\n",
              "       'Amat', 'Kori', 'Badi', 'Bantar/Sardar', 'Dhobi', 'Chamling',\n",
              "       'Kumhar', 'Kalar', 'Dhimal', 'Meche', 'Mali', 'Dhanuk', 'Kanu',\n",
              "       'Marwadi', 'Hyolmo', 'Lhopa', 'Chepang/Praja', 'Gaderi/Bhedhar',\n",
              "       'Koche', 'Brahmu/Baramo', 'Satar/Santhal', 'Kathbaniyan',\n",
              "       'Tatma/Tatwa', 'Thakali', 'Dev', 'Bahing', 'Gaine', 'Bangali',\n",
              "       'Pattharkatta/Kushwadiya', 'Baraee', 'Samgpang', 'Natuwa', 'Bote',\n",
              "       'Lepcha', 'Mewahang Bala', 'Kahar', 'Yakkha', 'Byasi/Sauka',\n",
              "       'Kusunda'], dtype=object)"
            ]
          },
          "execution_count": 139,
          "metadata": {},
          "output_type": "execute_result"
        }
      ],
      "source": [
        "h_demographics.caste_household.unique()"
      ]
    },
    {
      "cell_type": "code",
      "execution_count": null,
      "metadata": {
        "id": "5a-4UgUcBxGS"
      },
      "outputs": [],
      "source": [
        "casts = h_demographics.groupby('caste_household')['caste_household'].count()\n",
        "casts.to_csv('/Users/chantalwuerschinger/code/chantalwuer/earthquake_damage/raw_data/household/caste_household.csv')\n"
      ]
    },
    {
      "cell_type": "markdown",
      "metadata": {
        "id": "UhmmqzVwBxGT"
      },
      "source": [
        "#### Income Level Household"
      ]
    },
    {
      "cell_type": "code",
      "execution_count": null,
      "metadata": {
        "id": "D6_zeWJ8BxGT",
        "outputId": "37746673-d651-4fbf-e671-59d434195b1e"
      },
      "outputs": [
        {
          "data": {
            "text/plain": [
              "Rs. 10 thousand            409102\n",
              "Rs. 10-20 thousand         231688\n",
              "Rs. 20-30 thousand          76124\n",
              "Rs. 30-50 thousand          21943\n",
              "Rs. 50 thousand or more      8280\n",
              "Name: income_level_household, dtype: int64"
            ]
          },
          "execution_count": 141,
          "metadata": {},
          "output_type": "execute_result"
        }
      ],
      "source": [
        "h_demographics.income_level_household.value_counts()"
      ]
    },
    {
      "cell_type": "code",
      "execution_count": null,
      "metadata": {
        "id": "B7h8GTbhBxGT",
        "outputId": "c038480f-4d2a-42e3-dc1f-e8c1a8f65a93"
      },
      "outputs": [
        {
          "data": {
            "text/plain": [
              "array(['Rs. 10 thousand', 'Rs. 10-20 thousand', 'Rs. 20-30 thousand',\n",
              "       'Rs. 30-50 thousand', nan, 'Rs. 50 thousand or more'], dtype=object)"
            ]
          },
          "execution_count": 142,
          "metadata": {},
          "output_type": "execute_result"
        }
      ],
      "source": [
        "h_demographics.income_level_household.unique()"
      ]
    },
    {
      "cell_type": "code",
      "execution_count": null,
      "metadata": {
        "id": "q7K9990dBxGT"
      },
      "outputs": [],
      "source": [
        "h_demographics.income_level_household = h_demographics.income_level_household.replace({\n",
        "    'Rs. 10 thousand': 0, 'Rs. 10-20 thousand': 1, \n",
        "    'Rs. 20-30 thousand': 2, 'Rs. 30-50 thousand': 3, \n",
        "    'Rs. 50 thousand or more': 4})"
      ]
    },
    {
      "cell_type": "markdown",
      "metadata": {
        "id": "-eVMIJbEBxGU"
      },
      "source": [
        "#### Education Level"
      ]
    },
    {
      "cell_type": "code",
      "execution_count": null,
      "metadata": {
        "id": "ff5Mj8onBxGU",
        "outputId": "f1941e1f-f7ab-49a4-8444-44de549b09b1"
      },
      "outputs": [
        {
          "data": {
            "text/plain": [
              "Illiterate                    263157\n",
              "Non-formal education          157724\n",
              "Class 5                        45267\n",
              "SLC or equivalent              42988\n",
              "Intermediate or equivalent     29181\n",
              "Class 4                        27836\n",
              "Class 8                        27520\n",
              "Class 3                        26217\n",
              "Class 10                       24097\n",
              "Class 2                        22331\n",
              "Class 7                        21460\n",
              "Class 6                        17099\n",
              "Class 9                        12184\n",
              "Bachelors or equivalent        10925\n",
              "Class 1                         9996\n",
              "Masters or equivalent           4507\n",
              "Other                           2838\n",
              "Nursery/K.G./Kindergarten       1741\n",
              "Ph.D. or equivalent               69\n",
              "Name: education_level_household_head, dtype: int64"
            ]
          },
          "execution_count": 144,
          "metadata": {},
          "output_type": "execute_result"
        }
      ],
      "source": [
        "h_demographics.education_level_household_head.value_counts()"
      ]
    },
    {
      "cell_type": "code",
      "execution_count": null,
      "metadata": {
        "id": "LytxUj9zBxGU",
        "outputId": "6b0b9233-6d2e-4f11-d573-17e9dd21e4c1"
      },
      "outputs": [
        {
          "data": {
            "text/plain": [
              "array(['Illiterate', 'Class 5', 'Class 4', 'SLC or equivalent',\n",
              "       'Class 10', 'Class 9', 'Non-formal education',\n",
              "       'Intermediate or equivalent', 'Class 7', 'Class 2', 'Class 1',\n",
              "       'Class 8', 'Class 3', 'Class 6', nan, 'Bachelors or equivalent',\n",
              "       'Other', 'Masters or equivalent', 'Nursery/K.G./Kindergarten',\n",
              "       'Ph.D. or equivalent'], dtype=object)"
            ]
          },
          "execution_count": 145,
          "metadata": {},
          "output_type": "execute_result"
        }
      ],
      "source": [
        "h_demographics.education_level_household_head.unique()"
      ]
    },
    {
      "cell_type": "code",
      "execution_count": null,
      "metadata": {
        "id": "gnaw0NlkBxGU"
      },
      "outputs": [],
      "source": [
        "in_education = ['Class 5', 'Class 4',\n",
        "        'Class 10', 'Class 9', \n",
        "        'Class 7', 'Class 2', 'Class 1',\n",
        "        'Class 8', 'Class 3', 'Class 6', 'Nursery/K.G./Kindergarten'\n",
        "       ]\n",
        "\n",
        "university = ['Bachelors or equivalent', 'Masters or equivalent', 'Ph.D. or equivalent']\n",
        "\n",
        "h_demographics.education_level_household_head = h_demographics.education_level_household_head.map(lambda x: 'In education' if x in in_education else x)\n",
        "h_demographics.education_level_household_head = h_demographics.education_level_household_head.map(lambda x: 'University' if x in university else x)\n",
        "h_demographics.education_level_household_head = h_demographics.education_level_household_head.map(lambda x: 'High School' if x == 'SLC or equivalent' else x)\n"
      ]
    },
    {
      "cell_type": "code",
      "execution_count": null,
      "metadata": {
        "id": "5-g9tnZiBxGU",
        "outputId": "ab46aedf-ee0b-4fbc-9fd1-488c3a7b9595"
      },
      "outputs": [
        {
          "data": {
            "text/plain": [
              "array(['Illiterate', 'In education', 'High School',\n",
              "       'Non-formal education', 'Intermediate or equivalent', nan,\n",
              "       'University', 'Other'], dtype=object)"
            ]
          },
          "execution_count": 147,
          "metadata": {},
          "output_type": "execute_result"
        }
      ],
      "source": [
        "h_demographics.education_level_household_head.unique()"
      ]
    },
    {
      "cell_type": "markdown",
      "metadata": {
        "id": "MucKqj7uBxGV"
      },
      "source": [
        "### Create Final Household Dem File"
      ]
    },
    {
      "cell_type": "code",
      "execution_count": null,
      "metadata": {
        "id": "WKKENIZbBxGV"
      },
      "outputs": [],
      "source": [
        "h_demographics = h_demographics.drop(h_dem_drop, axis=1)\n",
        "\n",
        "h_demographics.to_csv('/Users/chantalwuerschinger/code/chantalwuer/earthquake_damage/raw_data/household/household_demographics_cleaned.csv', index=False)"
      ]
    },
    {
      "cell_type": "code",
      "execution_count": null,
      "metadata": {
        "id": "TtchpWloBxGV",
        "outputId": "4fe326b5-f43f-48ce-8d8f-621b51a53a3c"
      },
      "outputs": [
        {
          "data": {
            "text/html": [
              "<div>\n",
              "<style scoped>\n",
              "    .dataframe tbody tr th:only-of-type {\n",
              "        vertical-align: middle;\n",
              "    }\n",
              "\n",
              "    .dataframe tbody tr th {\n",
              "        vertical-align: top;\n",
              "    }\n",
              "\n",
              "    .dataframe thead th {\n",
              "        text-align: right;\n",
              "    }\n",
              "</style>\n",
              "<table border=\"1\" class=\"dataframe\">\n",
              "  <thead>\n",
              "    <tr style=\"text-align: right;\">\n",
              "      <th></th>\n",
              "      <th>household_id</th>\n",
              "      <th>gender_household_head</th>\n",
              "      <th>age_household_head</th>\n",
              "      <th>education_level_household_head</th>\n",
              "      <th>income_level_household</th>\n",
              "      <th>size_household</th>\n",
              "    </tr>\n",
              "  </thead>\n",
              "  <tbody>\n",
              "    <tr>\n",
              "      <th>0</th>\n",
              "      <td>12010100001101</td>\n",
              "      <td>Male</td>\n",
              "      <td>31.0</td>\n",
              "      <td>Illiterate</td>\n",
              "      <td>0.0</td>\n",
              "      <td>3.0</td>\n",
              "    </tr>\n",
              "    <tr>\n",
              "      <th>1</th>\n",
              "      <td>12010100002101</td>\n",
              "      <td>Female</td>\n",
              "      <td>62.0</td>\n",
              "      <td>Illiterate</td>\n",
              "      <td>0.0</td>\n",
              "      <td>6.0</td>\n",
              "    </tr>\n",
              "    <tr>\n",
              "      <th>2</th>\n",
              "      <td>12010100003101</td>\n",
              "      <td>Male</td>\n",
              "      <td>51.0</td>\n",
              "      <td>Illiterate</td>\n",
              "      <td>0.0</td>\n",
              "      <td>13.0</td>\n",
              "    </tr>\n",
              "    <tr>\n",
              "      <th>3</th>\n",
              "      <td>12010100004101</td>\n",
              "      <td>Male</td>\n",
              "      <td>48.0</td>\n",
              "      <td>Illiterate</td>\n",
              "      <td>0.0</td>\n",
              "      <td>5.0</td>\n",
              "    </tr>\n",
              "    <tr>\n",
              "      <th>4</th>\n",
              "      <td>12010100005101</td>\n",
              "      <td>Male</td>\n",
              "      <td>70.0</td>\n",
              "      <td>Illiterate</td>\n",
              "      <td>0.0</td>\n",
              "      <td>8.0</td>\n",
              "    </tr>\n",
              "  </tbody>\n",
              "</table>\n",
              "</div>"
            ],
            "text/plain": [
              "     household_id gender_household_head  age_household_head  \\\n",
              "0  12010100001101                  Male                31.0   \n",
              "1  12010100002101                Female                62.0   \n",
              "2  12010100003101                  Male                51.0   \n",
              "3  12010100004101                  Male                48.0   \n",
              "4  12010100005101                  Male                70.0   \n",
              "\n",
              "  education_level_household_head  income_level_household  size_household  \n",
              "0                     Illiterate                     0.0             3.0  \n",
              "1                     Illiterate                     0.0             6.0  \n",
              "2                     Illiterate                     0.0            13.0  \n",
              "3                     Illiterate                     0.0             5.0  \n",
              "4                     Illiterate                     0.0             8.0  "
            ]
          },
          "execution_count": 117,
          "metadata": {},
          "output_type": "execute_result"
        }
      ],
      "source": [
        "h_demographics.head()"
      ]
    },
    {
      "cell_type": "code",
      "execution_count": null,
      "metadata": {
        "id": "SGXYfCDiBxGV",
        "outputId": "3093c71a-d4ab-42fd-c59e-e51b74c62596"
      },
      "outputs": [
        {
          "data": {
            "text/html": [
              "<div>\n",
              "<style scoped>\n",
              "    .dataframe tbody tr th:only-of-type {\n",
              "        vertical-align: middle;\n",
              "    }\n",
              "\n",
              "    .dataframe tbody tr th {\n",
              "        vertical-align: top;\n",
              "    }\n",
              "\n",
              "    .dataframe thead th {\n",
              "        text-align: right;\n",
              "    }\n",
              "</style>\n",
              "<table border=\"1\" class=\"dataframe\">\n",
              "  <thead>\n",
              "    <tr style=\"text-align: right;\">\n",
              "      <th></th>\n",
              "      <th>income_level_household</th>\n",
              "    </tr>\n",
              "    <tr>\n",
              "      <th>education_level_household_head</th>\n",
              "      <th></th>\n",
              "    </tr>\n",
              "  </thead>\n",
              "  <tbody>\n",
              "    <tr>\n",
              "      <th>High School</th>\n",
              "      <td>1.027519</td>\n",
              "    </tr>\n",
              "    <tr>\n",
              "      <th>Illiterate</th>\n",
              "      <td>0.422018</td>\n",
              "    </tr>\n",
              "    <tr>\n",
              "      <th>In education</th>\n",
              "      <td>0.713300</td>\n",
              "    </tr>\n",
              "    <tr>\n",
              "      <th>Intermediate or equivalent</th>\n",
              "      <td>1.164422</td>\n",
              "    </tr>\n",
              "    <tr>\n",
              "      <th>Non-formal education</th>\n",
              "      <td>0.631020</td>\n",
              "    </tr>\n",
              "    <tr>\n",
              "      <th>Other</th>\n",
              "      <td>0.585624</td>\n",
              "    </tr>\n",
              "    <tr>\n",
              "      <th>University</th>\n",
              "      <td>1.569576</td>\n",
              "    </tr>\n",
              "  </tbody>\n",
              "</table>\n",
              "</div>"
            ],
            "text/plain": [
              "                                income_level_household\n",
              "education_level_household_head                        \n",
              "High School                                   1.027519\n",
              "Illiterate                                    0.422018\n",
              "In education                                  0.713300\n",
              "Intermediate or equivalent                    1.164422\n",
              "Non-formal education                          0.631020\n",
              "Other                                         0.585624\n",
              "University                                    1.569576"
            ]
          },
          "execution_count": 129,
          "metadata": {},
          "output_type": "execute_result"
        }
      ],
      "source": [
        "h_demographics.groupby('education_level_household_head')[['income_level_household']].mean()"
      ]
    },
    {
      "cell_type": "markdown",
      "metadata": {
        "id": "Sf_4AiVJBxGW"
      },
      "source": [
        "### Test refine demograhics"
      ]
    },
    {
      "cell_type": "code",
      "execution_count": null,
      "metadata": {
        "id": "lnvHej5FBxGW",
        "outputId": "0b731b83-f6e3-41c2-b94c-cd88a457c816"
      },
      "outputs": [
        {
          "name": "stdout",
          "output_type": "stream",
          "text": [
            "Adapting income level...\n",
            "Adapting education level...\n",
            "Saving the file to csv...\n",
            "✅ File saved to /Users/chantalwuerschinger/code/chantalwuer/earthquake_damage/processed_data/h_demographics.csv\n"
          ]
        }
      ],
      "source": [
        "from earthquake_damage.data.merge_dataset import refine_demographics\n",
        "refine_demographics(h_demographics)"
      ]
    },
    {
      "cell_type": "markdown",
      "metadata": {
        "id": "IeZ9a_eBBxGW"
      },
      "source": [
        "### Merge based on mapping.csv"
      ]
    },
    {
      "cell_type": "code",
      "execution_count": null,
      "metadata": {
        "id": "cP6CkD7RBxGW"
      },
      "outputs": [],
      "source": [
        "mapping = pd.read_csv('/Users/chantalwuerschinger/code/chantalwuer/earthquake_damage/raw_data/geographical/mapping.csv')\n",
        "merged = pd.read_csv('/Users/chantalwuerschinger/code/chantalwuer/earthquake_damage/processed_data/merge_structure_owner.csv')\n"
      ]
    },
    {
      "cell_type": "code",
      "execution_count": null,
      "metadata": {
        "id": "SKr-QoDsBxGW",
        "outputId": "03b11585-1681-4ae6-e808-4eab12be4adb"
      },
      "outputs": [
        {
          "data": {
            "text/html": [
              "<div>\n",
              "<style scoped>\n",
              "    .dataframe tbody tr th:only-of-type {\n",
              "        vertical-align: middle;\n",
              "    }\n",
              "\n",
              "    .dataframe tbody tr th {\n",
              "        vertical-align: top;\n",
              "    }\n",
              "\n",
              "    .dataframe thead th {\n",
              "        text-align: right;\n",
              "    }\n",
              "</style>\n",
              "<table border=\"1\" class=\"dataframe\">\n",
              "  <thead>\n",
              "    <tr style=\"text-align: right;\">\n",
              "      <th></th>\n",
              "      <th>individual_id</th>\n",
              "      <th>household_id</th>\n",
              "      <th>building_id</th>\n",
              "    </tr>\n",
              "  </thead>\n",
              "  <tbody>\n",
              "    <tr>\n",
              "      <th>0</th>\n",
              "      <td>12010200004101001</td>\n",
              "      <td>12010200004101</td>\n",
              "      <td>120102000041</td>\n",
              "    </tr>\n",
              "    <tr>\n",
              "      <th>1</th>\n",
              "      <td>12010200004101002</td>\n",
              "      <td>12010200004101</td>\n",
              "      <td>120102000041</td>\n",
              "    </tr>\n",
              "    <tr>\n",
              "      <th>2</th>\n",
              "      <td>12010200004101003</td>\n",
              "      <td>12010200004101</td>\n",
              "      <td>120102000041</td>\n",
              "    </tr>\n",
              "    <tr>\n",
              "      <th>3</th>\n",
              "      <td>12010200004101004</td>\n",
              "      <td>12010200004101</td>\n",
              "      <td>120102000041</td>\n",
              "    </tr>\n",
              "    <tr>\n",
              "      <th>4</th>\n",
              "      <td>12010200004101005</td>\n",
              "      <td>12010200004101</td>\n",
              "      <td>120102000041</td>\n",
              "    </tr>\n",
              "  </tbody>\n",
              "</table>\n",
              "</div>"
            ],
            "text/plain": [
              "       individual_id    household_id   building_id\n",
              "0  12010200004101001  12010200004101  120102000041\n",
              "1  12010200004101002  12010200004101  120102000041\n",
              "2  12010200004101003  12010200004101  120102000041\n",
              "3  12010200004101004  12010200004101  120102000041\n",
              "4  12010200004101005  12010200004101  120102000041"
            ]
          },
          "execution_count": 17,
          "metadata": {},
          "output_type": "execute_result"
        }
      ],
      "source": [
        "mapping.head()"
      ]
    },
    {
      "cell_type": "code",
      "execution_count": null,
      "metadata": {
        "id": "Jofc7om0BxGX",
        "outputId": "acb596d1-3eaf-4ca8-b252-5eac44e0531d"
      },
      "outputs": [
        {
          "data": {
            "text/plain": [
              "individual_id    0\n",
              "household_id     0\n",
              "building_id      0\n",
              "dtype: int64"
            ]
          },
          "execution_count": 35,
          "metadata": {},
          "output_type": "execute_result"
        }
      ],
      "source": [
        "mapping.isna().sum()"
      ]
    },
    {
      "cell_type": "code",
      "execution_count": null,
      "metadata": {
        "id": "OxubvpDgBxGX",
        "outputId": "a5b7c9ff-598c-462b-cbc1-89073bb2ddde"
      },
      "outputs": [
        {
          "data": {
            "text/plain": [
              "747137"
            ]
          },
          "execution_count": 10,
          "metadata": {},
          "output_type": "execute_result"
        }
      ],
      "source": [
        "mapping.household_id.nunique()"
      ]
    },
    {
      "cell_type": "code",
      "execution_count": null,
      "metadata": {
        "id": "XYU8_AOrBxGX",
        "outputId": "d6a5d114-f05e-443f-e28c-e7b5c7000b79"
      },
      "outputs": [
        {
          "data": {
            "text/plain": [
              "762106"
            ]
          },
          "execution_count": 41,
          "metadata": {},
          "output_type": "execute_result"
        }
      ],
      "source": [
        "merged.building_id.nunique()"
      ]
    },
    {
      "cell_type": "code",
      "execution_count": null,
      "metadata": {
        "id": "GYYRY7ahBxGX",
        "outputId": "12db8bdb-95c6-4fee-b225-c1b421ea06fa"
      },
      "outputs": [
        {
          "data": {
            "text/plain": [
              "(762106, 38)"
            ]
          },
          "execution_count": 36,
          "metadata": {},
          "output_type": "execute_result"
        }
      ],
      "source": [
        "merged.shape"
      ]
    },
    {
      "cell_type": "code",
      "execution_count": null,
      "metadata": {
        "id": "4eyfc1vFBxGY",
        "outputId": "fe23c889-0f10-467b-93d7-a2995a21353c"
      },
      "outputs": [
        {
          "data": {
            "text/plain": [
              "building_id                                 int64\n",
              "district_id                                 int64\n",
              "vdcmun_id                                   int64\n",
              "ward_id                                     int64\n",
              "count_floors_pre_eq                         int64\n",
              "age_building                                int64\n",
              "land_surface_condition                     object\n",
              "foundation_type                            object\n",
              "roof_type                                  object\n",
              "ground_floor_type                          object\n",
              "other_floor_type                           object\n",
              "position                                   object\n",
              "plan_configuration                         object\n",
              "has_superstructure_adobe_mud                int64\n",
              "has_superstructure_mud_mortar_stone         int64\n",
              "has_superstructure_stone_flag               int64\n",
              "has_superstructure_cement_mortar_stone      int64\n",
              "has_superstructure_mud_mortar_brick         int64\n",
              "has_superstructure_cement_mortar_brick      int64\n",
              "has_superstructure_timber                   int64\n",
              "has_superstructure_bamboo                   int64\n",
              "has_superstructure_rc_non_engineered        int64\n",
              "has_superstructure_rc_engineered            int64\n",
              "has_superstructure_other                    int64\n",
              "damage_grade                               object\n",
              "legal_ownership_status                     object\n",
              "count_families                            float64\n",
              "has_secondary_use                         float64\n",
              "has_secondary_use_agriculture               int64\n",
              "has_secondary_use_hotel                     int64\n",
              "has_secondary_use_rental                    int64\n",
              "has_secondary_use_institution               int64\n",
              "has_secondary_use_school                    int64\n",
              "has_secondary_use_industry                  int64\n",
              "has_secondary_use_health_post               int64\n",
              "has_secondary_use_gov_office                int64\n",
              "has_secondary_use_use_police                int64\n",
              "has_secondary_use_other                     int64\n",
              "dtype: object"
            ]
          },
          "execution_count": 38,
          "metadata": {},
          "output_type": "execute_result"
        }
      ],
      "source": [
        "merged.dtypes"
      ]
    },
    {
      "cell_type": "code",
      "execution_count": null,
      "metadata": {
        "id": "-bFhkTmxBxGY"
      },
      "outputs": [],
      "source": [
        "mapping_s = mapping[:100]\n",
        "merged_s = merged[:100]"
      ]
    },
    {
      "cell_type": "code",
      "execution_count": null,
      "metadata": {
        "id": "TdDrKnqSBxGY",
        "outputId": "dd858325-19e6-47d4-c437-3f88d1bc0c28"
      },
      "outputs": [
        {
          "data": {
            "text/html": [
              "<div>\n",
              "<style scoped>\n",
              "    .dataframe tbody tr th:only-of-type {\n",
              "        vertical-align: middle;\n",
              "    }\n",
              "\n",
              "    .dataframe tbody tr th {\n",
              "        vertical-align: top;\n",
              "    }\n",
              "\n",
              "    .dataframe thead th {\n",
              "        text-align: right;\n",
              "    }\n",
              "</style>\n",
              "<table border=\"1\" class=\"dataframe\">\n",
              "  <thead>\n",
              "    <tr style=\"text-align: right;\">\n",
              "      <th></th>\n",
              "      <th>individual_id</th>\n",
              "      <th>household_id</th>\n",
              "      <th>building_id</th>\n",
              "    </tr>\n",
              "  </thead>\n",
              "  <tbody>\n",
              "    <tr>\n",
              "      <th>0</th>\n",
              "      <td>12010200004101001</td>\n",
              "      <td>12010200004101</td>\n",
              "      <td>120102000041</td>\n",
              "    </tr>\n",
              "    <tr>\n",
              "      <th>1</th>\n",
              "      <td>12010200004101002</td>\n",
              "      <td>12010200004101</td>\n",
              "      <td>120102000041</td>\n",
              "    </tr>\n",
              "    <tr>\n",
              "      <th>2</th>\n",
              "      <td>12010200004101003</td>\n",
              "      <td>12010200004101</td>\n",
              "      <td>120102000041</td>\n",
              "    </tr>\n",
              "    <tr>\n",
              "      <th>3</th>\n",
              "      <td>12010200004101004</td>\n",
              "      <td>12010200004101</td>\n",
              "      <td>120102000041</td>\n",
              "    </tr>\n",
              "    <tr>\n",
              "      <th>4</th>\n",
              "      <td>12010200004101005</td>\n",
              "      <td>12010200004101</td>\n",
              "      <td>120102000041</td>\n",
              "    </tr>\n",
              "  </tbody>\n",
              "</table>\n",
              "</div>"
            ],
            "text/plain": [
              "       individual_id    household_id   building_id\n",
              "0  12010200004101001  12010200004101  120102000041\n",
              "1  12010200004101002  12010200004101  120102000041\n",
              "2  12010200004101003  12010200004101  120102000041\n",
              "3  12010200004101004  12010200004101  120102000041\n",
              "4  12010200004101005  12010200004101  120102000041"
            ]
          },
          "execution_count": 42,
          "metadata": {},
          "output_type": "execute_result"
        }
      ],
      "source": [
        "mapping_s.head()"
      ]
    },
    {
      "cell_type": "code",
      "execution_count": null,
      "metadata": {
        "id": "XnqKiSJGBxGY",
        "outputId": "1fc524e7-b07b-480e-d347-188d953bfde7"
      },
      "outputs": [
        {
          "data": {
            "text/html": [
              "<div>\n",
              "<style scoped>\n",
              "    .dataframe tbody tr th:only-of-type {\n",
              "        vertical-align: middle;\n",
              "    }\n",
              "\n",
              "    .dataframe tbody tr th {\n",
              "        vertical-align: top;\n",
              "    }\n",
              "\n",
              "    .dataframe thead th {\n",
              "        text-align: right;\n",
              "    }\n",
              "</style>\n",
              "<table border=\"1\" class=\"dataframe\">\n",
              "  <thead>\n",
              "    <tr style=\"text-align: right;\">\n",
              "      <th></th>\n",
              "      <th>building_id</th>\n",
              "      <th>district_id</th>\n",
              "      <th>vdcmun_id</th>\n",
              "      <th>ward_id</th>\n",
              "      <th>count_floors_pre_eq</th>\n",
              "      <th>age_building</th>\n",
              "      <th>land_surface_condition</th>\n",
              "      <th>foundation_type</th>\n",
              "      <th>roof_type</th>\n",
              "      <th>ground_floor_type</th>\n",
              "      <th>other_floor_type</th>\n",
              "      <th>position</th>\n",
              "      <th>plan_configuration</th>\n",
              "      <th>has_superstructure_adobe_mud</th>\n",
              "      <th>has_superstructure_mud_mortar_stone</th>\n",
              "      <th>has_superstructure_stone_flag</th>\n",
              "      <th>has_superstructure_cement_mortar_stone</th>\n",
              "      <th>has_superstructure_mud_mortar_brick</th>\n",
              "      <th>has_superstructure_cement_mortar_brick</th>\n",
              "      <th>has_superstructure_timber</th>\n",
              "      <th>has_superstructure_bamboo</th>\n",
              "      <th>has_superstructure_rc_non_engineered</th>\n",
              "      <th>has_superstructure_rc_engineered</th>\n",
              "      <th>has_superstructure_other</th>\n",
              "      <th>damage_grade</th>\n",
              "      <th>legal_ownership_status</th>\n",
              "      <th>count_families</th>\n",
              "      <th>has_secondary_use</th>\n",
              "      <th>has_secondary_use_agriculture</th>\n",
              "      <th>has_secondary_use_hotel</th>\n",
              "      <th>has_secondary_use_rental</th>\n",
              "      <th>has_secondary_use_institution</th>\n",
              "      <th>has_secondary_use_school</th>\n",
              "      <th>has_secondary_use_industry</th>\n",
              "      <th>has_secondary_use_health_post</th>\n",
              "      <th>has_secondary_use_gov_office</th>\n",
              "      <th>has_secondary_use_use_police</th>\n",
              "      <th>has_secondary_use_other</th>\n",
              "    </tr>\n",
              "  </thead>\n",
              "  <tbody>\n",
              "    <tr>\n",
              "      <th>0</th>\n",
              "      <td>120101000011</td>\n",
              "      <td>12</td>\n",
              "      <td>1207</td>\n",
              "      <td>120703</td>\n",
              "      <td>1</td>\n",
              "      <td>9</td>\n",
              "      <td>Flat</td>\n",
              "      <td>Other</td>\n",
              "      <td>Bamboo/Timber-Light roof</td>\n",
              "      <td>Mud</td>\n",
              "      <td>Not applicable</td>\n",
              "      <td>Not attached</td>\n",
              "      <td>Rectangular</td>\n",
              "      <td>0</td>\n",
              "      <td>1</td>\n",
              "      <td>0</td>\n",
              "      <td>0</td>\n",
              "      <td>0</td>\n",
              "      <td>0</td>\n",
              "      <td>0</td>\n",
              "      <td>1</td>\n",
              "      <td>0</td>\n",
              "      <td>0</td>\n",
              "      <td>0</td>\n",
              "      <td>Grade 3</td>\n",
              "      <td>Private</td>\n",
              "      <td>1.0</td>\n",
              "      <td>0.0</td>\n",
              "      <td>0</td>\n",
              "      <td>0</td>\n",
              "      <td>0</td>\n",
              "      <td>0</td>\n",
              "      <td>0</td>\n",
              "      <td>0</td>\n",
              "      <td>0</td>\n",
              "      <td>0</td>\n",
              "      <td>0</td>\n",
              "      <td>0</td>\n",
              "    </tr>\n",
              "    <tr>\n",
              "      <th>1</th>\n",
              "      <td>120101000021</td>\n",
              "      <td>12</td>\n",
              "      <td>1207</td>\n",
              "      <td>120703</td>\n",
              "      <td>1</td>\n",
              "      <td>15</td>\n",
              "      <td>Flat</td>\n",
              "      <td>Other</td>\n",
              "      <td>Bamboo/Timber-Light roof</td>\n",
              "      <td>Mud</td>\n",
              "      <td>Not applicable</td>\n",
              "      <td>Not attached</td>\n",
              "      <td>Rectangular</td>\n",
              "      <td>0</td>\n",
              "      <td>1</td>\n",
              "      <td>0</td>\n",
              "      <td>0</td>\n",
              "      <td>0</td>\n",
              "      <td>0</td>\n",
              "      <td>0</td>\n",
              "      <td>1</td>\n",
              "      <td>0</td>\n",
              "      <td>0</td>\n",
              "      <td>0</td>\n",
              "      <td>Grade 5</td>\n",
              "      <td>Private</td>\n",
              "      <td>1.0</td>\n",
              "      <td>0.0</td>\n",
              "      <td>0</td>\n",
              "      <td>0</td>\n",
              "      <td>0</td>\n",
              "      <td>0</td>\n",
              "      <td>0</td>\n",
              "      <td>0</td>\n",
              "      <td>0</td>\n",
              "      <td>0</td>\n",
              "      <td>0</td>\n",
              "      <td>0</td>\n",
              "    </tr>\n",
              "    <tr>\n",
              "      <th>2</th>\n",
              "      <td>120101000031</td>\n",
              "      <td>12</td>\n",
              "      <td>1207</td>\n",
              "      <td>120703</td>\n",
              "      <td>1</td>\n",
              "      <td>20</td>\n",
              "      <td>Flat</td>\n",
              "      <td>Other</td>\n",
              "      <td>Bamboo/Timber-Light roof</td>\n",
              "      <td>Mud</td>\n",
              "      <td>Not applicable</td>\n",
              "      <td>Not attached</td>\n",
              "      <td>Rectangular</td>\n",
              "      <td>0</td>\n",
              "      <td>1</td>\n",
              "      <td>0</td>\n",
              "      <td>0</td>\n",
              "      <td>0</td>\n",
              "      <td>0</td>\n",
              "      <td>0</td>\n",
              "      <td>0</td>\n",
              "      <td>0</td>\n",
              "      <td>0</td>\n",
              "      <td>0</td>\n",
              "      <td>Grade 2</td>\n",
              "      <td>Private</td>\n",
              "      <td>1.0</td>\n",
              "      <td>0.0</td>\n",
              "      <td>0</td>\n",
              "      <td>0</td>\n",
              "      <td>0</td>\n",
              "      <td>0</td>\n",
              "      <td>0</td>\n",
              "      <td>0</td>\n",
              "      <td>0</td>\n",
              "      <td>0</td>\n",
              "      <td>0</td>\n",
              "      <td>0</td>\n",
              "    </tr>\n",
              "    <tr>\n",
              "      <th>3</th>\n",
              "      <td>120101000041</td>\n",
              "      <td>12</td>\n",
              "      <td>1207</td>\n",
              "      <td>120703</td>\n",
              "      <td>1</td>\n",
              "      <td>20</td>\n",
              "      <td>Flat</td>\n",
              "      <td>Other</td>\n",
              "      <td>Bamboo/Timber-Light roof</td>\n",
              "      <td>Mud</td>\n",
              "      <td>Not applicable</td>\n",
              "      <td>Not attached</td>\n",
              "      <td>Rectangular</td>\n",
              "      <td>0</td>\n",
              "      <td>1</td>\n",
              "      <td>0</td>\n",
              "      <td>0</td>\n",
              "      <td>0</td>\n",
              "      <td>0</td>\n",
              "      <td>0</td>\n",
              "      <td>0</td>\n",
              "      <td>0</td>\n",
              "      <td>0</td>\n",
              "      <td>0</td>\n",
              "      <td>Grade 2</td>\n",
              "      <td>Private</td>\n",
              "      <td>1.0</td>\n",
              "      <td>0.0</td>\n",
              "      <td>0</td>\n",
              "      <td>0</td>\n",
              "      <td>0</td>\n",
              "      <td>0</td>\n",
              "      <td>0</td>\n",
              "      <td>0</td>\n",
              "      <td>0</td>\n",
              "      <td>0</td>\n",
              "      <td>0</td>\n",
              "      <td>0</td>\n",
              "    </tr>\n",
              "    <tr>\n",
              "      <th>4</th>\n",
              "      <td>120101000051</td>\n",
              "      <td>12</td>\n",
              "      <td>1207</td>\n",
              "      <td>120703</td>\n",
              "      <td>1</td>\n",
              "      <td>30</td>\n",
              "      <td>Flat</td>\n",
              "      <td>Other</td>\n",
              "      <td>Bamboo/Timber-Light roof</td>\n",
              "      <td>Mud</td>\n",
              "      <td>Not applicable</td>\n",
              "      <td>Not attached</td>\n",
              "      <td>Rectangular</td>\n",
              "      <td>0</td>\n",
              "      <td>1</td>\n",
              "      <td>0</td>\n",
              "      <td>0</td>\n",
              "      <td>0</td>\n",
              "      <td>0</td>\n",
              "      <td>0</td>\n",
              "      <td>0</td>\n",
              "      <td>0</td>\n",
              "      <td>0</td>\n",
              "      <td>0</td>\n",
              "      <td>Grade 1</td>\n",
              "      <td>Private</td>\n",
              "      <td>1.0</td>\n",
              "      <td>0.0</td>\n",
              "      <td>0</td>\n",
              "      <td>0</td>\n",
              "      <td>0</td>\n",
              "      <td>0</td>\n",
              "      <td>0</td>\n",
              "      <td>0</td>\n",
              "      <td>0</td>\n",
              "      <td>0</td>\n",
              "      <td>0</td>\n",
              "      <td>0</td>\n",
              "    </tr>\n",
              "  </tbody>\n",
              "</table>\n",
              "</div>"
            ],
            "text/plain": [
              "    building_id  district_id  vdcmun_id  ward_id  count_floors_pre_eq  \\\n",
              "0  120101000011           12       1207   120703                    1   \n",
              "1  120101000021           12       1207   120703                    1   \n",
              "2  120101000031           12       1207   120703                    1   \n",
              "3  120101000041           12       1207   120703                    1   \n",
              "4  120101000051           12       1207   120703                    1   \n",
              "\n",
              "   age_building land_surface_condition foundation_type  \\\n",
              "0             9                   Flat           Other   \n",
              "1            15                   Flat           Other   \n",
              "2            20                   Flat           Other   \n",
              "3            20                   Flat           Other   \n",
              "4            30                   Flat           Other   \n",
              "\n",
              "                  roof_type ground_floor_type other_floor_type      position  \\\n",
              "0  Bamboo/Timber-Light roof               Mud   Not applicable  Not attached   \n",
              "1  Bamboo/Timber-Light roof               Mud   Not applicable  Not attached   \n",
              "2  Bamboo/Timber-Light roof               Mud   Not applicable  Not attached   \n",
              "3  Bamboo/Timber-Light roof               Mud   Not applicable  Not attached   \n",
              "4  Bamboo/Timber-Light roof               Mud   Not applicable  Not attached   \n",
              "\n",
              "  plan_configuration  has_superstructure_adobe_mud  \\\n",
              "0        Rectangular                             0   \n",
              "1        Rectangular                             0   \n",
              "2        Rectangular                             0   \n",
              "3        Rectangular                             0   \n",
              "4        Rectangular                             0   \n",
              "\n",
              "   has_superstructure_mud_mortar_stone  has_superstructure_stone_flag  \\\n",
              "0                                    1                              0   \n",
              "1                                    1                              0   \n",
              "2                                    1                              0   \n",
              "3                                    1                              0   \n",
              "4                                    1                              0   \n",
              "\n",
              "   has_superstructure_cement_mortar_stone  \\\n",
              "0                                       0   \n",
              "1                                       0   \n",
              "2                                       0   \n",
              "3                                       0   \n",
              "4                                       0   \n",
              "\n",
              "   has_superstructure_mud_mortar_brick  \\\n",
              "0                                    0   \n",
              "1                                    0   \n",
              "2                                    0   \n",
              "3                                    0   \n",
              "4                                    0   \n",
              "\n",
              "   has_superstructure_cement_mortar_brick  has_superstructure_timber  \\\n",
              "0                                       0                          0   \n",
              "1                                       0                          0   \n",
              "2                                       0                          0   \n",
              "3                                       0                          0   \n",
              "4                                       0                          0   \n",
              "\n",
              "   has_superstructure_bamboo  has_superstructure_rc_non_engineered  \\\n",
              "0                          1                                     0   \n",
              "1                          1                                     0   \n",
              "2                          0                                     0   \n",
              "3                          0                                     0   \n",
              "4                          0                                     0   \n",
              "\n",
              "   has_superstructure_rc_engineered  has_superstructure_other damage_grade  \\\n",
              "0                                 0                         0      Grade 3   \n",
              "1                                 0                         0      Grade 5   \n",
              "2                                 0                         0      Grade 2   \n",
              "3                                 0                         0      Grade 2   \n",
              "4                                 0                         0      Grade 1   \n",
              "\n",
              "  legal_ownership_status  count_families  has_secondary_use  \\\n",
              "0                Private             1.0                0.0   \n",
              "1                Private             1.0                0.0   \n",
              "2                Private             1.0                0.0   \n",
              "3                Private             1.0                0.0   \n",
              "4                Private             1.0                0.0   \n",
              "\n",
              "   has_secondary_use_agriculture  has_secondary_use_hotel  \\\n",
              "0                              0                        0   \n",
              "1                              0                        0   \n",
              "2                              0                        0   \n",
              "3                              0                        0   \n",
              "4                              0                        0   \n",
              "\n",
              "   has_secondary_use_rental  has_secondary_use_institution  \\\n",
              "0                         0                              0   \n",
              "1                         0                              0   \n",
              "2                         0                              0   \n",
              "3                         0                              0   \n",
              "4                         0                              0   \n",
              "\n",
              "   has_secondary_use_school  has_secondary_use_industry  \\\n",
              "0                         0                           0   \n",
              "1                         0                           0   \n",
              "2                         0                           0   \n",
              "3                         0                           0   \n",
              "4                         0                           0   \n",
              "\n",
              "   has_secondary_use_health_post  has_secondary_use_gov_office  \\\n",
              "0                              0                             0   \n",
              "1                              0                             0   \n",
              "2                              0                             0   \n",
              "3                              0                             0   \n",
              "4                              0                             0   \n",
              "\n",
              "   has_secondary_use_use_police  has_secondary_use_other  \n",
              "0                             0                        0  \n",
              "1                             0                        0  \n",
              "2                             0                        0  \n",
              "3                             0                        0  \n",
              "4                             0                        0  "
            ]
          },
          "execution_count": 43,
          "metadata": {},
          "output_type": "execute_result"
        }
      ],
      "source": [
        "merged_s.head()"
      ]
    },
    {
      "cell_type": "code",
      "execution_count": null,
      "metadata": {
        "id": "Le3fiQWrBxGb"
      },
      "outputs": [],
      "source": [
        "# merged_with_ids = pd.merge(merged, mapping, on='building_id', how='left')\n",
        "# merged_with_ids"
      ]
    },
    {
      "cell_type": "markdown",
      "metadata": {
        "id": "THQy5ArkBxGb"
      },
      "source": [
        "# Test PreProcessor"
      ]
    },
    {
      "cell_type": "code",
      "execution_count": null,
      "metadata": {
        "id": "71lDbvKuBxGb"
      },
      "outputs": [],
      "source": [
        "merged = pd.read_csv('/Users/chantalwuerschinger/code/chantalwuer/earthquake_damage/processed_data/merge_structure_owner.csv')"
      ]
    },
    {
      "cell_type": "code",
      "execution_count": null,
      "metadata": {
        "id": "6P52CxNzBxGb"
      },
      "outputs": [],
      "source": []
    },
    {
      "cell_type": "code",
      "execution_count": null,
      "metadata": {
        "id": "ttit1gKfBxGb",
        "outputId": "fb73ba6c-1561-443d-fb74-ae349a27c9aa"
      },
      "outputs": [
        {
          "name": "stdout",
          "output_type": "stream",
          "text": [
            "\n",
            "Imputation...\n",
            "\n",
            "✅ X_imputed, with shape (762106, 38)\n",
            "✅ df_imputed saved to /Users/chantalwuerschinger/code/chantalwuer/earthquake_damage/processed_data/df_imputed.csv\n",
            "\n",
            "Preprocess features...\n",
            "\n",
            "✅ X_processed, with shape (762106, 66)\n",
            "✅ X_processed saved to /Users/chantalwuerschinger/code/chantalwuer/earthquake_damage/processed_data/X_processed.csv\n",
            "\n",
            "Preprocess target...\n",
            "\n",
            "✅ y processed, with shape (762106,)\n",
            "✅ y_processed saved to /Users/chantalwuerschinger/code/chantalwuer/earthquake_damage/processed_data/y_processed.csv\n"
          ]
        }
      ],
      "source": [
        "from earthquake_damage.ml_logic.preprocessor import preprocess_features, preprocess_targets,cus_imputation\n",
        "\n",
        "# cus_imputation(merged)\n",
        "cus_imputation(filename='merge_structure_owner')\n",
        "\n",
        "preprocess_features()\n",
        "preprocess_targets()"
      ]
    },
    {
      "cell_type": "code",
      "execution_count": null,
      "metadata": {
        "id": "sTqwv3wbBxGc"
      },
      "outputs": [],
      "source": [
        "from earthquake_damage.data.main import train_test_val\n",
        "\n",
        "X_train, X_test, X_val, y_train, y_test, y_val = train_test_val()\n"
      ]
    },
    {
      "cell_type": "markdown",
      "metadata": {
        "id": "VifrAHYtBxGc"
      },
      "source": [
        "## Check out contents of dataframes"
      ]
    },
    {
      "cell_type": "code",
      "execution_count": null,
      "metadata": {
        "id": "6O0kgmkDBxGc"
      },
      "outputs": [],
      "source": [
        "train_data_columns = ['building_id', 'geo_level_1_id', 'geo_level_2_id', 'geo_level_3_id',\n",
        "       'count_floors_pre_eq', 'age', 'area_percentage', 'height_percentage',\n",
        "       'land_surface_condition', 'foundation_type', 'roof_type',\n",
        "       'ground_floor_type', 'other_floor_type', 'position',\n",
        "       'plan_configuration', 'has_superstructure_adobe_mud',\n",
        "       'has_superstructure_mud_mortar_stone', 'has_superstructure_stone_flag',\n",
        "       'has_superstructure_cement_mortar_stone',\n",
        "       'has_superstructure_mud_mortar_brick',\n",
        "       'has_superstructure_cement_mortar_brick', 'has_superstructure_timber',\n",
        "       'has_superstructure_bamboo', 'has_superstructure_rc_non_engineered',\n",
        "       'has_superstructure_rc_engineered', 'has_superstructure_other',\n",
        "       'legal_ownership_status', 'count_families', 'has_secondary_use',\n",
        "       'has_secondary_use_agriculture', 'has_secondary_use_hotel',\n",
        "       'has_secondary_use_rental', 'has_secondary_use_institution',\n",
        "       'has_secondary_use_school', 'has_secondary_use_industry',\n",
        "       'has_secondary_use_health_post', 'has_secondary_use_gov_office',\n",
        "       'has_secondary_use_use_police', 'has_secondary_use_other']"
      ]
    },
    {
      "cell_type": "code",
      "execution_count": null,
      "metadata": {
        "id": "mxN6Z65YBxGc"
      },
      "outputs": [],
      "source": [
        "household_columns = ['household_id',\n",
        "                    'gender_household_head', 'age_household_head', 'caste_household',\n",
        "                    'education_level_household_head', 'income_level_household',\n",
        "                    'size_household']\n",
        "\n",
        "columns_to_drop = ['district_id', 'vdcmun_id', 'ward_id', 'is_bank_account_present_in_household']"
      ]
    },
    {
      "cell_type": "code",
      "execution_count": null,
      "metadata": {
        "id": "SriGyO2gBxGd",
        "outputId": "4ba67fae-d77b-4d66-a86e-9e8ee1bdc72d"
      },
      "outputs": [
        {
          "data": {
            "text/html": [
              "<div>\n",
              "<style scoped>\n",
              "    .dataframe tbody tr th:only-of-type {\n",
              "        vertical-align: middle;\n",
              "    }\n",
              "\n",
              "    .dataframe tbody tr th {\n",
              "        vertical-align: top;\n",
              "    }\n",
              "\n",
              "    .dataframe thead th {\n",
              "        text-align: right;\n",
              "    }\n",
              "</style>\n",
              "<table border=\"1\" class=\"dataframe\">\n",
              "  <thead>\n",
              "    <tr style=\"text-align: right;\">\n",
              "      <th></th>\n",
              "      <th>household_id</th>\n",
              "      <th>district_id</th>\n",
              "      <th>vdcmun_id</th>\n",
              "      <th>ward_id</th>\n",
              "      <th>gender_household_head</th>\n",
              "      <th>age_household_head</th>\n",
              "      <th>caste_household</th>\n",
              "      <th>education_level_household_head</th>\n",
              "      <th>income_level_household</th>\n",
              "      <th>size_household</th>\n",
              "      <th>is_bank_account_present_in_household</th>\n",
              "    </tr>\n",
              "  </thead>\n",
              "  <tbody>\n",
              "    <tr>\n",
              "      <th>0</th>\n",
              "      <td>12010100001101</td>\n",
              "      <td>12</td>\n",
              "      <td>1207</td>\n",
              "      <td>120703</td>\n",
              "      <td>Male</td>\n",
              "      <td>31.0</td>\n",
              "      <td>Rai</td>\n",
              "      <td>Illiterate</td>\n",
              "      <td>Rs. 10 thousand</td>\n",
              "      <td>3.0</td>\n",
              "      <td>0.0</td>\n",
              "    </tr>\n",
              "    <tr>\n",
              "      <th>1</th>\n",
              "      <td>12010100002101</td>\n",
              "      <td>12</td>\n",
              "      <td>1207</td>\n",
              "      <td>120703</td>\n",
              "      <td>Female</td>\n",
              "      <td>62.0</td>\n",
              "      <td>Rai</td>\n",
              "      <td>Illiterate</td>\n",
              "      <td>Rs. 10 thousand</td>\n",
              "      <td>6.0</td>\n",
              "      <td>0.0</td>\n",
              "    </tr>\n",
              "    <tr>\n",
              "      <th>2</th>\n",
              "      <td>12010100003101</td>\n",
              "      <td>12</td>\n",
              "      <td>1207</td>\n",
              "      <td>120703</td>\n",
              "      <td>Male</td>\n",
              "      <td>51.0</td>\n",
              "      <td>Gharti/Bhujel</td>\n",
              "      <td>Illiterate</td>\n",
              "      <td>Rs. 10 thousand</td>\n",
              "      <td>13.0</td>\n",
              "      <td>0.0</td>\n",
              "    </tr>\n",
              "    <tr>\n",
              "      <th>3</th>\n",
              "      <td>12010100004101</td>\n",
              "      <td>12</td>\n",
              "      <td>1207</td>\n",
              "      <td>120703</td>\n",
              "      <td>Male</td>\n",
              "      <td>48.0</td>\n",
              "      <td>Gharti/Bhujel</td>\n",
              "      <td>Illiterate</td>\n",
              "      <td>Rs. 10 thousand</td>\n",
              "      <td>5.0</td>\n",
              "      <td>0.0</td>\n",
              "    </tr>\n",
              "    <tr>\n",
              "      <th>4</th>\n",
              "      <td>12010100005101</td>\n",
              "      <td>12</td>\n",
              "      <td>1207</td>\n",
              "      <td>120703</td>\n",
              "      <td>Male</td>\n",
              "      <td>70.0</td>\n",
              "      <td>Gharti/Bhujel</td>\n",
              "      <td>Illiterate</td>\n",
              "      <td>Rs. 10 thousand</td>\n",
              "      <td>8.0</td>\n",
              "      <td>0.0</td>\n",
              "    </tr>\n",
              "  </tbody>\n",
              "</table>\n",
              "</div>"
            ],
            "text/plain": [
              "     household_id  district_id  vdcmun_id  ward_id gender_household_head  \\\n",
              "0  12010100001101           12       1207   120703                  Male   \n",
              "1  12010100002101           12       1207   120703                Female   \n",
              "2  12010100003101           12       1207   120703                  Male   \n",
              "3  12010100004101           12       1207   120703                  Male   \n",
              "4  12010100005101           12       1207   120703                  Male   \n",
              "\n",
              "   age_household_head caste_household education_level_household_head  \\\n",
              "0                31.0             Rai                     Illiterate   \n",
              "1                62.0             Rai                     Illiterate   \n",
              "2                51.0   Gharti/Bhujel                     Illiterate   \n",
              "3                48.0   Gharti/Bhujel                     Illiterate   \n",
              "4                70.0   Gharti/Bhujel                     Illiterate   \n",
              "\n",
              "  income_level_household  size_household  is_bank_account_present_in_household  \n",
              "0        Rs. 10 thousand             3.0                                   0.0  \n",
              "1        Rs. 10 thousand             6.0                                   0.0  \n",
              "2        Rs. 10 thousand            13.0                                   0.0  \n",
              "3        Rs. 10 thousand             5.0                                   0.0  \n",
              "4        Rs. 10 thousand             8.0                                   0.0  "
            ]
          },
          "execution_count": 13,
          "metadata": {},
          "output_type": "execute_result"
        }
      ],
      "source": [
        "household_dem_s = household_dem.drop(columns_to_drop, axis=1)\n",
        "household_dem.head()"
      ]
    },
    {
      "cell_type": "code",
      "execution_count": null,
      "metadata": {
        "id": "liDNqILuBxGd"
      },
      "outputs": [],
      "source": [
        "h_demographics = pd.read_csv('/Users/chantalwuerschinger/code/chantalwuer/earthquake_damage/processed_data/h_demographics.csv')"
      ]
    },
    {
      "cell_type": "code",
      "execution_count": null,
      "metadata": {
        "id": "b3qjTOgFBxGd",
        "outputId": "c8a17108-1adc-47d1-f325-9e7b066edf55"
      },
      "outputs": [
        {
          "data": {
            "text/plain": [
              "(747365, 6)"
            ]
          },
          "execution_count": 8,
          "metadata": {},
          "output_type": "execute_result"
        }
      ],
      "source": [
        "h_demographics.shape"
      ]
    },
    {
      "cell_type": "markdown",
      "metadata": {
        "id": "foY2OWPJBxGd"
      },
      "source": [
        "# Grouping Individual Info per Building"
      ]
    },
    {
      "cell_type": "code",
      "execution_count": null,
      "metadata": {
        "id": "VgrsPYjcBxGe"
      },
      "outputs": [],
      "source": [
        "i_demographics = pd.read_csv('/Users/chantalwuerschinger/code/chantalwuer/earthquake_damage/raw_data/individual/csv_individual_demographics.csv')"
      ]
    },
    {
      "cell_type": "markdown",
      "metadata": {
        "id": "k0-2RUf0BxGe"
      },
      "source": [
        "### Merge building id onto i_demographics"
      ]
    },
    {
      "cell_type": "code",
      "execution_count": 5,
      "metadata": {
        "id": "0swumZVcBxGe",
        "outputId": "ec8ea897-d3d0-4134-f83f-3549e3f0222f",
        "colab": {
          "base_uri": "https://localhost:8080/",
          "height": 206
        }
      },
      "outputs": [
        {
          "output_type": "execute_result",
          "data": {
            "text/plain": [
              "       individual_id    household_id   building_id\n",
              "0  12010200004101001  12010200004101  120102000041\n",
              "1  12010200004101002  12010200004101  120102000041\n",
              "2  12010200004101003  12010200004101  120102000041\n",
              "3  12010200004101004  12010200004101  120102000041\n",
              "4  12010200004101005  12010200004101  120102000041"
            ],
            "text/html": [
              "\n",
              "  <div id=\"df-ea4e5ab7-e93b-4abe-9107-fec580ed88b8\">\n",
              "    <div class=\"colab-df-container\">\n",
              "      <div>\n",
              "<style scoped>\n",
              "    .dataframe tbody tr th:only-of-type {\n",
              "        vertical-align: middle;\n",
              "    }\n",
              "\n",
              "    .dataframe tbody tr th {\n",
              "        vertical-align: top;\n",
              "    }\n",
              "\n",
              "    .dataframe thead th {\n",
              "        text-align: right;\n",
              "    }\n",
              "</style>\n",
              "<table border=\"1\" class=\"dataframe\">\n",
              "  <thead>\n",
              "    <tr style=\"text-align: right;\">\n",
              "      <th></th>\n",
              "      <th>individual_id</th>\n",
              "      <th>household_id</th>\n",
              "      <th>building_id</th>\n",
              "    </tr>\n",
              "  </thead>\n",
              "  <tbody>\n",
              "    <tr>\n",
              "      <th>0</th>\n",
              "      <td>12010200004101001</td>\n",
              "      <td>12010200004101</td>\n",
              "      <td>120102000041</td>\n",
              "    </tr>\n",
              "    <tr>\n",
              "      <th>1</th>\n",
              "      <td>12010200004101002</td>\n",
              "      <td>12010200004101</td>\n",
              "      <td>120102000041</td>\n",
              "    </tr>\n",
              "    <tr>\n",
              "      <th>2</th>\n",
              "      <td>12010200004101003</td>\n",
              "      <td>12010200004101</td>\n",
              "      <td>120102000041</td>\n",
              "    </tr>\n",
              "    <tr>\n",
              "      <th>3</th>\n",
              "      <td>12010200004101004</td>\n",
              "      <td>12010200004101</td>\n",
              "      <td>120102000041</td>\n",
              "    </tr>\n",
              "    <tr>\n",
              "      <th>4</th>\n",
              "      <td>12010200004101005</td>\n",
              "      <td>12010200004101</td>\n",
              "      <td>120102000041</td>\n",
              "    </tr>\n",
              "  </tbody>\n",
              "</table>\n",
              "</div>\n",
              "      <button class=\"colab-df-convert\" onclick=\"convertToInteractive('df-ea4e5ab7-e93b-4abe-9107-fec580ed88b8')\"\n",
              "              title=\"Convert this dataframe to an interactive table.\"\n",
              "              style=\"display:none;\">\n",
              "        \n",
              "  <svg xmlns=\"http://www.w3.org/2000/svg\" height=\"24px\"viewBox=\"0 0 24 24\"\n",
              "       width=\"24px\">\n",
              "    <path d=\"M0 0h24v24H0V0z\" fill=\"none\"/>\n",
              "    <path d=\"M18.56 5.44l.94 2.06.94-2.06 2.06-.94-2.06-.94-.94-2.06-.94 2.06-2.06.94zm-11 1L8.5 8.5l.94-2.06 2.06-.94-2.06-.94L8.5 2.5l-.94 2.06-2.06.94zm10 10l.94 2.06.94-2.06 2.06-.94-2.06-.94-.94-2.06-.94 2.06-2.06.94z\"/><path d=\"M17.41 7.96l-1.37-1.37c-.4-.4-.92-.59-1.43-.59-.52 0-1.04.2-1.43.59L10.3 9.45l-7.72 7.72c-.78.78-.78 2.05 0 2.83L4 21.41c.39.39.9.59 1.41.59.51 0 1.02-.2 1.41-.59l7.78-7.78 2.81-2.81c.8-.78.8-2.07 0-2.86zM5.41 20L4 18.59l7.72-7.72 1.47 1.35L5.41 20z\"/>\n",
              "  </svg>\n",
              "      </button>\n",
              "      \n",
              "  <style>\n",
              "    .colab-df-container {\n",
              "      display:flex;\n",
              "      flex-wrap:wrap;\n",
              "      gap: 12px;\n",
              "    }\n",
              "\n",
              "    .colab-df-convert {\n",
              "      background-color: #E8F0FE;\n",
              "      border: none;\n",
              "      border-radius: 50%;\n",
              "      cursor: pointer;\n",
              "      display: none;\n",
              "      fill: #1967D2;\n",
              "      height: 32px;\n",
              "      padding: 0 0 0 0;\n",
              "      width: 32px;\n",
              "    }\n",
              "\n",
              "    .colab-df-convert:hover {\n",
              "      background-color: #E2EBFA;\n",
              "      box-shadow: 0px 1px 2px rgba(60, 64, 67, 0.3), 0px 1px 3px 1px rgba(60, 64, 67, 0.15);\n",
              "      fill: #174EA6;\n",
              "    }\n",
              "\n",
              "    [theme=dark] .colab-df-convert {\n",
              "      background-color: #3B4455;\n",
              "      fill: #D2E3FC;\n",
              "    }\n",
              "\n",
              "    [theme=dark] .colab-df-convert:hover {\n",
              "      background-color: #434B5C;\n",
              "      box-shadow: 0px 1px 3px 1px rgba(0, 0, 0, 0.15);\n",
              "      filter: drop-shadow(0px 1px 2px rgba(0, 0, 0, 0.3));\n",
              "      fill: #FFFFFF;\n",
              "    }\n",
              "  </style>\n",
              "\n",
              "      <script>\n",
              "        const buttonEl =\n",
              "          document.querySelector('#df-ea4e5ab7-e93b-4abe-9107-fec580ed88b8 button.colab-df-convert');\n",
              "        buttonEl.style.display =\n",
              "          google.colab.kernel.accessAllowed ? 'block' : 'none';\n",
              "\n",
              "        async function convertToInteractive(key) {\n",
              "          const element = document.querySelector('#df-ea4e5ab7-e93b-4abe-9107-fec580ed88b8');\n",
              "          const dataTable =\n",
              "            await google.colab.kernel.invokeFunction('convertToInteractive',\n",
              "                                                     [key], {});\n",
              "          if (!dataTable) return;\n",
              "\n",
              "          const docLinkHtml = 'Like what you see? Visit the ' +\n",
              "            '<a target=\"_blank\" href=https://colab.research.google.com/notebooks/data_table.ipynb>data table notebook</a>'\n",
              "            + ' to learn more about interactive tables.';\n",
              "          element.innerHTML = '';\n",
              "          dataTable['output_type'] = 'display_data';\n",
              "          await google.colab.output.renderOutput(dataTable, element);\n",
              "          const docLink = document.createElement('div');\n",
              "          docLink.innerHTML = docLinkHtml;\n",
              "          element.appendChild(docLink);\n",
              "        }\n",
              "      </script>\n",
              "    </div>\n",
              "  </div>\n",
              "  "
            ]
          },
          "metadata": {},
          "execution_count": 5
        }
      ],
      "source": [
        "mapping.head()"
      ]
    },
    {
      "cell_type": "code",
      "execution_count": 6,
      "metadata": {
        "id": "206AZ6QCBxGe"
      },
      "outputs": [],
      "source": [
        "i_demographics_ids = i_demographics.merge(mapping, on='individual_id', how='left')"
      ]
    },
    {
      "cell_type": "code",
      "execution_count": 7,
      "metadata": {
        "id": "-AP5TYEyBxGe",
        "outputId": "b42620dc-5553-44d1-a459-2aed3fa2b911",
        "colab": {
          "base_uri": "https://localhost:8080/",
          "height": 270
        }
      },
      "outputs": [
        {
          "output_type": "execute_result",
          "data": {
            "text/plain": [
              "       individual_id  district_id  vdcmun_id  ward_id gender_individual  \\\n",
              "0  12010100001101001           12       1207   120703              Male   \n",
              "1  12010100001101002           12       1207   120703            Female   \n",
              "2  12010100001101003           12       1207   120703              Male   \n",
              "3  12010100002101001           12       1207   120703            Female   \n",
              "4  12010100002101002           12       1207   120703              Male   \n",
              "\n",
              "   age_individual presence_in_household disability_individual  \\\n",
              "0              31        Mostly Present                    No   \n",
              "1              58        Mostly Present                    No   \n",
              "2              15        Mostly Present                    No   \n",
              "3              62        Mostly Present                    No   \n",
              "4              23    Not present-Abroad                    No   \n",
              "\n",
              "   has_registered_birth education_level_individual marital_status_individual  \\\n",
              "0                   NaN                 Illiterate                   Married   \n",
              "1                   NaN                 Illiterate                   Married   \n",
              "2                   NaN                    Class 7               Not Married   \n",
              "3                   NaN                 Illiterate             Widow/Widower   \n",
              "4                   NaN                    Class 6                   Married   \n",
              "\n",
              "     household_id   building_id  \n",
              "0  12010100001101  120101000011  \n",
              "1  12010100001101  120101000011  \n",
              "2  12010100001101  120101000011  \n",
              "3  12010100002101  120101000021  \n",
              "4  12010100002101  120101000021  "
            ],
            "text/html": [
              "\n",
              "  <div id=\"df-0e36ac38-4f9f-453e-9cff-b34b73a63a0d\">\n",
              "    <div class=\"colab-df-container\">\n",
              "      <div>\n",
              "<style scoped>\n",
              "    .dataframe tbody tr th:only-of-type {\n",
              "        vertical-align: middle;\n",
              "    }\n",
              "\n",
              "    .dataframe tbody tr th {\n",
              "        vertical-align: top;\n",
              "    }\n",
              "\n",
              "    .dataframe thead th {\n",
              "        text-align: right;\n",
              "    }\n",
              "</style>\n",
              "<table border=\"1\" class=\"dataframe\">\n",
              "  <thead>\n",
              "    <tr style=\"text-align: right;\">\n",
              "      <th></th>\n",
              "      <th>individual_id</th>\n",
              "      <th>district_id</th>\n",
              "      <th>vdcmun_id</th>\n",
              "      <th>ward_id</th>\n",
              "      <th>gender_individual</th>\n",
              "      <th>age_individual</th>\n",
              "      <th>presence_in_household</th>\n",
              "      <th>disability_individual</th>\n",
              "      <th>has_registered_birth</th>\n",
              "      <th>education_level_individual</th>\n",
              "      <th>marital_status_individual</th>\n",
              "      <th>household_id</th>\n",
              "      <th>building_id</th>\n",
              "    </tr>\n",
              "  </thead>\n",
              "  <tbody>\n",
              "    <tr>\n",
              "      <th>0</th>\n",
              "      <td>12010100001101001</td>\n",
              "      <td>12</td>\n",
              "      <td>1207</td>\n",
              "      <td>120703</td>\n",
              "      <td>Male</td>\n",
              "      <td>31</td>\n",
              "      <td>Mostly Present</td>\n",
              "      <td>No</td>\n",
              "      <td>NaN</td>\n",
              "      <td>Illiterate</td>\n",
              "      <td>Married</td>\n",
              "      <td>12010100001101</td>\n",
              "      <td>120101000011</td>\n",
              "    </tr>\n",
              "    <tr>\n",
              "      <th>1</th>\n",
              "      <td>12010100001101002</td>\n",
              "      <td>12</td>\n",
              "      <td>1207</td>\n",
              "      <td>120703</td>\n",
              "      <td>Female</td>\n",
              "      <td>58</td>\n",
              "      <td>Mostly Present</td>\n",
              "      <td>No</td>\n",
              "      <td>NaN</td>\n",
              "      <td>Illiterate</td>\n",
              "      <td>Married</td>\n",
              "      <td>12010100001101</td>\n",
              "      <td>120101000011</td>\n",
              "    </tr>\n",
              "    <tr>\n",
              "      <th>2</th>\n",
              "      <td>12010100001101003</td>\n",
              "      <td>12</td>\n",
              "      <td>1207</td>\n",
              "      <td>120703</td>\n",
              "      <td>Male</td>\n",
              "      <td>15</td>\n",
              "      <td>Mostly Present</td>\n",
              "      <td>No</td>\n",
              "      <td>NaN</td>\n",
              "      <td>Class 7</td>\n",
              "      <td>Not Married</td>\n",
              "      <td>12010100001101</td>\n",
              "      <td>120101000011</td>\n",
              "    </tr>\n",
              "    <tr>\n",
              "      <th>3</th>\n",
              "      <td>12010100002101001</td>\n",
              "      <td>12</td>\n",
              "      <td>1207</td>\n",
              "      <td>120703</td>\n",
              "      <td>Female</td>\n",
              "      <td>62</td>\n",
              "      <td>Mostly Present</td>\n",
              "      <td>No</td>\n",
              "      <td>NaN</td>\n",
              "      <td>Illiterate</td>\n",
              "      <td>Widow/Widower</td>\n",
              "      <td>12010100002101</td>\n",
              "      <td>120101000021</td>\n",
              "    </tr>\n",
              "    <tr>\n",
              "      <th>4</th>\n",
              "      <td>12010100002101002</td>\n",
              "      <td>12</td>\n",
              "      <td>1207</td>\n",
              "      <td>120703</td>\n",
              "      <td>Male</td>\n",
              "      <td>23</td>\n",
              "      <td>Not present-Abroad</td>\n",
              "      <td>No</td>\n",
              "      <td>NaN</td>\n",
              "      <td>Class 6</td>\n",
              "      <td>Married</td>\n",
              "      <td>12010100002101</td>\n",
              "      <td>120101000021</td>\n",
              "    </tr>\n",
              "  </tbody>\n",
              "</table>\n",
              "</div>\n",
              "      <button class=\"colab-df-convert\" onclick=\"convertToInteractive('df-0e36ac38-4f9f-453e-9cff-b34b73a63a0d')\"\n",
              "              title=\"Convert this dataframe to an interactive table.\"\n",
              "              style=\"display:none;\">\n",
              "        \n",
              "  <svg xmlns=\"http://www.w3.org/2000/svg\" height=\"24px\"viewBox=\"0 0 24 24\"\n",
              "       width=\"24px\">\n",
              "    <path d=\"M0 0h24v24H0V0z\" fill=\"none\"/>\n",
              "    <path d=\"M18.56 5.44l.94 2.06.94-2.06 2.06-.94-2.06-.94-.94-2.06-.94 2.06-2.06.94zm-11 1L8.5 8.5l.94-2.06 2.06-.94-2.06-.94L8.5 2.5l-.94 2.06-2.06.94zm10 10l.94 2.06.94-2.06 2.06-.94-2.06-.94-.94-2.06-.94 2.06-2.06.94z\"/><path d=\"M17.41 7.96l-1.37-1.37c-.4-.4-.92-.59-1.43-.59-.52 0-1.04.2-1.43.59L10.3 9.45l-7.72 7.72c-.78.78-.78 2.05 0 2.83L4 21.41c.39.39.9.59 1.41.59.51 0 1.02-.2 1.41-.59l7.78-7.78 2.81-2.81c.8-.78.8-2.07 0-2.86zM5.41 20L4 18.59l7.72-7.72 1.47 1.35L5.41 20z\"/>\n",
              "  </svg>\n",
              "      </button>\n",
              "      \n",
              "  <style>\n",
              "    .colab-df-container {\n",
              "      display:flex;\n",
              "      flex-wrap:wrap;\n",
              "      gap: 12px;\n",
              "    }\n",
              "\n",
              "    .colab-df-convert {\n",
              "      background-color: #E8F0FE;\n",
              "      border: none;\n",
              "      border-radius: 50%;\n",
              "      cursor: pointer;\n",
              "      display: none;\n",
              "      fill: #1967D2;\n",
              "      height: 32px;\n",
              "      padding: 0 0 0 0;\n",
              "      width: 32px;\n",
              "    }\n",
              "\n",
              "    .colab-df-convert:hover {\n",
              "      background-color: #E2EBFA;\n",
              "      box-shadow: 0px 1px 2px rgba(60, 64, 67, 0.3), 0px 1px 3px 1px rgba(60, 64, 67, 0.15);\n",
              "      fill: #174EA6;\n",
              "    }\n",
              "\n",
              "    [theme=dark] .colab-df-convert {\n",
              "      background-color: #3B4455;\n",
              "      fill: #D2E3FC;\n",
              "    }\n",
              "\n",
              "    [theme=dark] .colab-df-convert:hover {\n",
              "      background-color: #434B5C;\n",
              "      box-shadow: 0px 1px 3px 1px rgba(0, 0, 0, 0.15);\n",
              "      filter: drop-shadow(0px 1px 2px rgba(0, 0, 0, 0.3));\n",
              "      fill: #FFFFFF;\n",
              "    }\n",
              "  </style>\n",
              "\n",
              "      <script>\n",
              "        const buttonEl =\n",
              "          document.querySelector('#df-0e36ac38-4f9f-453e-9cff-b34b73a63a0d button.colab-df-convert');\n",
              "        buttonEl.style.display =\n",
              "          google.colab.kernel.accessAllowed ? 'block' : 'none';\n",
              "\n",
              "        async function convertToInteractive(key) {\n",
              "          const element = document.querySelector('#df-0e36ac38-4f9f-453e-9cff-b34b73a63a0d');\n",
              "          const dataTable =\n",
              "            await google.colab.kernel.invokeFunction('convertToInteractive',\n",
              "                                                     [key], {});\n",
              "          if (!dataTable) return;\n",
              "\n",
              "          const docLinkHtml = 'Like what you see? Visit the ' +\n",
              "            '<a target=\"_blank\" href=https://colab.research.google.com/notebooks/data_table.ipynb>data table notebook</a>'\n",
              "            + ' to learn more about interactive tables.';\n",
              "          element.innerHTML = '';\n",
              "          dataTable['output_type'] = 'display_data';\n",
              "          await google.colab.output.renderOutput(dataTable, element);\n",
              "          const docLink = document.createElement('div');\n",
              "          docLink.innerHTML = docLinkHtml;\n",
              "          element.appendChild(docLink);\n",
              "        }\n",
              "      </script>\n",
              "    </div>\n",
              "  </div>\n",
              "  "
            ]
          },
          "metadata": {},
          "execution_count": 7
        }
      ],
      "source": [
        "i_demographics_ids.head()"
      ]
    },
    {
      "cell_type": "code",
      "source": [
        "i_demographics_ids = i_demographics_ids.drop(columns=['district_id', 'vdcmun_id', 'ward_id'], axis=1)"
      ],
      "metadata": {
        "id": "6NuIfjq3Dq_z"
      },
      "execution_count": 15,
      "outputs": []
    },
    {
      "cell_type": "code",
      "execution_count": 16,
      "metadata": {
        "id": "hLdMIs5zBxGf"
      },
      "outputs": [],
      "source": [
        "grouped_age = i_demographics_ids.groupby('building_id')[['age_individual']].mean()\n",
        "grouped_age"
      ]
    },
    {
      "cell_type": "code",
      "source": [
        "grouped_age.shape"
      ],
      "metadata": {
        "id": "ieQ0T8-DC_aH"
      },
      "execution_count": 17,
      "outputs": []
    },
    {
      "cell_type": "code",
      "source": [
        "grouped_all = i_demographics_ids.groupby('building_id').mean()\n"
      ],
      "metadata": {
        "id": "SKbbjxFTDH-E"
      },
      "execution_count": 20,
      "outputs": []
    },
    {
      "cell_type": "code",
      "source": [
        "grouped_all.head()"
      ],
      "metadata": {
        "id": "gsXGV4yrDX-7",
        "outputId": "d5784135-e954-420d-ba1a-5940084728ad",
        "colab": {
          "base_uri": "https://localhost:8080/",
          "height": 238
        }
      },
      "execution_count": 21,
      "outputs": [
        {
          "output_type": "execute_result",
          "data": {
            "text/plain": [
              "              individual_id  age_individual  has_registered_birth  \\\n",
              "building_id                                                         \n",
              "120101000011   1.201010e+16       34.666667                   NaN   \n",
              "120101000021   1.201010e+16       22.333333                   0.5   \n",
              "120101000031   1.201010e+16       26.461538                   1.0   \n",
              "120101000041   1.201010e+16       22.200000                   0.0   \n",
              "120101000051   1.201010e+16       28.000000                   0.0   \n",
              "\n",
              "              household_id  \n",
              "building_id                 \n",
              "120101000011  1.201010e+13  \n",
              "120101000021  1.201010e+13  \n",
              "120101000031  1.201010e+13  \n",
              "120101000041  1.201010e+13  \n",
              "120101000051  1.201010e+13  "
            ],
            "text/html": [
              "\n",
              "  <div id=\"df-3dda04cc-ec2d-45eb-ad9a-e73814d3d66b\">\n",
              "    <div class=\"colab-df-container\">\n",
              "      <div>\n",
              "<style scoped>\n",
              "    .dataframe tbody tr th:only-of-type {\n",
              "        vertical-align: middle;\n",
              "    }\n",
              "\n",
              "    .dataframe tbody tr th {\n",
              "        vertical-align: top;\n",
              "    }\n",
              "\n",
              "    .dataframe thead th {\n",
              "        text-align: right;\n",
              "    }\n",
              "</style>\n",
              "<table border=\"1\" class=\"dataframe\">\n",
              "  <thead>\n",
              "    <tr style=\"text-align: right;\">\n",
              "      <th></th>\n",
              "      <th>individual_id</th>\n",
              "      <th>age_individual</th>\n",
              "      <th>has_registered_birth</th>\n",
              "      <th>household_id</th>\n",
              "    </tr>\n",
              "    <tr>\n",
              "      <th>building_id</th>\n",
              "      <th></th>\n",
              "      <th></th>\n",
              "      <th></th>\n",
              "      <th></th>\n",
              "    </tr>\n",
              "  </thead>\n",
              "  <tbody>\n",
              "    <tr>\n",
              "      <th>120101000011</th>\n",
              "      <td>1.201010e+16</td>\n",
              "      <td>34.666667</td>\n",
              "      <td>NaN</td>\n",
              "      <td>1.201010e+13</td>\n",
              "    </tr>\n",
              "    <tr>\n",
              "      <th>120101000021</th>\n",
              "      <td>1.201010e+16</td>\n",
              "      <td>22.333333</td>\n",
              "      <td>0.5</td>\n",
              "      <td>1.201010e+13</td>\n",
              "    </tr>\n",
              "    <tr>\n",
              "      <th>120101000031</th>\n",
              "      <td>1.201010e+16</td>\n",
              "      <td>26.461538</td>\n",
              "      <td>1.0</td>\n",
              "      <td>1.201010e+13</td>\n",
              "    </tr>\n",
              "    <tr>\n",
              "      <th>120101000041</th>\n",
              "      <td>1.201010e+16</td>\n",
              "      <td>22.200000</td>\n",
              "      <td>0.0</td>\n",
              "      <td>1.201010e+13</td>\n",
              "    </tr>\n",
              "    <tr>\n",
              "      <th>120101000051</th>\n",
              "      <td>1.201010e+16</td>\n",
              "      <td>28.000000</td>\n",
              "      <td>0.0</td>\n",
              "      <td>1.201010e+13</td>\n",
              "    </tr>\n",
              "  </tbody>\n",
              "</table>\n",
              "</div>\n",
              "      <button class=\"colab-df-convert\" onclick=\"convertToInteractive('df-3dda04cc-ec2d-45eb-ad9a-e73814d3d66b')\"\n",
              "              title=\"Convert this dataframe to an interactive table.\"\n",
              "              style=\"display:none;\">\n",
              "        \n",
              "  <svg xmlns=\"http://www.w3.org/2000/svg\" height=\"24px\"viewBox=\"0 0 24 24\"\n",
              "       width=\"24px\">\n",
              "    <path d=\"M0 0h24v24H0V0z\" fill=\"none\"/>\n",
              "    <path d=\"M18.56 5.44l.94 2.06.94-2.06 2.06-.94-2.06-.94-.94-2.06-.94 2.06-2.06.94zm-11 1L8.5 8.5l.94-2.06 2.06-.94-2.06-.94L8.5 2.5l-.94 2.06-2.06.94zm10 10l.94 2.06.94-2.06 2.06-.94-2.06-.94-.94-2.06-.94 2.06-2.06.94z\"/><path d=\"M17.41 7.96l-1.37-1.37c-.4-.4-.92-.59-1.43-.59-.52 0-1.04.2-1.43.59L10.3 9.45l-7.72 7.72c-.78.78-.78 2.05 0 2.83L4 21.41c.39.39.9.59 1.41.59.51 0 1.02-.2 1.41-.59l7.78-7.78 2.81-2.81c.8-.78.8-2.07 0-2.86zM5.41 20L4 18.59l7.72-7.72 1.47 1.35L5.41 20z\"/>\n",
              "  </svg>\n",
              "      </button>\n",
              "      \n",
              "  <style>\n",
              "    .colab-df-container {\n",
              "      display:flex;\n",
              "      flex-wrap:wrap;\n",
              "      gap: 12px;\n",
              "    }\n",
              "\n",
              "    .colab-df-convert {\n",
              "      background-color: #E8F0FE;\n",
              "      border: none;\n",
              "      border-radius: 50%;\n",
              "      cursor: pointer;\n",
              "      display: none;\n",
              "      fill: #1967D2;\n",
              "      height: 32px;\n",
              "      padding: 0 0 0 0;\n",
              "      width: 32px;\n",
              "    }\n",
              "\n",
              "    .colab-df-convert:hover {\n",
              "      background-color: #E2EBFA;\n",
              "      box-shadow: 0px 1px 2px rgba(60, 64, 67, 0.3), 0px 1px 3px 1px rgba(60, 64, 67, 0.15);\n",
              "      fill: #174EA6;\n",
              "    }\n",
              "\n",
              "    [theme=dark] .colab-df-convert {\n",
              "      background-color: #3B4455;\n",
              "      fill: #D2E3FC;\n",
              "    }\n",
              "\n",
              "    [theme=dark] .colab-df-convert:hover {\n",
              "      background-color: #434B5C;\n",
              "      box-shadow: 0px 1px 3px 1px rgba(0, 0, 0, 0.15);\n",
              "      filter: drop-shadow(0px 1px 2px rgba(0, 0, 0, 0.3));\n",
              "      fill: #FFFFFF;\n",
              "    }\n",
              "  </style>\n",
              "\n",
              "      <script>\n",
              "        const buttonEl =\n",
              "          document.querySelector('#df-3dda04cc-ec2d-45eb-ad9a-e73814d3d66b button.colab-df-convert');\n",
              "        buttonEl.style.display =\n",
              "          google.colab.kernel.accessAllowed ? 'block' : 'none';\n",
              "\n",
              "        async function convertToInteractive(key) {\n",
              "          const element = document.querySelector('#df-3dda04cc-ec2d-45eb-ad9a-e73814d3d66b');\n",
              "          const dataTable =\n",
              "            await google.colab.kernel.invokeFunction('convertToInteractive',\n",
              "                                                     [key], {});\n",
              "          if (!dataTable) return;\n",
              "\n",
              "          const docLinkHtml = 'Like what you see? Visit the ' +\n",
              "            '<a target=\"_blank\" href=https://colab.research.google.com/notebooks/data_table.ipynb>data table notebook</a>'\n",
              "            + ' to learn more about interactive tables.';\n",
              "          element.innerHTML = '';\n",
              "          dataTable['output_type'] = 'display_data';\n",
              "          await google.colab.output.renderOutput(dataTable, element);\n",
              "          const docLink = document.createElement('div');\n",
              "          docLink.innerHTML = docLinkHtml;\n",
              "          element.appendChild(docLink);\n",
              "        }\n",
              "      </script>\n",
              "    </div>\n",
              "  </div>\n",
              "  "
            ]
          },
          "metadata": {},
          "execution_count": 21
        }
      ]
    },
    {
      "cell_type": "code",
      "source": [],
      "metadata": {
        "id": "imQr1kU6DZ1g"
      },
      "execution_count": null,
      "outputs": []
    }
  ],
  "metadata": {
    "kernelspec": {
      "display_name": "Python 3.10.6 64-bit ('earthquake_env')",
      "language": "python",
      "name": "python3"
    },
    "language_info": {
      "codemirror_mode": {
        "name": "ipython",
        "version": 3
      },
      "file_extension": ".py",
      "mimetype": "text/x-python",
      "name": "python",
      "nbconvert_exporter": "python",
      "pygments_lexer": "ipython3",
      "version": "3.10.6"
    },
    "orig_nbformat": 4,
    "vscode": {
      "interpreter": {
        "hash": "2f9be42f8ee9d683210b4f105245095b23f8a50188902d8867e978f6bd462757"
      }
    },
    "colab": {
      "provenance": [],
      "include_colab_link": true
    },
    "accelerator": "GPU",
    "gpuClass": "standard"
  },
  "nbformat": 4,
  "nbformat_minor": 0
}