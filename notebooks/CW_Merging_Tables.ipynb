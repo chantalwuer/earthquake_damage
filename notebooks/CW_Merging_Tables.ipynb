{
  "cells": [
    {
      "cell_type": "markdown",
      "metadata": {
        "colab_type": "text",
        "id": "view-in-github"
      },
      "source": [
        "<a href=\"https://colab.research.google.com/github/chantalwuer/earthquake_damage/blob/table_merge/notebooks/CW_Merging_Tables.ipynb\" target=\"_parent\"><img src=\"https://colab.research.google.com/assets/colab-badge.svg\" alt=\"Open In Colab\"/></a>"
      ]
    },
    {
      "cell_type": "markdown",
      "metadata": {
        "id": "VhE6M5obBxF3"
      },
      "source": [
        "# Creating new DataFrames out of Raw Data"
      ]
    },
    {
      "cell_type": "markdown",
      "metadata": {
        "id": "XOZMLEv5BxF7"
      },
      "source": [
        "## Import Packages and Data"
      ]
    },
    {
      "cell_type": "code",
      "execution_count": 24,
      "metadata": {
        "colab": {
          "base_uri": "https://localhost:8080/"
        },
        "id": "IBR1CO8gBxF9",
        "outputId": "7650c1c1-be18-4508-a650-1e4e17a8404d"
      },
      "outputs": [
        {
          "name": "stdout",
          "output_type": "stream",
          "text": [
            "The autoreload extension is already loaded. To reload it, use:\n",
            "  %reload_ext autoreload\n"
          ]
        }
      ],
      "source": [
        "%load_ext autoreload\n",
        "%autoreload 2"
      ]
    },
    {
      "cell_type": "code",
      "execution_count": 25,
      "metadata": {
        "id": "-TQzUZ3IBxF-"
      },
      "outputs": [],
      "source": [
        "import pandas as pd\n",
        "import numpy as np\n",
        "import matplotlib.pyplot as plt\n",
        "from earthquake_damage.data.main import reduce_memory_df\n",
        "\n",
        "pd.set_option('display.max_columns', None)\n",
        "pd.set_option('display.max_rows', None)"
      ]
    },
    {
      "cell_type": "markdown",
      "metadata": {
        "id": "XKxtATa3B7jU"
      },
      "source": [
        "### Google Colab"
      ]
    },
    {
      "cell_type": "code",
      "execution_count": 24,
      "metadata": {
        "colab": {
          "base_uri": "https://localhost:8080/"
        },
        "id": "ZalD7PloB39o",
        "outputId": "e9e7e5ee-4623-402a-d219-4bec9cdfe3e2",
        "tags": [
          "hide-cell"
        ]
      },
      "outputs": [
        {
          "name": "stdout",
          "output_type": "stream",
          "text": [
            "Drive already mounted at /content/drive; to attempt to forcibly remount, call drive.mount(\"/content/drive\", force_remount=True).\n"
          ]
        }
      ],
      "source": [
        "# %%script echo skipping\n",
        "\n",
        "from google.colab import drive\n",
        "drive.mount('/content/drive')"
      ]
    },
    {
      "cell_type": "code",
      "execution_count": 43,
      "metadata": {
        "id": "lpNQi0ucB6_T"
      },
      "outputs": [],
      "source": [
        "# %%script echo skipping\n",
        "\n",
        "i_demographics = pd.read_csv('/content/drive/MyDrive/Modeling_Earthquakes/raw_data/individual/csv_individual_demographics.csv')\n",
        "mapping = pd.read_csv('/content/drive/MyDrive/Modeling_Earthquakes/raw_data/geographical/mapping.csv')"
      ]
    },
    {
      "cell_type": "markdown",
      "metadata": {
        "id": "EGVPLnXtCJEW"
      },
      "source": [
        "### VS Code"
      ]
    },
    {
      "cell_type": "code",
      "execution_count": null,
      "metadata": {
        "id": "lE0k-cTLBxF_"
      },
      "outputs": [],
      "source": [
        "train_values = pd.read_csv('/Users/chantalwuerschinger/code/chantalwuer/earthquake_damage/raw_data/challenge_data/train_values.csv')\n",
        "train_labels = pd.read_csv('/Users/chantalwuerschinger/code/chantalwuer/earthquake_damage/raw_data/challenge_data/train_labels.csv')\n",
        "test_values = pd.read_csv('/Users/chantalwuerschinger/code/chantalwuer/earthquake_damage/raw_data/challenge_data/test_values.csv')"
      ]
    },
    {
      "cell_type": "code",
      "execution_count": null,
      "metadata": {
        "id": "BkCtGc8-BxGA"
      },
      "outputs": [],
      "source": [
        "b_structure = pd.read_csv('/Users/chantalwuerschinger/code/chantalwuer/earthquake_damage/raw_data/building/csv_building_structure.csv')\n",
        "b_damage_assessment = pd.read_csv('/Users/chantalwuerschinger/code/chantalwuer/earthquake_damage/raw_data/building/csv_building_damage_assessment.csv', low_memory=False)\n",
        "b_owner_use = pd.read_csv('/Users/chantalwuerschinger/code/chantalwuer/earthquake_damage/raw_data/building/csv_building_ownership_and_use.csv')"
      ]
    },
    {
      "cell_type": "code",
      "execution_count": null,
      "metadata": {
        "id": "3GZb5P6LBxGA"
      },
      "outputs": [],
      "source": [
        "h_demographics = pd.read_csv('/Users/chantalwuerschinger/code/chantalwuer/earthquake_damage/raw_data/household/csv_household_demographics.csv')\n",
        "mapping = pd.read_csv('/Users/chantalwuerschinger/code/chantalwuer/earthquake_damage/raw_data/geographical/mapping.csv')\n",
        "i_demographics = pd.read_csv('/Users/chantalwuerschinger/code/chantalwuer/earthquake_damage/raw_data/individual/csv_individual_demographics.csv')"
      ]
    },
    {
      "cell_type": "markdown",
      "metadata": {
        "id": "7cX3saNuBxGB"
      },
      "source": [
        "# Building"
      ]
    },
    {
      "cell_type": "markdown",
      "metadata": {
        "id": "EUNI3cqQBxGC"
      },
      "source": [
        "### Building Structure"
      ]
    },
    {
      "cell_type": "code",
      "execution_count": null,
      "metadata": {
        "id": "p6KWWXHxBxGC",
        "outputId": "bdabbd46-73c3-437c-b633-f43a20f65623"
      },
      "outputs": [
        {
          "data": {
            "text/plain": [
              "Index(['building_id', 'district_id', 'vdcmun_id', 'ward_id',\n",
              "       'count_floors_pre_eq', 'count_floors_post_eq', 'age_building',\n",
              "       'plinth_area_sq_ft', 'height_ft_pre_eq', 'height_ft_post_eq',\n",
              "       'land_surface_condition', 'foundation_type', 'roof_type',\n",
              "       'ground_floor_type', 'other_floor_type', 'position',\n",
              "       'plan_configuration', 'has_superstructure_adobe_mud',\n",
              "       'has_superstructure_mud_mortar_stone', 'has_superstructure_stone_flag',\n",
              "       'has_superstructure_cement_mortar_stone',\n",
              "       'has_superstructure_mud_mortar_brick',\n",
              "       'has_superstructure_cement_mortar_brick', 'has_superstructure_timber',\n",
              "       'has_superstructure_bamboo', 'has_superstructure_rc_non_engineered',\n",
              "       'has_superstructure_rc_engineered', 'has_superstructure_other',\n",
              "       'condition_post_eq', 'damage_grade', 'technical_solution_proposed'],\n",
              "      dtype='object')"
            ]
          },
          "execution_count": 85,
          "metadata": {},
          "output_type": "execute_result"
        }
      ],
      "source": [
        "b_structure.columns"
      ]
    },
    {
      "cell_type": "code",
      "execution_count": null,
      "metadata": {
        "id": "pbvLzFpXBxGE"
      },
      "outputs": [],
      "source": [
        "b_str_keep = ['building_id', 'district_id', 'vdcmun_id', 'ward_id',\n",
        "       'count_floors_pre_eq', 'age_building',\n",
        "       'land_surface_condition', 'foundation_type', 'roof_type',\n",
        "       'ground_floor_type', 'other_floor_type', 'position',\n",
        "       'plan_configuration', 'has_superstructure_adobe_mud',\n",
        "       'has_superstructure_mud_mortar_stone', 'has_superstructure_stone_flag',\n",
        "       'has_superstructure_cement_mortar_stone',\n",
        "       'has_superstructure_mud_mortar_brick',\n",
        "       'has_superstructure_cement_mortar_brick', 'has_superstructure_timber',\n",
        "       'has_superstructure_bamboo', 'has_superstructure_rc_non_engineered',\n",
        "       'has_superstructure_rc_engineered', 'has_superstructure_other', 'damage_grade']"
      ]
    },
    {
      "cell_type": "code",
      "execution_count": null,
      "metadata": {
        "id": "9HiULUxgBxGE",
        "outputId": "54ab13c5-2832-4da1-fc2c-df0896f4bad8"
      },
      "outputs": [
        {
          "data": {
            "text/plain": [
              "['count_floors_post_eq',\n",
              " 'plinth_area_sq_ft',\n",
              " 'height_ft_pre_eq',\n",
              " 'height_ft_post_eq',\n",
              " 'condition_post_eq',\n",
              " 'technical_solution_proposed']"
            ]
          },
          "execution_count": 87,
          "metadata": {},
          "output_type": "execute_result"
        }
      ],
      "source": [
        "drop = []\n",
        "for i in b_structure.columns:\n",
        "    if i not in b_str_keep:\n",
        "        drop.append(i)\n",
        "        \n",
        "drop"
      ]
    },
    {
      "cell_type": "code",
      "execution_count": null,
      "metadata": {
        "id": "1N9phFy9BxGF"
      },
      "outputs": [],
      "source": [
        "b_structure = b_structure.drop(drop, axis=1)"
      ]
    },
    {
      "cell_type": "markdown",
      "metadata": {
        "id": "1CBQ47N3BxGG"
      },
      "source": [
        "### Building Damage Assessment --> NOT NEEDED"
      ]
    },
    {
      "cell_type": "code",
      "execution_count": null,
      "metadata": {
        "id": "SfU9O-8eBxGG",
        "outputId": "9d6bd1ed-9a97-4a05-c014-4f03ceef7cd4"
      },
      "outputs": [
        {
          "data": {
            "text/plain": [
              "Index(['building_id', 'district_id', 'vdcmun_id', 'ward_id',\n",
              "       'damage_overall_collapse', 'damage_overall_leaning',\n",
              "       'damage_overall_adjacent_building_risk', 'damage_foundation_severe',\n",
              "       'damage_foundation_moderate', 'damage_foundation_insignificant',\n",
              "       'damage_roof_severe', 'damage_roof_moderate',\n",
              "       'damage_roof_insignificant', 'damage_corner_separation_severe',\n",
              "       'damage_corner_separation_moderate',\n",
              "       'damage_corner_separation_insignificant',\n",
              "       'damage_diagonal_cracking_severe', 'damage_diagonal_cracking_moderate',\n",
              "       'damage_diagonal_cracking_insignificant',\n",
              "       'damage_in_plane_failure_severe', 'damage_in_plane_failure_moderate',\n",
              "       'damage_in_plane_failure_insignificant',\n",
              "       'damage_out_of_plane_failure_severe',\n",
              "       'damage_out_of_plane_failure_moderate',\n",
              "       'damage_out_of_plane_failure_insignificant',\n",
              "       'damage_out_of_plane_failure_walls_ncfr_severe',\n",
              "       'damage_out_of_plane_failure_walls_ncfr_moderate',\n",
              "       'damage_out_of_plane_failure_walls_ncfr_insignificant',\n",
              "       'damage_gable_failure_severe', 'damage_gable_failure_moderate',\n",
              "       'damage_gable_failure_insignificant',\n",
              "       'damage_delamination_failure_severe',\n",
              "       'damage_delamination_failure_moderate',\n",
              "       'damage_delamination_failure_insignificant',\n",
              "       'damage_column_failure_severe', 'damage_column_failure_moderate',\n",
              "       'damage_column_failure_insignificant', 'damage_beam_failure_severe',\n",
              "       'damage_beam_failure_moderate', 'damage_beam_failure_insignificant',\n",
              "       'damage_infill_partition_failure_severe',\n",
              "       'damage_infill_partition_failure_moderate',\n",
              "       'damage_infill_partition_failure_insignificant',\n",
              "       'damage_staircase_severe', 'damage_staircase_moderate',\n",
              "       'damage_staircase_insignificant', 'damage_parapet_severe',\n",
              "       'damage_parapet_moderate', 'damage_parapet_insignificant',\n",
              "       'damage_cladding_glazing_severe', 'damage_cladding_glazing_moderate',\n",
              "       'damage_cladding_glazing_insignificant', 'area_assesed', 'damage_grade',\n",
              "       'technical_solution_proposed', 'has_repair_started',\n",
              "       'has_damage_foundation', 'has_damage_roof',\n",
              "       'has_damage_corner_separation', 'has_damage_diagonal_cracking',\n",
              "       'has_damage_in_plane_failure', 'has_damage_out_of_plane_failure',\n",
              "       'has_damage_out_of_plane_walls_ncfr_failure',\n",
              "       'has_damage_gable_failure', 'has_damage_delamination_failure',\n",
              "       'has_damage_column_failure', 'has_damage_beam_failure',\n",
              "       'has_damage_infill_partition_failure', 'has_damage_staircase',\n",
              "       'has_damage_parapet', 'has_damage_cladding_glazing',\n",
              "       'has_geotechnical_risk', 'has_geotechnical_risk_land_settlement',\n",
              "       'has_geotechnical_risk_fault_crack',\n",
              "       'has_geotechnical_risk_liquefaction', 'has_geotechnical_risk_landslide',\n",
              "       'has_geotechnical_risk_rock_fall', 'has_geotechnical_risk_flood',\n",
              "       'has_geotechnical_risk_other'],\n",
              "      dtype='object')"
            ]
          },
          "execution_count": 89,
          "metadata": {},
          "output_type": "execute_result"
        }
      ],
      "source": [
        "b_damage_assessment.columns"
      ]
    },
    {
      "cell_type": "code",
      "execution_count": null,
      "metadata": {
        "id": "OMWMh4UuBxGG"
      },
      "outputs": [],
      "source": [
        "b_dam_keep = ['building_id',\n",
        "        'damage_grade']"
      ]
    },
    {
      "cell_type": "code",
      "execution_count": null,
      "metadata": {
        "id": "PXLT6rdRBxGH",
        "outputId": "054e8a07-e0f2-4f7a-9cca-9494e98005cc"
      },
      "outputs": [
        {
          "data": {
            "text/plain": [
              "['district_id',\n",
              " 'vdcmun_id',\n",
              " 'ward_id',\n",
              " 'damage_overall_collapse',\n",
              " 'damage_overall_leaning',\n",
              " 'damage_overall_adjacent_building_risk',\n",
              " 'damage_foundation_severe',\n",
              " 'damage_foundation_moderate',\n",
              " 'damage_foundation_insignificant',\n",
              " 'damage_roof_severe',\n",
              " 'damage_roof_moderate',\n",
              " 'damage_roof_insignificant',\n",
              " 'damage_corner_separation_severe',\n",
              " 'damage_corner_separation_moderate',\n",
              " 'damage_corner_separation_insignificant',\n",
              " 'damage_diagonal_cracking_severe',\n",
              " 'damage_diagonal_cracking_moderate',\n",
              " 'damage_diagonal_cracking_insignificant',\n",
              " 'damage_in_plane_failure_severe',\n",
              " 'damage_in_plane_failure_moderate',\n",
              " 'damage_in_plane_failure_insignificant',\n",
              " 'damage_out_of_plane_failure_severe',\n",
              " 'damage_out_of_plane_failure_moderate',\n",
              " 'damage_out_of_plane_failure_insignificant',\n",
              " 'damage_out_of_plane_failure_walls_ncfr_severe',\n",
              " 'damage_out_of_plane_failure_walls_ncfr_moderate',\n",
              " 'damage_out_of_plane_failure_walls_ncfr_insignificant',\n",
              " 'damage_gable_failure_severe',\n",
              " 'damage_gable_failure_moderate',\n",
              " 'damage_gable_failure_insignificant',\n",
              " 'damage_delamination_failure_severe',\n",
              " 'damage_delamination_failure_moderate',\n",
              " 'damage_delamination_failure_insignificant',\n",
              " 'damage_column_failure_severe',\n",
              " 'damage_column_failure_moderate',\n",
              " 'damage_column_failure_insignificant',\n",
              " 'damage_beam_failure_severe',\n",
              " 'damage_beam_failure_moderate',\n",
              " 'damage_beam_failure_insignificant',\n",
              " 'damage_infill_partition_failure_severe',\n",
              " 'damage_infill_partition_failure_moderate',\n",
              " 'damage_infill_partition_failure_insignificant',\n",
              " 'damage_staircase_severe',\n",
              " 'damage_staircase_moderate',\n",
              " 'damage_staircase_insignificant',\n",
              " 'damage_parapet_severe',\n",
              " 'damage_parapet_moderate',\n",
              " 'damage_parapet_insignificant',\n",
              " 'damage_cladding_glazing_severe',\n",
              " 'damage_cladding_glazing_moderate',\n",
              " 'damage_cladding_glazing_insignificant',\n",
              " 'area_assesed',\n",
              " 'technical_solution_proposed',\n",
              " 'has_repair_started',\n",
              " 'has_damage_foundation',\n",
              " 'has_damage_roof',\n",
              " 'has_damage_corner_separation',\n",
              " 'has_damage_diagonal_cracking',\n",
              " 'has_damage_in_plane_failure',\n",
              " 'has_damage_out_of_plane_failure',\n",
              " 'has_damage_out_of_plane_walls_ncfr_failure',\n",
              " 'has_damage_gable_failure',\n",
              " 'has_damage_delamination_failure',\n",
              " 'has_damage_column_failure',\n",
              " 'has_damage_beam_failure',\n",
              " 'has_damage_infill_partition_failure',\n",
              " 'has_damage_staircase',\n",
              " 'has_damage_parapet',\n",
              " 'has_damage_cladding_glazing',\n",
              " 'has_geotechnical_risk',\n",
              " 'has_geotechnical_risk_land_settlement',\n",
              " 'has_geotechnical_risk_fault_crack',\n",
              " 'has_geotechnical_risk_liquefaction',\n",
              " 'has_geotechnical_risk_landslide',\n",
              " 'has_geotechnical_risk_rock_fall',\n",
              " 'has_geotechnical_risk_flood',\n",
              " 'has_geotechnical_risk_other']"
            ]
          },
          "execution_count": 91,
          "metadata": {},
          "output_type": "execute_result"
        }
      ],
      "source": [
        "b_dam_drop = []\n",
        "for i in b_damage_assessment.columns:\n",
        "    if i not in b_dam_keep:\n",
        "        b_dam_drop.append(i)\n",
        "        \n",
        "b_dam_drop"
      ]
    },
    {
      "cell_type": "code",
      "execution_count": null,
      "metadata": {
        "id": "RFT8vJfFBxGH"
      },
      "outputs": [],
      "source": [
        "b_damage_assessment = b_damage_assessment.drop(b_dam_drop, axis=1)"
      ]
    },
    {
      "cell_type": "markdown",
      "metadata": {
        "id": "TXWOv66zBxGH"
      },
      "source": [
        "### Building Ownership and Use"
      ]
    },
    {
      "cell_type": "code",
      "execution_count": null,
      "metadata": {
        "id": "AWQPffwnBxGI",
        "outputId": "670bbdb2-4328-4217-b70c-2fe99e556cb3"
      },
      "outputs": [
        {
          "data": {
            "text/plain": [
              "Index(['building_id', 'district_id', 'vdcmun_id', 'ward_id',\n",
              "       'legal_ownership_status', 'count_families', 'has_secondary_use',\n",
              "       'has_secondary_use_agriculture', 'has_secondary_use_hotel',\n",
              "       'has_secondary_use_rental', 'has_secondary_use_institution',\n",
              "       'has_secondary_use_school', 'has_secondary_use_industry',\n",
              "       'has_secondary_use_health_post', 'has_secondary_use_gov_office',\n",
              "       'has_secondary_use_use_police', 'has_secondary_use_other'],\n",
              "      dtype='object')"
            ]
          },
          "execution_count": 93,
          "metadata": {},
          "output_type": "execute_result"
        }
      ],
      "source": [
        "b_owner_use.columns"
      ]
    },
    {
      "cell_type": "markdown",
      "metadata": {
        "id": "BBd-ijiiBxGI"
      },
      "source": [
        "Here we are keeping all columns"
      ]
    },
    {
      "cell_type": "code",
      "execution_count": null,
      "metadata": {
        "id": "H4bcFGROBxGI"
      },
      "outputs": [],
      "source": [
        "b_owner_keep = ['building_id',\n",
        "       'legal_ownership_status', 'count_families', 'has_secondary_use',\n",
        "       'has_secondary_use_agriculture', 'has_secondary_use_hotel',\n",
        "       'has_secondary_use_rental', 'has_secondary_use_institution',\n",
        "       'has_secondary_use_school', 'has_secondary_use_industry',\n",
        "       'has_secondary_use_health_post', 'has_secondary_use_gov_office',\n",
        "       'has_secondary_use_use_police', 'has_secondary_use_other']"
      ]
    },
    {
      "cell_type": "code",
      "execution_count": null,
      "metadata": {
        "id": "eKEBvJQKBxGJ",
        "outputId": "de8079e5-fa21-4b54-c943-db3d14420e95"
      },
      "outputs": [
        {
          "data": {
            "text/plain": [
              "['district_id', 'vdcmun_id', 'ward_id']"
            ]
          },
          "execution_count": 95,
          "metadata": {},
          "output_type": "execute_result"
        }
      ],
      "source": [
        "b_owner_drop = []\n",
        "for i in b_owner_use.columns:\n",
        "    if i not in b_owner_keep:\n",
        "        b_owner_drop.append(i)\n",
        "        \n",
        "b_owner_drop"
      ]
    },
    {
      "cell_type": "code",
      "execution_count": null,
      "metadata": {
        "id": "o3Cw9PrKBxGL"
      },
      "outputs": [],
      "source": [
        "b_owner_use = b_owner_use.drop(b_owner_drop, axis=1)"
      ]
    },
    {
      "cell_type": "markdown",
      "metadata": {
        "id": "JGCKHnRwBxGL"
      },
      "source": [
        "## Creating (Raw)Competition Dataset"
      ]
    },
    {
      "cell_type": "code",
      "execution_count": null,
      "metadata": {
        "id": "q4cvsC2dBxGL",
        "outputId": "6cd6e4ae-07b3-43df-8546-2c2bbb9435ac"
      },
      "outputs": [
        {
          "data": {
            "text/html": [
              "<div>\n",
              "<style scoped>\n",
              "    .dataframe tbody tr th:only-of-type {\n",
              "        vertical-align: middle;\n",
              "    }\n",
              "\n",
              "    .dataframe tbody tr th {\n",
              "        vertical-align: top;\n",
              "    }\n",
              "\n",
              "    .dataframe thead th {\n",
              "        text-align: right;\n",
              "    }\n",
              "</style>\n",
              "<table border=\"1\" class=\"dataframe\">\n",
              "  <thead>\n",
              "    <tr style=\"text-align: right;\">\n",
              "      <th></th>\n",
              "      <th>building_id</th>\n",
              "      <th>district_id</th>\n",
              "      <th>vdcmun_id</th>\n",
              "      <th>ward_id</th>\n",
              "      <th>count_floors_pre_eq</th>\n",
              "      <th>age_building</th>\n",
              "      <th>land_surface_condition</th>\n",
              "      <th>foundation_type</th>\n",
              "      <th>roof_type</th>\n",
              "      <th>ground_floor_type</th>\n",
              "      <th>other_floor_type</th>\n",
              "      <th>position</th>\n",
              "      <th>plan_configuration</th>\n",
              "      <th>has_superstructure_adobe_mud</th>\n",
              "      <th>has_superstructure_mud_mortar_stone</th>\n",
              "      <th>has_superstructure_stone_flag</th>\n",
              "      <th>has_superstructure_cement_mortar_stone</th>\n",
              "      <th>has_superstructure_mud_mortar_brick</th>\n",
              "      <th>has_superstructure_cement_mortar_brick</th>\n",
              "      <th>has_superstructure_timber</th>\n",
              "      <th>has_superstructure_bamboo</th>\n",
              "      <th>has_superstructure_rc_non_engineered</th>\n",
              "      <th>has_superstructure_rc_engineered</th>\n",
              "      <th>has_superstructure_other</th>\n",
              "      <th>damage_grade</th>\n",
              "      <th>legal_ownership_status</th>\n",
              "      <th>count_families</th>\n",
              "      <th>has_secondary_use</th>\n",
              "      <th>has_secondary_use_agriculture</th>\n",
              "      <th>has_secondary_use_hotel</th>\n",
              "      <th>has_secondary_use_rental</th>\n",
              "      <th>has_secondary_use_institution</th>\n",
              "      <th>has_secondary_use_school</th>\n",
              "      <th>has_secondary_use_industry</th>\n",
              "      <th>has_secondary_use_health_post</th>\n",
              "      <th>has_secondary_use_gov_office</th>\n",
              "      <th>has_secondary_use_use_police</th>\n",
              "      <th>has_secondary_use_other</th>\n",
              "    </tr>\n",
              "  </thead>\n",
              "  <tbody>\n",
              "    <tr>\n",
              "      <th>0</th>\n",
              "      <td>120101000011</td>\n",
              "      <td>12</td>\n",
              "      <td>1207</td>\n",
              "      <td>120703</td>\n",
              "      <td>1</td>\n",
              "      <td>9</td>\n",
              "      <td>Flat</td>\n",
              "      <td>Other</td>\n",
              "      <td>Bamboo/Timber-Light roof</td>\n",
              "      <td>Mud</td>\n",
              "      <td>Not applicable</td>\n",
              "      <td>Not attached</td>\n",
              "      <td>Rectangular</td>\n",
              "      <td>0</td>\n",
              "      <td>1</td>\n",
              "      <td>0</td>\n",
              "      <td>0</td>\n",
              "      <td>0</td>\n",
              "      <td>0</td>\n",
              "      <td>0</td>\n",
              "      <td>1</td>\n",
              "      <td>0</td>\n",
              "      <td>0</td>\n",
              "      <td>0</td>\n",
              "      <td>Grade 3</td>\n",
              "      <td>Private</td>\n",
              "      <td>1.0</td>\n",
              "      <td>0.0</td>\n",
              "      <td>0</td>\n",
              "      <td>0</td>\n",
              "      <td>0</td>\n",
              "      <td>0</td>\n",
              "      <td>0</td>\n",
              "      <td>0</td>\n",
              "      <td>0</td>\n",
              "      <td>0</td>\n",
              "      <td>0</td>\n",
              "      <td>0</td>\n",
              "    </tr>\n",
              "    <tr>\n",
              "      <th>1</th>\n",
              "      <td>120101000021</td>\n",
              "      <td>12</td>\n",
              "      <td>1207</td>\n",
              "      <td>120703</td>\n",
              "      <td>1</td>\n",
              "      <td>15</td>\n",
              "      <td>Flat</td>\n",
              "      <td>Other</td>\n",
              "      <td>Bamboo/Timber-Light roof</td>\n",
              "      <td>Mud</td>\n",
              "      <td>Not applicable</td>\n",
              "      <td>Not attached</td>\n",
              "      <td>Rectangular</td>\n",
              "      <td>0</td>\n",
              "      <td>1</td>\n",
              "      <td>0</td>\n",
              "      <td>0</td>\n",
              "      <td>0</td>\n",
              "      <td>0</td>\n",
              "      <td>0</td>\n",
              "      <td>1</td>\n",
              "      <td>0</td>\n",
              "      <td>0</td>\n",
              "      <td>0</td>\n",
              "      <td>Grade 5</td>\n",
              "      <td>Private</td>\n",
              "      <td>1.0</td>\n",
              "      <td>0.0</td>\n",
              "      <td>0</td>\n",
              "      <td>0</td>\n",
              "      <td>0</td>\n",
              "      <td>0</td>\n",
              "      <td>0</td>\n",
              "      <td>0</td>\n",
              "      <td>0</td>\n",
              "      <td>0</td>\n",
              "      <td>0</td>\n",
              "      <td>0</td>\n",
              "    </tr>\n",
              "    <tr>\n",
              "      <th>2</th>\n",
              "      <td>120101000031</td>\n",
              "      <td>12</td>\n",
              "      <td>1207</td>\n",
              "      <td>120703</td>\n",
              "      <td>1</td>\n",
              "      <td>20</td>\n",
              "      <td>Flat</td>\n",
              "      <td>Other</td>\n",
              "      <td>Bamboo/Timber-Light roof</td>\n",
              "      <td>Mud</td>\n",
              "      <td>Not applicable</td>\n",
              "      <td>Not attached</td>\n",
              "      <td>Rectangular</td>\n",
              "      <td>0</td>\n",
              "      <td>1</td>\n",
              "      <td>0</td>\n",
              "      <td>0</td>\n",
              "      <td>0</td>\n",
              "      <td>0</td>\n",
              "      <td>0</td>\n",
              "      <td>0</td>\n",
              "      <td>0</td>\n",
              "      <td>0</td>\n",
              "      <td>0</td>\n",
              "      <td>Grade 2</td>\n",
              "      <td>Private</td>\n",
              "      <td>1.0</td>\n",
              "      <td>0.0</td>\n",
              "      <td>0</td>\n",
              "      <td>0</td>\n",
              "      <td>0</td>\n",
              "      <td>0</td>\n",
              "      <td>0</td>\n",
              "      <td>0</td>\n",
              "      <td>0</td>\n",
              "      <td>0</td>\n",
              "      <td>0</td>\n",
              "      <td>0</td>\n",
              "    </tr>\n",
              "    <tr>\n",
              "      <th>3</th>\n",
              "      <td>120101000041</td>\n",
              "      <td>12</td>\n",
              "      <td>1207</td>\n",
              "      <td>120703</td>\n",
              "      <td>1</td>\n",
              "      <td>20</td>\n",
              "      <td>Flat</td>\n",
              "      <td>Other</td>\n",
              "      <td>Bamboo/Timber-Light roof</td>\n",
              "      <td>Mud</td>\n",
              "      <td>Not applicable</td>\n",
              "      <td>Not attached</td>\n",
              "      <td>Rectangular</td>\n",
              "      <td>0</td>\n",
              "      <td>1</td>\n",
              "      <td>0</td>\n",
              "      <td>0</td>\n",
              "      <td>0</td>\n",
              "      <td>0</td>\n",
              "      <td>0</td>\n",
              "      <td>0</td>\n",
              "      <td>0</td>\n",
              "      <td>0</td>\n",
              "      <td>0</td>\n",
              "      <td>Grade 2</td>\n",
              "      <td>Private</td>\n",
              "      <td>1.0</td>\n",
              "      <td>0.0</td>\n",
              "      <td>0</td>\n",
              "      <td>0</td>\n",
              "      <td>0</td>\n",
              "      <td>0</td>\n",
              "      <td>0</td>\n",
              "      <td>0</td>\n",
              "      <td>0</td>\n",
              "      <td>0</td>\n",
              "      <td>0</td>\n",
              "      <td>0</td>\n",
              "    </tr>\n",
              "    <tr>\n",
              "      <th>4</th>\n",
              "      <td>120101000051</td>\n",
              "      <td>12</td>\n",
              "      <td>1207</td>\n",
              "      <td>120703</td>\n",
              "      <td>1</td>\n",
              "      <td>30</td>\n",
              "      <td>Flat</td>\n",
              "      <td>Other</td>\n",
              "      <td>Bamboo/Timber-Light roof</td>\n",
              "      <td>Mud</td>\n",
              "      <td>Not applicable</td>\n",
              "      <td>Not attached</td>\n",
              "      <td>Rectangular</td>\n",
              "      <td>0</td>\n",
              "      <td>1</td>\n",
              "      <td>0</td>\n",
              "      <td>0</td>\n",
              "      <td>0</td>\n",
              "      <td>0</td>\n",
              "      <td>0</td>\n",
              "      <td>0</td>\n",
              "      <td>0</td>\n",
              "      <td>0</td>\n",
              "      <td>0</td>\n",
              "      <td>Grade 1</td>\n",
              "      <td>Private</td>\n",
              "      <td>1.0</td>\n",
              "      <td>0.0</td>\n",
              "      <td>0</td>\n",
              "      <td>0</td>\n",
              "      <td>0</td>\n",
              "      <td>0</td>\n",
              "      <td>0</td>\n",
              "      <td>0</td>\n",
              "      <td>0</td>\n",
              "      <td>0</td>\n",
              "      <td>0</td>\n",
              "      <td>0</td>\n",
              "    </tr>\n",
              "  </tbody>\n",
              "</table>\n",
              "</div>"
            ],
            "text/plain": [
              "    building_id  district_id  vdcmun_id  ward_id  count_floors_pre_eq  \\\n",
              "0  120101000011           12       1207   120703                    1   \n",
              "1  120101000021           12       1207   120703                    1   \n",
              "2  120101000031           12       1207   120703                    1   \n",
              "3  120101000041           12       1207   120703                    1   \n",
              "4  120101000051           12       1207   120703                    1   \n",
              "\n",
              "   age_building land_surface_condition foundation_type  \\\n",
              "0             9                   Flat           Other   \n",
              "1            15                   Flat           Other   \n",
              "2            20                   Flat           Other   \n",
              "3            20                   Flat           Other   \n",
              "4            30                   Flat           Other   \n",
              "\n",
              "                  roof_type ground_floor_type other_floor_type      position  \\\n",
              "0  Bamboo/Timber-Light roof               Mud   Not applicable  Not attached   \n",
              "1  Bamboo/Timber-Light roof               Mud   Not applicable  Not attached   \n",
              "2  Bamboo/Timber-Light roof               Mud   Not applicable  Not attached   \n",
              "3  Bamboo/Timber-Light roof               Mud   Not applicable  Not attached   \n",
              "4  Bamboo/Timber-Light roof               Mud   Not applicable  Not attached   \n",
              "\n",
              "  plan_configuration  has_superstructure_adobe_mud  \\\n",
              "0        Rectangular                             0   \n",
              "1        Rectangular                             0   \n",
              "2        Rectangular                             0   \n",
              "3        Rectangular                             0   \n",
              "4        Rectangular                             0   \n",
              "\n",
              "   has_superstructure_mud_mortar_stone  has_superstructure_stone_flag  \\\n",
              "0                                    1                              0   \n",
              "1                                    1                              0   \n",
              "2                                    1                              0   \n",
              "3                                    1                              0   \n",
              "4                                    1                              0   \n",
              "\n",
              "   has_superstructure_cement_mortar_stone  \\\n",
              "0                                       0   \n",
              "1                                       0   \n",
              "2                                       0   \n",
              "3                                       0   \n",
              "4                                       0   \n",
              "\n",
              "   has_superstructure_mud_mortar_brick  \\\n",
              "0                                    0   \n",
              "1                                    0   \n",
              "2                                    0   \n",
              "3                                    0   \n",
              "4                                    0   \n",
              "\n",
              "   has_superstructure_cement_mortar_brick  has_superstructure_timber  \\\n",
              "0                                       0                          0   \n",
              "1                                       0                          0   \n",
              "2                                       0                          0   \n",
              "3                                       0                          0   \n",
              "4                                       0                          0   \n",
              "\n",
              "   has_superstructure_bamboo  has_superstructure_rc_non_engineered  \\\n",
              "0                          1                                     0   \n",
              "1                          1                                     0   \n",
              "2                          0                                     0   \n",
              "3                          0                                     0   \n",
              "4                          0                                     0   \n",
              "\n",
              "   has_superstructure_rc_engineered  has_superstructure_other damage_grade  \\\n",
              "0                                 0                         0      Grade 3   \n",
              "1                                 0                         0      Grade 5   \n",
              "2                                 0                         0      Grade 2   \n",
              "3                                 0                         0      Grade 2   \n",
              "4                                 0                         0      Grade 1   \n",
              "\n",
              "  legal_ownership_status  count_families  has_secondary_use  \\\n",
              "0                Private             1.0                0.0   \n",
              "1                Private             1.0                0.0   \n",
              "2                Private             1.0                0.0   \n",
              "3                Private             1.0                0.0   \n",
              "4                Private             1.0                0.0   \n",
              "\n",
              "   has_secondary_use_agriculture  has_secondary_use_hotel  \\\n",
              "0                              0                        0   \n",
              "1                              0                        0   \n",
              "2                              0                        0   \n",
              "3                              0                        0   \n",
              "4                              0                        0   \n",
              "\n",
              "   has_secondary_use_rental  has_secondary_use_institution  \\\n",
              "0                         0                              0   \n",
              "1                         0                              0   \n",
              "2                         0                              0   \n",
              "3                         0                              0   \n",
              "4                         0                              0   \n",
              "\n",
              "   has_secondary_use_school  has_secondary_use_industry  \\\n",
              "0                         0                           0   \n",
              "1                         0                           0   \n",
              "2                         0                           0   \n",
              "3                         0                           0   \n",
              "4                         0                           0   \n",
              "\n",
              "   has_secondary_use_health_post  has_secondary_use_gov_office  \\\n",
              "0                              0                             0   \n",
              "1                              0                             0   \n",
              "2                              0                             0   \n",
              "3                              0                             0   \n",
              "4                              0                             0   \n",
              "\n",
              "   has_secondary_use_use_police  has_secondary_use_other  \n",
              "0                             0                        0  \n",
              "1                             0                        0  \n",
              "2                             0                        0  \n",
              "3                             0                        0  \n",
              "4                             0                        0  "
            ]
          },
          "execution_count": 97,
          "metadata": {},
          "output_type": "execute_result"
        }
      ],
      "source": [
        "merged = pd.merge(b_structure, b_owner_use, on='building_id', how='inner')\n",
        "merged.head()"
      ]
    },
    {
      "cell_type": "code",
      "execution_count": null,
      "metadata": {
        "id": "kndN5ngPBxGM",
        "outputId": "6c7cdd65-cbc9-4d87-a36f-26e7f6c5fb7d"
      },
      "outputs": [
        {
          "data": {
            "text/plain": [
              "building_id                                0\n",
              "district_id                                0\n",
              "vdcmun_id                                  0\n",
              "ward_id                                    0\n",
              "count_floors_pre_eq                        0\n",
              "age_building                               0\n",
              "land_surface_condition                     0\n",
              "foundation_type                            0\n",
              "roof_type                                  0\n",
              "ground_floor_type                          0\n",
              "other_floor_type                           0\n",
              "position                                   1\n",
              "plan_configuration                         1\n",
              "has_superstructure_adobe_mud               0\n",
              "has_superstructure_mud_mortar_stone        0\n",
              "has_superstructure_stone_flag              0\n",
              "has_superstructure_cement_mortar_stone     0\n",
              "has_superstructure_mud_mortar_brick        0\n",
              "has_superstructure_cement_mortar_brick     0\n",
              "has_superstructure_timber                  0\n",
              "has_superstructure_bamboo                  0\n",
              "has_superstructure_rc_non_engineered       0\n",
              "has_superstructure_rc_engineered           0\n",
              "has_superstructure_other                   0\n",
              "damage_grade                              12\n",
              "legal_ownership_status                     0\n",
              "count_families                             2\n",
              "has_secondary_use                         10\n",
              "has_secondary_use_agriculture              0\n",
              "has_secondary_use_hotel                    0\n",
              "has_secondary_use_rental                   0\n",
              "has_secondary_use_institution              0\n",
              "has_secondary_use_school                   0\n",
              "has_secondary_use_industry                 0\n",
              "has_secondary_use_health_post              0\n",
              "has_secondary_use_gov_office               0\n",
              "has_secondary_use_use_police               0\n",
              "has_secondary_use_other                    0\n",
              "dtype: int64"
            ]
          },
          "execution_count": 98,
          "metadata": {},
          "output_type": "execute_result"
        }
      ],
      "source": [
        "merged.isna().sum()"
      ]
    },
    {
      "cell_type": "code",
      "execution_count": null,
      "metadata": {
        "id": "Xw21tBaABxGM",
        "outputId": "8327020a-c6b6-4a9c-c280-48fa79c9e699"
      },
      "outputs": [
        {
          "data": {
            "text/plain": [
              "building_id                                 int64\n",
              "district_id                                 int64\n",
              "vdcmun_id                                   int64\n",
              "ward_id                                     int64\n",
              "count_floors_pre_eq                         int64\n",
              "age_building                                int64\n",
              "land_surface_condition                     object\n",
              "foundation_type                            object\n",
              "roof_type                                  object\n",
              "ground_floor_type                          object\n",
              "other_floor_type                           object\n",
              "position                                   object\n",
              "plan_configuration                         object\n",
              "has_superstructure_adobe_mud                int64\n",
              "has_superstructure_mud_mortar_stone         int64\n",
              "has_superstructure_stone_flag               int64\n",
              "has_superstructure_cement_mortar_stone      int64\n",
              "has_superstructure_mud_mortar_brick         int64\n",
              "has_superstructure_cement_mortar_brick      int64\n",
              "has_superstructure_timber                   int64\n",
              "has_superstructure_bamboo                   int64\n",
              "has_superstructure_rc_non_engineered        int64\n",
              "has_superstructure_rc_engineered            int64\n",
              "has_superstructure_other                    int64\n",
              "damage_grade                               object\n",
              "legal_ownership_status                     object\n",
              "count_families                            float64\n",
              "has_secondary_use                         float64\n",
              "has_secondary_use_agriculture               int64\n",
              "has_secondary_use_hotel                     int64\n",
              "has_secondary_use_rental                    int64\n",
              "has_secondary_use_institution               int64\n",
              "has_secondary_use_school                    int64\n",
              "has_secondary_use_industry                  int64\n",
              "has_secondary_use_health_post               int64\n",
              "has_secondary_use_gov_office                int64\n",
              "has_secondary_use_use_police                int64\n",
              "has_secondary_use_other                     int64\n",
              "dtype: object"
            ]
          },
          "execution_count": 99,
          "metadata": {},
          "output_type": "execute_result"
        }
      ],
      "source": [
        "merged.dtypes"
      ]
    },
    {
      "cell_type": "code",
      "execution_count": null,
      "metadata": {
        "id": "O3ljNbLcBxGM"
      },
      "outputs": [],
      "source": [
        "merged.to_csv('/Users/chantalwuerschinger/code/chantalwuer/earthquake_damage/raw_data/merged_table.csv', index=False)"
      ]
    },
    {
      "cell_type": "markdown",
      "metadata": {
        "id": "bB-c8SOjBxGN"
      },
      "source": [
        "# Household"
      ]
    },
    {
      "cell_type": "code",
      "execution_count": null,
      "metadata": {
        "id": "PzDznpwxBxGN"
      },
      "outputs": [],
      "source": [
        "merged_df = merged.copy()"
      ]
    },
    {
      "cell_type": "markdown",
      "metadata": {
        "id": "M5JJUSuLBxGN"
      },
      "source": [
        "## h_demographics"
      ]
    },
    {
      "cell_type": "markdown",
      "metadata": {},
      "source": [
        "#### Drop Columns and Examine"
      ]
    },
    {
      "cell_type": "code",
      "execution_count": null,
      "metadata": {
        "id": "KY_0w_OzBxGO"
      },
      "outputs": [],
      "source": [
        "h_dem_drop = ['district_id', 'ward_id', 'vdcmun_id', 'is_bank_account_present_in_household', 'caste_household']"
      ]
    },
    {
      "cell_type": "code",
      "execution_count": null,
      "metadata": {
        "id": "pD02SC8zBxGO",
        "outputId": "dfa1867a-f961-4081-e9d2-799ef094a9df"
      },
      "outputs": [
        {
          "data": {
            "text/html": [
              "<div>\n",
              "<style scoped>\n",
              "    .dataframe tbody tr th:only-of-type {\n",
              "        vertical-align: middle;\n",
              "    }\n",
              "\n",
              "    .dataframe tbody tr th {\n",
              "        vertical-align: top;\n",
              "    }\n",
              "\n",
              "    .dataframe thead th {\n",
              "        text-align: right;\n",
              "    }\n",
              "</style>\n",
              "<table border=\"1\" class=\"dataframe\">\n",
              "  <thead>\n",
              "    <tr style=\"text-align: right;\">\n",
              "      <th></th>\n",
              "      <th>household_id</th>\n",
              "      <th>district_id</th>\n",
              "      <th>vdcmun_id</th>\n",
              "      <th>ward_id</th>\n",
              "      <th>gender_household_head</th>\n",
              "      <th>age_household_head</th>\n",
              "      <th>caste_household</th>\n",
              "      <th>education_level_household_head</th>\n",
              "      <th>income_level_household</th>\n",
              "      <th>size_household</th>\n",
              "      <th>is_bank_account_present_in_household</th>\n",
              "    </tr>\n",
              "  </thead>\n",
              "  <tbody>\n",
              "    <tr>\n",
              "      <th>0</th>\n",
              "      <td>12010100001101</td>\n",
              "      <td>12</td>\n",
              "      <td>1207</td>\n",
              "      <td>120703</td>\n",
              "      <td>Male</td>\n",
              "      <td>31.0</td>\n",
              "      <td>Rai</td>\n",
              "      <td>Illiterate</td>\n",
              "      <td>Rs. 10 thousand</td>\n",
              "      <td>3.0</td>\n",
              "      <td>0.0</td>\n",
              "    </tr>\n",
              "    <tr>\n",
              "      <th>1</th>\n",
              "      <td>12010100002101</td>\n",
              "      <td>12</td>\n",
              "      <td>1207</td>\n",
              "      <td>120703</td>\n",
              "      <td>Female</td>\n",
              "      <td>62.0</td>\n",
              "      <td>Rai</td>\n",
              "      <td>Illiterate</td>\n",
              "      <td>Rs. 10 thousand</td>\n",
              "      <td>6.0</td>\n",
              "      <td>0.0</td>\n",
              "    </tr>\n",
              "    <tr>\n",
              "      <th>2</th>\n",
              "      <td>12010100003101</td>\n",
              "      <td>12</td>\n",
              "      <td>1207</td>\n",
              "      <td>120703</td>\n",
              "      <td>Male</td>\n",
              "      <td>51.0</td>\n",
              "      <td>Gharti/Bhujel</td>\n",
              "      <td>Illiterate</td>\n",
              "      <td>Rs. 10 thousand</td>\n",
              "      <td>13.0</td>\n",
              "      <td>0.0</td>\n",
              "    </tr>\n",
              "    <tr>\n",
              "      <th>3</th>\n",
              "      <td>12010100004101</td>\n",
              "      <td>12</td>\n",
              "      <td>1207</td>\n",
              "      <td>120703</td>\n",
              "      <td>Male</td>\n",
              "      <td>48.0</td>\n",
              "      <td>Gharti/Bhujel</td>\n",
              "      <td>Illiterate</td>\n",
              "      <td>Rs. 10 thousand</td>\n",
              "      <td>5.0</td>\n",
              "      <td>0.0</td>\n",
              "    </tr>\n",
              "    <tr>\n",
              "      <th>4</th>\n",
              "      <td>12010100005101</td>\n",
              "      <td>12</td>\n",
              "      <td>1207</td>\n",
              "      <td>120703</td>\n",
              "      <td>Male</td>\n",
              "      <td>70.0</td>\n",
              "      <td>Gharti/Bhujel</td>\n",
              "      <td>Illiterate</td>\n",
              "      <td>Rs. 10 thousand</td>\n",
              "      <td>8.0</td>\n",
              "      <td>0.0</td>\n",
              "    </tr>\n",
              "  </tbody>\n",
              "</table>\n",
              "</div>"
            ],
            "text/plain": [
              "     household_id  district_id  vdcmun_id  ward_id gender_household_head  \\\n",
              "0  12010100001101           12       1207   120703                  Male   \n",
              "1  12010100002101           12       1207   120703                Female   \n",
              "2  12010100003101           12       1207   120703                  Male   \n",
              "3  12010100004101           12       1207   120703                  Male   \n",
              "4  12010100005101           12       1207   120703                  Male   \n",
              "\n",
              "   age_household_head caste_household education_level_household_head  \\\n",
              "0                31.0             Rai                     Illiterate   \n",
              "1                62.0             Rai                     Illiterate   \n",
              "2                51.0   Gharti/Bhujel                     Illiterate   \n",
              "3                48.0   Gharti/Bhujel                     Illiterate   \n",
              "4                70.0   Gharti/Bhujel                     Illiterate   \n",
              "\n",
              "  income_level_household  size_household  is_bank_account_present_in_household  \n",
              "0        Rs. 10 thousand             3.0                                   0.0  \n",
              "1        Rs. 10 thousand             6.0                                   0.0  \n",
              "2        Rs. 10 thousand            13.0                                   0.0  \n",
              "3        Rs. 10 thousand             5.0                                   0.0  \n",
              "4        Rs. 10 thousand             8.0                                   0.0  "
            ]
          },
          "execution_count": 136,
          "metadata": {},
          "output_type": "execute_result"
        }
      ],
      "source": [
        "h_demographics.head()"
      ]
    },
    {
      "cell_type": "code",
      "execution_count": null,
      "metadata": {
        "id": "futH6KcTBxGO",
        "outputId": "8ce3f966-80cf-40ba-b4df-6a4a34ed6c09"
      },
      "outputs": [
        {
          "data": {
            "text/plain": [
              "household_id                              int64\n",
              "district_id                               int64\n",
              "vdcmun_id                                 int64\n",
              "ward_id                                   int64\n",
              "gender_household_head                    object\n",
              "age_household_head                      float64\n",
              "caste_household                          object\n",
              "education_level_household_head           object\n",
              "income_level_household                   object\n",
              "size_household                          float64\n",
              "is_bank_account_present_in_household    float64\n",
              "dtype: object"
            ]
          },
          "execution_count": 137,
          "metadata": {},
          "output_type": "execute_result"
        }
      ],
      "source": [
        "h_demographics.dtypes"
      ]
    },
    {
      "cell_type": "code",
      "execution_count": null,
      "metadata": {
        "id": "QoNuN6drBxGO",
        "outputId": "b223ed45-352d-4819-9a8d-debd74f81795"
      },
      "outputs": [
        {
          "data": {
            "text/plain": [
              "Male      507924\n",
              "Female    239439\n",
              "Name: gender_household_head, dtype: int64"
            ]
          },
          "execution_count": 138,
          "metadata": {},
          "output_type": "execute_result"
        }
      ],
      "source": [
        "h_demographics.gender_household_head.value_counts()"
      ]
    },
    {
      "cell_type": "markdown",
      "metadata": {
        "id": "yY1supOYBxGP"
      },
      "source": [
        "#### Casts (discard for now)"
      ]
    },
    {
      "cell_type": "code",
      "execution_count": null,
      "metadata": {
        "id": "yl3cSXgGBxGP",
        "outputId": "ed18e4bb-46a1-4f81-d5d8-0c5de19cb33c"
      },
      "outputs": [
        {
          "data": {
            "text/plain": [
              "array(['Rai', 'Gharti/Bhujel', 'Brahman-Hill', 'Sanyasi/Dashnami',\n",
              "       'Chhetree', 'Tamang', nan, 'Kami', 'Newar', 'Gurung', 'Magar',\n",
              "       '0thers', 'Sarki', 'Damai/Dholi', 'Sherpa', 'Majhi', 'Pahari',\n",
              "       'Sunuwar', 'Tharu', 'Rajbansi', 'Sonar', 'Jirel', 'Raute',\n",
              "       'Badhaee', 'Brahman-Tarai', 'Jhangad/Dhagar', 'Khatwe', 'Khawas',\n",
              "       'Lohar', 'Bin', 'Yadav', 'Koiri/Kushwaha', 'Danuwar', 'Limbu',\n",
              "       'Sudhi', 'Kurmi', 'Nuniya', 'Dusadh/Pasawan/Pasi', 'Dom', 'Teli',\n",
              "       'Musalman', 'Thakuri', 'Ghale', 'Darai', 'Bhote', 'Hayu', 'Thami',\n",
              "       'Haluwai', 'Kayastha', 'Kamar', 'Kalwar', 'Kewat', 'Musahar',\n",
              "       'Kumal', 'Chamar/Harijan/Ram', 'Mallaha', 'Rajput', 'Hajam/Thakur',\n",
              "       'Amat', 'Kori', 'Badi', 'Bantar/Sardar', 'Dhobi', 'Chamling',\n",
              "       'Kumhar', 'Kalar', 'Dhimal', 'Meche', 'Mali', 'Dhanuk', 'Kanu',\n",
              "       'Marwadi', 'Hyolmo', 'Lhopa', 'Chepang/Praja', 'Gaderi/Bhedhar',\n",
              "       'Koche', 'Brahmu/Baramo', 'Satar/Santhal', 'Kathbaniyan',\n",
              "       'Tatma/Tatwa', 'Thakali', 'Dev', 'Bahing', 'Gaine', 'Bangali',\n",
              "       'Pattharkatta/Kushwadiya', 'Baraee', 'Samgpang', 'Natuwa', 'Bote',\n",
              "       'Lepcha', 'Mewahang Bala', 'Kahar', 'Yakkha', 'Byasi/Sauka',\n",
              "       'Kusunda'], dtype=object)"
            ]
          },
          "execution_count": 139,
          "metadata": {},
          "output_type": "execute_result"
        }
      ],
      "source": [
        "h_demographics.caste_household.unique()"
      ]
    },
    {
      "cell_type": "code",
      "execution_count": null,
      "metadata": {
        "id": "5a-4UgUcBxGS"
      },
      "outputs": [],
      "source": [
        "casts = h_demographics.groupby('caste_household')['caste_household'].count()\n",
        "casts.to_csv('/Users/chantalwuerschinger/code/chantalwuer/earthquake_damage/raw_data/household/caste_household.csv')\n"
      ]
    },
    {
      "cell_type": "markdown",
      "metadata": {
        "id": "UhmmqzVwBxGT"
      },
      "source": [
        "#### Income Level Household"
      ]
    },
    {
      "cell_type": "code",
      "execution_count": null,
      "metadata": {
        "id": "D6_zeWJ8BxGT",
        "outputId": "37746673-d651-4fbf-e671-59d434195b1e"
      },
      "outputs": [
        {
          "data": {
            "text/plain": [
              "Rs. 10 thousand            409102\n",
              "Rs. 10-20 thousand         231688\n",
              "Rs. 20-30 thousand          76124\n",
              "Rs. 30-50 thousand          21943\n",
              "Rs. 50 thousand or more      8280\n",
              "Name: income_level_household, dtype: int64"
            ]
          },
          "execution_count": 141,
          "metadata": {},
          "output_type": "execute_result"
        }
      ],
      "source": [
        "h_demographics.income_level_household.value_counts()"
      ]
    },
    {
      "cell_type": "code",
      "execution_count": null,
      "metadata": {
        "id": "B7h8GTbhBxGT",
        "outputId": "c038480f-4d2a-42e3-dc1f-e8c1a8f65a93"
      },
      "outputs": [
        {
          "data": {
            "text/plain": [
              "array(['Rs. 10 thousand', 'Rs. 10-20 thousand', 'Rs. 20-30 thousand',\n",
              "       'Rs. 30-50 thousand', nan, 'Rs. 50 thousand or more'], dtype=object)"
            ]
          },
          "execution_count": 142,
          "metadata": {},
          "output_type": "execute_result"
        }
      ],
      "source": [
        "h_demographics.income_level_household.unique()"
      ]
    },
    {
      "cell_type": "code",
      "execution_count": null,
      "metadata": {
        "id": "q7K9990dBxGT"
      },
      "outputs": [],
      "source": [
        "h_demographics.income_level_household = h_demographics.income_level_household.replace({\n",
        "    'Rs. 10 thousand': 0, 'Rs. 10-20 thousand': 1, \n",
        "    'Rs. 20-30 thousand': 2, 'Rs. 30-50 thousand': 3, \n",
        "    'Rs. 50 thousand or more': 4})"
      ]
    },
    {
      "cell_type": "markdown",
      "metadata": {
        "id": "-eVMIJbEBxGU"
      },
      "source": [
        "#### Education Level"
      ]
    },
    {
      "cell_type": "code",
      "execution_count": null,
      "metadata": {
        "id": "ff5Mj8onBxGU",
        "outputId": "f1941e1f-f7ab-49a4-8444-44de549b09b1"
      },
      "outputs": [
        {
          "data": {
            "text/plain": [
              "Illiterate                    263157\n",
              "Non-formal education          157724\n",
              "Class 5                        45267\n",
              "SLC or equivalent              42988\n",
              "Intermediate or equivalent     29181\n",
              "Class 4                        27836\n",
              "Class 8                        27520\n",
              "Class 3                        26217\n",
              "Class 10                       24097\n",
              "Class 2                        22331\n",
              "Class 7                        21460\n",
              "Class 6                        17099\n",
              "Class 9                        12184\n",
              "Bachelors or equivalent        10925\n",
              "Class 1                         9996\n",
              "Masters or equivalent           4507\n",
              "Other                           2838\n",
              "Nursery/K.G./Kindergarten       1741\n",
              "Ph.D. or equivalent               69\n",
              "Name: education_level_household_head, dtype: int64"
            ]
          },
          "execution_count": 144,
          "metadata": {},
          "output_type": "execute_result"
        }
      ],
      "source": [
        "h_demographics.education_level_household_head.value_counts()"
      ]
    },
    {
      "cell_type": "code",
      "execution_count": null,
      "metadata": {
        "id": "LytxUj9zBxGU",
        "outputId": "6b0b9233-6d2e-4f11-d573-17e9dd21e4c1"
      },
      "outputs": [
        {
          "data": {
            "text/plain": [
              "array(['Illiterate', 'Class 5', 'Class 4', 'SLC or equivalent',\n",
              "       'Class 10', 'Class 9', 'Non-formal education',\n",
              "       'Intermediate or equivalent', 'Class 7', 'Class 2', 'Class 1',\n",
              "       'Class 8', 'Class 3', 'Class 6', nan, 'Bachelors or equivalent',\n",
              "       'Other', 'Masters or equivalent', 'Nursery/K.G./Kindergarten',\n",
              "       'Ph.D. or equivalent'], dtype=object)"
            ]
          },
          "execution_count": 145,
          "metadata": {},
          "output_type": "execute_result"
        }
      ],
      "source": [
        "h_demographics.education_level_household_head.unique()"
      ]
    },
    {
      "cell_type": "code",
      "execution_count": null,
      "metadata": {
        "id": "gnaw0NlkBxGU"
      },
      "outputs": [],
      "source": [
        "in_education = ['Class 5', 'Class 4',\n",
        "        'Class 10', 'Class 9', \n",
        "        'Class 7', 'Class 2', 'Class 1',\n",
        "        'Class 8', 'Class 3', 'Class 6', 'Nursery/K.G./Kindergarten'\n",
        "       ]\n",
        "\n",
        "university = ['Bachelors or equivalent', 'Masters or equivalent', 'Ph.D. or equivalent']\n",
        "\n",
        "h_demographics.education_level_household_head = h_demographics.education_level_household_head.map(lambda x: 'In education' if x in in_education else x)\n",
        "h_demographics.education_level_household_head = h_demographics.education_level_household_head.map(lambda x: 'University' if x in university else x)\n",
        "h_demographics.education_level_household_head = h_demographics.education_level_household_head.map(lambda x: 'High School' if x == 'SLC or equivalent' else x)\n"
      ]
    },
    {
      "cell_type": "code",
      "execution_count": null,
      "metadata": {
        "id": "5-g9tnZiBxGU",
        "outputId": "ab46aedf-ee0b-4fbc-9fd1-488c3a7b9595"
      },
      "outputs": [
        {
          "data": {
            "text/plain": [
              "array(['Illiterate', 'In education', 'High School',\n",
              "       'Non-formal education', 'Intermediate or equivalent', nan,\n",
              "       'University', 'Other'], dtype=object)"
            ]
          },
          "execution_count": 147,
          "metadata": {},
          "output_type": "execute_result"
        }
      ],
      "source": [
        "h_demographics.education_level_household_head.unique()"
      ]
    },
    {
      "cell_type": "markdown",
      "metadata": {
        "id": "MucKqj7uBxGV"
      },
      "source": [
        "### Create Final h_demopgrahics"
      ]
    },
    {
      "cell_type": "code",
      "execution_count": null,
      "metadata": {
        "id": "WKKENIZbBxGV"
      },
      "outputs": [],
      "source": [
        "h_demographics = h_demographics.drop(h_dem_drop, axis=1)\n",
        "\n",
        "h_demographics.to_csv('/Users/chantalwuerschinger/code/chantalwuer/earthquake_damage/raw_data/household/household_demographics_cleaned.csv', index=False)"
      ]
    },
    {
      "cell_type": "code",
      "execution_count": null,
      "metadata": {
        "id": "TtchpWloBxGV",
        "outputId": "4fe326b5-f43f-48ce-8d8f-621b51a53a3c"
      },
      "outputs": [
        {
          "data": {
            "text/html": [
              "<div>\n",
              "<style scoped>\n",
              "    .dataframe tbody tr th:only-of-type {\n",
              "        vertical-align: middle;\n",
              "    }\n",
              "\n",
              "    .dataframe tbody tr th {\n",
              "        vertical-align: top;\n",
              "    }\n",
              "\n",
              "    .dataframe thead th {\n",
              "        text-align: right;\n",
              "    }\n",
              "</style>\n",
              "<table border=\"1\" class=\"dataframe\">\n",
              "  <thead>\n",
              "    <tr style=\"text-align: right;\">\n",
              "      <th></th>\n",
              "      <th>household_id</th>\n",
              "      <th>gender_household_head</th>\n",
              "      <th>age_household_head</th>\n",
              "      <th>education_level_household_head</th>\n",
              "      <th>income_level_household</th>\n",
              "      <th>size_household</th>\n",
              "    </tr>\n",
              "  </thead>\n",
              "  <tbody>\n",
              "    <tr>\n",
              "      <th>0</th>\n",
              "      <td>12010100001101</td>\n",
              "      <td>Male</td>\n",
              "      <td>31.0</td>\n",
              "      <td>Illiterate</td>\n",
              "      <td>0.0</td>\n",
              "      <td>3.0</td>\n",
              "    </tr>\n",
              "    <tr>\n",
              "      <th>1</th>\n",
              "      <td>12010100002101</td>\n",
              "      <td>Female</td>\n",
              "      <td>62.0</td>\n",
              "      <td>Illiterate</td>\n",
              "      <td>0.0</td>\n",
              "      <td>6.0</td>\n",
              "    </tr>\n",
              "    <tr>\n",
              "      <th>2</th>\n",
              "      <td>12010100003101</td>\n",
              "      <td>Male</td>\n",
              "      <td>51.0</td>\n",
              "      <td>Illiterate</td>\n",
              "      <td>0.0</td>\n",
              "      <td>13.0</td>\n",
              "    </tr>\n",
              "    <tr>\n",
              "      <th>3</th>\n",
              "      <td>12010100004101</td>\n",
              "      <td>Male</td>\n",
              "      <td>48.0</td>\n",
              "      <td>Illiterate</td>\n",
              "      <td>0.0</td>\n",
              "      <td>5.0</td>\n",
              "    </tr>\n",
              "    <tr>\n",
              "      <th>4</th>\n",
              "      <td>12010100005101</td>\n",
              "      <td>Male</td>\n",
              "      <td>70.0</td>\n",
              "      <td>Illiterate</td>\n",
              "      <td>0.0</td>\n",
              "      <td>8.0</td>\n",
              "    </tr>\n",
              "  </tbody>\n",
              "</table>\n",
              "</div>"
            ],
            "text/plain": [
              "     household_id gender_household_head  age_household_head  \\\n",
              "0  12010100001101                  Male                31.0   \n",
              "1  12010100002101                Female                62.0   \n",
              "2  12010100003101                  Male                51.0   \n",
              "3  12010100004101                  Male                48.0   \n",
              "4  12010100005101                  Male                70.0   \n",
              "\n",
              "  education_level_household_head  income_level_household  size_household  \n",
              "0                     Illiterate                     0.0             3.0  \n",
              "1                     Illiterate                     0.0             6.0  \n",
              "2                     Illiterate                     0.0            13.0  \n",
              "3                     Illiterate                     0.0             5.0  \n",
              "4                     Illiterate                     0.0             8.0  "
            ]
          },
          "execution_count": 117,
          "metadata": {},
          "output_type": "execute_result"
        }
      ],
      "source": [
        "h_demographics.head()"
      ]
    },
    {
      "cell_type": "code",
      "execution_count": null,
      "metadata": {
        "id": "SGXYfCDiBxGV",
        "outputId": "3093c71a-d4ab-42fd-c59e-e51b74c62596"
      },
      "outputs": [
        {
          "data": {
            "text/html": [
              "<div>\n",
              "<style scoped>\n",
              "    .dataframe tbody tr th:only-of-type {\n",
              "        vertical-align: middle;\n",
              "    }\n",
              "\n",
              "    .dataframe tbody tr th {\n",
              "        vertical-align: top;\n",
              "    }\n",
              "\n",
              "    .dataframe thead th {\n",
              "        text-align: right;\n",
              "    }\n",
              "</style>\n",
              "<table border=\"1\" class=\"dataframe\">\n",
              "  <thead>\n",
              "    <tr style=\"text-align: right;\">\n",
              "      <th></th>\n",
              "      <th>income_level_household</th>\n",
              "    </tr>\n",
              "    <tr>\n",
              "      <th>education_level_household_head</th>\n",
              "      <th></th>\n",
              "    </tr>\n",
              "  </thead>\n",
              "  <tbody>\n",
              "    <tr>\n",
              "      <th>High School</th>\n",
              "      <td>1.027519</td>\n",
              "    </tr>\n",
              "    <tr>\n",
              "      <th>Illiterate</th>\n",
              "      <td>0.422018</td>\n",
              "    </tr>\n",
              "    <tr>\n",
              "      <th>In education</th>\n",
              "      <td>0.713300</td>\n",
              "    </tr>\n",
              "    <tr>\n",
              "      <th>Intermediate or equivalent</th>\n",
              "      <td>1.164422</td>\n",
              "    </tr>\n",
              "    <tr>\n",
              "      <th>Non-formal education</th>\n",
              "      <td>0.631020</td>\n",
              "    </tr>\n",
              "    <tr>\n",
              "      <th>Other</th>\n",
              "      <td>0.585624</td>\n",
              "    </tr>\n",
              "    <tr>\n",
              "      <th>University</th>\n",
              "      <td>1.569576</td>\n",
              "    </tr>\n",
              "  </tbody>\n",
              "</table>\n",
              "</div>"
            ],
            "text/plain": [
              "                                income_level_household\n",
              "education_level_household_head                        \n",
              "High School                                   1.027519\n",
              "Illiterate                                    0.422018\n",
              "In education                                  0.713300\n",
              "Intermediate or equivalent                    1.164422\n",
              "Non-formal education                          0.631020\n",
              "Other                                         0.585624\n",
              "University                                    1.569576"
            ]
          },
          "execution_count": 129,
          "metadata": {},
          "output_type": "execute_result"
        }
      ],
      "source": [
        "h_demographics.groupby('education_level_household_head')[['income_level_household']].mean()"
      ]
    },
    {
      "cell_type": "markdown",
      "metadata": {
        "id": "Sf_4AiVJBxGW"
      },
      "source": [
        "### Test refine_demograhics"
      ]
    },
    {
      "cell_type": "code",
      "execution_count": null,
      "metadata": {
        "id": "lnvHej5FBxGW",
        "outputId": "0b731b83-f6e3-41c2-b94c-cd88a457c816"
      },
      "outputs": [
        {
          "name": "stdout",
          "output_type": "stream",
          "text": [
            "Adapting income level...\n",
            "Adapting education level...\n",
            "Saving the file to csv...\n",
            "✅ File saved to /Users/chantalwuerschinger/code/chantalwuer/earthquake_damage/processed_data/h_demographics.csv\n"
          ]
        }
      ],
      "source": [
        "from earthquake_damage.data.merge_dataset import refine_demographics\n",
        "refine_demographics(h_demographics)"
      ]
    },
    {
      "cell_type": "markdown",
      "metadata": {
        "id": "IeZ9a_eBBxGW"
      },
      "source": [
        "### Merge based on mapping.csv"
      ]
    },
    {
      "cell_type": "code",
      "execution_count": null,
      "metadata": {
        "id": "cP6CkD7RBxGW"
      },
      "outputs": [],
      "source": [
        "mapping = pd.read_csv('/Users/chantalwuerschinger/code/chantalwuer/earthquake_damage/raw_data/geographical/mapping.csv')\n",
        "merged = pd.read_csv('/Users/chantalwuerschinger/code/chantalwuer/earthquake_damage/processed_data/merge_structure_owner.csv')\n"
      ]
    },
    {
      "cell_type": "markdown",
      "metadata": {
        "id": "foY2OWPJBxGd"
      },
      "source": [
        "# Individual"
      ]
    },
    {
      "cell_type": "markdown",
      "metadata": {
        "id": "k0-2RUf0BxGe"
      },
      "source": [
        "### Merge i_demographics with mapping for ids"
      ]
    },
    {
      "cell_type": "code",
      "execution_count": null,
      "metadata": {
        "colab": {
          "base_uri": "https://localhost:8080/",
          "height": 206
        },
        "id": "0swumZVcBxGe",
        "outputId": "ec8ea897-d3d0-4134-f83f-3549e3f0222f"
      },
      "outputs": [
        {
          "data": {
            "text/html": [
              "<div>\n",
              "<style scoped>\n",
              "    .dataframe tbody tr th:only-of-type {\n",
              "        vertical-align: middle;\n",
              "    }\n",
              "\n",
              "    .dataframe tbody tr th {\n",
              "        vertical-align: top;\n",
              "    }\n",
              "\n",
              "    .dataframe thead th {\n",
              "        text-align: right;\n",
              "    }\n",
              "</style>\n",
              "<table border=\"1\" class=\"dataframe\">\n",
              "  <thead>\n",
              "    <tr style=\"text-align: right;\">\n",
              "      <th></th>\n",
              "      <th>individual_id</th>\n",
              "      <th>household_id</th>\n",
              "      <th>building_id</th>\n",
              "    </tr>\n",
              "  </thead>\n",
              "  <tbody>\n",
              "    <tr>\n",
              "      <th>0</th>\n",
              "      <td>12010200004101001</td>\n",
              "      <td>12010200004101</td>\n",
              "      <td>120102000041</td>\n",
              "    </tr>\n",
              "    <tr>\n",
              "      <th>1</th>\n",
              "      <td>12010200004101002</td>\n",
              "      <td>12010200004101</td>\n",
              "      <td>120102000041</td>\n",
              "    </tr>\n",
              "    <tr>\n",
              "      <th>2</th>\n",
              "      <td>12010200004101003</td>\n",
              "      <td>12010200004101</td>\n",
              "      <td>120102000041</td>\n",
              "    </tr>\n",
              "    <tr>\n",
              "      <th>3</th>\n",
              "      <td>12010200004101004</td>\n",
              "      <td>12010200004101</td>\n",
              "      <td>120102000041</td>\n",
              "    </tr>\n",
              "    <tr>\n",
              "      <th>4</th>\n",
              "      <td>12010200004101005</td>\n",
              "      <td>12010200004101</td>\n",
              "      <td>120102000041</td>\n",
              "    </tr>\n",
              "  </tbody>\n",
              "</table>\n",
              "</div>"
            ],
            "text/plain": [
              "       individual_id    household_id   building_id\n",
              "0  12010200004101001  12010200004101  120102000041\n",
              "1  12010200004101002  12010200004101  120102000041\n",
              "2  12010200004101003  12010200004101  120102000041\n",
              "3  12010200004101004  12010200004101  120102000041\n",
              "4  12010200004101005  12010200004101  120102000041"
            ]
          },
          "execution_count": 13,
          "metadata": {},
          "output_type": "execute_result"
        }
      ],
      "source": [
        "mapping.head()"
      ]
    },
    {
      "cell_type": "code",
      "execution_count": 49,
      "metadata": {
        "id": "206AZ6QCBxGe"
      },
      "outputs": [],
      "source": [
        "i_demographics_ids = i_demographics.merge(mapping, on='individual_id', how='left')"
      ]
    },
    {
      "cell_type": "code",
      "execution_count": 50,
      "metadata": {
        "id": "6NuIfjq3Dq_z"
      },
      "outputs": [],
      "source": [
        "i_demographics_ids = i_demographics_ids.drop(columns=['district_id', 'vdcmun_id', 'ward_id', 'has_registered_birth'], axis=1)"
      ]
    },
    {
      "cell_type": "code",
      "execution_count": 51,
      "metadata": {
        "colab": {
          "base_uri": "https://localhost:8080/",
          "height": 270
        },
        "id": "-AP5TYEyBxGe",
        "outputId": "9808b8bc-6f68-4411-bc0c-298a818205b9"
      },
      "outputs": [
        {
          "data": {
            "text/html": [
              "\n",
              "  <div id=\"df-4e80181f-1ebd-490b-833f-586d6731a73c\">\n",
              "    <div class=\"colab-df-container\">\n",
              "      <div>\n",
              "<style scoped>\n",
              "    .dataframe tbody tr th:only-of-type {\n",
              "        vertical-align: middle;\n",
              "    }\n",
              "\n",
              "    .dataframe tbody tr th {\n",
              "        vertical-align: top;\n",
              "    }\n",
              "\n",
              "    .dataframe thead th {\n",
              "        text-align: right;\n",
              "    }\n",
              "</style>\n",
              "<table border=\"1\" class=\"dataframe\">\n",
              "  <thead>\n",
              "    <tr style=\"text-align: right;\">\n",
              "      <th></th>\n",
              "      <th>individual_id</th>\n",
              "      <th>gender_individual</th>\n",
              "      <th>age_individual</th>\n",
              "      <th>presence_in_household</th>\n",
              "      <th>disability_individual</th>\n",
              "      <th>education_level_individual</th>\n",
              "      <th>marital_status_individual</th>\n",
              "      <th>household_id</th>\n",
              "      <th>building_id</th>\n",
              "    </tr>\n",
              "  </thead>\n",
              "  <tbody>\n",
              "    <tr>\n",
              "      <th>0</th>\n",
              "      <td>12010100001101001</td>\n",
              "      <td>Male</td>\n",
              "      <td>31</td>\n",
              "      <td>Mostly Present</td>\n",
              "      <td>No</td>\n",
              "      <td>Illiterate</td>\n",
              "      <td>Married</td>\n",
              "      <td>12010100001101</td>\n",
              "      <td>120101000011</td>\n",
              "    </tr>\n",
              "    <tr>\n",
              "      <th>1</th>\n",
              "      <td>12010100001101002</td>\n",
              "      <td>Female</td>\n",
              "      <td>58</td>\n",
              "      <td>Mostly Present</td>\n",
              "      <td>No</td>\n",
              "      <td>Illiterate</td>\n",
              "      <td>Married</td>\n",
              "      <td>12010100001101</td>\n",
              "      <td>120101000011</td>\n",
              "    </tr>\n",
              "    <tr>\n",
              "      <th>2</th>\n",
              "      <td>12010100001101003</td>\n",
              "      <td>Male</td>\n",
              "      <td>15</td>\n",
              "      <td>Mostly Present</td>\n",
              "      <td>No</td>\n",
              "      <td>Class 7</td>\n",
              "      <td>Not Married</td>\n",
              "      <td>12010100001101</td>\n",
              "      <td>120101000011</td>\n",
              "    </tr>\n",
              "    <tr>\n",
              "      <th>3</th>\n",
              "      <td>12010100002101001</td>\n",
              "      <td>Female</td>\n",
              "      <td>62</td>\n",
              "      <td>Mostly Present</td>\n",
              "      <td>No</td>\n",
              "      <td>Illiterate</td>\n",
              "      <td>Widow/Widower</td>\n",
              "      <td>12010100002101</td>\n",
              "      <td>120101000021</td>\n",
              "    </tr>\n",
              "    <tr>\n",
              "      <th>4</th>\n",
              "      <td>12010100002101002</td>\n",
              "      <td>Male</td>\n",
              "      <td>23</td>\n",
              "      <td>Not present-Abroad</td>\n",
              "      <td>No</td>\n",
              "      <td>Class 6</td>\n",
              "      <td>Married</td>\n",
              "      <td>12010100002101</td>\n",
              "      <td>120101000021</td>\n",
              "    </tr>\n",
              "  </tbody>\n",
              "</table>\n",
              "</div>\n",
              "      <button class=\"colab-df-convert\" onclick=\"convertToInteractive('df-4e80181f-1ebd-490b-833f-586d6731a73c')\"\n",
              "              title=\"Convert this dataframe to an interactive table.\"\n",
              "              style=\"display:none;\">\n",
              "        \n",
              "  <svg xmlns=\"http://www.w3.org/2000/svg\" height=\"24px\"viewBox=\"0 0 24 24\"\n",
              "       width=\"24px\">\n",
              "    <path d=\"M0 0h24v24H0V0z\" fill=\"none\"/>\n",
              "    <path d=\"M18.56 5.44l.94 2.06.94-2.06 2.06-.94-2.06-.94-.94-2.06-.94 2.06-2.06.94zm-11 1L8.5 8.5l.94-2.06 2.06-.94-2.06-.94L8.5 2.5l-.94 2.06-2.06.94zm10 10l.94 2.06.94-2.06 2.06-.94-2.06-.94-.94-2.06-.94 2.06-2.06.94z\"/><path d=\"M17.41 7.96l-1.37-1.37c-.4-.4-.92-.59-1.43-.59-.52 0-1.04.2-1.43.59L10.3 9.45l-7.72 7.72c-.78.78-.78 2.05 0 2.83L4 21.41c.39.39.9.59 1.41.59.51 0 1.02-.2 1.41-.59l7.78-7.78 2.81-2.81c.8-.78.8-2.07 0-2.86zM5.41 20L4 18.59l7.72-7.72 1.47 1.35L5.41 20z\"/>\n",
              "  </svg>\n",
              "      </button>\n",
              "      \n",
              "  <style>\n",
              "    .colab-df-container {\n",
              "      display:flex;\n",
              "      flex-wrap:wrap;\n",
              "      gap: 12px;\n",
              "    }\n",
              "\n",
              "    .colab-df-convert {\n",
              "      background-color: #E8F0FE;\n",
              "      border: none;\n",
              "      border-radius: 50%;\n",
              "      cursor: pointer;\n",
              "      display: none;\n",
              "      fill: #1967D2;\n",
              "      height: 32px;\n",
              "      padding: 0 0 0 0;\n",
              "      width: 32px;\n",
              "    }\n",
              "\n",
              "    .colab-df-convert:hover {\n",
              "      background-color: #E2EBFA;\n",
              "      box-shadow: 0px 1px 2px rgba(60, 64, 67, 0.3), 0px 1px 3px 1px rgba(60, 64, 67, 0.15);\n",
              "      fill: #174EA6;\n",
              "    }\n",
              "\n",
              "    [theme=dark] .colab-df-convert {\n",
              "      background-color: #3B4455;\n",
              "      fill: #D2E3FC;\n",
              "    }\n",
              "\n",
              "    [theme=dark] .colab-df-convert:hover {\n",
              "      background-color: #434B5C;\n",
              "      box-shadow: 0px 1px 3px 1px rgba(0, 0, 0, 0.15);\n",
              "      filter: drop-shadow(0px 1px 2px rgba(0, 0, 0, 0.3));\n",
              "      fill: #FFFFFF;\n",
              "    }\n",
              "  </style>\n",
              "\n",
              "      <script>\n",
              "        const buttonEl =\n",
              "          document.querySelector('#df-4e80181f-1ebd-490b-833f-586d6731a73c button.colab-df-convert');\n",
              "        buttonEl.style.display =\n",
              "          google.colab.kernel.accessAllowed ? 'block' : 'none';\n",
              "\n",
              "        async function convertToInteractive(key) {\n",
              "          const element = document.querySelector('#df-4e80181f-1ebd-490b-833f-586d6731a73c');\n",
              "          const dataTable =\n",
              "            await google.colab.kernel.invokeFunction('convertToInteractive',\n",
              "                                                     [key], {});\n",
              "          if (!dataTable) return;\n",
              "\n",
              "          const docLinkHtml = 'Like what you see? Visit the ' +\n",
              "            '<a target=\"_blank\" href=https://colab.research.google.com/notebooks/data_table.ipynb>data table notebook</a>'\n",
              "            + ' to learn more about interactive tables.';\n",
              "          element.innerHTML = '';\n",
              "          dataTable['output_type'] = 'display_data';\n",
              "          await google.colab.output.renderOutput(dataTable, element);\n",
              "          const docLink = document.createElement('div');\n",
              "          docLink.innerHTML = docLinkHtml;\n",
              "          element.appendChild(docLink);\n",
              "        }\n",
              "      </script>\n",
              "    </div>\n",
              "  </div>\n",
              "  "
            ],
            "text/plain": [
              "       individual_id gender_individual  age_individual presence_in_household  \\\n",
              "0  12010100001101001              Male              31        Mostly Present   \n",
              "1  12010100001101002            Female              58        Mostly Present   \n",
              "2  12010100001101003              Male              15        Mostly Present   \n",
              "3  12010100002101001            Female              62        Mostly Present   \n",
              "4  12010100002101002              Male              23    Not present-Abroad   \n",
              "\n",
              "  disability_individual education_level_individual marital_status_individual  \\\n",
              "0                    No                 Illiterate                   Married   \n",
              "1                    No                 Illiterate                   Married   \n",
              "2                    No                    Class 7               Not Married   \n",
              "3                    No                 Illiterate             Widow/Widower   \n",
              "4                    No                    Class 6                   Married   \n",
              "\n",
              "     household_id   building_id  \n",
              "0  12010100001101  120101000011  \n",
              "1  12010100001101  120101000011  \n",
              "2  12010100001101  120101000011  \n",
              "3  12010100002101  120101000021  \n",
              "4  12010100002101  120101000021  "
            ]
          },
          "execution_count": 51,
          "metadata": {},
          "output_type": "execute_result"
        }
      ],
      "source": [
        "i_demographics_ids.head()"
      ]
    },
    {
      "cell_type": "code",
      "execution_count": 39,
      "metadata": {
        "id": "3SAkgEdpSVZm"
      },
      "outputs": [
        {
          "ename": "OSError",
          "evalue": "Cannot save file into a non-existent directory: '/content/drive/MyDrive/Modeling_Earthquakes/processed_data'",
          "output_type": "error",
          "traceback": [
            "\u001b[0;31m---------------------------------------------------------------------------\u001b[0m",
            "\u001b[0;31mOSError\u001b[0m                                   Traceback (most recent call last)",
            "Cell \u001b[0;32mIn[39], line 2\u001b[0m\n\u001b[1;32m      1\u001b[0m \u001b[39m# Google Colab\u001b[39;00m\n\u001b[0;32m----> 2\u001b[0m i_demographics_ids\u001b[39m.\u001b[39;49mto_csv(\u001b[39m'\u001b[39;49m\u001b[39m/content/drive/MyDrive/Modeling_Earthquakes/processed_data/i_demographics_ids.csv\u001b[39;49m\u001b[39m'\u001b[39;49m, index\u001b[39m=\u001b[39;49m\u001b[39mFalse\u001b[39;49;00m)\n",
            "File \u001b[0;32m~/.pyenv/versions/3.10.6/envs/earthquake_env/lib/python3.10/site-packages/pandas/util/_decorators.py:211\u001b[0m, in \u001b[0;36mdeprecate_kwarg.<locals>._deprecate_kwarg.<locals>.wrapper\u001b[0;34m(*args, **kwargs)\u001b[0m\n\u001b[1;32m    209\u001b[0m     \u001b[39melse\u001b[39;00m:\n\u001b[1;32m    210\u001b[0m         kwargs[new_arg_name] \u001b[39m=\u001b[39m new_arg_value\n\u001b[0;32m--> 211\u001b[0m \u001b[39mreturn\u001b[39;00m func(\u001b[39m*\u001b[39;49margs, \u001b[39m*\u001b[39;49m\u001b[39m*\u001b[39;49mkwargs)\n",
            "File \u001b[0;32m~/.pyenv/versions/3.10.6/envs/earthquake_env/lib/python3.10/site-packages/pandas/core/generic.py:3720\u001b[0m, in \u001b[0;36mNDFrame.to_csv\u001b[0;34m(self, path_or_buf, sep, na_rep, float_format, columns, header, index, index_label, mode, encoding, compression, quoting, quotechar, lineterminator, chunksize, date_format, doublequote, escapechar, decimal, errors, storage_options)\u001b[0m\n\u001b[1;32m   3709\u001b[0m df \u001b[39m=\u001b[39m \u001b[39mself\u001b[39m \u001b[39mif\u001b[39;00m \u001b[39misinstance\u001b[39m(\u001b[39mself\u001b[39m, ABCDataFrame) \u001b[39melse\u001b[39;00m \u001b[39mself\u001b[39m\u001b[39m.\u001b[39mto_frame()\n\u001b[1;32m   3711\u001b[0m formatter \u001b[39m=\u001b[39m DataFrameFormatter(\n\u001b[1;32m   3712\u001b[0m     frame\u001b[39m=\u001b[39mdf,\n\u001b[1;32m   3713\u001b[0m     header\u001b[39m=\u001b[39mheader,\n\u001b[0;32m   (...)\u001b[0m\n\u001b[1;32m   3717\u001b[0m     decimal\u001b[39m=\u001b[39mdecimal,\n\u001b[1;32m   3718\u001b[0m )\n\u001b[0;32m-> 3720\u001b[0m \u001b[39mreturn\u001b[39;00m DataFrameRenderer(formatter)\u001b[39m.\u001b[39;49mto_csv(\n\u001b[1;32m   3721\u001b[0m     path_or_buf,\n\u001b[1;32m   3722\u001b[0m     lineterminator\u001b[39m=\u001b[39;49mlineterminator,\n\u001b[1;32m   3723\u001b[0m     sep\u001b[39m=\u001b[39;49msep,\n\u001b[1;32m   3724\u001b[0m     encoding\u001b[39m=\u001b[39;49mencoding,\n\u001b[1;32m   3725\u001b[0m     errors\u001b[39m=\u001b[39;49merrors,\n\u001b[1;32m   3726\u001b[0m     compression\u001b[39m=\u001b[39;49mcompression,\n\u001b[1;32m   3727\u001b[0m     quoting\u001b[39m=\u001b[39;49mquoting,\n\u001b[1;32m   3728\u001b[0m     columns\u001b[39m=\u001b[39;49mcolumns,\n\u001b[1;32m   3729\u001b[0m     index_label\u001b[39m=\u001b[39;49mindex_label,\n\u001b[1;32m   3730\u001b[0m     mode\u001b[39m=\u001b[39;49mmode,\n\u001b[1;32m   3731\u001b[0m     chunksize\u001b[39m=\u001b[39;49mchunksize,\n\u001b[1;32m   3732\u001b[0m     quotechar\u001b[39m=\u001b[39;49mquotechar,\n\u001b[1;32m   3733\u001b[0m     date_format\u001b[39m=\u001b[39;49mdate_format,\n\u001b[1;32m   3734\u001b[0m     doublequote\u001b[39m=\u001b[39;49mdoublequote,\n\u001b[1;32m   3735\u001b[0m     escapechar\u001b[39m=\u001b[39;49mescapechar,\n\u001b[1;32m   3736\u001b[0m     storage_options\u001b[39m=\u001b[39;49mstorage_options,\n\u001b[1;32m   3737\u001b[0m )\n",
            "File \u001b[0;32m~/.pyenv/versions/3.10.6/envs/earthquake_env/lib/python3.10/site-packages/pandas/util/_decorators.py:211\u001b[0m, in \u001b[0;36mdeprecate_kwarg.<locals>._deprecate_kwarg.<locals>.wrapper\u001b[0;34m(*args, **kwargs)\u001b[0m\n\u001b[1;32m    209\u001b[0m     \u001b[39melse\u001b[39;00m:\n\u001b[1;32m    210\u001b[0m         kwargs[new_arg_name] \u001b[39m=\u001b[39m new_arg_value\n\u001b[0;32m--> 211\u001b[0m \u001b[39mreturn\u001b[39;00m func(\u001b[39m*\u001b[39;49margs, \u001b[39m*\u001b[39;49m\u001b[39m*\u001b[39;49mkwargs)\n",
            "File \u001b[0;32m~/.pyenv/versions/3.10.6/envs/earthquake_env/lib/python3.10/site-packages/pandas/io/formats/format.py:1189\u001b[0m, in \u001b[0;36mDataFrameRenderer.to_csv\u001b[0;34m(self, path_or_buf, encoding, sep, columns, index_label, mode, compression, quoting, quotechar, lineterminator, chunksize, date_format, doublequote, escapechar, errors, storage_options)\u001b[0m\n\u001b[1;32m   1168\u001b[0m     created_buffer \u001b[39m=\u001b[39m \u001b[39mFalse\u001b[39;00m\n\u001b[1;32m   1170\u001b[0m csv_formatter \u001b[39m=\u001b[39m CSVFormatter(\n\u001b[1;32m   1171\u001b[0m     path_or_buf\u001b[39m=\u001b[39mpath_or_buf,\n\u001b[1;32m   1172\u001b[0m     lineterminator\u001b[39m=\u001b[39mlineterminator,\n\u001b[0;32m   (...)\u001b[0m\n\u001b[1;32m   1187\u001b[0m     formatter\u001b[39m=\u001b[39m\u001b[39mself\u001b[39m\u001b[39m.\u001b[39mfmt,\n\u001b[1;32m   1188\u001b[0m )\n\u001b[0;32m-> 1189\u001b[0m csv_formatter\u001b[39m.\u001b[39;49msave()\n\u001b[1;32m   1191\u001b[0m \u001b[39mif\u001b[39;00m created_buffer:\n\u001b[1;32m   1192\u001b[0m     \u001b[39massert\u001b[39;00m \u001b[39misinstance\u001b[39m(path_or_buf, StringIO)\n",
            "File \u001b[0;32m~/.pyenv/versions/3.10.6/envs/earthquake_env/lib/python3.10/site-packages/pandas/io/formats/csvs.py:241\u001b[0m, in \u001b[0;36mCSVFormatter.save\u001b[0;34m(self)\u001b[0m\n\u001b[1;32m    237\u001b[0m \u001b[39m\"\"\"\u001b[39;00m\n\u001b[1;32m    238\u001b[0m \u001b[39mCreate the writer & save.\u001b[39;00m\n\u001b[1;32m    239\u001b[0m \u001b[39m\"\"\"\u001b[39;00m\n\u001b[1;32m    240\u001b[0m \u001b[39m# apply compression and byte/text conversion\u001b[39;00m\n\u001b[0;32m--> 241\u001b[0m \u001b[39mwith\u001b[39;00m get_handle(\n\u001b[1;32m    242\u001b[0m     \u001b[39mself\u001b[39;49m\u001b[39m.\u001b[39;49mfilepath_or_buffer,\n\u001b[1;32m    243\u001b[0m     \u001b[39mself\u001b[39;49m\u001b[39m.\u001b[39;49mmode,\n\u001b[1;32m    244\u001b[0m     encoding\u001b[39m=\u001b[39;49m\u001b[39mself\u001b[39;49m\u001b[39m.\u001b[39;49mencoding,\n\u001b[1;32m    245\u001b[0m     errors\u001b[39m=\u001b[39;49m\u001b[39mself\u001b[39;49m\u001b[39m.\u001b[39;49merrors,\n\u001b[1;32m    246\u001b[0m     compression\u001b[39m=\u001b[39;49m\u001b[39mself\u001b[39;49m\u001b[39m.\u001b[39;49mcompression,\n\u001b[1;32m    247\u001b[0m     storage_options\u001b[39m=\u001b[39;49m\u001b[39mself\u001b[39;49m\u001b[39m.\u001b[39;49mstorage_options,\n\u001b[1;32m    248\u001b[0m ) \u001b[39mas\u001b[39;00m handles:\n\u001b[1;32m    249\u001b[0m \n\u001b[1;32m    250\u001b[0m     \u001b[39m# Note: self.encoding is irrelevant here\u001b[39;00m\n\u001b[1;32m    251\u001b[0m     \u001b[39mself\u001b[39m\u001b[39m.\u001b[39mwriter \u001b[39m=\u001b[39m csvlib\u001b[39m.\u001b[39mwriter(\n\u001b[1;32m    252\u001b[0m         handles\u001b[39m.\u001b[39mhandle,\n\u001b[1;32m    253\u001b[0m         lineterminator\u001b[39m=\u001b[39m\u001b[39mself\u001b[39m\u001b[39m.\u001b[39mlineterminator,\n\u001b[0;32m   (...)\u001b[0m\n\u001b[1;32m    258\u001b[0m         quotechar\u001b[39m=\u001b[39m\u001b[39mself\u001b[39m\u001b[39m.\u001b[39mquotechar,\n\u001b[1;32m    259\u001b[0m     )\n\u001b[1;32m    261\u001b[0m     \u001b[39mself\u001b[39m\u001b[39m.\u001b[39m_save()\n",
            "File \u001b[0;32m~/.pyenv/versions/3.10.6/envs/earthquake_env/lib/python3.10/site-packages/pandas/io/common.py:734\u001b[0m, in \u001b[0;36mget_handle\u001b[0;34m(path_or_buf, mode, encoding, compression, memory_map, is_text, errors, storage_options)\u001b[0m\n\u001b[1;32m    732\u001b[0m \u001b[39m# Only for write methods\u001b[39;00m\n\u001b[1;32m    733\u001b[0m \u001b[39mif\u001b[39;00m \u001b[39m\"\u001b[39m\u001b[39mr\u001b[39m\u001b[39m\"\u001b[39m \u001b[39mnot\u001b[39;00m \u001b[39min\u001b[39;00m mode \u001b[39mand\u001b[39;00m is_path:\n\u001b[0;32m--> 734\u001b[0m     check_parent_directory(\u001b[39mstr\u001b[39;49m(handle))\n\u001b[1;32m    736\u001b[0m \u001b[39mif\u001b[39;00m compression:\n\u001b[1;32m    737\u001b[0m     \u001b[39mif\u001b[39;00m compression \u001b[39m!=\u001b[39m \u001b[39m\"\u001b[39m\u001b[39mzstd\u001b[39m\u001b[39m\"\u001b[39m:\n\u001b[1;32m    738\u001b[0m         \u001b[39m# compression libraries do not like an explicit text-mode\u001b[39;00m\n",
            "File \u001b[0;32m~/.pyenv/versions/3.10.6/envs/earthquake_env/lib/python3.10/site-packages/pandas/io/common.py:597\u001b[0m, in \u001b[0;36mcheck_parent_directory\u001b[0;34m(path)\u001b[0m\n\u001b[1;32m    595\u001b[0m parent \u001b[39m=\u001b[39m Path(path)\u001b[39m.\u001b[39mparent\n\u001b[1;32m    596\u001b[0m \u001b[39mif\u001b[39;00m \u001b[39mnot\u001b[39;00m parent\u001b[39m.\u001b[39mis_dir():\n\u001b[0;32m--> 597\u001b[0m     \u001b[39mraise\u001b[39;00m \u001b[39mOSError\u001b[39;00m(\u001b[39mrf\u001b[39m\u001b[39m\"\u001b[39m\u001b[39mCannot save file into a non-existent directory: \u001b[39m\u001b[39m'\u001b[39m\u001b[39m{\u001b[39;00mparent\u001b[39m}\u001b[39;00m\u001b[39m'\u001b[39m\u001b[39m\"\u001b[39m)\n",
            "\u001b[0;31mOSError\u001b[0m: Cannot save file into a non-existent directory: '/content/drive/MyDrive/Modeling_Earthquakes/processed_data'"
          ]
        }
      ],
      "source": [
        "# Google Colab\n",
        "i_demographics_ids.to_csv('/content/drive/MyDrive/Modeling_Earthquakes/processed_data/i_demographics_ids.csv', index=False)"
      ]
    },
    {
      "cell_type": "markdown",
      "metadata": {
        "id": "Z1_OqivOPJlH"
      },
      "source": [
        "### Reclassify object type columns"
      ]
    },
    {
      "cell_type": "code",
      "execution_count": null,
      "metadata": {
        "id": "sia_OMIuPJlH",
        "outputId": "4dd33cca-b89a-43f4-c541-b168ccde73ed"
      },
      "outputs": [
        {
          "data": {
            "text/plain": [
              "Index(['gender_individual', 'presence_in_household', 'disability_individual',\n",
              "       'education_level_individual', 'marital_status_individual'],\n",
              "      dtype='object')"
            ]
          },
          "execution_count": 18,
          "metadata": {},
          "output_type": "execute_result"
        }
      ],
      "source": [
        "i_demographics_ids.select_dtypes(include=['object']).columns"
      ]
    },
    {
      "cell_type": "markdown",
      "metadata": {
        "id": "Oy7Z26ajPJlH"
      },
      "source": [
        "#### Gender"
      ]
    },
    {
      "cell_type": "code",
      "execution_count": null,
      "metadata": {
        "id": "qVPYANnWPJlI",
        "outputId": "e632583e-0601-410a-d7fc-e7c18325b4c3"
      },
      "outputs": [
        {
          "data": {
            "text/plain": [
              "Male           1856904\n",
              "Female         1820224\n",
              "Transgender          5\n",
              "Name: gender_individual, dtype: int64"
            ]
          },
          "execution_count": 21,
          "metadata": {},
          "output_type": "execute_result"
        }
      ],
      "source": [
        "i_demographics_ids.gender_individual.value_counts()"
      ]
    },
    {
      "cell_type": "code",
      "execution_count": null,
      "metadata": {
        "id": "bwHWXtn7PJlI"
      },
      "outputs": [],
      "source": [
        "i_demographics_ids.gender_individual = i_demographics_ids.gender_individual.map({'Male': 0, 'Female': 1, 'Transgender': 2})"
      ]
    },
    {
      "cell_type": "code",
      "execution_count": null,
      "metadata": {
        "id": "i0eTU_GLPJlI",
        "outputId": "23a4ee4c-62b8-42ac-9bee-4bbd01fca18f"
      },
      "outputs": [
        {
          "data": {
            "text/plain": [
              "0    1856904\n",
              "1    1820224\n",
              "2          5\n",
              "Name: gender_individual, dtype: int64"
            ]
          },
          "execution_count": 23,
          "metadata": {},
          "output_type": "execute_result"
        }
      ],
      "source": [
        "i_demographics_ids.gender_individual.value_counts()"
      ]
    },
    {
      "cell_type": "markdown",
      "metadata": {
        "id": "IbzIPFzdPJlI"
      },
      "source": [
        "#### Presence in household"
      ]
    },
    {
      "cell_type": "code",
      "execution_count": null,
      "metadata": {
        "id": "WDm0lcdGPJlI",
        "outputId": "9a2df3c8-d1ee-4475-f4c1-696ea6f5c484"
      },
      "outputs": [
        {
          "data": {
            "text/plain": [
              "Mostly Present              2891862\n",
              "Not present-Same Country     588261\n",
              "Not present-Abroad           193797\n",
              "Not Known                      3213\n",
              "Name: presence_in_household, dtype: int64"
            ]
          },
          "execution_count": 24,
          "metadata": {},
          "output_type": "execute_result"
        }
      ],
      "source": [
        "i_demographics_ids.presence_in_household.value_counts()"
      ]
    },
    {
      "cell_type": "code",
      "execution_count": null,
      "metadata": {
        "id": "7fYuXHqpPJlJ"
      },
      "outputs": [],
      "source": [
        "i_demographics_ids.presence_in_household = i_demographics_ids.presence_in_household.map({\n",
        "    'Mostly Present': 0, \n",
        "    'Not present-Same Country': 1, \n",
        "    'Not present-Abroad': 2, \n",
        "    'Not Known': 3})"
      ]
    },
    {
      "cell_type": "code",
      "execution_count": null,
      "metadata": {
        "id": "laJG-xA_PJlJ",
        "outputId": "89c10a28-0749-45ab-acc8-333bf4cd0801"
      },
      "outputs": [
        {
          "data": {
            "text/plain": [
              "0    2891862\n",
              "1     588261\n",
              "2     193797\n",
              "3       3213\n",
              "Name: presence_in_household, dtype: int64"
            ]
          },
          "execution_count": 26,
          "metadata": {},
          "output_type": "execute_result"
        }
      ],
      "source": [
        "i_demographics_ids.presence_in_household.value_counts()"
      ]
    },
    {
      "cell_type": "markdown",
      "metadata": {
        "id": "Zoq94mXQPJlJ"
      },
      "source": [
        "#### disability_individual"
      ]
    },
    {
      "cell_type": "code",
      "execution_count": null,
      "metadata": {
        "id": "vEkHfu9tPJlJ",
        "outputId": "b250b1a3-9aa2-4130-e5aa-fdd7b513a393"
      },
      "outputs": [
        {
          "data": {
            "text/plain": [
              "No                 3631909\n",
              "Yes/No card          26015\n",
              "Yes/Blue card         5540\n",
              "Yes/Red card          5360\n",
              "Yes/White card        4341\n",
              "Yes/Yellow card       3768\n",
              "Name: disability_individual, dtype: int64"
            ]
          },
          "execution_count": 27,
          "metadata": {},
          "output_type": "execute_result"
        }
      ],
      "source": [
        "i_demographics_ids.disability_individual.value_counts()"
      ]
    },
    {
      "cell_type": "code",
      "execution_count": null,
      "metadata": {
        "id": "P9rlHaSmPJlJ",
        "outputId": "d810fcdb-2141-40ea-aa49-ada80fb25272"
      },
      "outputs": [
        {
          "data": {
            "text/plain": [
              "array(['No', 'Yes/No card', 'Yes/White card', 'Yes/Yellow card',\n",
              "       'Yes/Red card', 'Yes/Blue card', nan], dtype=object)"
            ]
          },
          "execution_count": 28,
          "metadata": {},
          "output_type": "execute_result"
        }
      ],
      "source": [
        "i_demographics_ids.disability_individual.unique()"
      ]
    },
    {
      "cell_type": "code",
      "execution_count": null,
      "metadata": {
        "id": "G4mY2JjaPJlK"
      },
      "outputs": [],
      "source": [
        "i_demographics_ids.disability_individual = i_demographics_ids.disability_individual.apply(lambda x: 0 if x == 'No' else 1)"
      ]
    },
    {
      "cell_type": "code",
      "execution_count": null,
      "metadata": {
        "id": "XVz5YDUGPJlK",
        "outputId": "9b00bef4-8398-4908-b499-0eadb35ac92b"
      },
      "outputs": [
        {
          "data": {
            "text/plain": [
              "array([0, 1])"
            ]
          },
          "execution_count": 32,
          "metadata": {},
          "output_type": "execute_result"
        }
      ],
      "source": [
        "i_demographics_ids.disability_individual.unique()"
      ]
    },
    {
      "cell_type": "markdown",
      "metadata": {
        "id": "O8bv3AH2PJlK"
      },
      "source": [
        "#### education_level_individual"
      ]
    },
    {
      "cell_type": "code",
      "execution_count": null,
      "metadata": {
        "id": "uoI2zsh2PJlL",
        "outputId": "f987f322-3c18-40a2-dfd0-fc07656003a5"
      },
      "outputs": [
        {
          "data": {
            "text/plain": [
              "Illiterate                       696927\n",
              "Non-formal education             364847\n",
              "SLC or equivalent                274724\n",
              "Intermediate or equivalent       235329\n",
              "Class 5                          231859\n",
              "Class 8                          183562\n",
              "Class 4                          176796\n",
              "Class 3                          162598\n",
              "Class 7                          161036\n",
              "Class 6                          150545\n",
              "Class 2                          147247\n",
              "Class 10                         141681\n",
              "Class 1                          122614\n",
              "Nursery/K.G./Kindergarten        112975\n",
              "Class 9                          104437\n",
              "Bachelor degree or equivalent     68922\n",
              "Master degree or equivalent       18611\n",
              "Other                              8957\n",
              "Ph.D. level or equivalent           381\n",
              "Name: education_level_individual, dtype: int64"
            ]
          },
          "execution_count": 33,
          "metadata": {},
          "output_type": "execute_result"
        }
      ],
      "source": [
        "i_demographics_ids.education_level_individual.value_counts()"
      ]
    },
    {
      "cell_type": "code",
      "execution_count": 53,
      "metadata": {
        "id": "M2aqh40LPJlL"
      },
      "outputs": [],
      "source": [
        "# Education\n",
        "in_education = ['Class 5', 'Class 4',\n",
        "        'Class 10', 'Class 9',\n",
        "        'Class 7', 'Class 2', 'Class 1',\n",
        "        'Class 8', 'Class 3', 'Class 6', 'Nursery/K.G./Kindergarten'\n",
        "       ]\n",
        "\n",
        "university = ['Bachelors or equivalent',\n",
        "                  'Masters or equivalent',\n",
        "                  'Ph.D. or equivalent']\n",
        "\n",
        "i_demographics_ids.education_level_individual = i_demographics_ids.education_level_individual.\\\n",
        "        map(lambda x: 'In education' if x in in_education else x)\n",
        "i_demographics_ids.education_level_individual = i_demographics_ids.education_level_individual.\\\n",
        "        map(lambda x: 'University' if x in university else x)\n",
        "i_demographics_ids.education_level_individual = i_demographics_ids.education_level_individual.\\\n",
        "        map(lambda x: 'High School' if x == 'SLC or equivalent' else x)"
      ]
    },
    {
      "cell_type": "code",
      "execution_count": 54,
      "metadata": {
        "colab": {
          "base_uri": "https://localhost:8080/"
        },
        "id": "tlDTYrDDPJlL",
        "outputId": "6ee9f5e6-8aae-4cde-9987-7450955ee77e"
      },
      "outputs": [
        {
          "data": {
            "text/plain": [
              "In education                     1695350\n",
              "Illiterate                        696927\n",
              "Non-formal education              364847\n",
              "High School                       274724\n",
              "Intermediate or equivalent        235329\n",
              "Bachelor degree or equivalent      68922\n",
              "Master degree or equivalent        18611\n",
              "Other                               8957\n",
              "Ph.D. level or equivalent            381\n",
              "Name: education_level_individual, dtype: int64"
            ]
          },
          "execution_count": 54,
          "metadata": {},
          "output_type": "execute_result"
        }
      ],
      "source": [
        "i_demographics_ids.education_level_individual.value_counts()"
      ]
    },
    {
      "cell_type": "markdown",
      "metadata": {
        "id": "-O4tIfQjPJlL"
      },
      "source": [
        "#### marital_status_individual"
      ]
    },
    {
      "cell_type": "code",
      "execution_count": null,
      "metadata": {
        "id": "NK9-3zEbPJlL",
        "outputId": "79b31a91-d2c1-4ae5-ebd8-d72a3bf9c5a1"
      },
      "outputs": [
        {
          "data": {
            "text/plain": [
              "Married          1803157\n",
              "Not Married      1055361\n",
              "Widow/Widower     153226\n",
              "Seperated          19351\n",
              "Divorced            4337\n",
              "Name: marital_status_individual, dtype: int64"
            ]
          },
          "execution_count": 36,
          "metadata": {},
          "output_type": "execute_result"
        }
      ],
      "source": [
        "i_demographics_ids.marital_status_individual.value_counts()"
      ]
    },
    {
      "cell_type": "code",
      "execution_count": null,
      "metadata": {
        "id": "gDEdVOYiPJlM"
      },
      "outputs": [],
      "source": [
        "i_demographics_ids.to_csv('/Users/chantalwuerschinger/code/chantalwuer/earthquake_damage/processed_data/i_demographics_ids.csv', index=False)"
      ]
    },
    {
      "cell_type": "markdown",
      "metadata": {},
      "source": [
        "# Building & Household"
      ]
    },
    {
      "cell_type": "code",
      "execution_count": 80,
      "metadata": {},
      "outputs": [],
      "source": [
        "comp_data_full = pd.read_csv('/Users/chantalwuerschinger/code/chantalwuer/earthquake_damage/processed_data/comp_data_full.csv')\n",
        "h_demographics_ids = pd.read_csv('/Users/chantalwuerschinger/code/chantalwuer/earthquake_damage/processed_data/h_demographics_ids.csv')"
      ]
    },
    {
      "cell_type": "code",
      "execution_count": 83,
      "metadata": {},
      "outputs": [
        {
          "data": {
            "text/html": [
              "<div>\n",
              "<style scoped>\n",
              "    .dataframe tbody tr th:only-of-type {\n",
              "        vertical-align: middle;\n",
              "    }\n",
              "\n",
              "    .dataframe tbody tr th {\n",
              "        vertical-align: top;\n",
              "    }\n",
              "\n",
              "    .dataframe thead th {\n",
              "        text-align: right;\n",
              "    }\n",
              "</style>\n",
              "<table border=\"1\" class=\"dataframe\">\n",
              "  <thead>\n",
              "    <tr style=\"text-align: right;\">\n",
              "      <th></th>\n",
              "      <th>building_id</th>\n",
              "      <th>district_id</th>\n",
              "      <th>vdcmun_id</th>\n",
              "      <th>ward_id</th>\n",
              "      <th>count_floors_pre_eq</th>\n",
              "      <th>age_building</th>\n",
              "      <th>land_surface_condition</th>\n",
              "      <th>foundation_type</th>\n",
              "      <th>roof_type</th>\n",
              "      <th>ground_floor_type</th>\n",
              "      <th>other_floor_type</th>\n",
              "      <th>position</th>\n",
              "      <th>plan_configuration</th>\n",
              "      <th>has_superstructure_adobe_mud</th>\n",
              "      <th>has_superstructure_mud_mortar_stone</th>\n",
              "      <th>has_superstructure_stone_flag</th>\n",
              "      <th>has_superstructure_cement_mortar_stone</th>\n",
              "      <th>has_superstructure_mud_mortar_brick</th>\n",
              "      <th>has_superstructure_cement_mortar_brick</th>\n",
              "      <th>has_superstructure_timber</th>\n",
              "      <th>has_superstructure_bamboo</th>\n",
              "      <th>has_superstructure_rc_non_engineered</th>\n",
              "      <th>has_superstructure_rc_engineered</th>\n",
              "      <th>has_superstructure_other</th>\n",
              "      <th>damage_grade</th>\n",
              "      <th>legal_ownership_status</th>\n",
              "      <th>count_families</th>\n",
              "      <th>has_secondary_use</th>\n",
              "      <th>has_secondary_use_agriculture</th>\n",
              "      <th>has_secondary_use_hotel</th>\n",
              "      <th>has_secondary_use_rental</th>\n",
              "      <th>has_secondary_use_institution</th>\n",
              "      <th>has_secondary_use_school</th>\n",
              "      <th>has_secondary_use_industry</th>\n",
              "      <th>has_secondary_use_health_post</th>\n",
              "      <th>has_secondary_use_gov_office</th>\n",
              "      <th>has_secondary_use_use_police</th>\n",
              "      <th>has_secondary_use_other</th>\n",
              "    </tr>\n",
              "  </thead>\n",
              "  <tbody>\n",
              "    <tr>\n",
              "      <th>0</th>\n",
              "      <td>120101000011</td>\n",
              "      <td>12</td>\n",
              "      <td>1207</td>\n",
              "      <td>120703</td>\n",
              "      <td>1</td>\n",
              "      <td>9</td>\n",
              "      <td>Flat</td>\n",
              "      <td>Other</td>\n",
              "      <td>Bamboo/Timber-Light roof</td>\n",
              "      <td>Mud</td>\n",
              "      <td>Not applicable</td>\n",
              "      <td>Not attached</td>\n",
              "      <td>Rectangular</td>\n",
              "      <td>0</td>\n",
              "      <td>1</td>\n",
              "      <td>0</td>\n",
              "      <td>0</td>\n",
              "      <td>0</td>\n",
              "      <td>0</td>\n",
              "      <td>0</td>\n",
              "      <td>1</td>\n",
              "      <td>0</td>\n",
              "      <td>0</td>\n",
              "      <td>0</td>\n",
              "      <td>Grade 3</td>\n",
              "      <td>Private</td>\n",
              "      <td>1.0</td>\n",
              "      <td>0.0</td>\n",
              "      <td>0</td>\n",
              "      <td>0</td>\n",
              "      <td>0</td>\n",
              "      <td>0</td>\n",
              "      <td>0</td>\n",
              "      <td>0</td>\n",
              "      <td>0</td>\n",
              "      <td>0</td>\n",
              "      <td>0</td>\n",
              "      <td>0</td>\n",
              "    </tr>\n",
              "  </tbody>\n",
              "</table>\n",
              "</div>"
            ],
            "text/plain": [
              "    building_id  district_id  vdcmun_id  ward_id  count_floors_pre_eq  \\\n",
              "0  120101000011           12       1207   120703                    1   \n",
              "\n",
              "   age_building land_surface_condition foundation_type  \\\n",
              "0             9                   Flat           Other   \n",
              "\n",
              "                  roof_type ground_floor_type other_floor_type      position  \\\n",
              "0  Bamboo/Timber-Light roof               Mud   Not applicable  Not attached   \n",
              "\n",
              "  plan_configuration  has_superstructure_adobe_mud  \\\n",
              "0        Rectangular                             0   \n",
              "\n",
              "   has_superstructure_mud_mortar_stone  has_superstructure_stone_flag  \\\n",
              "0                                    1                              0   \n",
              "\n",
              "   has_superstructure_cement_mortar_stone  \\\n",
              "0                                       0   \n",
              "\n",
              "   has_superstructure_mud_mortar_brick  \\\n",
              "0                                    0   \n",
              "\n",
              "   has_superstructure_cement_mortar_brick  has_superstructure_timber  \\\n",
              "0                                       0                          0   \n",
              "\n",
              "   has_superstructure_bamboo  has_superstructure_rc_non_engineered  \\\n",
              "0                          1                                     0   \n",
              "\n",
              "   has_superstructure_rc_engineered  has_superstructure_other damage_grade  \\\n",
              "0                                 0                         0      Grade 3   \n",
              "\n",
              "  legal_ownership_status  count_families  has_secondary_use  \\\n",
              "0                Private             1.0                0.0   \n",
              "\n",
              "   has_secondary_use_agriculture  has_secondary_use_hotel  \\\n",
              "0                              0                        0   \n",
              "\n",
              "   has_secondary_use_rental  has_secondary_use_institution  \\\n",
              "0                         0                              0   \n",
              "\n",
              "   has_secondary_use_school  has_secondary_use_industry  \\\n",
              "0                         0                           0   \n",
              "\n",
              "   has_secondary_use_health_post  has_secondary_use_gov_office  \\\n",
              "0                              0                             0   \n",
              "\n",
              "   has_secondary_use_use_police  has_secondary_use_other  \n",
              "0                             0                        0  "
            ]
          },
          "execution_count": 83,
          "metadata": {},
          "output_type": "execute_result"
        }
      ],
      "source": [
        "comp_data_full.head(1)"
      ]
    },
    {
      "cell_type": "code",
      "execution_count": 84,
      "metadata": {},
      "outputs": [
        {
          "data": {
            "text/plain": [
              "(762106, 38)"
            ]
          },
          "execution_count": 84,
          "metadata": {},
          "output_type": "execute_result"
        }
      ],
      "source": [
        "comp_data_full.shape"
      ]
    },
    {
      "cell_type": "code",
      "execution_count": 85,
      "metadata": {},
      "outputs": [
        {
          "data": {
            "text/html": [
              "<div>\n",
              "<style scoped>\n",
              "    .dataframe tbody tr th:only-of-type {\n",
              "        vertical-align: middle;\n",
              "    }\n",
              "\n",
              "    .dataframe tbody tr th {\n",
              "        vertical-align: top;\n",
              "    }\n",
              "\n",
              "    .dataframe thead th {\n",
              "        text-align: right;\n",
              "    }\n",
              "</style>\n",
              "<table border=\"1\" class=\"dataframe\">\n",
              "  <thead>\n",
              "    <tr style=\"text-align: right;\">\n",
              "      <th></th>\n",
              "      <th>household_id</th>\n",
              "      <th>gender_household_head</th>\n",
              "      <th>age_household_head</th>\n",
              "      <th>education_level_household_head</th>\n",
              "      <th>income_level_household</th>\n",
              "      <th>size_household</th>\n",
              "      <th>building_id</th>\n",
              "    </tr>\n",
              "  </thead>\n",
              "  <tbody>\n",
              "    <tr>\n",
              "      <th>0</th>\n",
              "      <td>12010100001101</td>\n",
              "      <td>Male</td>\n",
              "      <td>31.0</td>\n",
              "      <td>Illiterate</td>\n",
              "      <td>0.0</td>\n",
              "      <td>3.0</td>\n",
              "      <td>120101000011</td>\n",
              "    </tr>\n",
              "  </tbody>\n",
              "</table>\n",
              "</div>"
            ],
            "text/plain": [
              "     household_id gender_household_head  age_household_head  \\\n",
              "0  12010100001101                  Male                31.0   \n",
              "\n",
              "  education_level_household_head  income_level_household  size_household  \\\n",
              "0                     Illiterate                     0.0             3.0   \n",
              "\n",
              "    building_id  \n",
              "0  120101000011  "
            ]
          },
          "execution_count": 85,
          "metadata": {},
          "output_type": "execute_result"
        }
      ],
      "source": [
        "h_demographics_ids.head(1)"
      ]
    },
    {
      "cell_type": "code",
      "execution_count": 86,
      "metadata": {},
      "outputs": [
        {
          "data": {
            "text/plain": [
              "(747137, 7)"
            ]
          },
          "execution_count": 86,
          "metadata": {},
          "output_type": "execute_result"
        }
      ],
      "source": [
        "h_demographics_ids.shape"
      ]
    },
    {
      "cell_type": "code",
      "execution_count": 87,
      "metadata": {},
      "outputs": [
        {
          "data": {
            "text/plain": [
              "747137"
            ]
          },
          "execution_count": 87,
          "metadata": {},
          "output_type": "execute_result"
        }
      ],
      "source": [
        "h_demographics_ids.household_id.nunique()"
      ]
    },
    {
      "cell_type": "code",
      "execution_count": 88,
      "metadata": {},
      "outputs": [],
      "source": [
        "comp_data_household = comp_data_full.merge(h_demographics_ids, on='building_id', how='inner')"
      ]
    },
    {
      "cell_type": "code",
      "execution_count": 89,
      "metadata": {},
      "outputs": [
        {
          "data": {
            "text/plain": [
              "(747137, 44)"
            ]
          },
          "execution_count": 89,
          "metadata": {},
          "output_type": "execute_result"
        }
      ],
      "source": [
        "comp_data_household.shape"
      ]
    },
    {
      "cell_type": "code",
      "execution_count": 17,
      "metadata": {},
      "outputs": [],
      "source": [
        "comp_house = pd.read_csv('/Users/chantalwuerschinger/code/chantalwuer/earthquake_damage/processed_data/comp_data_household.csv')"
      ]
    },
    {
      "cell_type": "code",
      "execution_count": 27,
      "metadata": {},
      "outputs": [
        {
          "name": "stdout",
          "output_type": "stream",
          "text": [
            "Original memory usage of df is 56 MB\n",
            "New memory usage of df is 56 MB\n"
          ]
        }
      ],
      "source": [
        "new_df = reduce_memory_df(comp_house)"
      ]
    },
    {
      "cell_type": "markdown",
      "metadata": {
        "id": "63c9NcVIPJlM"
      },
      "source": [
        "# For G Colab"
      ]
    },
    {
      "cell_type": "code",
      "execution_count": 28,
      "metadata": {
        "id": "4wHbMq2yPivn"
      },
      "outputs": [],
      "source": [
        "i_demographics_ids = pd.read_csv('/content/drive/MyDrive/Modeling_Earthquakes/processed_data/i_demographics_ids.csv')"
      ]
    },
    {
      "cell_type": "code",
      "execution_count": 31,
      "metadata": {
        "id": "A7UP7lz2Qgf6"
      },
      "outputs": [],
      "source": [
        "i_demographics_ids_small = i_demographics_ids[:1000]"
      ]
    },
    {
      "cell_type": "code",
      "execution_count": 32,
      "metadata": {
        "id": "AWopRW-0PJlM"
      },
      "outputs": [],
      "source": [
        "grouped_mode = i_demographics_ids_small.groupby(['building_id']).agg(pd.Series.mode)\n",
        " "
      ]
    },
    {
      "cell_type": "code",
      "execution_count": 33,
      "metadata": {
        "colab": {
          "base_uri": "https://localhost:8080/",
          "height": 238
        },
        "id": "UysBYU0QPyc-",
        "outputId": "431857ec-05f8-4b07-d47e-898015a90d84"
      },
      "outputs": [
        {
          "data": {
            "text/html": [
              "\n",
              "  <div id=\"df-57f411c1-6bd4-42c0-8688-1fb920e908fd\">\n",
              "    <div class=\"colab-df-container\">\n",
              "      <div>\n",
              "<style scoped>\n",
              "    .dataframe tbody tr th:only-of-type {\n",
              "        vertical-align: middle;\n",
              "    }\n",
              "\n",
              "    .dataframe tbody tr th {\n",
              "        vertical-align: top;\n",
              "    }\n",
              "\n",
              "    .dataframe thead th {\n",
              "        text-align: right;\n",
              "    }\n",
              "</style>\n",
              "<table border=\"1\" class=\"dataframe\">\n",
              "  <thead>\n",
              "    <tr style=\"text-align: right;\">\n",
              "      <th></th>\n",
              "      <th>gender_individual</th>\n",
              "      <th>presence_in_household</th>\n",
              "      <th>disability_individual</th>\n",
              "      <th>education_level_individual</th>\n",
              "      <th>marital_status_individual</th>\n",
              "      <th>household_id</th>\n",
              "    </tr>\n",
              "    <tr>\n",
              "      <th>building_id</th>\n",
              "      <th></th>\n",
              "      <th></th>\n",
              "      <th></th>\n",
              "      <th></th>\n",
              "      <th></th>\n",
              "      <th></th>\n",
              "    </tr>\n",
              "  </thead>\n",
              "  <tbody>\n",
              "    <tr>\n",
              "      <th>120101000011</th>\n",
              "      <td>0</td>\n",
              "      <td>0</td>\n",
              "      <td>0</td>\n",
              "      <td>Illiterate</td>\n",
              "      <td>Married</td>\n",
              "      <td>12010100001101</td>\n",
              "    </tr>\n",
              "    <tr>\n",
              "      <th>120101000021</th>\n",
              "      <td>1</td>\n",
              "      <td>0</td>\n",
              "      <td>0</td>\n",
              "      <td>In education</td>\n",
              "      <td>Married</td>\n",
              "      <td>12010100002101</td>\n",
              "    </tr>\n",
              "    <tr>\n",
              "      <th>120101000031</th>\n",
              "      <td>0</td>\n",
              "      <td>[0, 1]</td>\n",
              "      <td>0</td>\n",
              "      <td>In education</td>\n",
              "      <td>Married</td>\n",
              "      <td>12010100003101</td>\n",
              "    </tr>\n",
              "    <tr>\n",
              "      <th>120101000041</th>\n",
              "      <td>0</td>\n",
              "      <td>1</td>\n",
              "      <td>0</td>\n",
              "      <td>Illiterate</td>\n",
              "      <td>[Married, Not Married]</td>\n",
              "      <td>12010100004101</td>\n",
              "    </tr>\n",
              "    <tr>\n",
              "      <th>120101000051</th>\n",
              "      <td>0</td>\n",
              "      <td>[0, 1]</td>\n",
              "      <td>0</td>\n",
              "      <td>In education</td>\n",
              "      <td>Married</td>\n",
              "      <td>12010100005101</td>\n",
              "    </tr>\n",
              "  </tbody>\n",
              "</table>\n",
              "</div>\n",
              "      <button class=\"colab-df-convert\" onclick=\"convertToInteractive('df-57f411c1-6bd4-42c0-8688-1fb920e908fd')\"\n",
              "              title=\"Convert this dataframe to an interactive table.\"\n",
              "              style=\"display:none;\">\n",
              "        \n",
              "  <svg xmlns=\"http://www.w3.org/2000/svg\" height=\"24px\"viewBox=\"0 0 24 24\"\n",
              "       width=\"24px\">\n",
              "    <path d=\"M0 0h24v24H0V0z\" fill=\"none\"/>\n",
              "    <path d=\"M18.56 5.44l.94 2.06.94-2.06 2.06-.94-2.06-.94-.94-2.06-.94 2.06-2.06.94zm-11 1L8.5 8.5l.94-2.06 2.06-.94-2.06-.94L8.5 2.5l-.94 2.06-2.06.94zm10 10l.94 2.06.94-2.06 2.06-.94-2.06-.94-.94-2.06-.94 2.06-2.06.94z\"/><path d=\"M17.41 7.96l-1.37-1.37c-.4-.4-.92-.59-1.43-.59-.52 0-1.04.2-1.43.59L10.3 9.45l-7.72 7.72c-.78.78-.78 2.05 0 2.83L4 21.41c.39.39.9.59 1.41.59.51 0 1.02-.2 1.41-.59l7.78-7.78 2.81-2.81c.8-.78.8-2.07 0-2.86zM5.41 20L4 18.59l7.72-7.72 1.47 1.35L5.41 20z\"/>\n",
              "  </svg>\n",
              "      </button>\n",
              "      \n",
              "  <style>\n",
              "    .colab-df-container {\n",
              "      display:flex;\n",
              "      flex-wrap:wrap;\n",
              "      gap: 12px;\n",
              "    }\n",
              "\n",
              "    .colab-df-convert {\n",
              "      background-color: #E8F0FE;\n",
              "      border: none;\n",
              "      border-radius: 50%;\n",
              "      cursor: pointer;\n",
              "      display: none;\n",
              "      fill: #1967D2;\n",
              "      height: 32px;\n",
              "      padding: 0 0 0 0;\n",
              "      width: 32px;\n",
              "    }\n",
              "\n",
              "    .colab-df-convert:hover {\n",
              "      background-color: #E2EBFA;\n",
              "      box-shadow: 0px 1px 2px rgba(60, 64, 67, 0.3), 0px 1px 3px 1px rgba(60, 64, 67, 0.15);\n",
              "      fill: #174EA6;\n",
              "    }\n",
              "\n",
              "    [theme=dark] .colab-df-convert {\n",
              "      background-color: #3B4455;\n",
              "      fill: #D2E3FC;\n",
              "    }\n",
              "\n",
              "    [theme=dark] .colab-df-convert:hover {\n",
              "      background-color: #434B5C;\n",
              "      box-shadow: 0px 1px 3px 1px rgba(0, 0, 0, 0.15);\n",
              "      filter: drop-shadow(0px 1px 2px rgba(0, 0, 0, 0.3));\n",
              "      fill: #FFFFFF;\n",
              "    }\n",
              "  </style>\n",
              "\n",
              "      <script>\n",
              "        const buttonEl =\n",
              "          document.querySelector('#df-57f411c1-6bd4-42c0-8688-1fb920e908fd button.colab-df-convert');\n",
              "        buttonEl.style.display =\n",
              "          google.colab.kernel.accessAllowed ? 'block' : 'none';\n",
              "\n",
              "        async function convertToInteractive(key) {\n",
              "          const element = document.querySelector('#df-57f411c1-6bd4-42c0-8688-1fb920e908fd');\n",
              "          const dataTable =\n",
              "            await google.colab.kernel.invokeFunction('convertToInteractive',\n",
              "                                                     [key], {});\n",
              "          if (!dataTable) return;\n",
              "\n",
              "          const docLinkHtml = 'Like what you see? Visit the ' +\n",
              "            '<a target=\"_blank\" href=https://colab.research.google.com/notebooks/data_table.ipynb>data table notebook</a>'\n",
              "            + ' to learn more about interactive tables.';\n",
              "          element.innerHTML = '';\n",
              "          dataTable['output_type'] = 'display_data';\n",
              "          await google.colab.output.renderOutput(dataTable, element);\n",
              "          const docLink = document.createElement('div');\n",
              "          docLink.innerHTML = docLinkHtml;\n",
              "          element.appendChild(docLink);\n",
              "        }\n",
              "      </script>\n",
              "    </div>\n",
              "  </div>\n",
              "  "
            ],
            "text/plain": [
              "             gender_individual presence_in_household disability_individual  \\\n",
              "building_id                                                                  \n",
              "120101000011                 0                     0                     0   \n",
              "120101000021                 1                     0                     0   \n",
              "120101000031                 0                [0, 1]                     0   \n",
              "120101000041                 0                     1                     0   \n",
              "120101000051                 0                [0, 1]                     0   \n",
              "\n",
              "             education_level_individual marital_status_individual  \\\n",
              "building_id                                                         \n",
              "120101000011                 Illiterate                   Married   \n",
              "120101000021               In education                   Married   \n",
              "120101000031               In education                   Married   \n",
              "120101000041                 Illiterate    [Married, Not Married]   \n",
              "120101000051               In education                   Married   \n",
              "\n",
              "                household_id  \n",
              "building_id                   \n",
              "120101000011  12010100001101  \n",
              "120101000021  12010100002101  \n",
              "120101000031  12010100003101  \n",
              "120101000041  12010100004101  \n",
              "120101000051  12010100005101  "
            ]
          },
          "execution_count": 33,
          "metadata": {},
          "output_type": "execute_result"
        }
      ],
      "source": [
        "grouped_mode.head()"
      ]
    },
    {
      "cell_type": "code",
      "execution_count": 61,
      "metadata": {
        "id": "hLdMIs5zBxGf"
      },
      "outputs": [],
      "source": [
        "grouped_age = i_demographics_ids.groupby('household_id')[['age_individual']].mean()\n",
        "grouped_age"
      ]
    },
    {
      "cell_type": "code",
      "execution_count": 64,
      "metadata": {
        "id": "ieQ0T8-DC_aH"
      },
      "outputs": [],
      "source": [
        "grouped_age.shape\n",
        "\n",
        "grouped_age.to_csv('/content/drive/MyDrive/Modeling_Earthquakes/processed_data/average_household_age.csv')"
      ]
    },
    {
      "cell_type": "code",
      "execution_count": 63,
      "metadata": {
        "colab": {
          "base_uri": "https://localhost:8080/"
        },
        "id": "wkNG5EEWXLnR",
        "outputId": "c13e59c1-c787-411b-f531-e0f80d21a908"
      },
      "outputs": [
        {
          "data": {
            "text/plain": [
              "(747137, 1)"
            ]
          },
          "execution_count": 63,
          "metadata": {},
          "output_type": "execute_result"
        }
      ],
      "source": [
        "grouped_age.shape"
      ]
    },
    {
      "cell_type": "code",
      "execution_count": null,
      "metadata": {
        "id": "SKbbjxFTDH-E"
      },
      "outputs": [],
      "source": [
        "grouped_all = i_demographics_ids.groupby('building_id').mean()\n"
      ]
    },
    {
      "cell_type": "code",
      "execution_count": null,
      "metadata": {
        "colab": {
          "base_uri": "https://localhost:8080/",
          "height": 238
        },
        "id": "gsXGV4yrDX-7",
        "outputId": "d5784135-e954-420d-ba1a-5940084728ad"
      },
      "outputs": [
        {
          "data": {
            "text/html": [
              "\n",
              "  <div id=\"df-3dda04cc-ec2d-45eb-ad9a-e73814d3d66b\">\n",
              "    <div class=\"colab-df-container\">\n",
              "      <div>\n",
              "<style scoped>\n",
              "    .dataframe tbody tr th:only-of-type {\n",
              "        vertical-align: middle;\n",
              "    }\n",
              "\n",
              "    .dataframe tbody tr th {\n",
              "        vertical-align: top;\n",
              "    }\n",
              "\n",
              "    .dataframe thead th {\n",
              "        text-align: right;\n",
              "    }\n",
              "</style>\n",
              "<table border=\"1\" class=\"dataframe\">\n",
              "  <thead>\n",
              "    <tr style=\"text-align: right;\">\n",
              "      <th></th>\n",
              "      <th>individual_id</th>\n",
              "      <th>age_individual</th>\n",
              "      <th>has_registered_birth</th>\n",
              "      <th>household_id</th>\n",
              "    </tr>\n",
              "    <tr>\n",
              "      <th>building_id</th>\n",
              "      <th></th>\n",
              "      <th></th>\n",
              "      <th></th>\n",
              "      <th></th>\n",
              "    </tr>\n",
              "  </thead>\n",
              "  <tbody>\n",
              "    <tr>\n",
              "      <th>120101000011</th>\n",
              "      <td>1.201010e+16</td>\n",
              "      <td>34.666667</td>\n",
              "      <td>NaN</td>\n",
              "      <td>1.201010e+13</td>\n",
              "    </tr>\n",
              "    <tr>\n",
              "      <th>120101000021</th>\n",
              "      <td>1.201010e+16</td>\n",
              "      <td>22.333333</td>\n",
              "      <td>0.5</td>\n",
              "      <td>1.201010e+13</td>\n",
              "    </tr>\n",
              "    <tr>\n",
              "      <th>120101000031</th>\n",
              "      <td>1.201010e+16</td>\n",
              "      <td>26.461538</td>\n",
              "      <td>1.0</td>\n",
              "      <td>1.201010e+13</td>\n",
              "    </tr>\n",
              "    <tr>\n",
              "      <th>120101000041</th>\n",
              "      <td>1.201010e+16</td>\n",
              "      <td>22.200000</td>\n",
              "      <td>0.0</td>\n",
              "      <td>1.201010e+13</td>\n",
              "    </tr>\n",
              "    <tr>\n",
              "      <th>120101000051</th>\n",
              "      <td>1.201010e+16</td>\n",
              "      <td>28.000000</td>\n",
              "      <td>0.0</td>\n",
              "      <td>1.201010e+13</td>\n",
              "    </tr>\n",
              "  </tbody>\n",
              "</table>\n",
              "</div>\n",
              "      <button class=\"colab-df-convert\" onclick=\"convertToInteractive('df-3dda04cc-ec2d-45eb-ad9a-e73814d3d66b')\"\n",
              "              title=\"Convert this dataframe to an interactive table.\"\n",
              "              style=\"display:none;\">\n",
              "        \n",
              "  <svg xmlns=\"http://www.w3.org/2000/svg\" height=\"24px\"viewBox=\"0 0 24 24\"\n",
              "       width=\"24px\">\n",
              "    <path d=\"M0 0h24v24H0V0z\" fill=\"none\"/>\n",
              "    <path d=\"M18.56 5.44l.94 2.06.94-2.06 2.06-.94-2.06-.94-.94-2.06-.94 2.06-2.06.94zm-11 1L8.5 8.5l.94-2.06 2.06-.94-2.06-.94L8.5 2.5l-.94 2.06-2.06.94zm10 10l.94 2.06.94-2.06 2.06-.94-2.06-.94-.94-2.06-.94 2.06-2.06.94z\"/><path d=\"M17.41 7.96l-1.37-1.37c-.4-.4-.92-.59-1.43-.59-.52 0-1.04.2-1.43.59L10.3 9.45l-7.72 7.72c-.78.78-.78 2.05 0 2.83L4 21.41c.39.39.9.59 1.41.59.51 0 1.02-.2 1.41-.59l7.78-7.78 2.81-2.81c.8-.78.8-2.07 0-2.86zM5.41 20L4 18.59l7.72-7.72 1.47 1.35L5.41 20z\"/>\n",
              "  </svg>\n",
              "      </button>\n",
              "      \n",
              "  <style>\n",
              "    .colab-df-container {\n",
              "      display:flex;\n",
              "      flex-wrap:wrap;\n",
              "      gap: 12px;\n",
              "    }\n",
              "\n",
              "    .colab-df-convert {\n",
              "      background-color: #E8F0FE;\n",
              "      border: none;\n",
              "      border-radius: 50%;\n",
              "      cursor: pointer;\n",
              "      display: none;\n",
              "      fill: #1967D2;\n",
              "      height: 32px;\n",
              "      padding: 0 0 0 0;\n",
              "      width: 32px;\n",
              "    }\n",
              "\n",
              "    .colab-df-convert:hover {\n",
              "      background-color: #E2EBFA;\n",
              "      box-shadow: 0px 1px 2px rgba(60, 64, 67, 0.3), 0px 1px 3px 1px rgba(60, 64, 67, 0.15);\n",
              "      fill: #174EA6;\n",
              "    }\n",
              "\n",
              "    [theme=dark] .colab-df-convert {\n",
              "      background-color: #3B4455;\n",
              "      fill: #D2E3FC;\n",
              "    }\n",
              "\n",
              "    [theme=dark] .colab-df-convert:hover {\n",
              "      background-color: #434B5C;\n",
              "      box-shadow: 0px 1px 3px 1px rgba(0, 0, 0, 0.15);\n",
              "      filter: drop-shadow(0px 1px 2px rgba(0, 0, 0, 0.3));\n",
              "      fill: #FFFFFF;\n",
              "    }\n",
              "  </style>\n",
              "\n",
              "      <script>\n",
              "        const buttonEl =\n",
              "          document.querySelector('#df-3dda04cc-ec2d-45eb-ad9a-e73814d3d66b button.colab-df-convert');\n",
              "        buttonEl.style.display =\n",
              "          google.colab.kernel.accessAllowed ? 'block' : 'none';\n",
              "\n",
              "        async function convertToInteractive(key) {\n",
              "          const element = document.querySelector('#df-3dda04cc-ec2d-45eb-ad9a-e73814d3d66b');\n",
              "          const dataTable =\n",
              "            await google.colab.kernel.invokeFunction('convertToInteractive',\n",
              "                                                     [key], {});\n",
              "          if (!dataTable) return;\n",
              "\n",
              "          const docLinkHtml = 'Like what you see? Visit the ' +\n",
              "            '<a target=\"_blank\" href=https://colab.research.google.com/notebooks/data_table.ipynb>data table notebook</a>'\n",
              "            + ' to learn more about interactive tables.';\n",
              "          element.innerHTML = '';\n",
              "          dataTable['output_type'] = 'display_data';\n",
              "          await google.colab.output.renderOutput(dataTable, element);\n",
              "          const docLink = document.createElement('div');\n",
              "          docLink.innerHTML = docLinkHtml;\n",
              "          element.appendChild(docLink);\n",
              "        }\n",
              "      </script>\n",
              "    </div>\n",
              "  </div>\n",
              "  "
            ],
            "text/plain": [
              "              individual_id  age_individual  has_registered_birth  \\\n",
              "building_id                                                         \n",
              "120101000011   1.201010e+16       34.666667                   NaN   \n",
              "120101000021   1.201010e+16       22.333333                   0.5   \n",
              "120101000031   1.201010e+16       26.461538                   1.0   \n",
              "120101000041   1.201010e+16       22.200000                   0.0   \n",
              "120101000051   1.201010e+16       28.000000                   0.0   \n",
              "\n",
              "              household_id  \n",
              "building_id                 \n",
              "120101000011  1.201010e+13  \n",
              "120101000021  1.201010e+13  \n",
              "120101000031  1.201010e+13  \n",
              "120101000041  1.201010e+13  \n",
              "120101000051  1.201010e+13  "
            ]
          },
          "execution_count": 21,
          "metadata": {},
          "output_type": "execute_result"
        }
      ],
      "source": [
        "grouped_all.head()"
      ]
    },
    {
      "cell_type": "code",
      "execution_count": null,
      "metadata": {
        "id": "imQr1kU6DZ1g"
      },
      "outputs": [],
      "source": []
    }
  ],
  "metadata": {
    "accelerator": "GPU",
    "colab": {
      "include_colab_link": true,
      "provenance": []
    },
    "gpuClass": "standard",
    "kernelspec": {
      "display_name": "Python 3.10.6 64-bit ('earthquake_env')",
      "language": "python",
      "name": "python3"
    },
    "language_info": {
      "codemirror_mode": {
        "name": "ipython",
        "version": 3
      },
      "file_extension": ".py",
      "mimetype": "text/x-python",
      "name": "python",
      "nbconvert_exporter": "python",
      "pygments_lexer": "ipython3",
      "version": "3.10.6"
    },
    "orig_nbformat": 4,
    "vscode": {
      "interpreter": {
        "hash": "2f9be42f8ee9d683210b4f105245095b23f8a50188902d8867e978f6bd462757"
      }
    }
  },
  "nbformat": 4,
  "nbformat_minor": 0
}
