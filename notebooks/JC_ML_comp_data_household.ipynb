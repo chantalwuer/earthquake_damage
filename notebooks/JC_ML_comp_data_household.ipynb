{
 "cells": [
  {
   "cell_type": "markdown",
   "metadata": {},
   "source": [
    "# Model flow on comp_data_household \n"
   ]
  },
  {
   "cell_type": "markdown",
   "metadata": {},
   "source": [
    "## Import packages and data"
   ]
  },
  {
   "cell_type": "code",
   "execution_count": 2,
   "metadata": {},
   "outputs": [],
   "source": [
    "%load_ext autoreload\n",
    "%autoreload 2"
   ]
  },
  {
   "cell_type": "code",
   "execution_count": 3,
   "metadata": {},
   "outputs": [],
   "source": [
    "import pandas as pd\n",
    "import numpy as np\n",
    "import matplotlib.pyplot as plt\n",
    "from earthquake_damage.ml_logic.preprocessor import cus_imputation, preprocess_features, preprocess_targets\n",
    "from earthquake_damage.data.main import train_test_val"
   ]
  },
  {
   "cell_type": "markdown",
   "metadata": {},
   "source": [
    "## Imputation and preprocess the data "
   ]
  },
  {
   "cell_type": "code",
   "execution_count": 4,
   "metadata": {},
   "outputs": [
    {
     "name": "stdout",
     "output_type": "stream",
     "text": [
      "\n",
      "Imputation...\n",
      "\n",
      "✅  There are 26 vaules missing in the dataset.\n",
      "\n",
      "✅ df_imputed, with shape (747137, 44)\n",
      "✅ df_imputed saved to /Users/caobai/code/chantalwuer/earthquake_damage/processed_data/df_imputed.csv\n"
     ]
    }
   ],
   "source": [
    "cus_imputation(filename = 'comp_data_household')"
   ]
  },
  {
   "cell_type": "code",
   "execution_count": 5,
   "metadata": {},
   "outputs": [
    {
     "name": "stdout",
     "output_type": "stream",
     "text": [
      "\n",
      "Preprocess features...\n",
      "\n",
      "✅ X_processed, with shape (747137, 79)\n",
      "✅ X_processed saved to /Users/caobai/code/chantalwuer/earthquake_damage/processed_data/X_processed.csv\n",
      "\n",
      "Preprocess target...\n",
      "\n",
      "✅ y processed, with shape (747137,)\n",
      "✅ y_processed saved to /Users/caobai/code/chantalwuer/earthquake_damage/processed_data/y_processed.csv\n"
     ]
    }
   ],
   "source": [
    "preprocess_features()\n",
    "preprocess_targets()"
   ]
  },
  {
   "cell_type": "code",
   "execution_count": 6,
   "metadata": {},
   "outputs": [],
   "source": [
    "X = pd.read_csv('/Users/caobai/code/chantalwuer/earthquake_damage/processed_data/X_processed.csv')\n",
    "y = pd.read_csv('/Users/caobai/code/chantalwuer/earthquake_damage/processed_data/y_processed.csv')\n"
   ]
  },
  {
   "cell_type": "code",
   "execution_count": 7,
   "metadata": {},
   "outputs": [
    {
     "data": {
      "text/plain": [
       "((747137, 79), (747137, 1))"
      ]
     },
     "execution_count": 7,
     "metadata": {},
     "output_type": "execute_result"
    }
   ],
   "source": [
    "X.shape, y.shape"
   ]
  },
  {
   "cell_type": "code",
   "execution_count": 8,
   "metadata": {},
   "outputs": [
    {
     "data": {
      "text/plain": [
       "Index(['building_id', 'district_id', 'vdcmun_id', 'ward_id',\n",
       "       'count_floors_pre_eq', 'age_building', 'land_surface_condition',\n",
       "       'foundation_type', 'roof_type', 'ground_floor_type', 'other_floor_type',\n",
       "       'position', 'plan_configuration', 'has_superstructure_adobe_mud',\n",
       "       'has_superstructure_mud_mortar_stone', 'has_superstructure_stone_flag',\n",
       "       'has_superstructure_cement_mortar_stone',\n",
       "       'has_superstructure_mud_mortar_brick',\n",
       "       'has_superstructure_cement_mortar_brick', 'has_superstructure_timber',\n",
       "       'has_superstructure_bamboo', 'has_superstructure_rc_non_engineered',\n",
       "       'has_superstructure_rc_engineered', 'has_superstructure_other',\n",
       "       'damage_grade', 'legal_ownership_status', 'count_families',\n",
       "       'has_secondary_use', 'has_secondary_use_agriculture',\n",
       "       'has_secondary_use_hotel', 'has_secondary_use_rental',\n",
       "       'has_secondary_use_institution', 'has_secondary_use_school',\n",
       "       'has_secondary_use_industry', 'has_secondary_use_health_post',\n",
       "       'has_secondary_use_gov_office', 'has_secondary_use_use_police',\n",
       "       'has_secondary_use_other', 'household_id', 'gender_household_head',\n",
       "       'age_household_head', 'education_level_household_head',\n",
       "       'income_level_household', 'size_household'],\n",
       "      dtype='object')"
      ]
     },
     "execution_count": 8,
     "metadata": {},
     "output_type": "execute_result"
    }
   ],
   "source": [
    "a = pd.read_csv('/Users/caobai/code/chantalwuer/earthquake_damage/processed_data/df_imputed.csv')\n",
    "a.columns "
   ]
  },
  {
   "cell_type": "markdown",
   "metadata": {},
   "source": [
    "## Check data statistics"
   ]
  },
  {
   "cell_type": "code",
   "execution_count": 21,
   "metadata": {},
   "outputs": [
    {
     "data": {
      "text/plain": [
       "0"
      ]
     },
     "execution_count": 21,
     "metadata": {},
     "output_type": "execute_result"
    }
   ],
   "source": [
    "X.isna().sum().sum()"
   ]
  },
  {
   "cell_type": "code",
   "execution_count": 22,
   "metadata": {},
   "outputs": [
    {
     "data": {
      "text/plain": [
       "0"
      ]
     },
     "execution_count": 22,
     "metadata": {},
     "output_type": "execute_result"
    }
   ],
   "source": [
    "X.duplicated().sum()"
   ]
  },
  {
   "cell_type": "code",
   "execution_count": 25,
   "metadata": {},
   "outputs": [
    {
     "data": {
      "text/plain": [
       "damage_grade\n",
       "4               276274\n",
       "3               181467\n",
       "2               132168\n",
       "1                83609\n",
       "0                73619\n",
       "dtype: int64"
      ]
     },
     "execution_count": 25,
     "metadata": {},
     "output_type": "execute_result"
    }
   ],
   "source": [
    "y.value_counts()"
   ]
  },
  {
   "cell_type": "code",
   "execution_count": 10,
   "metadata": {},
   "outputs": [],
   "source": [
    "X_train, X_test, X_val, y_train, y_test, y_val = train_test_val()"
   ]
  },
  {
   "cell_type": "code",
   "execution_count": 11,
   "metadata": {},
   "outputs": [],
   "source": [
    "y_train = y_train['damage_grade']\n",
    "y_val = y_val['damage_grade']\n",
    "y_test = y_test['damage_grade']"
   ]
  },
  {
   "cell_type": "markdown",
   "metadata": {},
   "source": [
    "## PCA on dimensionality reduction \n",
    "### The accuracy & f1_micro score is better without PCA "
   ]
  },
  {
   "cell_type": "code",
   "execution_count": 28,
   "metadata": {},
   "outputs": [],
   "source": [
    "from sklearn.decomposition import PCA\n",
    "pca = PCA(n_components=10)\n",
    "X_train_pca = pca.fit_transform(X_train)\n"
   ]
  },
  {
   "cell_type": "code",
   "execution_count": 29,
   "metadata": {},
   "outputs": [
    {
     "data": {
      "text/html": [
       "<style>#sk-container-id-2 {color: black;background-color: white;}#sk-container-id-2 pre{padding: 0;}#sk-container-id-2 div.sk-toggleable {background-color: white;}#sk-container-id-2 label.sk-toggleable__label {cursor: pointer;display: block;width: 100%;margin-bottom: 0;padding: 0.3em;box-sizing: border-box;text-align: center;}#sk-container-id-2 label.sk-toggleable__label-arrow:before {content: \"▸\";float: left;margin-right: 0.25em;color: #696969;}#sk-container-id-2 label.sk-toggleable__label-arrow:hover:before {color: black;}#sk-container-id-2 div.sk-estimator:hover label.sk-toggleable__label-arrow:before {color: black;}#sk-container-id-2 div.sk-toggleable__content {max-height: 0;max-width: 0;overflow: hidden;text-align: left;background-color: #f0f8ff;}#sk-container-id-2 div.sk-toggleable__content pre {margin: 0.2em;color: black;border-radius: 0.25em;background-color: #f0f8ff;}#sk-container-id-2 input.sk-toggleable__control:checked~div.sk-toggleable__content {max-height: 200px;max-width: 100%;overflow: auto;}#sk-container-id-2 input.sk-toggleable__control:checked~label.sk-toggleable__label-arrow:before {content: \"▾\";}#sk-container-id-2 div.sk-estimator input.sk-toggleable__control:checked~label.sk-toggleable__label {background-color: #d4ebff;}#sk-container-id-2 div.sk-label input.sk-toggleable__control:checked~label.sk-toggleable__label {background-color: #d4ebff;}#sk-container-id-2 input.sk-hidden--visually {border: 0;clip: rect(1px 1px 1px 1px);clip: rect(1px, 1px, 1px, 1px);height: 1px;margin: -1px;overflow: hidden;padding: 0;position: absolute;width: 1px;}#sk-container-id-2 div.sk-estimator {font-family: monospace;background-color: #f0f8ff;border: 1px dotted black;border-radius: 0.25em;box-sizing: border-box;margin-bottom: 0.5em;}#sk-container-id-2 div.sk-estimator:hover {background-color: #d4ebff;}#sk-container-id-2 div.sk-parallel-item::after {content: \"\";width: 100%;border-bottom: 1px solid gray;flex-grow: 1;}#sk-container-id-2 div.sk-label:hover label.sk-toggleable__label {background-color: #d4ebff;}#sk-container-id-2 div.sk-serial::before {content: \"\";position: absolute;border-left: 1px solid gray;box-sizing: border-box;top: 0;bottom: 0;left: 50%;z-index: 0;}#sk-container-id-2 div.sk-serial {display: flex;flex-direction: column;align-items: center;background-color: white;padding-right: 0.2em;padding-left: 0.2em;position: relative;}#sk-container-id-2 div.sk-item {position: relative;z-index: 1;}#sk-container-id-2 div.sk-parallel {display: flex;align-items: stretch;justify-content: center;background-color: white;position: relative;}#sk-container-id-2 div.sk-item::before, #sk-container-id-2 div.sk-parallel-item::before {content: \"\";position: absolute;border-left: 1px solid gray;box-sizing: border-box;top: 0;bottom: 0;left: 50%;z-index: -1;}#sk-container-id-2 div.sk-parallel-item {display: flex;flex-direction: column;z-index: 1;position: relative;background-color: white;}#sk-container-id-2 div.sk-parallel-item:first-child::after {align-self: flex-end;width: 50%;}#sk-container-id-2 div.sk-parallel-item:last-child::after {align-self: flex-start;width: 50%;}#sk-container-id-2 div.sk-parallel-item:only-child::after {width: 0;}#sk-container-id-2 div.sk-dashed-wrapped {border: 1px dashed gray;margin: 0 0.4em 0.5em 0.4em;box-sizing: border-box;padding-bottom: 0.4em;background-color: white;}#sk-container-id-2 div.sk-label label {font-family: monospace;font-weight: bold;display: inline-block;line-height: 1.2em;}#sk-container-id-2 div.sk-label-container {text-align: center;}#sk-container-id-2 div.sk-container {/* jupyter's `normalize.less` sets `[hidden] { display: none; }` but bootstrap.min.css set `[hidden] { display: none !important; }` so we also need the `!important` here to be able to override the default hidden behavior on the sphinx rendered scikit-learn.org. See: https://github.com/scikit-learn/scikit-learn/issues/21755 */display: inline-block !important;position: relative;}#sk-container-id-2 div.sk-text-repr-fallback {display: none;}</style><div id=\"sk-container-id-2\" class=\"sk-top-container\"><div class=\"sk-text-repr-fallback\"><pre>KNeighborsClassifier()</pre><b>In a Jupyter environment, please rerun this cell to show the HTML representation or trust the notebook. <br />On GitHub, the HTML representation is unable to render, please try loading this page with nbviewer.org.</b></div><div class=\"sk-container\" hidden><div class=\"sk-item\"><div class=\"sk-estimator sk-toggleable\"><input class=\"sk-toggleable__control sk-hidden--visually\" id=\"sk-estimator-id-2\" type=\"checkbox\" checked><label for=\"sk-estimator-id-2\" class=\"sk-toggleable__label sk-toggleable__label-arrow\">KNeighborsClassifier</label><div class=\"sk-toggleable__content\"><pre>KNeighborsClassifier()</pre></div></div></div></div></div>"
      ],
      "text/plain": [
       "KNeighborsClassifier()"
      ]
     },
     "execution_count": 29,
     "metadata": {},
     "output_type": "execute_result"
    }
   ],
   "source": [
    "from sklearn.neighbors import KNeighborsClassifier\n",
    "knn = KNeighborsClassifier()\n",
    "knn.fit(X_train_pca, y_train)\n"
   ]
  },
  {
   "cell_type": "code",
   "execution_count": 30,
   "metadata": {},
   "outputs": [],
   "source": [
    "X_val_pca = pca.transform(X_val)\n",
    "y_val_pred_pca = knn.predict(X_val_pca)\n"
   ]
  },
  {
   "cell_type": "code",
   "execution_count": 31,
   "metadata": {},
   "outputs": [
    {
     "data": {
      "text/plain": [
       "0.3802300040908671"
      ]
     },
     "execution_count": 31,
     "metadata": {},
     "output_type": "execute_result"
    }
   ],
   "source": [
    "from sklearn.metrics import balanced_accuracy_score\n",
    "balanced_accuracy_score(y_val, y_val_pred_pca)"
   ]
  },
  {
   "cell_type": "code",
   "execution_count": 32,
   "metadata": {},
   "outputs": [],
   "source": [
    "knn.fit(X_train, y_train)\n",
    "y_val_pred = knn.predict(X_val)"
   ]
  },
  {
   "cell_type": "code",
   "execution_count": 33,
   "metadata": {},
   "outputs": [
    {
     "data": {
      "text/plain": [
       "0.4038442715541331"
      ]
     },
     "execution_count": 33,
     "metadata": {},
     "output_type": "execute_result"
    }
   ],
   "source": [
    "balanced_accuracy_score(y_val, y_val_pred)"
   ]
  },
  {
   "cell_type": "code",
   "execution_count": 34,
   "metadata": {},
   "outputs": [
    {
     "name": "stdout",
     "output_type": "stream",
     "text": [
      "f1-micro with pca 0.25027884109180787\n",
      "f1-micro without pca 0.2532412488511747\n"
     ]
    }
   ],
   "source": [
    "from sklearn.metrics import f1_score\n",
    "\n",
    "print('f1-micro with pca',f1_score(y_test, y_val_pred_pca, average='micro'))\n",
    "print('f1-micro without pca',f1_score(y_test, y_val_pred, average='micro'))\n"
   ]
  },
  {
   "cell_type": "code",
   "execution_count": 14,
   "metadata": {},
   "outputs": [
    {
     "data": {
      "text/plain": [
       "0.5820506643110172"
      ]
     },
     "execution_count": 14,
     "metadata": {},
     "output_type": "execute_result"
    }
   ],
   "source": [
    "from sklearn.metrics import f1_score\n",
    "f1_score(y_val, y_val_pred, average='micro')"
   ]
  },
  {
   "cell_type": "markdown",
   "metadata": {},
   "source": [
    "### Use model.feature_importances_ to select features"
   ]
  },
  {
   "cell_type": "code",
   "execution_count": 123,
   "metadata": {},
   "outputs": [],
   "source": [
    "from xgboost import XGBClassifier\n",
    "\n",
    "xgb_model = XGBClassifier(n_jobs=-1)\n",
    "\n",
    "xgb_model.fit(X_train, y_train)\n",
    "\n",
    "y_val_pred = xgb_model.predict(X_val)\n"
   ]
  },
  {
   "cell_type": "code",
   "execution_count": 127,
   "metadata": {},
   "outputs": [
    {
     "data": {
      "text/html": [
       "<div>\n",
       "<style scoped>\n",
       "    .dataframe tbody tr th:only-of-type {\n",
       "        vertical-align: middle;\n",
       "    }\n",
       "\n",
       "    .dataframe tbody tr th {\n",
       "        vertical-align: top;\n",
       "    }\n",
       "\n",
       "    .dataframe thead th {\n",
       "        text-align: right;\n",
       "    }\n",
       "</style>\n",
       "<table border=\"1\" class=\"dataframe\">\n",
       "  <thead>\n",
       "    <tr style=\"text-align: right;\">\n",
       "      <th></th>\n",
       "      <th>0</th>\n",
       "    </tr>\n",
       "  </thead>\n",
       "  <tbody>\n",
       "    <tr>\n",
       "      <th>pipeline-1__has_superstructure_mud_mortar_stone</th>\n",
       "      <td>0.308947</td>\n",
       "    </tr>\n",
       "    <tr>\n",
       "      <th>pipeline-1__district_id</th>\n",
       "      <td>0.057673</td>\n",
       "    </tr>\n",
       "    <tr>\n",
       "      <th>pipeline-2__foundation_type_Mud mortar-Stone/Brick</th>\n",
       "      <td>0.052590</td>\n",
       "    </tr>\n",
       "    <tr>\n",
       "      <th>pipeline-2__ground_floor_type_RC</th>\n",
       "      <td>0.048562</td>\n",
       "    </tr>\n",
       "    <tr>\n",
       "      <th>pipeline-1__has_superstructure_stone_flag</th>\n",
       "      <td>0.042680</td>\n",
       "    </tr>\n",
       "    <tr>\n",
       "      <th>pipeline-2__roof_type_RCC/RB/RBC</th>\n",
       "      <td>0.042140</td>\n",
       "    </tr>\n",
       "    <tr>\n",
       "      <th>pipeline-1__vdcmun_id</th>\n",
       "      <td>0.042011</td>\n",
       "    </tr>\n",
       "    <tr>\n",
       "      <th>pipeline-2__other_floor_type_TImber/Bamboo-Mud</th>\n",
       "      <td>0.030566</td>\n",
       "    </tr>\n",
       "    <tr>\n",
       "      <th>pipeline-1__ward_id</th>\n",
       "      <td>0.024305</td>\n",
       "    </tr>\n",
       "    <tr>\n",
       "      <th>pipeline-1__has_superstructure_cement_mortar_brick</th>\n",
       "      <td>0.021347</td>\n",
       "    </tr>\n",
       "    <tr>\n",
       "      <th>pipeline-1__has_superstructure_adobe_mud</th>\n",
       "      <td>0.020533</td>\n",
       "    </tr>\n",
       "    <tr>\n",
       "      <th>pipeline-2__foundation_type_RC</th>\n",
       "      <td>0.018315</td>\n",
       "    </tr>\n",
       "    <tr>\n",
       "      <th>pipeline-1__household_id</th>\n",
       "      <td>0.017461</td>\n",
       "    </tr>\n",
       "    <tr>\n",
       "      <th>pipeline-1__has_superstructure_mud_mortar_brick</th>\n",
       "      <td>0.012951</td>\n",
       "    </tr>\n",
       "    <tr>\n",
       "      <th>pipeline-1__has_superstructure_rc_engineered</th>\n",
       "      <td>0.011829</td>\n",
       "    </tr>\n",
       "    <tr>\n",
       "      <th>pipeline-2__other_floor_type_Not applicable</th>\n",
       "      <td>0.011404</td>\n",
       "    </tr>\n",
       "    <tr>\n",
       "      <th>pipeline-2__foundation_type_Bamboo/Timber</th>\n",
       "      <td>0.010342</td>\n",
       "    </tr>\n",
       "    <tr>\n",
       "      <th>pipeline-2__ground_floor_type_Timber</th>\n",
       "      <td>0.009529</td>\n",
       "    </tr>\n",
       "    <tr>\n",
       "      <th>pipeline-1__has_superstructure_timber</th>\n",
       "      <td>0.009278</td>\n",
       "    </tr>\n",
       "    <tr>\n",
       "      <th>pipeline-2__roof_type_Bamboo/Timber-Light roof</th>\n",
       "      <td>0.008506</td>\n",
       "    </tr>\n",
       "    <tr>\n",
       "      <th>pipeline-1__has_secondary_use</th>\n",
       "      <td>0.008178</td>\n",
       "    </tr>\n",
       "    <tr>\n",
       "      <th>pipeline-2__foundation_type_Other</th>\n",
       "      <td>0.007928</td>\n",
       "    </tr>\n",
       "    <tr>\n",
       "      <th>pipeline-1__age_building</th>\n",
       "      <td>0.006713</td>\n",
       "    </tr>\n",
       "    <tr>\n",
       "      <th>pipeline-1__has_superstructure_rc_non_engineered</th>\n",
       "      <td>0.006672</td>\n",
       "    </tr>\n",
       "    <tr>\n",
       "      <th>pipeline-2__ground_floor_type_Brick/Stone</th>\n",
       "      <td>0.006384</td>\n",
       "    </tr>\n",
       "    <tr>\n",
       "      <th>pipeline-2__ground_floor_type_Mud</th>\n",
       "      <td>0.006165</td>\n",
       "    </tr>\n",
       "    <tr>\n",
       "      <th>pipeline-2__roof_type_Bamboo/Timber-Heavy roof</th>\n",
       "      <td>0.006139</td>\n",
       "    </tr>\n",
       "    <tr>\n",
       "      <th>pipeline-1__count_floors_pre_eq</th>\n",
       "      <td>0.005751</td>\n",
       "    </tr>\n",
       "    <tr>\n",
       "      <th>pipeline-2__plan_configuration_L-shape</th>\n",
       "      <td>0.005683</td>\n",
       "    </tr>\n",
       "    <tr>\n",
       "      <th>pipeline-1__has_secondary_use_other</th>\n",
       "      <td>0.005651</td>\n",
       "    </tr>\n",
       "    <tr>\n",
       "      <th>pipeline-1__has_superstructure_cement_mortar_stone</th>\n",
       "      <td>0.005558</td>\n",
       "    </tr>\n",
       "    <tr>\n",
       "      <th>pipeline-2__land_surface_condition_Flat</th>\n",
       "      <td>0.005537</td>\n",
       "    </tr>\n",
       "    <tr>\n",
       "      <th>pipeline-1__has_superstructure_other</th>\n",
       "      <td>0.005415</td>\n",
       "    </tr>\n",
       "    <tr>\n",
       "      <th>pipeline-1__has_superstructure_bamboo</th>\n",
       "      <td>0.005250</td>\n",
       "    </tr>\n",
       "    <tr>\n",
       "      <th>pipeline-2__land_surface_condition_Steep slope</th>\n",
       "      <td>0.004844</td>\n",
       "    </tr>\n",
       "    <tr>\n",
       "      <th>pipeline-1__has_secondary_use_agriculture</th>\n",
       "      <td>0.004523</td>\n",
       "    </tr>\n",
       "    <tr>\n",
       "      <th>pipeline-2__plan_configuration_Others</th>\n",
       "      <td>0.004522</td>\n",
       "    </tr>\n",
       "    <tr>\n",
       "      <th>pipeline-2__other_floor_type_RCC/RB/RBC</th>\n",
       "      <td>0.004128</td>\n",
       "    </tr>\n",
       "    <tr>\n",
       "      <th>pipeline-2__other_floor_type_Timber-Planck</th>\n",
       "      <td>0.004048</td>\n",
       "    </tr>\n",
       "    <tr>\n",
       "      <th>pipeline-2__legal_ownership_status_Public</th>\n",
       "      <td>0.003870</td>\n",
       "    </tr>\n",
       "    <tr>\n",
       "      <th>pipeline-2__land_surface_condition_Moderate slope</th>\n",
       "      <td>0.003816</td>\n",
       "    </tr>\n",
       "    <tr>\n",
       "      <th>pipeline-1__has_secondary_use_rental</th>\n",
       "      <td>0.003720</td>\n",
       "    </tr>\n",
       "    <tr>\n",
       "      <th>pipeline-2__plan_configuration_Square</th>\n",
       "      <td>0.003611</td>\n",
       "    </tr>\n",
       "    <tr>\n",
       "      <th>pipeline-2__plan_configuration_Multi-projected</th>\n",
       "      <td>0.003396</td>\n",
       "    </tr>\n",
       "    <tr>\n",
       "      <th>pipeline-2__legal_ownership_status_Private</th>\n",
       "      <td>0.003331</td>\n",
       "    </tr>\n",
       "    <tr>\n",
       "      <th>pipeline-2__legal_ownership_status_Institutional</th>\n",
       "      <td>0.003189</td>\n",
       "    </tr>\n",
       "    <tr>\n",
       "      <th>pipeline-2__legal_ownership_status_Other</th>\n",
       "      <td>0.003127</td>\n",
       "    </tr>\n",
       "    <tr>\n",
       "      <th>pipeline-1__count_families</th>\n",
       "      <td>0.003114</td>\n",
       "    </tr>\n",
       "    <tr>\n",
       "      <th>pipeline-2__plan_configuration_Rectangular</th>\n",
       "      <td>0.003077</td>\n",
       "    </tr>\n",
       "    <tr>\n",
       "      <th>pipeline-2__gender_household_head_Female</th>\n",
       "      <td>0.003065</td>\n",
       "    </tr>\n",
       "    <tr>\n",
       "      <th>pipeline-2__foundation_type_Cement-Stone/Brick</th>\n",
       "      <td>0.002963</td>\n",
       "    </tr>\n",
       "    <tr>\n",
       "      <th>pipeline-2__education_level_household_head_Other</th>\n",
       "      <td>0.002945</td>\n",
       "    </tr>\n",
       "    <tr>\n",
       "      <th>pipeline-2__position_Not attached</th>\n",
       "      <td>0.002864</td>\n",
       "    </tr>\n",
       "    <tr>\n",
       "      <th>pipeline-1__income_level_household</th>\n",
       "      <td>0.002797</td>\n",
       "    </tr>\n",
       "    <tr>\n",
       "      <th>pipeline-2__ground_floor_type_Other</th>\n",
       "      <td>0.002719</td>\n",
       "    </tr>\n",
       "    <tr>\n",
       "      <th>pipeline-1__has_secondary_use_institution</th>\n",
       "      <td>0.002595</td>\n",
       "    </tr>\n",
       "    <tr>\n",
       "      <th>pipeline-2__position_Attached-2 side</th>\n",
       "      <td>0.002565</td>\n",
       "    </tr>\n",
       "    <tr>\n",
       "      <th>pipeline-1__has_secondary_use_hotel</th>\n",
       "      <td>0.002262</td>\n",
       "    </tr>\n",
       "    <tr>\n",
       "      <th>pipeline-2__position_Attached-3 side</th>\n",
       "      <td>0.002239</td>\n",
       "    </tr>\n",
       "    <tr>\n",
       "      <th>pipeline-2__plan_configuration_H-shape</th>\n",
       "      <td>0.002111</td>\n",
       "    </tr>\n",
       "    <tr>\n",
       "      <th>pipeline-2__education_level_household_head_Illiterate</th>\n",
       "      <td>0.002093</td>\n",
       "    </tr>\n",
       "    <tr>\n",
       "      <th>pipeline-2__plan_configuration_Building with Central Courtyard</th>\n",
       "      <td>0.002039</td>\n",
       "    </tr>\n",
       "    <tr>\n",
       "      <th>pipeline-1__has_secondary_use_school</th>\n",
       "      <td>0.001945</td>\n",
       "    </tr>\n",
       "    <tr>\n",
       "      <th>pipeline-1__has_secondary_use_industry</th>\n",
       "      <td>0.001933</td>\n",
       "    </tr>\n",
       "    <tr>\n",
       "      <th>pipeline-2__plan_configuration_T-shape</th>\n",
       "      <td>0.001840</td>\n",
       "    </tr>\n",
       "    <tr>\n",
       "      <th>pipeline-1__has_secondary_use_health_post</th>\n",
       "      <td>0.001806</td>\n",
       "    </tr>\n",
       "    <tr>\n",
       "      <th>pipeline-1__size_household</th>\n",
       "      <td>0.001753</td>\n",
       "    </tr>\n",
       "    <tr>\n",
       "      <th>pipeline-1__age_household_head</th>\n",
       "      <td>0.001744</td>\n",
       "    </tr>\n",
       "    <tr>\n",
       "      <th>pipeline-2__plan_configuration_U-shape</th>\n",
       "      <td>0.001719</td>\n",
       "    </tr>\n",
       "    <tr>\n",
       "      <th>pipeline-2__education_level_household_head_Intermediate or equivalent</th>\n",
       "      <td>0.001698</td>\n",
       "    </tr>\n",
       "    <tr>\n",
       "      <th>pipeline-2__education_level_household_head_University</th>\n",
       "      <td>0.001602</td>\n",
       "    </tr>\n",
       "    <tr>\n",
       "      <th>pipeline-2__position_Attached-1 side</th>\n",
       "      <td>0.001513</td>\n",
       "    </tr>\n",
       "    <tr>\n",
       "      <th>pipeline-1__has_secondary_use_gov_office</th>\n",
       "      <td>0.001380</td>\n",
       "    </tr>\n",
       "    <tr>\n",
       "      <th>pipeline-2__education_level_household_head_Non-formal education</th>\n",
       "      <td>0.001272</td>\n",
       "    </tr>\n",
       "    <tr>\n",
       "      <th>pipeline-2__education_level_household_head_High School</th>\n",
       "      <td>0.001270</td>\n",
       "    </tr>\n",
       "    <tr>\n",
       "      <th>pipeline-2__education_level_household_head_In education</th>\n",
       "      <td>0.000952</td>\n",
       "    </tr>\n",
       "    <tr>\n",
       "      <th>pipeline-1__has_secondary_use_use_police</th>\n",
       "      <td>0.000000</td>\n",
       "    </tr>\n",
       "    <tr>\n",
       "      <th>pipeline-2__gender_household_head_Male</th>\n",
       "      <td>0.000000</td>\n",
       "    </tr>\n",
       "    <tr>\n",
       "      <th>pipeline-2__plan_configuration_E-shape</th>\n",
       "      <td>0.000000</td>\n",
       "    </tr>\n",
       "  </tbody>\n",
       "</table>\n",
       "</div>"
      ],
      "text/plain": [
       "                                                           0\n",
       "pipeline-1__has_superstructure_mud_mortar_stone     0.308947\n",
       "pipeline-1__district_id                             0.057673\n",
       "pipeline-2__foundation_type_Mud mortar-Stone/Brick  0.052590\n",
       "pipeline-2__ground_floor_type_RC                    0.048562\n",
       "pipeline-1__has_superstructure_stone_flag           0.042680\n",
       "pipeline-2__roof_type_RCC/RB/RBC                    0.042140\n",
       "pipeline-1__vdcmun_id                               0.042011\n",
       "pipeline-2__other_floor_type_TImber/Bamboo-Mud      0.030566\n",
       "pipeline-1__ward_id                                 0.024305\n",
       "pipeline-1__has_superstructure_cement_mortar_brick  0.021347\n",
       "pipeline-1__has_superstructure_adobe_mud            0.020533\n",
       "pipeline-2__foundation_type_RC                      0.018315\n",
       "pipeline-1__household_id                            0.017461\n",
       "pipeline-1__has_superstructure_mud_mortar_brick     0.012951\n",
       "pipeline-1__has_superstructure_rc_engineered        0.011829\n",
       "pipeline-2__other_floor_type_Not applicable         0.011404\n",
       "pipeline-2__foundation_type_Bamboo/Timber           0.010342\n",
       "pipeline-2__ground_floor_type_Timber                0.009529\n",
       "pipeline-1__has_superstructure_timber               0.009278\n",
       "pipeline-2__roof_type_Bamboo/Timber-Light roof      0.008506\n",
       "pipeline-1__has_secondary_use                       0.008178\n",
       "pipeline-2__foundation_type_Other                   0.007928\n",
       "pipeline-1__age_building                            0.006713\n",
       "pipeline-1__has_superstructure_rc_non_engineered    0.006672\n",
       "pipeline-2__ground_floor_type_Brick/Stone           0.006384\n",
       "pipeline-2__ground_floor_type_Mud                   0.006165\n",
       "pipeline-2__roof_type_Bamboo/Timber-Heavy roof      0.006139\n",
       "pipeline-1__count_floors_pre_eq                     0.005751\n",
       "pipeline-2__plan_configuration_L-shape              0.005683\n",
       "pipeline-1__has_secondary_use_other                 0.005651\n",
       "pipeline-1__has_superstructure_cement_mortar_stone  0.005558\n",
       "pipeline-2__land_surface_condition_Flat             0.005537\n",
       "pipeline-1__has_superstructure_other                0.005415\n",
       "pipeline-1__has_superstructure_bamboo               0.005250\n",
       "pipeline-2__land_surface_condition_Steep slope      0.004844\n",
       "pipeline-1__has_secondary_use_agriculture           0.004523\n",
       "pipeline-2__plan_configuration_Others               0.004522\n",
       "pipeline-2__other_floor_type_RCC/RB/RBC             0.004128\n",
       "pipeline-2__other_floor_type_Timber-Planck          0.004048\n",
       "pipeline-2__legal_ownership_status_Public           0.003870\n",
       "pipeline-2__land_surface_condition_Moderate slope   0.003816\n",
       "pipeline-1__has_secondary_use_rental                0.003720\n",
       "pipeline-2__plan_configuration_Square               0.003611\n",
       "pipeline-2__plan_configuration_Multi-projected      0.003396\n",
       "pipeline-2__legal_ownership_status_Private          0.003331\n",
       "pipeline-2__legal_ownership_status_Institutional    0.003189\n",
       "pipeline-2__legal_ownership_status_Other            0.003127\n",
       "pipeline-1__count_families                          0.003114\n",
       "pipeline-2__plan_configuration_Rectangular          0.003077\n",
       "pipeline-2__gender_household_head_Female            0.003065\n",
       "pipeline-2__foundation_type_Cement-Stone/Brick      0.002963\n",
       "pipeline-2__education_level_household_head_Other    0.002945\n",
       "pipeline-2__position_Not attached                   0.002864\n",
       "pipeline-1__income_level_household                  0.002797\n",
       "pipeline-2__ground_floor_type_Other                 0.002719\n",
       "pipeline-1__has_secondary_use_institution           0.002595\n",
       "pipeline-2__position_Attached-2 side                0.002565\n",
       "pipeline-1__has_secondary_use_hotel                 0.002262\n",
       "pipeline-2__position_Attached-3 side                0.002239\n",
       "pipeline-2__plan_configuration_H-shape              0.002111\n",
       "pipeline-2__education_level_household_head_Illi...  0.002093\n",
       "pipeline-2__plan_configuration_Building with Ce...  0.002039\n",
       "pipeline-1__has_secondary_use_school                0.001945\n",
       "pipeline-1__has_secondary_use_industry              0.001933\n",
       "pipeline-2__plan_configuration_T-shape              0.001840\n",
       "pipeline-1__has_secondary_use_health_post           0.001806\n",
       "pipeline-1__size_household                          0.001753\n",
       "pipeline-1__age_household_head                      0.001744\n",
       "pipeline-2__plan_configuration_U-shape              0.001719\n",
       "pipeline-2__education_level_household_head_Inte...  0.001698\n",
       "pipeline-2__education_level_household_head_Univ...  0.001602\n",
       "pipeline-2__position_Attached-1 side                0.001513\n",
       "pipeline-1__has_secondary_use_gov_office            0.001380\n",
       "pipeline-2__education_level_household_head_Non-...  0.001272\n",
       "pipeline-2__education_level_household_head_High...  0.001270\n",
       "pipeline-2__education_level_household_head_In e...  0.000952\n",
       "pipeline-1__has_secondary_use_use_police            0.000000\n",
       "pipeline-2__gender_household_head_Male              0.000000\n",
       "pipeline-2__plan_configuration_E-shape              0.000000"
      ]
     },
     "execution_count": 127,
     "metadata": {},
     "output_type": "execute_result"
    }
   ],
   "source": [
    "a"
   ]
  },
  {
   "cell_type": "code",
   "execution_count": 128,
   "metadata": {},
   "outputs": [
    {
     "data": {
      "text/plain": [
       "Index(['pipeline-1__has_superstructure_mud_mortar_stone',\n",
       "       'pipeline-1__district_id',\n",
       "       'pipeline-2__foundation_type_Mud mortar-Stone/Brick',\n",
       "       'pipeline-2__ground_floor_type_RC',\n",
       "       'pipeline-1__has_superstructure_stone_flag',\n",
       "       'pipeline-2__roof_type_RCC/RB/RBC', 'pipeline-1__vdcmun_id',\n",
       "       'pipeline-2__other_floor_type_TImber/Bamboo-Mud', 'pipeline-1__ward_id',\n",
       "       'pipeline-1__has_superstructure_cement_mortar_brick',\n",
       "       'pipeline-1__has_superstructure_adobe_mud',\n",
       "       'pipeline-2__foundation_type_RC', 'pipeline-1__household_id',\n",
       "       'pipeline-1__has_superstructure_mud_mortar_brick',\n",
       "       'pipeline-1__has_superstructure_rc_engineered',\n",
       "       'pipeline-2__other_floor_type_Not applicable',\n",
       "       'pipeline-2__foundation_type_Bamboo/Timber',\n",
       "       'pipeline-2__ground_floor_type_Timber',\n",
       "       'pipeline-1__has_superstructure_timber',\n",
       "       'pipeline-2__roof_type_Bamboo/Timber-Light roof',\n",
       "       'pipeline-1__has_secondary_use', 'pipeline-2__foundation_type_Other',\n",
       "       'pipeline-1__age_building',\n",
       "       'pipeline-1__has_superstructure_rc_non_engineered',\n",
       "       'pipeline-2__ground_floor_type_Brick/Stone',\n",
       "       'pipeline-2__ground_floor_type_Mud',\n",
       "       'pipeline-2__roof_type_Bamboo/Timber-Heavy roof',\n",
       "       'pipeline-1__count_floors_pre_eq',\n",
       "       'pipeline-2__plan_configuration_L-shape',\n",
       "       'pipeline-1__has_secondary_use_other',\n",
       "       'pipeline-1__has_superstructure_cement_mortar_stone',\n",
       "       'pipeline-2__land_surface_condition_Flat',\n",
       "       'pipeline-1__has_superstructure_other',\n",
       "       'pipeline-1__has_superstructure_bamboo',\n",
       "       'pipeline-2__land_surface_condition_Steep slope',\n",
       "       'pipeline-1__has_secondary_use_agriculture',\n",
       "       'pipeline-2__plan_configuration_Others',\n",
       "       'pipeline-2__other_floor_type_RCC/RB/RBC',\n",
       "       'pipeline-2__other_floor_type_Timber-Planck',\n",
       "       'pipeline-2__legal_ownership_status_Public',\n",
       "       'pipeline-2__land_surface_condition_Moderate slope',\n",
       "       'pipeline-1__has_secondary_use_rental',\n",
       "       'pipeline-2__plan_configuration_Square',\n",
       "       'pipeline-2__plan_configuration_Multi-projected',\n",
       "       'pipeline-2__legal_ownership_status_Private',\n",
       "       'pipeline-2__legal_ownership_status_Institutional',\n",
       "       'pipeline-2__legal_ownership_status_Other',\n",
       "       'pipeline-1__count_families',\n",
       "       'pipeline-2__plan_configuration_Rectangular',\n",
       "       'pipeline-2__gender_household_head_Female',\n",
       "       'pipeline-2__foundation_type_Cement-Stone/Brick',\n",
       "       'pipeline-2__education_level_household_head_Other',\n",
       "       'pipeline-2__position_Not attached',\n",
       "       'pipeline-1__income_level_household',\n",
       "       'pipeline-2__ground_floor_type_Other',\n",
       "       'pipeline-1__has_secondary_use_institution',\n",
       "       'pipeline-2__position_Attached-2 side',\n",
       "       'pipeline-1__has_secondary_use_hotel',\n",
       "       'pipeline-2__position_Attached-3 side',\n",
       "       'pipeline-2__plan_configuration_H-shape',\n",
       "       'pipeline-2__education_level_household_head_Illiterate',\n",
       "       'pipeline-2__plan_configuration_Building with Central Courtyard',\n",
       "       'pipeline-1__has_secondary_use_school',\n",
       "       'pipeline-1__has_secondary_use_industry',\n",
       "       'pipeline-2__plan_configuration_T-shape',\n",
       "       'pipeline-1__has_secondary_use_health_post',\n",
       "       'pipeline-1__size_household', 'pipeline-1__age_household_head',\n",
       "       'pipeline-2__plan_configuration_U-shape',\n",
       "       'pipeline-2__education_level_household_head_Intermediate or equivalent',\n",
       "       'pipeline-2__education_level_household_head_University',\n",
       "       'pipeline-2__position_Attached-1 side',\n",
       "       'pipeline-1__has_secondary_use_gov_office',\n",
       "       'pipeline-2__education_level_household_head_Non-formal education',\n",
       "       'pipeline-2__education_level_household_head_High School',\n",
       "       'pipeline-2__education_level_household_head_In education'],\n",
       "      dtype='object')"
      ]
     },
     "execution_count": 128,
     "metadata": {},
     "output_type": "execute_result"
    }
   ],
   "source": [
    "pd.set_option('display.max_rows', None)\n",
    "a = pd.DataFrame(xgb_model.feature_importances_, index=X_train.columns).sort_values(by=0, ascending=False)\n",
    "model_feature = a.head(76).index\n",
    "model_feature "
   ]
  },
  {
   "cell_type": "code",
   "execution_count": 129,
   "metadata": {},
   "outputs": [
    {
     "data": {
      "text/plain": [
       "0.5820238955662036"
      ]
     },
     "execution_count": 129,
     "metadata": {},
     "output_type": "execute_result"
    }
   ],
   "source": [
    "xgb_model.fit(X_train[model_feature], y_train)\n",
    "\n",
    "y_val_pred_model_feature = xgb_model.predict(X_val[model_feature])\n",
    "\n",
    "f1_score(y_val, y_val_pred_model_feature, average='micro')"
   ]
  },
  {
   "cell_type": "markdown",
   "metadata": {},
   "source": [
    "### Use SelectPrecentile to select top 8 features from the dataset"
   ]
  },
  {
   "cell_type": "code",
   "execution_count": 113,
   "metadata": {},
   "outputs": [
    {
     "data": {
      "text/html": [
       "<div>\n",
       "<style scoped>\n",
       "    .dataframe tbody tr th:only-of-type {\n",
       "        vertical-align: middle;\n",
       "    }\n",
       "\n",
       "    .dataframe tbody tr th {\n",
       "        vertical-align: top;\n",
       "    }\n",
       "\n",
       "    .dataframe thead th {\n",
       "        text-align: right;\n",
       "    }\n",
       "</style>\n",
       "<table border=\"1\" class=\"dataframe\">\n",
       "  <thead>\n",
       "    <tr style=\"text-align: right;\">\n",
       "      <th></th>\n",
       "      <th>0</th>\n",
       "      <th>1</th>\n",
       "      <th>2</th>\n",
       "      <th>3</th>\n",
       "      <th>4</th>\n",
       "      <th>5</th>\n",
       "      <th>6</th>\n",
       "      <th>7</th>\n",
       "    </tr>\n",
       "  </thead>\n",
       "  <tbody>\n",
       "    <tr>\n",
       "      <th>0</th>\n",
       "      <td>0.0</td>\n",
       "      <td>0.0</td>\n",
       "      <td>1.0</td>\n",
       "      <td>0.0</td>\n",
       "      <td>0.0</td>\n",
       "      <td>1.0</td>\n",
       "      <td>0.0</td>\n",
       "      <td>0.0</td>\n",
       "    </tr>\n",
       "    <tr>\n",
       "      <th>1</th>\n",
       "      <td>0.0</td>\n",
       "      <td>0.0</td>\n",
       "      <td>1.0</td>\n",
       "      <td>0.0</td>\n",
       "      <td>0.0</td>\n",
       "      <td>1.0</td>\n",
       "      <td>0.0</td>\n",
       "      <td>0.0</td>\n",
       "    </tr>\n",
       "    <tr>\n",
       "      <th>2</th>\n",
       "      <td>0.0</td>\n",
       "      <td>0.0</td>\n",
       "      <td>1.0</td>\n",
       "      <td>0.0</td>\n",
       "      <td>0.0</td>\n",
       "      <td>1.0</td>\n",
       "      <td>0.0</td>\n",
       "      <td>0.0</td>\n",
       "    </tr>\n",
       "    <tr>\n",
       "      <th>3</th>\n",
       "      <td>-1.0</td>\n",
       "      <td>0.0</td>\n",
       "      <td>1.0</td>\n",
       "      <td>0.0</td>\n",
       "      <td>0.0</td>\n",
       "      <td>1.0</td>\n",
       "      <td>0.0</td>\n",
       "      <td>0.0</td>\n",
       "    </tr>\n",
       "    <tr>\n",
       "      <th>4</th>\n",
       "      <td>0.0</td>\n",
       "      <td>0.0</td>\n",
       "      <td>1.0</td>\n",
       "      <td>0.0</td>\n",
       "      <td>0.0</td>\n",
       "      <td>1.0</td>\n",
       "      <td>0.0</td>\n",
       "      <td>0.0</td>\n",
       "    </tr>\n",
       "  </tbody>\n",
       "</table>\n",
       "</div>"
      ],
      "text/plain": [
       "     0    1    2    3    4    5    6    7\n",
       "0  0.0  0.0  1.0  0.0  0.0  1.0  0.0  0.0\n",
       "1  0.0  0.0  1.0  0.0  0.0  1.0  0.0  0.0\n",
       "2  0.0  0.0  1.0  0.0  0.0  1.0  0.0  0.0\n",
       "3 -1.0  0.0  1.0  0.0  0.0  1.0  0.0  0.0\n",
       "4  0.0  0.0  1.0  0.0  0.0  1.0  0.0  0.0"
      ]
     },
     "execution_count": 113,
     "metadata": {},
     "output_type": "execute_result"
    }
   ],
   "source": [
    "from sklearn.pipeline import Pipeline, make_pipeline\n",
    "from sklearn.feature_selection import SelectFromModel, SelectPercentile, f_classif \n",
    "\n",
    "selection = SelectPercentile(f_classif, percentile=10)\n",
    "X_new = selection.fit_transform(X_train, y_train)\n",
    "\n",
    "X_new = pd.DataFrame(X_new)\n",
    "X_new.shape\n",
    "X_new.head(5)"
   ]
  },
  {
   "cell_type": "code",
   "execution_count": 114,
   "metadata": {},
   "outputs": [
    {
     "data": {
      "text/plain": [
       "Index(['pipeline-1__has_superstructure_mud_mortar_stone',\n",
       "       'pipeline-1__has_superstructure_cement_mortar_brick',\n",
       "       'pipeline-2__foundation_type_Mud mortar-Stone/Brick',\n",
       "       'pipeline-2__foundation_type_RC', 'pipeline-2__roof_type_RCC/RB/RBC',\n",
       "       'pipeline-2__ground_floor_type_Mud', 'pipeline-2__ground_floor_type_RC',\n",
       "       'pipeline-2__other_floor_type_RCC/RB/RBC'],\n",
       "      dtype='object')"
      ]
     },
     "execution_count": 114,
     "metadata": {},
     "output_type": "execute_result"
    }
   ],
   "source": [
    "mask = selection.get_support()\n",
    "list = X_train.columns[mask]\n",
    "X_val[list].head(3)\n",
    "X_new.columns = list\n",
    "list"
   ]
  },
  {
   "cell_type": "code",
   "execution_count": 115,
   "metadata": {},
   "outputs": [
    {
     "data": {
      "text/plain": [
       "0.43316290565802035"
      ]
     },
     "execution_count": 115,
     "metadata": {},
     "output_type": "execute_result"
    }
   ],
   "source": [
    "xgb_model.fit(X_new, y_train)\n",
    "\n",
    "y_val_pred = xgb_model.predict(X_val[list])\n",
    "\n",
    "f1_score(y_val, y_val_pred, average='micro')"
   ]
  },
  {
   "cell_type": "code",
   "execution_count": 116,
   "metadata": {},
   "outputs": [],
   "source": [
    "from sklearn.pipeline import Pipeline, make_pipeline\n",
    "from sklearn.feature_selection import SelectFromModel, SelectPercentile\n",
    "\n",
    "clf = Pipeline([\n",
    "  ('feature_selection', SelectFromModel(xgb_model)),\n",
    "  ('classification', xgb_model)\n",
    "])"
   ]
  },
  {
   "cell_type": "code",
   "execution_count": 39,
   "metadata": {},
   "outputs": [
    {
     "data": {
      "text/plain": [
       "0.5826116884482643"
      ]
     },
     "execution_count": 39,
     "metadata": {},
     "output_type": "execute_result"
    }
   ],
   "source": [
    "# for the baseline model, we use the xgboost model with all features \n",
    "from sklearn.model_selection import cross_val_score\n",
    "\n",
    "xgb_model_score = cross_val_score(xgb_model, X_train, y_train, cv=5, scoring='f1_micro')\n",
    "xgb_model_score = xgb_model_score.mean()\n",
    "xgb_model_score "
   ]
  },
  {
   "cell_type": "markdown",
   "metadata": {},
   "source": [
    "# GridSearch best parameter for XGBoostclassifier"
   ]
  },
  {
   "cell_type": "code",
   "execution_count": 44,
   "metadata": {},
   "outputs": [],
   "source": [
    "from sklearn.model_selection import GridSearchCV \n"
   ]
  },
  {
   "cell_type": "code",
   "execution_count": null,
   "metadata": {},
   "outputs": [],
   "source": []
  }
 ],
 "metadata": {
  "kernelspec": {
   "display_name": "Python 3.10.6 64-bit ('earthquake_damage')",
   "language": "python",
   "name": "python3"
  },
  "language_info": {
   "codemirror_mode": {
    "name": "ipython",
    "version": 3
   },
   "file_extension": ".py",
   "mimetype": "text/x-python",
   "name": "python",
   "nbconvert_exporter": "python",
   "pygments_lexer": "ipython3",
   "version": "3.10.6"
  },
  "orig_nbformat": 4,
  "vscode": {
   "interpreter": {
    "hash": "1af6f362dd7c51abf15aa3316e4638cafc82d07ad292c6c48c9bf9c9e4de70af"
   }
  }
 },
 "nbformat": 4,
 "nbformat_minor": 2
}
