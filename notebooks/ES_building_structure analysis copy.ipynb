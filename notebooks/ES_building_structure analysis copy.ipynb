{
 "cells": [
  {
   "cell_type": "code",
   "execution_count": 1,
   "metadata": {},
   "outputs": [],
   "source": [
    "import pandas as pd\n",
    "import numpy as np \n",
    "import seaborn as sns"
   ]
  },
  {
   "cell_type": "code",
   "execution_count": 2,
   "metadata": {},
   "outputs": [],
   "source": [
    "path = '../data/data/csv_building_ownership_and_use.csv'\n",
    "df = pd.read_csv(path)\n",
    "\n",
    "values_path = '../data/data/train_labels.csv'\n",
    "values = pd.read_csv(values_path)"
   ]
  },
  {
   "cell_type": "code",
   "execution_count": 3,
   "metadata": {},
   "outputs": [
    {
     "data": {
      "text/plain": [
       "(762106, 17)"
      ]
     },
     "execution_count": 3,
     "metadata": {},
     "output_type": "execute_result"
    }
   ],
   "source": [
    "df.shape"
   ]
  },
  {
   "cell_type": "code",
   "execution_count": 4,
   "metadata": {},
   "outputs": [
    {
     "data": {
      "text/html": [
       "<div>\n",
       "<style scoped>\n",
       "    .dataframe tbody tr th:only-of-type {\n",
       "        vertical-align: middle;\n",
       "    }\n",
       "\n",
       "    .dataframe tbody tr th {\n",
       "        vertical-align: top;\n",
       "    }\n",
       "\n",
       "    .dataframe thead th {\n",
       "        text-align: right;\n",
       "    }\n",
       "</style>\n",
       "<table border=\"1\" class=\"dataframe\">\n",
       "  <thead>\n",
       "    <tr style=\"text-align: right;\">\n",
       "      <th></th>\n",
       "      <th>count</th>\n",
       "      <th>mean</th>\n",
       "      <th>std</th>\n",
       "      <th>min</th>\n",
       "      <th>25%</th>\n",
       "      <th>50%</th>\n",
       "      <th>75%</th>\n",
       "      <th>max</th>\n",
       "    </tr>\n",
       "  </thead>\n",
       "  <tbody>\n",
       "    <tr>\n",
       "      <th>building_id</th>\n",
       "      <td>762106.0</td>\n",
       "      <td>2.607514e+11</td>\n",
       "      <td>5.801855e+10</td>\n",
       "      <td>1.201010e+11</td>\n",
       "      <td>2.219090e+11</td>\n",
       "      <td>2.463020e+11</td>\n",
       "      <td>3.036080e+11</td>\n",
       "      <td>3.667090e+11</td>\n",
       "    </tr>\n",
       "    <tr>\n",
       "      <th>district_id</th>\n",
       "      <td>762106.0</td>\n",
       "      <td>2.576784e+01</td>\n",
       "      <td>5.807555e+00</td>\n",
       "      <td>1.200000e+01</td>\n",
       "      <td>2.200000e+01</td>\n",
       "      <td>2.400000e+01</td>\n",
       "      <td>3.000000e+01</td>\n",
       "      <td>3.600000e+01</td>\n",
       "    </tr>\n",
       "    <tr>\n",
       "      <th>vdcmun_id</th>\n",
       "      <td>762106.0</td>\n",
       "      <td>2.582688e+03</td>\n",
       "      <td>5.811728e+02</td>\n",
       "      <td>1.201000e+03</td>\n",
       "      <td>2.204000e+03</td>\n",
       "      <td>2.410000e+03</td>\n",
       "      <td>3.010000e+03</td>\n",
       "      <td>3.611000e+03</td>\n",
       "    </tr>\n",
       "    <tr>\n",
       "      <th>ward_id</th>\n",
       "      <td>762106.0</td>\n",
       "      <td>2.582743e+05</td>\n",
       "      <td>5.811735e+04</td>\n",
       "      <td>1.201010e+05</td>\n",
       "      <td>2.204020e+05</td>\n",
       "      <td>2.410040e+05</td>\n",
       "      <td>3.010060e+05</td>\n",
       "      <td>3.611080e+05</td>\n",
       "    </tr>\n",
       "    <tr>\n",
       "      <th>count_families</th>\n",
       "      <td>762104.0</td>\n",
       "      <td>9.806601e-01</td>\n",
       "      <td>4.502100e-01</td>\n",
       "      <td>0.000000e+00</td>\n",
       "      <td>1.000000e+00</td>\n",
       "      <td>1.000000e+00</td>\n",
       "      <td>1.000000e+00</td>\n",
       "      <td>1.100000e+01</td>\n",
       "    </tr>\n",
       "    <tr>\n",
       "      <th>has_secondary_use</th>\n",
       "      <td>762096.0</td>\n",
       "      <td>1.211973e-01</td>\n",
       "      <td>3.263567e-01</td>\n",
       "      <td>0.000000e+00</td>\n",
       "      <td>0.000000e+00</td>\n",
       "      <td>0.000000e+00</td>\n",
       "      <td>0.000000e+00</td>\n",
       "      <td>1.000000e+00</td>\n",
       "    </tr>\n",
       "    <tr>\n",
       "      <th>has_secondary_use_agriculture</th>\n",
       "      <td>762106.0</td>\n",
       "      <td>7.185877e-02</td>\n",
       "      <td>2.582541e-01</td>\n",
       "      <td>0.000000e+00</td>\n",
       "      <td>0.000000e+00</td>\n",
       "      <td>0.000000e+00</td>\n",
       "      <td>0.000000e+00</td>\n",
       "      <td>1.000000e+00</td>\n",
       "    </tr>\n",
       "    <tr>\n",
       "      <th>has_secondary_use_hotel</th>\n",
       "      <td>762106.0</td>\n",
       "      <td>3.508961e-02</td>\n",
       "      <td>1.840064e-01</td>\n",
       "      <td>0.000000e+00</td>\n",
       "      <td>0.000000e+00</td>\n",
       "      <td>0.000000e+00</td>\n",
       "      <td>0.000000e+00</td>\n",
       "      <td>1.000000e+00</td>\n",
       "    </tr>\n",
       "    <tr>\n",
       "      <th>has_secondary_use_rental</th>\n",
       "      <td>762106.0</td>\n",
       "      <td>8.263942e-03</td>\n",
       "      <td>9.052989e-02</td>\n",
       "      <td>0.000000e+00</td>\n",
       "      <td>0.000000e+00</td>\n",
       "      <td>0.000000e+00</td>\n",
       "      <td>0.000000e+00</td>\n",
       "      <td>1.000000e+00</td>\n",
       "    </tr>\n",
       "    <tr>\n",
       "      <th>has_secondary_use_institution</th>\n",
       "      <td>762106.0</td>\n",
       "      <td>1.161256e-03</td>\n",
       "      <td>3.405743e-02</td>\n",
       "      <td>0.000000e+00</td>\n",
       "      <td>0.000000e+00</td>\n",
       "      <td>0.000000e+00</td>\n",
       "      <td>0.000000e+00</td>\n",
       "      <td>1.000000e+00</td>\n",
       "    </tr>\n",
       "    <tr>\n",
       "      <th>has_secondary_use_school</th>\n",
       "      <td>762106.0</td>\n",
       "      <td>4.238256e-04</td>\n",
       "      <td>2.058267e-02</td>\n",
       "      <td>0.000000e+00</td>\n",
       "      <td>0.000000e+00</td>\n",
       "      <td>0.000000e+00</td>\n",
       "      <td>0.000000e+00</td>\n",
       "      <td>1.000000e+00</td>\n",
       "    </tr>\n",
       "    <tr>\n",
       "      <th>has_secondary_use_industry</th>\n",
       "      <td>762106.0</td>\n",
       "      <td>1.163880e-03</td>\n",
       "      <td>3.409585e-02</td>\n",
       "      <td>0.000000e+00</td>\n",
       "      <td>0.000000e+00</td>\n",
       "      <td>0.000000e+00</td>\n",
       "      <td>0.000000e+00</td>\n",
       "      <td>1.000000e+00</td>\n",
       "    </tr>\n",
       "    <tr>\n",
       "      <th>has_secondary_use_health_post</th>\n",
       "      <td>762106.0</td>\n",
       "      <td>2.270025e-04</td>\n",
       "      <td>1.506490e-02</td>\n",
       "      <td>0.000000e+00</td>\n",
       "      <td>0.000000e+00</td>\n",
       "      <td>0.000000e+00</td>\n",
       "      <td>0.000000e+00</td>\n",
       "      <td>1.000000e+00</td>\n",
       "    </tr>\n",
       "    <tr>\n",
       "      <th>has_secondary_use_gov_office</th>\n",
       "      <td>762106.0</td>\n",
       "      <td>1.863258e-04</td>\n",
       "      <td>1.364886e-02</td>\n",
       "      <td>0.000000e+00</td>\n",
       "      <td>0.000000e+00</td>\n",
       "      <td>0.000000e+00</td>\n",
       "      <td>0.000000e+00</td>\n",
       "      <td>1.000000e+00</td>\n",
       "    </tr>\n",
       "    <tr>\n",
       "      <th>has_secondary_use_use_police</th>\n",
       "      <td>762106.0</td>\n",
       "      <td>9.709935e-05</td>\n",
       "      <td>9.853428e-03</td>\n",
       "      <td>0.000000e+00</td>\n",
       "      <td>0.000000e+00</td>\n",
       "      <td>0.000000e+00</td>\n",
       "      <td>0.000000e+00</td>\n",
       "      <td>1.000000e+00</td>\n",
       "    </tr>\n",
       "    <tr>\n",
       "      <th>has_secondary_use_other</th>\n",
       "      <td>762106.0</td>\n",
       "      <td>4.490189e-03</td>\n",
       "      <td>6.685831e-02</td>\n",
       "      <td>0.000000e+00</td>\n",
       "      <td>0.000000e+00</td>\n",
       "      <td>0.000000e+00</td>\n",
       "      <td>0.000000e+00</td>\n",
       "      <td>1.000000e+00</td>\n",
       "    </tr>\n",
       "  </tbody>\n",
       "</table>\n",
       "</div>"
      ],
      "text/plain": [
       "                                  count          mean           std  \\\n",
       "building_id                    762106.0  2.607514e+11  5.801855e+10   \n",
       "district_id                    762106.0  2.576784e+01  5.807555e+00   \n",
       "vdcmun_id                      762106.0  2.582688e+03  5.811728e+02   \n",
       "ward_id                        762106.0  2.582743e+05  5.811735e+04   \n",
       "count_families                 762104.0  9.806601e-01  4.502100e-01   \n",
       "has_secondary_use              762096.0  1.211973e-01  3.263567e-01   \n",
       "has_secondary_use_agriculture  762106.0  7.185877e-02  2.582541e-01   \n",
       "has_secondary_use_hotel        762106.0  3.508961e-02  1.840064e-01   \n",
       "has_secondary_use_rental       762106.0  8.263942e-03  9.052989e-02   \n",
       "has_secondary_use_institution  762106.0  1.161256e-03  3.405743e-02   \n",
       "has_secondary_use_school       762106.0  4.238256e-04  2.058267e-02   \n",
       "has_secondary_use_industry     762106.0  1.163880e-03  3.409585e-02   \n",
       "has_secondary_use_health_post  762106.0  2.270025e-04  1.506490e-02   \n",
       "has_secondary_use_gov_office   762106.0  1.863258e-04  1.364886e-02   \n",
       "has_secondary_use_use_police   762106.0  9.709935e-05  9.853428e-03   \n",
       "has_secondary_use_other        762106.0  4.490189e-03  6.685831e-02   \n",
       "\n",
       "                                        min           25%           50%  \\\n",
       "building_id                    1.201010e+11  2.219090e+11  2.463020e+11   \n",
       "district_id                    1.200000e+01  2.200000e+01  2.400000e+01   \n",
       "vdcmun_id                      1.201000e+03  2.204000e+03  2.410000e+03   \n",
       "ward_id                        1.201010e+05  2.204020e+05  2.410040e+05   \n",
       "count_families                 0.000000e+00  1.000000e+00  1.000000e+00   \n",
       "has_secondary_use              0.000000e+00  0.000000e+00  0.000000e+00   \n",
       "has_secondary_use_agriculture  0.000000e+00  0.000000e+00  0.000000e+00   \n",
       "has_secondary_use_hotel        0.000000e+00  0.000000e+00  0.000000e+00   \n",
       "has_secondary_use_rental       0.000000e+00  0.000000e+00  0.000000e+00   \n",
       "has_secondary_use_institution  0.000000e+00  0.000000e+00  0.000000e+00   \n",
       "has_secondary_use_school       0.000000e+00  0.000000e+00  0.000000e+00   \n",
       "has_secondary_use_industry     0.000000e+00  0.000000e+00  0.000000e+00   \n",
       "has_secondary_use_health_post  0.000000e+00  0.000000e+00  0.000000e+00   \n",
       "has_secondary_use_gov_office   0.000000e+00  0.000000e+00  0.000000e+00   \n",
       "has_secondary_use_use_police   0.000000e+00  0.000000e+00  0.000000e+00   \n",
       "has_secondary_use_other        0.000000e+00  0.000000e+00  0.000000e+00   \n",
       "\n",
       "                                        75%           max  \n",
       "building_id                    3.036080e+11  3.667090e+11  \n",
       "district_id                    3.000000e+01  3.600000e+01  \n",
       "vdcmun_id                      3.010000e+03  3.611000e+03  \n",
       "ward_id                        3.010060e+05  3.611080e+05  \n",
       "count_families                 1.000000e+00  1.100000e+01  \n",
       "has_secondary_use              0.000000e+00  1.000000e+00  \n",
       "has_secondary_use_agriculture  0.000000e+00  1.000000e+00  \n",
       "has_secondary_use_hotel        0.000000e+00  1.000000e+00  \n",
       "has_secondary_use_rental       0.000000e+00  1.000000e+00  \n",
       "has_secondary_use_institution  0.000000e+00  1.000000e+00  \n",
       "has_secondary_use_school       0.000000e+00  1.000000e+00  \n",
       "has_secondary_use_industry     0.000000e+00  1.000000e+00  \n",
       "has_secondary_use_health_post  0.000000e+00  1.000000e+00  \n",
       "has_secondary_use_gov_office   0.000000e+00  1.000000e+00  \n",
       "has_secondary_use_use_police   0.000000e+00  1.000000e+00  \n",
       "has_secondary_use_other        0.000000e+00  1.000000e+00  "
      ]
     },
     "execution_count": 4,
     "metadata": {},
     "output_type": "execute_result"
    }
   ],
   "source": [
    "df.describe().T\n"
   ]
  },
  {
   "cell_type": "code",
   "execution_count": 8,
   "metadata": {},
   "outputs": [
    {
     "data": {
      "text/html": [
       "<div>\n",
       "<style scoped>\n",
       "    .dataframe tbody tr th:only-of-type {\n",
       "        vertical-align: middle;\n",
       "    }\n",
       "\n",
       "    .dataframe tbody tr th {\n",
       "        vertical-align: top;\n",
       "    }\n",
       "\n",
       "    .dataframe thead th {\n",
       "        text-align: right;\n",
       "    }\n",
       "</style>\n",
       "<table border=\"1\" class=\"dataframe\">\n",
       "  <thead>\n",
       "    <tr style=\"text-align: right;\">\n",
       "      <th></th>\n",
       "      <th>building_id</th>\n",
       "      <th>district_id</th>\n",
       "      <th>vdcmun_id</th>\n",
       "      <th>ward_id</th>\n",
       "      <th>legal_ownership_status</th>\n",
       "      <th>count_families</th>\n",
       "      <th>has_secondary_use</th>\n",
       "      <th>has_secondary_use_agriculture</th>\n",
       "      <th>has_secondary_use_hotel</th>\n",
       "      <th>has_secondary_use_rental</th>\n",
       "      <th>has_secondary_use_institution</th>\n",
       "      <th>has_secondary_use_school</th>\n",
       "      <th>has_secondary_use_industry</th>\n",
       "      <th>has_secondary_use_health_post</th>\n",
       "      <th>has_secondary_use_gov_office</th>\n",
       "      <th>has_secondary_use_use_police</th>\n",
       "      <th>has_secondary_use_other</th>\n",
       "    </tr>\n",
       "  </thead>\n",
       "  <tbody>\n",
       "    <tr>\n",
       "      <th>0</th>\n",
       "      <td>120101000011</td>\n",
       "      <td>12</td>\n",
       "      <td>1207</td>\n",
       "      <td>120703</td>\n",
       "      <td>Private</td>\n",
       "      <td>1.0</td>\n",
       "      <td>0.0</td>\n",
       "      <td>0</td>\n",
       "      <td>0</td>\n",
       "      <td>0</td>\n",
       "      <td>0</td>\n",
       "      <td>0</td>\n",
       "      <td>0</td>\n",
       "      <td>0</td>\n",
       "      <td>0</td>\n",
       "      <td>0</td>\n",
       "      <td>0</td>\n",
       "    </tr>\n",
       "    <tr>\n",
       "      <th>1</th>\n",
       "      <td>120101000021</td>\n",
       "      <td>12</td>\n",
       "      <td>1207</td>\n",
       "      <td>120703</td>\n",
       "      <td>Private</td>\n",
       "      <td>1.0</td>\n",
       "      <td>0.0</td>\n",
       "      <td>0</td>\n",
       "      <td>0</td>\n",
       "      <td>0</td>\n",
       "      <td>0</td>\n",
       "      <td>0</td>\n",
       "      <td>0</td>\n",
       "      <td>0</td>\n",
       "      <td>0</td>\n",
       "      <td>0</td>\n",
       "      <td>0</td>\n",
       "    </tr>\n",
       "    <tr>\n",
       "      <th>2</th>\n",
       "      <td>120101000031</td>\n",
       "      <td>12</td>\n",
       "      <td>1207</td>\n",
       "      <td>120703</td>\n",
       "      <td>Private</td>\n",
       "      <td>1.0</td>\n",
       "      <td>0.0</td>\n",
       "      <td>0</td>\n",
       "      <td>0</td>\n",
       "      <td>0</td>\n",
       "      <td>0</td>\n",
       "      <td>0</td>\n",
       "      <td>0</td>\n",
       "      <td>0</td>\n",
       "      <td>0</td>\n",
       "      <td>0</td>\n",
       "      <td>0</td>\n",
       "    </tr>\n",
       "    <tr>\n",
       "      <th>3</th>\n",
       "      <td>120101000041</td>\n",
       "      <td>12</td>\n",
       "      <td>1207</td>\n",
       "      <td>120703</td>\n",
       "      <td>Private</td>\n",
       "      <td>1.0</td>\n",
       "      <td>0.0</td>\n",
       "      <td>0</td>\n",
       "      <td>0</td>\n",
       "      <td>0</td>\n",
       "      <td>0</td>\n",
       "      <td>0</td>\n",
       "      <td>0</td>\n",
       "      <td>0</td>\n",
       "      <td>0</td>\n",
       "      <td>0</td>\n",
       "      <td>0</td>\n",
       "    </tr>\n",
       "    <tr>\n",
       "      <th>4</th>\n",
       "      <td>120101000051</td>\n",
       "      <td>12</td>\n",
       "      <td>1207</td>\n",
       "      <td>120703</td>\n",
       "      <td>Private</td>\n",
       "      <td>1.0</td>\n",
       "      <td>0.0</td>\n",
       "      <td>0</td>\n",
       "      <td>0</td>\n",
       "      <td>0</td>\n",
       "      <td>0</td>\n",
       "      <td>0</td>\n",
       "      <td>0</td>\n",
       "      <td>0</td>\n",
       "      <td>0</td>\n",
       "      <td>0</td>\n",
       "      <td>0</td>\n",
       "    </tr>\n",
       "  </tbody>\n",
       "</table>\n",
       "</div>"
      ],
      "text/plain": [
       "    building_id  district_id  vdcmun_id  ward_id legal_ownership_status  \\\n",
       "0  120101000011           12       1207   120703                Private   \n",
       "1  120101000021           12       1207   120703                Private   \n",
       "2  120101000031           12       1207   120703                Private   \n",
       "3  120101000041           12       1207   120703                Private   \n",
       "4  120101000051           12       1207   120703                Private   \n",
       "\n",
       "   count_families  has_secondary_use  has_secondary_use_agriculture  \\\n",
       "0             1.0                0.0                              0   \n",
       "1             1.0                0.0                              0   \n",
       "2             1.0                0.0                              0   \n",
       "3             1.0                0.0                              0   \n",
       "4             1.0                0.0                              0   \n",
       "\n",
       "   has_secondary_use_hotel  has_secondary_use_rental  \\\n",
       "0                        0                         0   \n",
       "1                        0                         0   \n",
       "2                        0                         0   \n",
       "3                        0                         0   \n",
       "4                        0                         0   \n",
       "\n",
       "   has_secondary_use_institution  has_secondary_use_school  \\\n",
       "0                              0                         0   \n",
       "1                              0                         0   \n",
       "2                              0                         0   \n",
       "3                              0                         0   \n",
       "4                              0                         0   \n",
       "\n",
       "   has_secondary_use_industry  has_secondary_use_health_post  \\\n",
       "0                           0                              0   \n",
       "1                           0                              0   \n",
       "2                           0                              0   \n",
       "3                           0                              0   \n",
       "4                           0                              0   \n",
       "\n",
       "   has_secondary_use_gov_office  has_secondary_use_use_police  \\\n",
       "0                             0                             0   \n",
       "1                             0                             0   \n",
       "2                             0                             0   \n",
       "3                             0                             0   \n",
       "4                             0                             0   \n",
       "\n",
       "   has_secondary_use_other  \n",
       "0                        0  \n",
       "1                        0  \n",
       "2                        0  \n",
       "3                        0  \n",
       "4                        0  "
      ]
     },
     "execution_count": 8,
     "metadata": {},
     "output_type": "execute_result"
    }
   ],
   "source": [
    "df.head(5)"
   ]
  },
  {
   "cell_type": "code",
   "execution_count": 9,
   "metadata": {},
   "outputs": [
    {
     "data": {
      "text/html": [
       "<div>\n",
       "<style scoped>\n",
       "    .dataframe tbody tr th:only-of-type {\n",
       "        vertical-align: middle;\n",
       "    }\n",
       "\n",
       "    .dataframe tbody tr th {\n",
       "        vertical-align: top;\n",
       "    }\n",
       "\n",
       "    .dataframe thead th {\n",
       "        text-align: right;\n",
       "    }\n",
       "</style>\n",
       "<table border=\"1\" class=\"dataframe\">\n",
       "  <thead>\n",
       "    <tr style=\"text-align: right;\">\n",
       "      <th></th>\n",
       "      <th>building_id</th>\n",
       "      <th>damage_grade</th>\n",
       "    </tr>\n",
       "  </thead>\n",
       "  <tbody>\n",
       "    <tr>\n",
       "      <th>0</th>\n",
       "      <td>802906</td>\n",
       "      <td>3</td>\n",
       "    </tr>\n",
       "    <tr>\n",
       "      <th>1</th>\n",
       "      <td>28830</td>\n",
       "      <td>2</td>\n",
       "    </tr>\n",
       "    <tr>\n",
       "      <th>2</th>\n",
       "      <td>94947</td>\n",
       "      <td>3</td>\n",
       "    </tr>\n",
       "    <tr>\n",
       "      <th>3</th>\n",
       "      <td>590882</td>\n",
       "      <td>2</td>\n",
       "    </tr>\n",
       "    <tr>\n",
       "      <th>4</th>\n",
       "      <td>201944</td>\n",
       "      <td>3</td>\n",
       "    </tr>\n",
       "  </tbody>\n",
       "</table>\n",
       "</div>"
      ],
      "text/plain": [
       "   building_id  damage_grade\n",
       "0       802906             3\n",
       "1        28830             2\n",
       "2        94947             3\n",
       "3       590882             2\n",
       "4       201944             3"
      ]
     },
     "execution_count": 9,
     "metadata": {},
     "output_type": "execute_result"
    }
   ],
   "source": [
    "values.head(5)"
   ]
  },
  {
   "cell_type": "code",
   "execution_count": 10,
   "metadata": {},
   "outputs": [],
   "source": [
    "data = df.merge(values, on = 'building_id')"
   ]
  },
  {
   "cell_type": "code",
   "execution_count": 11,
   "metadata": {},
   "outputs": [
    {
     "data": {
      "text/plain": [
       "building_id                        int64\n",
       "district_id                        int64\n",
       "vdcmun_id                          int64\n",
       "ward_id                            int64\n",
       "legal_ownership_status            object\n",
       "count_families                   float64\n",
       "has_secondary_use                float64\n",
       "has_secondary_use_agriculture      int64\n",
       "has_secondary_use_hotel            int64\n",
       "has_secondary_use_rental           int64\n",
       "has_secondary_use_institution      int64\n",
       "has_secondary_use_school           int64\n",
       "has_secondary_use_industry         int64\n",
       "has_secondary_use_health_post      int64\n",
       "has_secondary_use_gov_office       int64\n",
       "has_secondary_use_use_police       int64\n",
       "has_secondary_use_other            int64\n",
       "damage_grade                       int64\n",
       "dtype: object"
      ]
     },
     "execution_count": 11,
     "metadata": {},
     "output_type": "execute_result"
    }
   ],
   "source": [
    "data.dtypes"
   ]
  },
  {
   "cell_type": "code",
   "execution_count": 12,
   "metadata": {},
   "outputs": [
    {
     "name": "stdout",
     "output_type": "stream",
     "text": [
      "<class 'pandas.core.frame.DataFrame'>\n",
      "Index: 0 entries\n",
      "Data columns (total 18 columns):\n",
      " #   Column                         Non-Null Count  Dtype  \n",
      "---  ------                         --------------  -----  \n",
      " 0   building_id                    0 non-null      int64  \n",
      " 1   district_id                    0 non-null      int64  \n",
      " 2   vdcmun_id                      0 non-null      int64  \n",
      " 3   ward_id                        0 non-null      int64  \n",
      " 4   legal_ownership_status         0 non-null      object \n",
      " 5   count_families                 0 non-null      float64\n",
      " 6   has_secondary_use              0 non-null      float64\n",
      " 7   has_secondary_use_agriculture  0 non-null      int64  \n",
      " 8   has_secondary_use_hotel        0 non-null      int64  \n",
      " 9   has_secondary_use_rental       0 non-null      int64  \n",
      " 10  has_secondary_use_institution  0 non-null      int64  \n",
      " 11  has_secondary_use_school       0 non-null      int64  \n",
      " 12  has_secondary_use_industry     0 non-null      int64  \n",
      " 13  has_secondary_use_health_post  0 non-null      int64  \n",
      " 14  has_secondary_use_gov_office   0 non-null      int64  \n",
      " 15  has_secondary_use_use_police   0 non-null      int64  \n",
      " 16  has_secondary_use_other        0 non-null      int64  \n",
      " 17  damage_grade                   0 non-null      int64  \n",
      "dtypes: float64(2), int64(15), object(1)\n",
      "memory usage: 0.0+ bytes\n"
     ]
    }
   ],
   "source": [
    "data.info()"
   ]
  },
  {
   "cell_type": "code",
   "execution_count": 13,
   "metadata": {},
   "outputs": [
    {
     "name": "stdout",
     "output_type": "stream",
     "text": [
      "legal_ownership_status []\n"
     ]
    }
   ],
   "source": [
    "for col, name in zip(data, data.columns):\n",
    "    if data[col].dtypes == 'object':\n",
    "        print(name, data[col].unique())"
   ]
  },
  {
   "cell_type": "code",
   "execution_count": 14,
   "metadata": {},
   "outputs": [],
   "source": [
    "from matplotlib import pyplot as plt\n",
    "\n",
    "object_var = data.select_dtypes(include=['object'])"
   ]
  },
  {
   "cell_type": "code",
   "execution_count": 15,
   "metadata": {},
   "outputs": [
    {
     "name": "stdout",
     "output_type": "stream",
     "text": [
      "Series([], Name: legal_ownership_status, dtype: int64)\n"
     ]
    }
   ],
   "source": [
    "print(object_var.legal_ownership_status.value_counts())\n"
   ]
  },
  {
   "cell_type": "code",
   "execution_count": 16,
   "metadata": {},
   "outputs": [],
   "source": [
    "binary = data[['count_families','has_secondary_use','has_secondary_use_agriculture','has_secondary_use_hotel',\n",
    "  'has_secondary_use_rental','has_secondary_use_institution','has_secondary_use_school','has_secondary_use_industry','has_secondary_use_health_post',\"has_secondary_use_gov_office\",\"has_secondary_use_use_police\",\"has_secondary_use_other\",\"damage_grade\"]].astype(\"bool\")\n"
   ]
  },
  {
   "cell_type": "code",
   "execution_count": 17,
   "metadata": {},
   "outputs": [
    {
     "data": {
      "text/plain": [
       "{'count_families',\n",
       " 'damage_grade',\n",
       " 'has_secondary_use',\n",
       " 'has_secondary_use_agriculture',\n",
       " 'has_secondary_use_gov_office',\n",
       " 'has_secondary_use_health_post',\n",
       " 'has_secondary_use_hotel',\n",
       " 'has_secondary_use_industry',\n",
       " 'has_secondary_use_institution',\n",
       " 'has_secondary_use_other',\n",
       " 'has_secondary_use_rental',\n",
       " 'has_secondary_use_school',\n",
       " 'has_secondary_use_use_police'}"
      ]
     },
     "execution_count": 17,
     "metadata": {},
     "output_type": "execute_result"
    }
   ],
   "source": [
    "set(binary.columns)"
   ]
  },
  {
   "cell_type": "code",
   "execution_count": 18,
   "metadata": {},
   "outputs": [],
   "source": [
    "#analyse building damage features"
   ]
  },
  {
   "cell_type": "code",
   "execution_count": 19,
   "metadata": {},
   "outputs": [
    {
     "name": "stderr",
     "output_type": "stream",
     "text": [
      "/var/folders/v3/_knhttz13qd_2tcf97bv63nw0000gn/T/ipykernel_12784/2617369664.py:2: DtypeWarning: Columns (17,29,34,35,36,37,38,39,40,41,42,47,50) have mixed types. Specify dtype option on import or set low_memory=False.\n",
      "  df = pd.read_csv(path)\n"
     ]
    }
   ],
   "source": [
    "path = '../data/data/csv_building_damage_assessment.csv'\n",
    "df = pd.read_csv(path)\n",
    "\n",
    "avalues_path = '../data/data/train_labels.csv'\n",
    "values = pd.read_csv(values_path)"
   ]
  },
  {
   "cell_type": "code",
   "execution_count": 20,
   "metadata": {},
   "outputs": [
    {
     "data": {
      "text/plain": [
       "(762106, 79)"
      ]
     },
     "execution_count": 20,
     "metadata": {},
     "output_type": "execute_result"
    }
   ],
   "source": [
    "df.shape"
   ]
  },
  {
   "cell_type": "code",
   "execution_count": 21,
   "metadata": {},
   "outputs": [
    {
     "data": {
      "text/html": [
       "<div>\n",
       "<style scoped>\n",
       "    .dataframe tbody tr th:only-of-type {\n",
       "        vertical-align: middle;\n",
       "    }\n",
       "\n",
       "    .dataframe tbody tr th {\n",
       "        vertical-align: top;\n",
       "    }\n",
       "\n",
       "    .dataframe thead th {\n",
       "        text-align: right;\n",
       "    }\n",
       "</style>\n",
       "<table border=\"1\" class=\"dataframe\">\n",
       "  <thead>\n",
       "    <tr style=\"text-align: right;\">\n",
       "      <th></th>\n",
       "      <th>count</th>\n",
       "      <th>mean</th>\n",
       "      <th>std</th>\n",
       "      <th>min</th>\n",
       "      <th>25%</th>\n",
       "      <th>50%</th>\n",
       "      <th>75%</th>\n",
       "      <th>max</th>\n",
       "    </tr>\n",
       "  </thead>\n",
       "  <tbody>\n",
       "    <tr>\n",
       "      <th>building_id</th>\n",
       "      <td>762106.0</td>\n",
       "      <td>2.607514e+11</td>\n",
       "      <td>5.801855e+10</td>\n",
       "      <td>1.201010e+11</td>\n",
       "      <td>2.219090e+11</td>\n",
       "      <td>2.463020e+11</td>\n",
       "      <td>3.036080e+11</td>\n",
       "      <td>3.667090e+11</td>\n",
       "    </tr>\n",
       "    <tr>\n",
       "      <th>district_id</th>\n",
       "      <td>762106.0</td>\n",
       "      <td>2.576784e+01</td>\n",
       "      <td>5.807555e+00</td>\n",
       "      <td>1.200000e+01</td>\n",
       "      <td>2.200000e+01</td>\n",
       "      <td>2.400000e+01</td>\n",
       "      <td>3.000000e+01</td>\n",
       "      <td>3.600000e+01</td>\n",
       "    </tr>\n",
       "    <tr>\n",
       "      <th>vdcmun_id</th>\n",
       "      <td>762106.0</td>\n",
       "      <td>2.582688e+03</td>\n",
       "      <td>5.811728e+02</td>\n",
       "      <td>1.201000e+03</td>\n",
       "      <td>2.204000e+03</td>\n",
       "      <td>2.410000e+03</td>\n",
       "      <td>3.010000e+03</td>\n",
       "      <td>3.611000e+03</td>\n",
       "    </tr>\n",
       "    <tr>\n",
       "      <th>ward_id</th>\n",
       "      <td>762106.0</td>\n",
       "      <td>2.582743e+05</td>\n",
       "      <td>5.811735e+04</td>\n",
       "      <td>1.201010e+05</td>\n",
       "      <td>2.204020e+05</td>\n",
       "      <td>2.410040e+05</td>\n",
       "      <td>3.010060e+05</td>\n",
       "      <td>3.611080e+05</td>\n",
       "    </tr>\n",
       "    <tr>\n",
       "      <th>has_repair_started</th>\n",
       "      <td>710239.0</td>\n",
       "      <td>2.420988e-01</td>\n",
       "      <td>4.283541e-01</td>\n",
       "      <td>0.000000e+00</td>\n",
       "      <td>0.000000e+00</td>\n",
       "      <td>0.000000e+00</td>\n",
       "      <td>0.000000e+00</td>\n",
       "      <td>1.000000e+00</td>\n",
       "    </tr>\n",
       "    <tr>\n",
       "      <th>has_damage_foundation</th>\n",
       "      <td>273438.0</td>\n",
       "      <td>2.652338e-01</td>\n",
       "      <td>4.414584e-01</td>\n",
       "      <td>0.000000e+00</td>\n",
       "      <td>0.000000e+00</td>\n",
       "      <td>0.000000e+00</td>\n",
       "      <td>1.000000e+00</td>\n",
       "      <td>1.000000e+00</td>\n",
       "    </tr>\n",
       "    <tr>\n",
       "      <th>has_damage_roof</th>\n",
       "      <td>247305.0</td>\n",
       "      <td>4.974667e-01</td>\n",
       "      <td>4.999946e-01</td>\n",
       "      <td>0.000000e+00</td>\n",
       "      <td>0.000000e+00</td>\n",
       "      <td>0.000000e+00</td>\n",
       "      <td>1.000000e+00</td>\n",
       "      <td>1.000000e+00</td>\n",
       "    </tr>\n",
       "    <tr>\n",
       "      <th>has_damage_corner_separation</th>\n",
       "      <td>248499.0</td>\n",
       "      <td>6.349683e-01</td>\n",
       "      <td>4.814400e-01</td>\n",
       "      <td>0.000000e+00</td>\n",
       "      <td>0.000000e+00</td>\n",
       "      <td>1.000000e+00</td>\n",
       "      <td>1.000000e+00</td>\n",
       "      <td>1.000000e+00</td>\n",
       "    </tr>\n",
       "    <tr>\n",
       "      <th>has_damage_diagonal_cracking</th>\n",
       "      <td>228081.0</td>\n",
       "      <td>5.265717e-01</td>\n",
       "      <td>4.992945e-01</td>\n",
       "      <td>0.000000e+00</td>\n",
       "      <td>0.000000e+00</td>\n",
       "      <td>1.000000e+00</td>\n",
       "      <td>1.000000e+00</td>\n",
       "      <td>1.000000e+00</td>\n",
       "    </tr>\n",
       "    <tr>\n",
       "      <th>has_damage_in_plane_failure</th>\n",
       "      <td>216174.0</td>\n",
       "      <td>5.223894e-01</td>\n",
       "      <td>4.994996e-01</td>\n",
       "      <td>0.000000e+00</td>\n",
       "      <td>0.000000e+00</td>\n",
       "      <td>1.000000e+00</td>\n",
       "      <td>1.000000e+00</td>\n",
       "      <td>1.000000e+00</td>\n",
       "    </tr>\n",
       "    <tr>\n",
       "      <th>has_damage_out_of_plane_failure</th>\n",
       "      <td>240990.0</td>\n",
       "      <td>5.011536e-01</td>\n",
       "      <td>4.999997e-01</td>\n",
       "      <td>0.000000e+00</td>\n",
       "      <td>0.000000e+00</td>\n",
       "      <td>1.000000e+00</td>\n",
       "      <td>1.000000e+00</td>\n",
       "      <td>1.000000e+00</td>\n",
       "    </tr>\n",
       "    <tr>\n",
       "      <th>has_damage_out_of_plane_walls_ncfr_failure</th>\n",
       "      <td>258241.0</td>\n",
       "      <td>3.448755e-01</td>\n",
       "      <td>4.753286e-01</td>\n",
       "      <td>0.000000e+00</td>\n",
       "      <td>0.000000e+00</td>\n",
       "      <td>0.000000e+00</td>\n",
       "      <td>1.000000e+00</td>\n",
       "      <td>1.000000e+00</td>\n",
       "    </tr>\n",
       "    <tr>\n",
       "      <th>has_damage_gable_failure</th>\n",
       "      <td>325287.0</td>\n",
       "      <td>7.106494e-01</td>\n",
       "      <td>4.534617e-01</td>\n",
       "      <td>0.000000e+00</td>\n",
       "      <td>0.000000e+00</td>\n",
       "      <td>1.000000e+00</td>\n",
       "      <td>1.000000e+00</td>\n",
       "      <td>1.000000e+00</td>\n",
       "    </tr>\n",
       "    <tr>\n",
       "      <th>has_damage_delamination_failure</th>\n",
       "      <td>286523.0</td>\n",
       "      <td>4.251770e-01</td>\n",
       "      <td>4.943707e-01</td>\n",
       "      <td>0.000000e+00</td>\n",
       "      <td>0.000000e+00</td>\n",
       "      <td>0.000000e+00</td>\n",
       "      <td>1.000000e+00</td>\n",
       "      <td>1.000000e+00</td>\n",
       "    </tr>\n",
       "    <tr>\n",
       "      <th>has_damage_column_failure</th>\n",
       "      <td>29940.0</td>\n",
       "      <td>5.337341e-02</td>\n",
       "      <td>2.247807e-01</td>\n",
       "      <td>0.000000e+00</td>\n",
       "      <td>0.000000e+00</td>\n",
       "      <td>0.000000e+00</td>\n",
       "      <td>0.000000e+00</td>\n",
       "      <td>1.000000e+00</td>\n",
       "    </tr>\n",
       "    <tr>\n",
       "      <th>has_damage_beam_failure</th>\n",
       "      <td>29238.0</td>\n",
       "      <td>4.135030e-02</td>\n",
       "      <td>1.991025e-01</td>\n",
       "      <td>0.000000e+00</td>\n",
       "      <td>0.000000e+00</td>\n",
       "      <td>0.000000e+00</td>\n",
       "      <td>0.000000e+00</td>\n",
       "      <td>1.000000e+00</td>\n",
       "    </tr>\n",
       "    <tr>\n",
       "      <th>has_damage_infill_partition_failure</th>\n",
       "      <td>21554.0</td>\n",
       "      <td>1.583001e-01</td>\n",
       "      <td>3.650306e-01</td>\n",
       "      <td>0.000000e+00</td>\n",
       "      <td>0.000000e+00</td>\n",
       "      <td>0.000000e+00</td>\n",
       "      <td>0.000000e+00</td>\n",
       "      <td>1.000000e+00</td>\n",
       "    </tr>\n",
       "    <tr>\n",
       "      <th>has_damage_staircase</th>\n",
       "      <td>401738.0</td>\n",
       "      <td>3.713614e-01</td>\n",
       "      <td>4.831694e-01</td>\n",
       "      <td>0.000000e+00</td>\n",
       "      <td>0.000000e+00</td>\n",
       "      <td>0.000000e+00</td>\n",
       "      <td>1.000000e+00</td>\n",
       "      <td>1.000000e+00</td>\n",
       "    </tr>\n",
       "    <tr>\n",
       "      <th>has_damage_parapet</th>\n",
       "      <td>451732.0</td>\n",
       "      <td>6.817162e-01</td>\n",
       "      <td>4.658108e-01</td>\n",
       "      <td>0.000000e+00</td>\n",
       "      <td>0.000000e+00</td>\n",
       "      <td>1.000000e+00</td>\n",
       "      <td>1.000000e+00</td>\n",
       "      <td>1.000000e+00</td>\n",
       "    </tr>\n",
       "    <tr>\n",
       "      <th>has_damage_cladding_glazing</th>\n",
       "      <td>465001.0</td>\n",
       "      <td>7.067727e-01</td>\n",
       "      <td>4.552423e-01</td>\n",
       "      <td>0.000000e+00</td>\n",
       "      <td>0.000000e+00</td>\n",
       "      <td>1.000000e+00</td>\n",
       "      <td>1.000000e+00</td>\n",
       "      <td>1.000000e+00</td>\n",
       "    </tr>\n",
       "    <tr>\n",
       "      <th>has_geotechnical_risk</th>\n",
       "      <td>762094.0</td>\n",
       "      <td>1.438760e-01</td>\n",
       "      <td>3.509641e-01</td>\n",
       "      <td>0.000000e+00</td>\n",
       "      <td>0.000000e+00</td>\n",
       "      <td>0.000000e+00</td>\n",
       "      <td>0.000000e+00</td>\n",
       "      <td>1.000000e+00</td>\n",
       "    </tr>\n",
       "    <tr>\n",
       "      <th>has_geotechnical_risk_land_settlement</th>\n",
       "      <td>762106.0</td>\n",
       "      <td>3.811937e-02</td>\n",
       "      <td>1.914845e-01</td>\n",
       "      <td>0.000000e+00</td>\n",
       "      <td>0.000000e+00</td>\n",
       "      <td>0.000000e+00</td>\n",
       "      <td>0.000000e+00</td>\n",
       "      <td>1.000000e+00</td>\n",
       "    </tr>\n",
       "    <tr>\n",
       "      <th>has_geotechnical_risk_fault_crack</th>\n",
       "      <td>762106.0</td>\n",
       "      <td>5.320520e-02</td>\n",
       "      <td>2.244426e-01</td>\n",
       "      <td>0.000000e+00</td>\n",
       "      <td>0.000000e+00</td>\n",
       "      <td>0.000000e+00</td>\n",
       "      <td>0.000000e+00</td>\n",
       "      <td>1.000000e+00</td>\n",
       "    </tr>\n",
       "    <tr>\n",
       "      <th>has_geotechnical_risk_liquefaction</th>\n",
       "      <td>762106.0</td>\n",
       "      <td>2.794887e-03</td>\n",
       "      <td>5.279279e-02</td>\n",
       "      <td>0.000000e+00</td>\n",
       "      <td>0.000000e+00</td>\n",
       "      <td>0.000000e+00</td>\n",
       "      <td>0.000000e+00</td>\n",
       "      <td>1.000000e+00</td>\n",
       "    </tr>\n",
       "    <tr>\n",
       "      <th>has_geotechnical_risk_landslide</th>\n",
       "      <td>762106.0</td>\n",
       "      <td>8.013846e-02</td>\n",
       "      <td>2.715076e-01</td>\n",
       "      <td>0.000000e+00</td>\n",
       "      <td>0.000000e+00</td>\n",
       "      <td>0.000000e+00</td>\n",
       "      <td>0.000000e+00</td>\n",
       "      <td>1.000000e+00</td>\n",
       "    </tr>\n",
       "    <tr>\n",
       "      <th>has_geotechnical_risk_rock_fall</th>\n",
       "      <td>762106.0</td>\n",
       "      <td>4.197972e-02</td>\n",
       "      <td>2.005430e-01</td>\n",
       "      <td>0.000000e+00</td>\n",
       "      <td>0.000000e+00</td>\n",
       "      <td>0.000000e+00</td>\n",
       "      <td>0.000000e+00</td>\n",
       "      <td>1.000000e+00</td>\n",
       "    </tr>\n",
       "    <tr>\n",
       "      <th>has_geotechnical_risk_flood</th>\n",
       "      <td>762106.0</td>\n",
       "      <td>1.171884e-02</td>\n",
       "      <td>1.076175e-01</td>\n",
       "      <td>0.000000e+00</td>\n",
       "      <td>0.000000e+00</td>\n",
       "      <td>0.000000e+00</td>\n",
       "      <td>0.000000e+00</td>\n",
       "      <td>1.000000e+00</td>\n",
       "    </tr>\n",
       "    <tr>\n",
       "      <th>has_geotechnical_risk_other</th>\n",
       "      <td>762106.0</td>\n",
       "      <td>1.069405e-03</td>\n",
       "      <td>3.268429e-02</td>\n",
       "      <td>0.000000e+00</td>\n",
       "      <td>0.000000e+00</td>\n",
       "      <td>0.000000e+00</td>\n",
       "      <td>0.000000e+00</td>\n",
       "      <td>1.000000e+00</td>\n",
       "    </tr>\n",
       "  </tbody>\n",
       "</table>\n",
       "</div>"
      ],
      "text/plain": [
       "                                               count          mean  \\\n",
       "building_id                                 762106.0  2.607514e+11   \n",
       "district_id                                 762106.0  2.576784e+01   \n",
       "vdcmun_id                                   762106.0  2.582688e+03   \n",
       "ward_id                                     762106.0  2.582743e+05   \n",
       "has_repair_started                          710239.0  2.420988e-01   \n",
       "has_damage_foundation                       273438.0  2.652338e-01   \n",
       "has_damage_roof                             247305.0  4.974667e-01   \n",
       "has_damage_corner_separation                248499.0  6.349683e-01   \n",
       "has_damage_diagonal_cracking                228081.0  5.265717e-01   \n",
       "has_damage_in_plane_failure                 216174.0  5.223894e-01   \n",
       "has_damage_out_of_plane_failure             240990.0  5.011536e-01   \n",
       "has_damage_out_of_plane_walls_ncfr_failure  258241.0  3.448755e-01   \n",
       "has_damage_gable_failure                    325287.0  7.106494e-01   \n",
       "has_damage_delamination_failure             286523.0  4.251770e-01   \n",
       "has_damage_column_failure                    29940.0  5.337341e-02   \n",
       "has_damage_beam_failure                      29238.0  4.135030e-02   \n",
       "has_damage_infill_partition_failure          21554.0  1.583001e-01   \n",
       "has_damage_staircase                        401738.0  3.713614e-01   \n",
       "has_damage_parapet                          451732.0  6.817162e-01   \n",
       "has_damage_cladding_glazing                 465001.0  7.067727e-01   \n",
       "has_geotechnical_risk                       762094.0  1.438760e-01   \n",
       "has_geotechnical_risk_land_settlement       762106.0  3.811937e-02   \n",
       "has_geotechnical_risk_fault_crack           762106.0  5.320520e-02   \n",
       "has_geotechnical_risk_liquefaction          762106.0  2.794887e-03   \n",
       "has_geotechnical_risk_landslide             762106.0  8.013846e-02   \n",
       "has_geotechnical_risk_rock_fall             762106.0  4.197972e-02   \n",
       "has_geotechnical_risk_flood                 762106.0  1.171884e-02   \n",
       "has_geotechnical_risk_other                 762106.0  1.069405e-03   \n",
       "\n",
       "                                                     std           min  \\\n",
       "building_id                                 5.801855e+10  1.201010e+11   \n",
       "district_id                                 5.807555e+00  1.200000e+01   \n",
       "vdcmun_id                                   5.811728e+02  1.201000e+03   \n",
       "ward_id                                     5.811735e+04  1.201010e+05   \n",
       "has_repair_started                          4.283541e-01  0.000000e+00   \n",
       "has_damage_foundation                       4.414584e-01  0.000000e+00   \n",
       "has_damage_roof                             4.999946e-01  0.000000e+00   \n",
       "has_damage_corner_separation                4.814400e-01  0.000000e+00   \n",
       "has_damage_diagonal_cracking                4.992945e-01  0.000000e+00   \n",
       "has_damage_in_plane_failure                 4.994996e-01  0.000000e+00   \n",
       "has_damage_out_of_plane_failure             4.999997e-01  0.000000e+00   \n",
       "has_damage_out_of_plane_walls_ncfr_failure  4.753286e-01  0.000000e+00   \n",
       "has_damage_gable_failure                    4.534617e-01  0.000000e+00   \n",
       "has_damage_delamination_failure             4.943707e-01  0.000000e+00   \n",
       "has_damage_column_failure                   2.247807e-01  0.000000e+00   \n",
       "has_damage_beam_failure                     1.991025e-01  0.000000e+00   \n",
       "has_damage_infill_partition_failure         3.650306e-01  0.000000e+00   \n",
       "has_damage_staircase                        4.831694e-01  0.000000e+00   \n",
       "has_damage_parapet                          4.658108e-01  0.000000e+00   \n",
       "has_damage_cladding_glazing                 4.552423e-01  0.000000e+00   \n",
       "has_geotechnical_risk                       3.509641e-01  0.000000e+00   \n",
       "has_geotechnical_risk_land_settlement       1.914845e-01  0.000000e+00   \n",
       "has_geotechnical_risk_fault_crack           2.244426e-01  0.000000e+00   \n",
       "has_geotechnical_risk_liquefaction          5.279279e-02  0.000000e+00   \n",
       "has_geotechnical_risk_landslide             2.715076e-01  0.000000e+00   \n",
       "has_geotechnical_risk_rock_fall             2.005430e-01  0.000000e+00   \n",
       "has_geotechnical_risk_flood                 1.076175e-01  0.000000e+00   \n",
       "has_geotechnical_risk_other                 3.268429e-02  0.000000e+00   \n",
       "\n",
       "                                                     25%           50%  \\\n",
       "building_id                                 2.219090e+11  2.463020e+11   \n",
       "district_id                                 2.200000e+01  2.400000e+01   \n",
       "vdcmun_id                                   2.204000e+03  2.410000e+03   \n",
       "ward_id                                     2.204020e+05  2.410040e+05   \n",
       "has_repair_started                          0.000000e+00  0.000000e+00   \n",
       "has_damage_foundation                       0.000000e+00  0.000000e+00   \n",
       "has_damage_roof                             0.000000e+00  0.000000e+00   \n",
       "has_damage_corner_separation                0.000000e+00  1.000000e+00   \n",
       "has_damage_diagonal_cracking                0.000000e+00  1.000000e+00   \n",
       "has_damage_in_plane_failure                 0.000000e+00  1.000000e+00   \n",
       "has_damage_out_of_plane_failure             0.000000e+00  1.000000e+00   \n",
       "has_damage_out_of_plane_walls_ncfr_failure  0.000000e+00  0.000000e+00   \n",
       "has_damage_gable_failure                    0.000000e+00  1.000000e+00   \n",
       "has_damage_delamination_failure             0.000000e+00  0.000000e+00   \n",
       "has_damage_column_failure                   0.000000e+00  0.000000e+00   \n",
       "has_damage_beam_failure                     0.000000e+00  0.000000e+00   \n",
       "has_damage_infill_partition_failure         0.000000e+00  0.000000e+00   \n",
       "has_damage_staircase                        0.000000e+00  0.000000e+00   \n",
       "has_damage_parapet                          0.000000e+00  1.000000e+00   \n",
       "has_damage_cladding_glazing                 0.000000e+00  1.000000e+00   \n",
       "has_geotechnical_risk                       0.000000e+00  0.000000e+00   \n",
       "has_geotechnical_risk_land_settlement       0.000000e+00  0.000000e+00   \n",
       "has_geotechnical_risk_fault_crack           0.000000e+00  0.000000e+00   \n",
       "has_geotechnical_risk_liquefaction          0.000000e+00  0.000000e+00   \n",
       "has_geotechnical_risk_landslide             0.000000e+00  0.000000e+00   \n",
       "has_geotechnical_risk_rock_fall             0.000000e+00  0.000000e+00   \n",
       "has_geotechnical_risk_flood                 0.000000e+00  0.000000e+00   \n",
       "has_geotechnical_risk_other                 0.000000e+00  0.000000e+00   \n",
       "\n",
       "                                                     75%           max  \n",
       "building_id                                 3.036080e+11  3.667090e+11  \n",
       "district_id                                 3.000000e+01  3.600000e+01  \n",
       "vdcmun_id                                   3.010000e+03  3.611000e+03  \n",
       "ward_id                                     3.010060e+05  3.611080e+05  \n",
       "has_repair_started                          0.000000e+00  1.000000e+00  \n",
       "has_damage_foundation                       1.000000e+00  1.000000e+00  \n",
       "has_damage_roof                             1.000000e+00  1.000000e+00  \n",
       "has_damage_corner_separation                1.000000e+00  1.000000e+00  \n",
       "has_damage_diagonal_cracking                1.000000e+00  1.000000e+00  \n",
       "has_damage_in_plane_failure                 1.000000e+00  1.000000e+00  \n",
       "has_damage_out_of_plane_failure             1.000000e+00  1.000000e+00  \n",
       "has_damage_out_of_plane_walls_ncfr_failure  1.000000e+00  1.000000e+00  \n",
       "has_damage_gable_failure                    1.000000e+00  1.000000e+00  \n",
       "has_damage_delamination_failure             1.000000e+00  1.000000e+00  \n",
       "has_damage_column_failure                   0.000000e+00  1.000000e+00  \n",
       "has_damage_beam_failure                     0.000000e+00  1.000000e+00  \n",
       "has_damage_infill_partition_failure         0.000000e+00  1.000000e+00  \n",
       "has_damage_staircase                        1.000000e+00  1.000000e+00  \n",
       "has_damage_parapet                          1.000000e+00  1.000000e+00  \n",
       "has_damage_cladding_glazing                 1.000000e+00  1.000000e+00  \n",
       "has_geotechnical_risk                       0.000000e+00  1.000000e+00  \n",
       "has_geotechnical_risk_land_settlement       0.000000e+00  1.000000e+00  \n",
       "has_geotechnical_risk_fault_crack           0.000000e+00  1.000000e+00  \n",
       "has_geotechnical_risk_liquefaction          0.000000e+00  1.000000e+00  \n",
       "has_geotechnical_risk_landslide             0.000000e+00  1.000000e+00  \n",
       "has_geotechnical_risk_rock_fall             0.000000e+00  1.000000e+00  \n",
       "has_geotechnical_risk_flood                 0.000000e+00  1.000000e+00  \n",
       "has_geotechnical_risk_other                 0.000000e+00  1.000000e+00  "
      ]
     },
     "execution_count": 21,
     "metadata": {},
     "output_type": "execute_result"
    }
   ],
   "source": [
    "df.describe().T\n"
   ]
  },
  {
   "cell_type": "code",
   "execution_count": 22,
   "metadata": {},
   "outputs": [
    {
     "name": "stdout",
     "output_type": "stream",
     "text": [
      "<class 'pandas.core.frame.DataFrame'>\n",
      "RangeIndex: 762106 entries, 0 to 762105\n",
      "Data columns (total 79 columns):\n",
      " #   Column                                                Non-Null Count   Dtype  \n",
      "---  ------                                                --------------   -----  \n",
      " 0   building_id                                           762106 non-null  int64  \n",
      " 1   district_id                                           762106 non-null  int64  \n",
      " 2   vdcmun_id                                             762106 non-null  int64  \n",
      " 3   ward_id                                               762106 non-null  int64  \n",
      " 4   damage_overall_collapse                               500743 non-null  object \n",
      " 5   damage_overall_leaning                                500742 non-null  object \n",
      " 6   damage_overall_adjacent_building_risk                 500742 non-null  object \n",
      " 7   damage_foundation_severe                              254544 non-null  object \n",
      " 8   damage_foundation_moderate                            103606 non-null  object \n",
      " 9   damage_foundation_insignificant                       174902 non-null  object \n",
      " 10  damage_roof_severe                                    247305 non-null  object \n",
      " 11  damage_roof_moderate                                  148098 non-null  object \n",
      " 12  damage_roof_insignificant                             181707 non-null  object \n",
      " 13  damage_corner_separation_severe                       248499 non-null  object \n",
      " 14  damage_corner_separation_moderate                     193226 non-null  object \n",
      " 15  damage_corner_separation_insignificant                164735 non-null  object \n",
      " 16  damage_diagonal_cracking_severe                       228081 non-null  object \n",
      " 17  damage_diagonal_cracking_moderate                     188007 non-null  object \n",
      " 18  damage_diagonal_cracking_insignificant                174462 non-null  object \n",
      " 19  damage_in_plane_failure_severe                        216174 non-null  object \n",
      " 20  damage_in_plane_failure_moderate                      178581 non-null  object \n",
      " 21  damage_in_plane_failure_insignificant                 177192 non-null  object \n",
      " 22  damage_out_of_plane_failure_severe                    240990 non-null  object \n",
      " 23  damage_out_of_plane_failure_moderate                  166626 non-null  object \n",
      " 24  damage_out_of_plane_failure_insignificant             158131 non-null  object \n",
      " 25  damage_out_of_plane_failure_walls_ncfr_severe         258241 non-null  object \n",
      " 26  damage_out_of_plane_failure_walls_ncfr_moderate       137890 non-null  object \n",
      " 27  damage_out_of_plane_failure_walls_ncfr_insignificant  147051 non-null  object \n",
      " 28  damage_gable_failure_severe                           211781 non-null  object \n",
      " 29  damage_gable_failure_moderate                         99057 non-null   object \n",
      " 30  damage_gable_failure_insignificant                    102369 non-null  object \n",
      " 31  damage_delamination_failure_severe                    227609 non-null  object \n",
      " 32  damage_delamination_failure_moderate                  105849 non-null  object \n",
      " 33  damage_delamination_failure_insignificant             136721 non-null  object \n",
      " 34  damage_column_failure_severe                          29940 non-null   object \n",
      " 35  damage_column_failure_moderate                        2723 non-null    object \n",
      " 36  damage_column_failure_insignificant                   8160 non-null    object \n",
      " 37  damage_beam_failure_severe                            29238 non-null   object \n",
      " 38  damage_beam_failure_moderate                          2538 non-null    object \n",
      " 39  damage_beam_failure_insignificant                     8774 non-null    object \n",
      " 40  damage_infill_partition_failure_severe                21554 non-null   object \n",
      " 41  damage_infill_partition_failure_moderate              6693 non-null    object \n",
      " 42  damage_infill_partition_failure_insignificant         14990 non-null   object \n",
      " 43  damage_staircase_severe                               269894 non-null  object \n",
      " 44  damage_staircase_moderate                             27433 non-null   object \n",
      " 45  damage_staircase_insignificant                        78638 non-null   object \n",
      " 46  damage_parapet_severe                                 156343 non-null  object \n",
      " 47  damage_parapet_moderate                               18489 non-null   object \n",
      " 48  damage_parapet_insignificant                          36650 non-null   object \n",
      " 49  damage_cladding_glazing_severe                        142207 non-null  object \n",
      " 50  damage_cladding_glazing_moderate                      11560 non-null   object \n",
      " 51  damage_cladding_glazing_insignificant                 28651 non-null   object \n",
      " 52  area_assesed                                          762094 non-null  object \n",
      " 53  damage_grade                                          762094 non-null  object \n",
      " 54  technical_solution_proposed                           762094 non-null  object \n",
      " 55  has_repair_started                                    710239 non-null  float64\n",
      " 56  has_damage_foundation                                 273438 non-null  float64\n",
      " 57  has_damage_roof                                       247305 non-null  float64\n",
      " 58  has_damage_corner_separation                          248499 non-null  float64\n",
      " 59  has_damage_diagonal_cracking                          228081 non-null  float64\n",
      " 60  has_damage_in_plane_failure                           216174 non-null  float64\n",
      " 61  has_damage_out_of_plane_failure                       240990 non-null  float64\n",
      " 62  has_damage_out_of_plane_walls_ncfr_failure            258241 non-null  float64\n",
      " 63  has_damage_gable_failure                              325287 non-null  float64\n",
      " 64  has_damage_delamination_failure                       286523 non-null  float64\n",
      " 65  has_damage_column_failure                             29940 non-null   float64\n",
      " 66  has_damage_beam_failure                               29238 non-null   float64\n",
      " 67  has_damage_infill_partition_failure                   21554 non-null   float64\n",
      " 68  has_damage_staircase                                  401738 non-null  float64\n",
      " 69  has_damage_parapet                                    451732 non-null  float64\n",
      " 70  has_damage_cladding_glazing                           465001 non-null  float64\n",
      " 71  has_geotechnical_risk                                 762094 non-null  float64\n",
      " 72  has_geotechnical_risk_land_settlement                 762106 non-null  int64  \n",
      " 73  has_geotechnical_risk_fault_crack                     762106 non-null  int64  \n",
      " 74  has_geotechnical_risk_liquefaction                    762106 non-null  int64  \n",
      " 75  has_geotechnical_risk_landslide                       762106 non-null  int64  \n",
      " 76  has_geotechnical_risk_rock_fall                       762106 non-null  int64  \n",
      " 77  has_geotechnical_risk_flood                           762106 non-null  int64  \n",
      " 78  has_geotechnical_risk_other                           762106 non-null  int64  \n",
      "dtypes: float64(17), int64(11), object(51)\n",
      "memory usage: 459.3+ MB\n"
     ]
    }
   ],
   "source": [
    "df.info()"
   ]
  },
  {
   "cell_type": "code",
   "execution_count": 23,
   "metadata": {},
   "outputs": [],
   "source": [
    "#analyse building structure features"
   ]
  },
  {
   "cell_type": "code",
   "execution_count": 24,
   "metadata": {},
   "outputs": [],
   "source": [
    "path = '../data/data/csv_building_structure.csv'\n",
    "df = pd.read_csv(path).set_index('building_id')\n",
    "\n",
    "values_path = '../data/data/train_labels.csv'\n",
    "values = pd.read_csv(values_path).set_index('building_id')"
   ]
  },
  {
   "cell_type": "code",
   "execution_count": 25,
   "metadata": {},
   "outputs": [
    {
     "data": {
      "text/plain": [
       "(762106, 30)"
      ]
     },
     "execution_count": 25,
     "metadata": {},
     "output_type": "execute_result"
    }
   ],
   "source": [
    "df.shape"
   ]
  },
  {
   "cell_type": "code",
   "execution_count": 26,
   "metadata": {},
   "outputs": [
    {
     "data": {
      "text/html": [
       "<div>\n",
       "<style scoped>\n",
       "    .dataframe tbody tr th:only-of-type {\n",
       "        vertical-align: middle;\n",
       "    }\n",
       "\n",
       "    .dataframe tbody tr th {\n",
       "        vertical-align: top;\n",
       "    }\n",
       "\n",
       "    .dataframe thead th {\n",
       "        text-align: right;\n",
       "    }\n",
       "</style>\n",
       "<table border=\"1\" class=\"dataframe\">\n",
       "  <thead>\n",
       "    <tr style=\"text-align: right;\">\n",
       "      <th></th>\n",
       "      <th>count</th>\n",
       "      <th>mean</th>\n",
       "      <th>std</th>\n",
       "      <th>min</th>\n",
       "      <th>25%</th>\n",
       "      <th>50%</th>\n",
       "      <th>75%</th>\n",
       "      <th>max</th>\n",
       "    </tr>\n",
       "  </thead>\n",
       "  <tbody>\n",
       "    <tr>\n",
       "      <th>district_id</th>\n",
       "      <td>762106.0</td>\n",
       "      <td>25.767835</td>\n",
       "      <td>5.807555</td>\n",
       "      <td>12.0</td>\n",
       "      <td>22.0</td>\n",
       "      <td>24.0</td>\n",
       "      <td>30.0</td>\n",
       "      <td>36.0</td>\n",
       "    </tr>\n",
       "    <tr>\n",
       "      <th>vdcmun_id</th>\n",
       "      <td>762106.0</td>\n",
       "      <td>2582.688357</td>\n",
       "      <td>581.172767</td>\n",
       "      <td>1201.0</td>\n",
       "      <td>2204.0</td>\n",
       "      <td>2410.0</td>\n",
       "      <td>3010.0</td>\n",
       "      <td>3611.0</td>\n",
       "    </tr>\n",
       "    <tr>\n",
       "      <th>ward_id</th>\n",
       "      <td>762106.0</td>\n",
       "      <td>258274.277335</td>\n",
       "      <td>58117.348412</td>\n",
       "      <td>120101.0</td>\n",
       "      <td>220402.0</td>\n",
       "      <td>241004.0</td>\n",
       "      <td>301006.0</td>\n",
       "      <td>361108.0</td>\n",
       "    </tr>\n",
       "    <tr>\n",
       "      <th>count_floors_pre_eq</th>\n",
       "      <td>762106.0</td>\n",
       "      <td>2.087783</td>\n",
       "      <td>0.655101</td>\n",
       "      <td>1.0</td>\n",
       "      <td>2.0</td>\n",
       "      <td>2.0</td>\n",
       "      <td>2.0</td>\n",
       "      <td>9.0</td>\n",
       "    </tr>\n",
       "    <tr>\n",
       "      <th>count_floors_post_eq</th>\n",
       "      <td>762106.0</td>\n",
       "      <td>1.252058</td>\n",
       "      <td>1.063275</td>\n",
       "      <td>0.0</td>\n",
       "      <td>0.0</td>\n",
       "      <td>1.0</td>\n",
       "      <td>2.0</td>\n",
       "      <td>9.0</td>\n",
       "    </tr>\n",
       "    <tr>\n",
       "      <th>age_building</th>\n",
       "      <td>762106.0</td>\n",
       "      <td>24.326405</td>\n",
       "      <td>65.043704</td>\n",
       "      <td>0.0</td>\n",
       "      <td>9.0</td>\n",
       "      <td>16.0</td>\n",
       "      <td>27.0</td>\n",
       "      <td>999.0</td>\n",
       "    </tr>\n",
       "    <tr>\n",
       "      <th>plinth_area_sq_ft</th>\n",
       "      <td>762106.0</td>\n",
       "      <td>406.672576</td>\n",
       "      <td>226.779371</td>\n",
       "      <td>70.0</td>\n",
       "      <td>280.0</td>\n",
       "      <td>358.0</td>\n",
       "      <td>470.0</td>\n",
       "      <td>5000.0</td>\n",
       "    </tr>\n",
       "    <tr>\n",
       "      <th>height_ft_pre_eq</th>\n",
       "      <td>762106.0</td>\n",
       "      <td>16.049372</td>\n",
       "      <td>5.493878</td>\n",
       "      <td>6.0</td>\n",
       "      <td>12.0</td>\n",
       "      <td>16.0</td>\n",
       "      <td>18.0</td>\n",
       "      <td>99.0</td>\n",
       "    </tr>\n",
       "    <tr>\n",
       "      <th>height_ft_post_eq</th>\n",
       "      <td>762106.0</td>\n",
       "      <td>9.868817</td>\n",
       "      <td>8.574169</td>\n",
       "      <td>0.0</td>\n",
       "      <td>0.0</td>\n",
       "      <td>11.0</td>\n",
       "      <td>16.0</td>\n",
       "      <td>99.0</td>\n",
       "    </tr>\n",
       "    <tr>\n",
       "      <th>has_superstructure_adobe_mud</th>\n",
       "      <td>762106.0</td>\n",
       "      <td>0.042401</td>\n",
       "      <td>0.201502</td>\n",
       "      <td>0.0</td>\n",
       "      <td>0.0</td>\n",
       "      <td>0.0</td>\n",
       "      <td>0.0</td>\n",
       "      <td>1.0</td>\n",
       "    </tr>\n",
       "    <tr>\n",
       "      <th>has_superstructure_mud_mortar_stone</th>\n",
       "      <td>762106.0</td>\n",
       "      <td>0.800271</td>\n",
       "      <td>0.399797</td>\n",
       "      <td>0.0</td>\n",
       "      <td>1.0</td>\n",
       "      <td>1.0</td>\n",
       "      <td>1.0</td>\n",
       "      <td>1.0</td>\n",
       "    </tr>\n",
       "    <tr>\n",
       "      <th>has_superstructure_stone_flag</th>\n",
       "      <td>762106.0</td>\n",
       "      <td>0.035121</td>\n",
       "      <td>0.184086</td>\n",
       "      <td>0.0</td>\n",
       "      <td>0.0</td>\n",
       "      <td>0.0</td>\n",
       "      <td>0.0</td>\n",
       "      <td>1.0</td>\n",
       "    </tr>\n",
       "    <tr>\n",
       "      <th>has_superstructure_cement_mortar_stone</th>\n",
       "      <td>762106.0</td>\n",
       "      <td>0.015815</td>\n",
       "      <td>0.124761</td>\n",
       "      <td>0.0</td>\n",
       "      <td>0.0</td>\n",
       "      <td>0.0</td>\n",
       "      <td>0.0</td>\n",
       "      <td>1.0</td>\n",
       "    </tr>\n",
       "    <tr>\n",
       "      <th>has_superstructure_mud_mortar_brick</th>\n",
       "      <td>762106.0</td>\n",
       "      <td>0.022961</td>\n",
       "      <td>0.149780</td>\n",
       "      <td>0.0</td>\n",
       "      <td>0.0</td>\n",
       "      <td>0.0</td>\n",
       "      <td>0.0</td>\n",
       "      <td>1.0</td>\n",
       "    </tr>\n",
       "    <tr>\n",
       "      <th>has_superstructure_cement_mortar_brick</th>\n",
       "      <td>762106.0</td>\n",
       "      <td>0.071525</td>\n",
       "      <td>0.257701</td>\n",
       "      <td>0.0</td>\n",
       "      <td>0.0</td>\n",
       "      <td>0.0</td>\n",
       "      <td>0.0</td>\n",
       "      <td>1.0</td>\n",
       "    </tr>\n",
       "    <tr>\n",
       "      <th>has_superstructure_timber</th>\n",
       "      <td>762106.0</td>\n",
       "      <td>0.258766</td>\n",
       "      <td>0.437957</td>\n",
       "      <td>0.0</td>\n",
       "      <td>0.0</td>\n",
       "      <td>0.0</td>\n",
       "      <td>1.0</td>\n",
       "      <td>1.0</td>\n",
       "    </tr>\n",
       "    <tr>\n",
       "      <th>has_superstructure_bamboo</th>\n",
       "      <td>762106.0</td>\n",
       "      <td>0.080482</td>\n",
       "      <td>0.272039</td>\n",
       "      <td>0.0</td>\n",
       "      <td>0.0</td>\n",
       "      <td>0.0</td>\n",
       "      <td>0.0</td>\n",
       "      <td>1.0</td>\n",
       "    </tr>\n",
       "    <tr>\n",
       "      <th>has_superstructure_rc_non_engineered</th>\n",
       "      <td>762106.0</td>\n",
       "      <td>0.039794</td>\n",
       "      <td>0.195474</td>\n",
       "      <td>0.0</td>\n",
       "      <td>0.0</td>\n",
       "      <td>0.0</td>\n",
       "      <td>0.0</td>\n",
       "      <td>1.0</td>\n",
       "    </tr>\n",
       "    <tr>\n",
       "      <th>has_superstructure_rc_engineered</th>\n",
       "      <td>762106.0</td>\n",
       "      <td>0.016386</td>\n",
       "      <td>0.126955</td>\n",
       "      <td>0.0</td>\n",
       "      <td>0.0</td>\n",
       "      <td>0.0</td>\n",
       "      <td>0.0</td>\n",
       "      <td>1.0</td>\n",
       "    </tr>\n",
       "    <tr>\n",
       "      <th>has_superstructure_other</th>\n",
       "      <td>762106.0</td>\n",
       "      <td>0.012026</td>\n",
       "      <td>0.109001</td>\n",
       "      <td>0.0</td>\n",
       "      <td>0.0</td>\n",
       "      <td>0.0</td>\n",
       "      <td>0.0</td>\n",
       "      <td>1.0</td>\n",
       "    </tr>\n",
       "  </tbody>\n",
       "</table>\n",
       "</div>"
      ],
      "text/plain": [
       "                                           count           mean           std  \\\n",
       "district_id                             762106.0      25.767835      5.807555   \n",
       "vdcmun_id                               762106.0    2582.688357    581.172767   \n",
       "ward_id                                 762106.0  258274.277335  58117.348412   \n",
       "count_floors_pre_eq                     762106.0       2.087783      0.655101   \n",
       "count_floors_post_eq                    762106.0       1.252058      1.063275   \n",
       "age_building                            762106.0      24.326405     65.043704   \n",
       "plinth_area_sq_ft                       762106.0     406.672576    226.779371   \n",
       "height_ft_pre_eq                        762106.0      16.049372      5.493878   \n",
       "height_ft_post_eq                       762106.0       9.868817      8.574169   \n",
       "has_superstructure_adobe_mud            762106.0       0.042401      0.201502   \n",
       "has_superstructure_mud_mortar_stone     762106.0       0.800271      0.399797   \n",
       "has_superstructure_stone_flag           762106.0       0.035121      0.184086   \n",
       "has_superstructure_cement_mortar_stone  762106.0       0.015815      0.124761   \n",
       "has_superstructure_mud_mortar_brick     762106.0       0.022961      0.149780   \n",
       "has_superstructure_cement_mortar_brick  762106.0       0.071525      0.257701   \n",
       "has_superstructure_timber               762106.0       0.258766      0.437957   \n",
       "has_superstructure_bamboo               762106.0       0.080482      0.272039   \n",
       "has_superstructure_rc_non_engineered    762106.0       0.039794      0.195474   \n",
       "has_superstructure_rc_engineered        762106.0       0.016386      0.126955   \n",
       "has_superstructure_other                762106.0       0.012026      0.109001   \n",
       "\n",
       "                                             min       25%       50%  \\\n",
       "district_id                                 12.0      22.0      24.0   \n",
       "vdcmun_id                                 1201.0    2204.0    2410.0   \n",
       "ward_id                                 120101.0  220402.0  241004.0   \n",
       "count_floors_pre_eq                          1.0       2.0       2.0   \n",
       "count_floors_post_eq                         0.0       0.0       1.0   \n",
       "age_building                                 0.0       9.0      16.0   \n",
       "plinth_area_sq_ft                           70.0     280.0     358.0   \n",
       "height_ft_pre_eq                             6.0      12.0      16.0   \n",
       "height_ft_post_eq                            0.0       0.0      11.0   \n",
       "has_superstructure_adobe_mud                 0.0       0.0       0.0   \n",
       "has_superstructure_mud_mortar_stone          0.0       1.0       1.0   \n",
       "has_superstructure_stone_flag                0.0       0.0       0.0   \n",
       "has_superstructure_cement_mortar_stone       0.0       0.0       0.0   \n",
       "has_superstructure_mud_mortar_brick          0.0       0.0       0.0   \n",
       "has_superstructure_cement_mortar_brick       0.0       0.0       0.0   \n",
       "has_superstructure_timber                    0.0       0.0       0.0   \n",
       "has_superstructure_bamboo                    0.0       0.0       0.0   \n",
       "has_superstructure_rc_non_engineered         0.0       0.0       0.0   \n",
       "has_superstructure_rc_engineered             0.0       0.0       0.0   \n",
       "has_superstructure_other                     0.0       0.0       0.0   \n",
       "\n",
       "                                             75%       max  \n",
       "district_id                                 30.0      36.0  \n",
       "vdcmun_id                                 3010.0    3611.0  \n",
       "ward_id                                 301006.0  361108.0  \n",
       "count_floors_pre_eq                          2.0       9.0  \n",
       "count_floors_post_eq                         2.0       9.0  \n",
       "age_building                                27.0     999.0  \n",
       "plinth_area_sq_ft                          470.0    5000.0  \n",
       "height_ft_pre_eq                            18.0      99.0  \n",
       "height_ft_post_eq                           16.0      99.0  \n",
       "has_superstructure_adobe_mud                 0.0       1.0  \n",
       "has_superstructure_mud_mortar_stone          1.0       1.0  \n",
       "has_superstructure_stone_flag                0.0       1.0  \n",
       "has_superstructure_cement_mortar_stone       0.0       1.0  \n",
       "has_superstructure_mud_mortar_brick          0.0       1.0  \n",
       "has_superstructure_cement_mortar_brick       0.0       1.0  \n",
       "has_superstructure_timber                    1.0       1.0  \n",
       "has_superstructure_bamboo                    0.0       1.0  \n",
       "has_superstructure_rc_non_engineered         0.0       1.0  \n",
       "has_superstructure_rc_engineered             0.0       1.0  \n",
       "has_superstructure_other                     0.0       1.0  "
      ]
     },
     "execution_count": 26,
     "metadata": {},
     "output_type": "execute_result"
    }
   ],
   "source": [
    "df.describe().T\n"
   ]
  },
  {
   "cell_type": "code",
   "execution_count": 29,
   "metadata": {},
   "outputs": [
    {
     "name": "stdout",
     "output_type": "stream",
     "text": [
      "<class 'pandas.core.frame.DataFrame'>\n",
      "Int64Index: 762106 entries, 120101000011 to 366709001281\n",
      "Data columns (total 30 columns):\n",
      " #   Column                                  Non-Null Count   Dtype \n",
      "---  ------                                  --------------   ----- \n",
      " 0   district_id                             762106 non-null  int64 \n",
      " 1   vdcmun_id                               762106 non-null  int64 \n",
      " 2   ward_id                                 762106 non-null  int64 \n",
      " 3   count_floors_pre_eq                     762106 non-null  int64 \n",
      " 4   count_floors_post_eq                    762106 non-null  int64 \n",
      " 5   age_building                            762106 non-null  int64 \n",
      " 6   plinth_area_sq_ft                       762106 non-null  int64 \n",
      " 7   height_ft_pre_eq                        762106 non-null  int64 \n",
      " 8   height_ft_post_eq                       762106 non-null  int64 \n",
      " 9   land_surface_condition                  762106 non-null  object\n",
      " 10  foundation_type                         762106 non-null  object\n",
      " 11  roof_type                               762106 non-null  object\n",
      " 12  ground_floor_type                       762106 non-null  object\n",
      " 13  other_floor_type                        762106 non-null  object\n",
      " 14  position                                762105 non-null  object\n",
      " 15  plan_configuration                      762105 non-null  object\n",
      " 16  has_superstructure_adobe_mud            762106 non-null  int64 \n",
      " 17  has_superstructure_mud_mortar_stone     762106 non-null  int64 \n",
      " 18  has_superstructure_stone_flag           762106 non-null  int64 \n",
      " 19  has_superstructure_cement_mortar_stone  762106 non-null  int64 \n",
      " 20  has_superstructure_mud_mortar_brick     762106 non-null  int64 \n",
      " 21  has_superstructure_cement_mortar_brick  762106 non-null  int64 \n",
      " 22  has_superstructure_timber               762106 non-null  int64 \n",
      " 23  has_superstructure_bamboo               762106 non-null  int64 \n",
      " 24  has_superstructure_rc_non_engineered    762106 non-null  int64 \n",
      " 25  has_superstructure_rc_engineered        762106 non-null  int64 \n",
      " 26  has_superstructure_other                762106 non-null  int64 \n",
      " 27  condition_post_eq                       762106 non-null  object\n",
      " 28  damage_grade                            762094 non-null  object\n",
      " 29  technical_solution_proposed             762094 non-null  object\n",
      "dtypes: int64(20), object(10)\n",
      "memory usage: 180.2+ MB\n"
     ]
    }
   ],
   "source": [
    "df.info()"
   ]
  },
  {
   "cell_type": "code",
   "execution_count": 30,
   "metadata": {},
   "outputs": [],
   "source": [
    "#Let's begin with insights about the target"
   ]
  },
  {
   "cell_type": "code",
   "execution_count": 32,
   "metadata": {},
   "outputs": [],
   "source": [
    "#df['damage_grade'].hist(align=\"mid\", rwidth=0.8, \n",
    "#                  bins=np.arange(1, 5)-0.5)\n",
    "d = {\"Grade 1\": 1,\n",
    "     \"Grade 2\": 2,\n",
    "     \"Grade 3\": 3,\n",
    "     \"Grade 4\": 4,\n",
    "     \"Grade 5\": 5,\n",
    "     }\n",
    "\n",
    "df_2 = df['damage_grade'].map(d)\n"
   ]
  },
  {
   "cell_type": "code",
   "execution_count": null,
   "metadata": {},
   "outputs": [],
   "source": [
    "df['damage_grade'].map(d).plot.bar();"
   ]
  },
  {
   "cell_type": "code",
   "execution_count": 80,
   "metadata": {},
   "outputs": [
    {
     "data": {
      "text/plain": [
       "Grade 5    36.184730\n",
       "Grade 4    24.123153\n",
       "Grade 3    17.899347\n",
       "Grade 2    11.449457\n",
       "Grade 1    10.341737\n",
       "Name: damage_grade, dtype: float64"
      ]
     },
     "execution_count": 80,
     "metadata": {},
     "output_type": "execute_result"
    }
   ],
   "source": [
    "df['damage_grade'].value_counts()/len(df)*100\n"
   ]
  },
  {
   "cell_type": "code",
   "execution_count": 83,
   "metadata": {},
   "outputs": [
    {
     "data": {
      "text/plain": [
       "2.2382723013342236"
      ]
     },
     "execution_count": 83,
     "metadata": {},
     "output_type": "execute_result"
    }
   ],
   "source": [
    "values['damage_grade'].mean()\n"
   ]
  },
  {
   "cell_type": "code",
   "execution_count": null,
   "metadata": {},
   "outputs": [],
   "source": [
    "#removing naan from damage grade, position, plan_configuration,technical_solution_proposed"
   ]
  },
  {
   "cell_type": "code",
   "execution_count": 86,
   "metadata": {},
   "outputs": [
    {
     "name": "stdout",
     "output_type": "stream",
     "text": [
      "<class 'pandas.core.frame.DataFrame'>\n",
      "Int64Index: 762106 entries, 120101000011 to 366709001281\n",
      "Data columns (total 30 columns):\n",
      " #   Column                                  Non-Null Count   Dtype \n",
      "---  ------                                  --------------   ----- \n",
      " 0   district_id                             762106 non-null  int64 \n",
      " 1   vdcmun_id                               762106 non-null  int64 \n",
      " 2   ward_id                                 762106 non-null  int64 \n",
      " 3   count_floors_pre_eq                     762106 non-null  int64 \n",
      " 4   count_floors_post_eq                    762106 non-null  int64 \n",
      " 5   age_building                            762106 non-null  int64 \n",
      " 6   plinth_area_sq_ft                       762106 non-null  int64 \n",
      " 7   height_ft_pre_eq                        762106 non-null  int64 \n",
      " 8   height_ft_post_eq                       762106 non-null  int64 \n",
      " 9   land_surface_condition                  762106 non-null  object\n",
      " 10  foundation_type                         762106 non-null  object\n",
      " 11  roof_type                               762106 non-null  object\n",
      " 12  ground_floor_type                       762106 non-null  object\n",
      " 13  other_floor_type                        762106 non-null  object\n",
      " 14  position                                762105 non-null  object\n",
      " 15  plan_configuration                      762105 non-null  object\n",
      " 16  has_superstructure_adobe_mud            762106 non-null  int64 \n",
      " 17  has_superstructure_mud_mortar_stone     762106 non-null  int64 \n",
      " 18  has_superstructure_stone_flag           762106 non-null  int64 \n",
      " 19  has_superstructure_cement_mortar_stone  762106 non-null  int64 \n",
      " 20  has_superstructure_mud_mortar_brick     762106 non-null  int64 \n",
      " 21  has_superstructure_cement_mortar_brick  762106 non-null  int64 \n",
      " 22  has_superstructure_timber               762106 non-null  int64 \n",
      " 23  has_superstructure_bamboo               762106 non-null  int64 \n",
      " 24  has_superstructure_rc_non_engineered    762106 non-null  int64 \n",
      " 25  has_superstructure_rc_engineered        762106 non-null  int64 \n",
      " 26  has_superstructure_other                762106 non-null  int64 \n",
      " 27  condition_post_eq                       762106 non-null  object\n",
      " 28  damage_grade                            762094 non-null  object\n",
      " 29  technical_solution_proposed             762094 non-null  object\n",
      "dtypes: int64(20), object(10)\n",
      "memory usage: 196.4+ MB\n"
     ]
    }
   ],
   "source": [
    "df.info()"
   ]
  },
  {
   "cell_type": "code",
   "execution_count": 91,
   "metadata": {},
   "outputs": [
    {
     "data": {
      "text/plain": [
       "district_id                                0\n",
       "vdcmun_id                                  0\n",
       "ward_id                                    0\n",
       "count_floors_pre_eq                        0\n",
       "count_floors_post_eq                       0\n",
       "age_building                               0\n",
       "plinth_area_sq_ft                          0\n",
       "height_ft_pre_eq                           0\n",
       "height_ft_post_eq                          0\n",
       "land_surface_condition                     0\n",
       "foundation_type                            0\n",
       "roof_type                                  0\n",
       "ground_floor_type                          0\n",
       "other_floor_type                           0\n",
       "position                                   1\n",
       "plan_configuration                         1\n",
       "has_superstructure_adobe_mud               0\n",
       "has_superstructure_mud_mortar_stone        0\n",
       "has_superstructure_stone_flag              0\n",
       "has_superstructure_cement_mortar_stone     0\n",
       "has_superstructure_mud_mortar_brick        0\n",
       "has_superstructure_cement_mortar_brick     0\n",
       "has_superstructure_timber                  0\n",
       "has_superstructure_bamboo                  0\n",
       "has_superstructure_rc_non_engineered       0\n",
       "has_superstructure_rc_engineered           0\n",
       "has_superstructure_other                   0\n",
       "condition_post_eq                          0\n",
       "damage_grade                              12\n",
       "technical_solution_proposed               12\n",
       "dtype: int64"
      ]
     },
     "execution_count": 91,
     "metadata": {},
     "output_type": "execute_result"
    }
   ],
   "source": [
    "pd.Series(df.isna().sum(axis=0))\n"
   ]
  },
  {
   "cell_type": "code",
   "execution_count": 94,
   "metadata": {},
   "outputs": [
    {
     "data": {
      "text/plain": [
       "position                        1\n",
       "plan_configuration              1\n",
       "damage_grade                   12\n",
       "technical_solution_proposed    12\n",
       "dtype: int64"
      ]
     },
     "execution_count": 94,
     "metadata": {},
     "output_type": "execute_result"
    }
   ],
   "source": [
    "df.isna().sum(axis=0)[df.isna().sum(axis=0) > 0]\n"
   ]
  },
  {
   "cell_type": "code",
   "execution_count": 97,
   "metadata": {},
   "outputs": [],
   "source": [
    "dff=df.dropna()"
   ]
  },
  {
   "cell_type": "code",
   "execution_count": 98,
   "metadata": {},
   "outputs": [
    {
     "data": {
      "text/plain": [
       "position                       0\n",
       "plan_configuration             0\n",
       "damage_grade                   0\n",
       "technical_solution_proposed    0\n",
       "dtype: int64"
      ]
     },
     "execution_count": 98,
     "metadata": {},
     "output_type": "execute_result"
    }
   ],
   "source": [
    "dff.isna().sum(axis=0)[df.isna().sum(axis=0) > 0]\n"
   ]
  },
  {
   "cell_type": "code",
   "execution_count": 105,
   "metadata": {},
   "outputs": [
    {
     "data": {
      "text/plain": [
       "3.643606956622149"
      ]
     },
     "execution_count": 105,
     "metadata": {},
     "output_type": "execute_result"
    }
   ],
   "source": [
    "d = {\"Grade 1\": 1,\n",
    "     \"Grade 2\": 2,\n",
    "     \"Grade 3\": 3,\n",
    "     \"Grade 4\": 4,\n",
    "     \"Grade 5\": 5,\n",
    "     }\n",
    "\n",
    "dff[\"damage_grade\"].map(d).mean()\n"
   ]
  },
  {
   "cell_type": "code",
   "execution_count": 1,
   "metadata": {},
   "outputs": [
    {
     "ename": "NameError",
     "evalue": "name 'dff' is not defined",
     "output_type": "error",
     "traceback": [
      "\u001b[0;31m---------------------------------------------------------------------------\u001b[0m",
      "\u001b[0;31mNameError\u001b[0m                                 Traceback (most recent call last)",
      "Cell \u001b[0;32mIn [1], line 1\u001b[0m\n\u001b[0;32m----> 1\u001b[0m dff[\u001b[39m'\u001b[39m\u001b[39mdamage_grade\u001b[39m\u001b[39m'\u001b[39m]\u001b[39m.\u001b[39mmap(d)\n",
      "\u001b[0;31mNameError\u001b[0m: name 'dff' is not defined"
     ]
    }
   ],
   "source": [
    "dff['damage_grade'].map(d)\n",
    "#.plot(kind=\"bar\")\n"
   ]
  },
  {
   "cell_type": "code",
   "execution_count": null,
   "metadata": {},
   "outputs": [
    {
     "name": "stdout",
     "output_type": "stream",
     "text": [
      "land_surface_condition ['Flat' 'Moderate slope' 'Steep slope']\n",
      "foundation_type ['Other' 'Mud mortar-Stone/Brick' 'Cement-Stone/Brick' 'Bamboo/Timber'\n",
      " 'RC']\n",
      "roof_type ['Bamboo/Timber-Light roof' 'Bamboo/Timber-Heavy roof' 'RCC/RB/RBC']\n",
      "ground_floor_type ['Mud' 'Brick/Stone' 'RC' 'Timber' 'Other']\n",
      "other_floor_type ['Not applicable' 'TImber/Bamboo-Mud' 'Timber-Planck' 'RCC/RB/RBC']\n",
      "position ['Not attached' 'Attached-1 side' 'Attached-2 side' 'Attached-3 side' nan]\n",
      "plan_configuration ['Rectangular' 'L-shape' 'Square' 'T-shape' 'Multi-projected' 'H-shape'\n",
      " 'U-shape' 'Others' 'E-shape' 'Building with Central Courtyard' nan]\n",
      "condition_post_eq ['Damaged-Used in risk' 'Damaged-Repaired and used'\n",
      " 'Damaged-Rubble unclear' 'Not damaged' 'Damaged-Not used'\n",
      " 'Damaged-Rubble clear' 'Damaged-Rubble Clear-New building built'\n",
      " 'Covered by landslide']\n",
      "damage_grade ['Grade 3' 'Grade 5' 'Grade 2' 'Grade 1' 'Grade 4' nan]\n",
      "technical_solution_proposed ['Major repair' 'Reconstruction' 'Minor repair' 'No need' nan]\n"
     ]
    }
   ],
   "source": [
    "for col, name in zip(dff, dff.columns):\n",
    "    if dff[col].dtypes == 'object':\n",
    "        print(name, dff[col].unique())"
   ]
  },
  {
   "cell_type": "code",
   "execution_count": null,
   "metadata": {},
   "outputs": [],
   "source": []
  },
  {
   "cell_type": "code",
   "execution_count": null,
   "metadata": {},
   "outputs": [],
   "source": []
  },
  {
   "cell_type": "code",
   "execution_count": 52,
   "metadata": {},
   "outputs": [
    {
     "data": {
      "text/plain": [
       "Flat              82.885452\n",
       "Moderate slope    13.861589\n",
       "Steep slope        3.252960\n",
       "Name: land_surface_condition, dtype: float64"
      ]
     },
     "execution_count": 52,
     "metadata": {},
     "output_type": "execute_result"
    }
   ],
   "source": [
    "df['land_surface_condition'].value_counts()/len(df)*100\n"
   ]
  },
  {
   "cell_type": "code",
   "execution_count": 54,
   "metadata": {},
   "outputs": [
    {
     "data": {
      "text/plain": [
       "<AxesSubplot:>"
      ]
     },
     "execution_count": 54,
     "metadata": {},
     "output_type": "execute_result"
    },
    {
     "data": {
      "image/png": "[encoded data removed]",
      "text/plain": [
       "<Figure size 640x480 with 1 Axes>"
      ]
     },
     "metadata": {},
     "output_type": "display_data"
    }
   ],
   "source": [
    "df['land_surface_condition'].hist(align=\"mid\", rwidth=0.8, \n",
    "                   bins=np.arange(1, 5)-0.5)\n"
   ]
  },
  {
   "cell_type": "code",
   "execution_count": 60,
   "metadata": {},
   "outputs": [
    {
     "data": {
      "text/plain": [
       "<matplotlib.legend.Legend at 0x12d78fa60>"
      ]
     },
     "execution_count": 60,
     "metadata": {},
     "output_type": "execute_result"
    },
    {
     "data": {
      "image/png": "[encoded data removed]",
      "text/plain": [
       "<Figure size 640x480 with 1 Axes>"
      ]
     },
     "metadata": {},
     "output_type": "display_data"
    }
   ],
   "source": [
    "col = 'count_floors_pre_eq'\n",
    "df.loc[:,col].hist(align=\"mid\", rwidth=0.8, \n",
    "                   bins=np.arange(min(df.loc[:,col]), max(df.loc[:,col])+2)-0.5)\n",
    "plt.axhline(df.loc[:,col].value_counts().mean(), color='r')\n",
    "plt.legend(labels=[\"mean\"])\n"
   ]
  },
  {
   "cell_type": "code",
   "execution_count": 61,
   "metadata": {},
   "outputs": [
    {
     "data": {
      "text/plain": [
       "<matplotlib.legend.Legend at 0x12d7a2a40>"
      ]
     },
     "execution_count": 61,
     "metadata": {},
     "output_type": "execute_result"
    },
    {
     "data": {
      "image/png": "[encoded data removed]",
      "text/plain": [
       "<Figure size 640x480 with 1 Axes>"
      ]
     },
     "metadata": {},
     "output_type": "display_data"
    }
   ],
   "source": [
    "col = 'count_floors_post_eq'\n",
    "df.loc[:,col].hist(align=\"mid\", rwidth=0.8, \n",
    "                   bins=np.arange(min(df.loc[:,col]), max(df.loc[:,col])+2)-0.5)\n",
    "plt.axhline(df.loc[:,col].value_counts().mean(), color='r')\n",
    "plt.legend(labels=[\"mean\"])\n"
   ]
  },
  {
   "cell_type": "code",
   "execution_count": null,
   "metadata": {},
   "outputs": [],
   "source": [
    "#COUNT FLOORS "
   ]
  },
  {
   "cell_type": "code",
   "execution_count": 63,
   "metadata": {},
   "outputs": [
    {
     "data": {
      "text/plain": [
       "count    762106.000000\n",
       "mean          2.087783\n",
       "std           0.655101\n",
       "min           1.000000\n",
       "25%           2.000000\n",
       "50%           2.000000\n",
       "75%           2.000000\n",
       "max           9.000000\n",
       "Name: count_floors_pre_eq, dtype: float64"
      ]
     },
     "execution_count": 63,
     "metadata": {},
     "output_type": "execute_result"
    }
   ],
   "source": [
    "col = 'count_floors_pre_eq'\n",
    "df[col].describe()"
   ]
  },
  {
   "cell_type": "code",
   "execution_count": 64,
   "metadata": {},
   "outputs": [
    {
     "data": {
      "text/plain": [
       "<matplotlib.legend.Legend at 0x12d7f2440>"
      ]
     },
     "execution_count": 64,
     "metadata": {},
     "output_type": "execute_result"
    },
    {
     "data": {
      "image/png": "[encoded data removed]",
      "text/plain": [
       "<Figure size 640x480 with 1 Axes>"
      ]
     },
     "metadata": {},
     "output_type": "display_data"
    }
   ],
   "source": [
    "df[col].hist(align=\"mid\", rwidth=0.8, \n",
    "                               bins=np.arange(min(df[col]), max(df[col])+1)-0.5)\n",
    "plt.axhline(df.loc[:,col].value_counts().mean(), color='r')\n",
    "plt.legend(labels=[\"mean\"])"
   ]
  },
  {
   "cell_type": "code",
   "execution_count": 65,
   "metadata": {},
   "outputs": [
    {
     "data": {
      "text/plain": [
       "2    468113\n",
       "3    166993\n",
       "1    118901\n",
       "4      6085\n",
       "5      1569\n",
       "6       332\n",
       "7        88\n",
       "9        13\n",
       "8        12\n",
       "Name: count_floors_pre_eq, dtype: int64"
      ]
     },
     "execution_count": 65,
     "metadata": {},
     "output_type": "execute_result"
    }
   ],
   "source": [
    "df[col].value_counts()\n"
   ]
  },
  {
   "cell_type": "code",
   "execution_count": null,
   "metadata": {},
   "outputs": [],
   "source": [
    "#There are very few buildings with more than 6 floors (outliers?)"
   ]
  },
  {
   "cell_type": "code",
   "execution_count": null,
   "metadata": {},
   "outputs": [],
   "source": [
    "#Let's visualize the probabilities of damages level for each floor count. I added the probabilities of the wholedataset for comparison\n",
    "\n"
   ]
  },
  {
   "cell_type": "code",
   "execution_count": 75,
   "metadata": {},
   "outputs": [
    {
     "ename": "KeyError",
     "evalue": "\"['damage_grade'] not in index\"",
     "output_type": "error",
     "traceback": [
      "\u001b[0;31m---------------------------------------------------------------------------\u001b[0m",
      "\u001b[0;31mKeyError\u001b[0m                                  Traceback (most recent call last)",
      "Cell \u001b[0;32mIn [75], line 1\u001b[0m\n\u001b[0;32m----> 1\u001b[0m dmgs \u001b[39m=\u001b[39m df\u001b[39m.\u001b[39mmerge(values, right_index\u001b[39m=\u001b[39m\u001b[39mTrue\u001b[39;00m, left_index\u001b[39m=\u001b[39m\u001b[39mTrue\u001b[39;00m)\u001b[39m.\u001b[39mloc[:,[col,\u001b[39m'\u001b[39m\u001b[39mdamage_grade\u001b[39m\u001b[39m'\u001b[39m]]\n\u001b[1;32m      2\u001b[0m cmap \u001b[39m=\u001b[39m pd\u001b[39m.\u001b[39mDataFrame(columns\u001b[39m=\u001b[39mnp\u001b[39m.\u001b[39marange(\u001b[39m1\u001b[39m,\u001b[39m8\u001b[39m), index\u001b[39m=\u001b[39mnp\u001b[39m.\u001b[39marange(\u001b[39m1\u001b[39m,\u001b[39m4\u001b[39m))\u001b[39m.\u001b[39mfillna(\u001b[39m0\u001b[39m)\n\u001b[1;32m      3\u001b[0m \u001b[39mfor\u001b[39;00m i \u001b[39min\u001b[39;00m \u001b[39mrange\u001b[39m(\u001b[39m1\u001b[39m,\u001b[39m8\u001b[39m):\n",
      "File \u001b[0;32m~/.pyenv/versions/3.10.6/envs/lewagon/lib/python3.10/site-packages/pandas/core/indexing.py:961\u001b[0m, in \u001b[0;36m_LocationIndexer.__getitem__\u001b[0;34m(self, key)\u001b[0m\n\u001b[1;32m    959\u001b[0m     \u001b[39mif\u001b[39;00m \u001b[39mself\u001b[39m\u001b[39m.\u001b[39m_is_scalar_access(key):\n\u001b[1;32m    960\u001b[0m         \u001b[39mreturn\u001b[39;00m \u001b[39mself\u001b[39m\u001b[39m.\u001b[39mobj\u001b[39m.\u001b[39m_get_value(\u001b[39m*\u001b[39mkey, takeable\u001b[39m=\u001b[39m\u001b[39mself\u001b[39m\u001b[39m.\u001b[39m_takeable)\n\u001b[0;32m--> 961\u001b[0m     \u001b[39mreturn\u001b[39;00m \u001b[39mself\u001b[39;49m\u001b[39m.\u001b[39;49m_getitem_tuple(key)\n\u001b[1;32m    962\u001b[0m \u001b[39melse\u001b[39;00m:\n\u001b[1;32m    963\u001b[0m     \u001b[39m# we by definition only have the 0th axis\u001b[39;00m\n\u001b[1;32m    964\u001b[0m     axis \u001b[39m=\u001b[39m \u001b[39mself\u001b[39m\u001b[39m.\u001b[39maxis \u001b[39mor\u001b[39;00m \u001b[39m0\u001b[39m\n",
      "File \u001b[0;32m~/.pyenv/versions/3.10.6/envs/lewagon/lib/python3.10/site-packages/pandas/core/indexing.py:1149\u001b[0m, in \u001b[0;36m_LocIndexer._getitem_tuple\u001b[0;34m(self, tup)\u001b[0m\n\u001b[1;32m   1146\u001b[0m \u001b[39mif\u001b[39;00m \u001b[39mself\u001b[39m\u001b[39m.\u001b[39m_multi_take_opportunity(tup):\n\u001b[1;32m   1147\u001b[0m     \u001b[39mreturn\u001b[39;00m \u001b[39mself\u001b[39m\u001b[39m.\u001b[39m_multi_take(tup)\n\u001b[0;32m-> 1149\u001b[0m \u001b[39mreturn\u001b[39;00m \u001b[39mself\u001b[39;49m\u001b[39m.\u001b[39;49m_getitem_tuple_same_dim(tup)\n",
      "File \u001b[0;32m~/.pyenv/versions/3.10.6/envs/lewagon/lib/python3.10/site-packages/pandas/core/indexing.py:827\u001b[0m, in \u001b[0;36m_LocationIndexer._getitem_tuple_same_dim\u001b[0;34m(self, tup)\u001b[0m\n\u001b[1;32m    824\u001b[0m \u001b[39mif\u001b[39;00m com\u001b[39m.\u001b[39mis_null_slice(key):\n\u001b[1;32m    825\u001b[0m     \u001b[39mcontinue\u001b[39;00m\n\u001b[0;32m--> 827\u001b[0m retval \u001b[39m=\u001b[39m \u001b[39mgetattr\u001b[39;49m(retval, \u001b[39mself\u001b[39;49m\u001b[39m.\u001b[39;49mname)\u001b[39m.\u001b[39;49m_getitem_axis(key, axis\u001b[39m=\u001b[39;49mi)\n\u001b[1;32m    828\u001b[0m \u001b[39m# We should never have retval.ndim < self.ndim, as that should\u001b[39;00m\n\u001b[1;32m    829\u001b[0m \u001b[39m#  be handled by the _getitem_lowerdim call above.\u001b[39;00m\n\u001b[1;32m    830\u001b[0m \u001b[39massert\u001b[39;00m retval\u001b[39m.\u001b[39mndim \u001b[39m==\u001b[39m \u001b[39mself\u001b[39m\u001b[39m.\u001b[39mndim\n",
      "File \u001b[0;32m~/.pyenv/versions/3.10.6/envs/lewagon/lib/python3.10/site-packages/pandas/core/indexing.py:1194\u001b[0m, in \u001b[0;36m_LocIndexer._getitem_axis\u001b[0;34m(self, key, axis)\u001b[0m\n\u001b[1;32m   1191\u001b[0m     \u001b[39mif\u001b[39;00m \u001b[39mhasattr\u001b[39m(key, \u001b[39m\"\u001b[39m\u001b[39mndim\u001b[39m\u001b[39m\"\u001b[39m) \u001b[39mand\u001b[39;00m key\u001b[39m.\u001b[39mndim \u001b[39m>\u001b[39m \u001b[39m1\u001b[39m:\n\u001b[1;32m   1192\u001b[0m         \u001b[39mraise\u001b[39;00m \u001b[39mValueError\u001b[39;00m(\u001b[39m\"\u001b[39m\u001b[39mCannot index with multidimensional key\u001b[39m\u001b[39m\"\u001b[39m)\n\u001b[0;32m-> 1194\u001b[0m     \u001b[39mreturn\u001b[39;00m \u001b[39mself\u001b[39;49m\u001b[39m.\u001b[39;49m_getitem_iterable(key, axis\u001b[39m=\u001b[39;49maxis)\n\u001b[1;32m   1196\u001b[0m \u001b[39m# nested tuple slicing\u001b[39;00m\n\u001b[1;32m   1197\u001b[0m \u001b[39mif\u001b[39;00m is_nested_tuple(key, labels):\n",
      "File \u001b[0;32m~/.pyenv/versions/3.10.6/envs/lewagon/lib/python3.10/site-packages/pandas/core/indexing.py:1132\u001b[0m, in \u001b[0;36m_LocIndexer._getitem_iterable\u001b[0;34m(self, key, axis)\u001b[0m\n\u001b[1;32m   1129\u001b[0m \u001b[39mself\u001b[39m\u001b[39m.\u001b[39m_validate_key(key, axis)\n\u001b[1;32m   1131\u001b[0m \u001b[39m# A collection of keys\u001b[39;00m\n\u001b[0;32m-> 1132\u001b[0m keyarr, indexer \u001b[39m=\u001b[39m \u001b[39mself\u001b[39;49m\u001b[39m.\u001b[39;49m_get_listlike_indexer(key, axis)\n\u001b[1;32m   1133\u001b[0m \u001b[39mreturn\u001b[39;00m \u001b[39mself\u001b[39m\u001b[39m.\u001b[39mobj\u001b[39m.\u001b[39m_reindex_with_indexers(\n\u001b[1;32m   1134\u001b[0m     {axis: [keyarr, indexer]}, copy\u001b[39m=\u001b[39m\u001b[39mTrue\u001b[39;00m, allow_dups\u001b[39m=\u001b[39m\u001b[39mTrue\u001b[39;00m\n\u001b[1;32m   1135\u001b[0m )\n",
      "File \u001b[0;32m~/.pyenv/versions/3.10.6/envs/lewagon/lib/python3.10/site-packages/pandas/core/indexing.py:1330\u001b[0m, in \u001b[0;36m_LocIndexer._get_listlike_indexer\u001b[0;34m(self, key, axis)\u001b[0m\n\u001b[1;32m   1327\u001b[0m ax \u001b[39m=\u001b[39m \u001b[39mself\u001b[39m\u001b[39m.\u001b[39mobj\u001b[39m.\u001b[39m_get_axis(axis)\n\u001b[1;32m   1328\u001b[0m axis_name \u001b[39m=\u001b[39m \u001b[39mself\u001b[39m\u001b[39m.\u001b[39mobj\u001b[39m.\u001b[39m_get_axis_name(axis)\n\u001b[0;32m-> 1330\u001b[0m keyarr, indexer \u001b[39m=\u001b[39m ax\u001b[39m.\u001b[39;49m_get_indexer_strict(key, axis_name)\n\u001b[1;32m   1332\u001b[0m \u001b[39mreturn\u001b[39;00m keyarr, indexer\n",
      "File \u001b[0;32m~/.pyenv/versions/3.10.6/envs/lewagon/lib/python3.10/site-packages/pandas/core/indexes/base.py:5796\u001b[0m, in \u001b[0;36mIndex._get_indexer_strict\u001b[0;34m(self, key, axis_name)\u001b[0m\n\u001b[1;32m   5793\u001b[0m \u001b[39melse\u001b[39;00m:\n\u001b[1;32m   5794\u001b[0m     keyarr, indexer, new_indexer \u001b[39m=\u001b[39m \u001b[39mself\u001b[39m\u001b[39m.\u001b[39m_reindex_non_unique(keyarr)\n\u001b[0;32m-> 5796\u001b[0m \u001b[39mself\u001b[39;49m\u001b[39m.\u001b[39;49m_raise_if_missing(keyarr, indexer, axis_name)\n\u001b[1;32m   5798\u001b[0m keyarr \u001b[39m=\u001b[39m \u001b[39mself\u001b[39m\u001b[39m.\u001b[39mtake(indexer)\n\u001b[1;32m   5799\u001b[0m \u001b[39mif\u001b[39;00m \u001b[39misinstance\u001b[39m(key, Index):\n\u001b[1;32m   5800\u001b[0m     \u001b[39m# GH 42790 - Preserve name from an Index\u001b[39;00m\n",
      "File \u001b[0;32m~/.pyenv/versions/3.10.6/envs/lewagon/lib/python3.10/site-packages/pandas/core/indexes/base.py:5859\u001b[0m, in \u001b[0;36mIndex._raise_if_missing\u001b[0;34m(self, key, indexer, axis_name)\u001b[0m\n\u001b[1;32m   5856\u001b[0m     \u001b[39mraise\u001b[39;00m \u001b[39mKeyError\u001b[39;00m(\u001b[39mf\u001b[39m\u001b[39m\"\u001b[39m\u001b[39mNone of [\u001b[39m\u001b[39m{\u001b[39;00mkey\u001b[39m}\u001b[39;00m\u001b[39m] are in the [\u001b[39m\u001b[39m{\u001b[39;00maxis_name\u001b[39m}\u001b[39;00m\u001b[39m]\u001b[39m\u001b[39m\"\u001b[39m)\n\u001b[1;32m   5858\u001b[0m not_found \u001b[39m=\u001b[39m \u001b[39mlist\u001b[39m(ensure_index(key)[missing_mask\u001b[39m.\u001b[39mnonzero()[\u001b[39m0\u001b[39m]]\u001b[39m.\u001b[39munique())\n\u001b[0;32m-> 5859\u001b[0m \u001b[39mraise\u001b[39;00m \u001b[39mKeyError\u001b[39;00m(\u001b[39mf\u001b[39m\u001b[39m\"\u001b[39m\u001b[39m{\u001b[39;00mnot_found\u001b[39m}\u001b[39;00m\u001b[39m not in index\u001b[39m\u001b[39m\"\u001b[39m)\n",
      "\u001b[0;31mKeyError\u001b[0m: \"['damage_grade'] not in index\""
     ]
    }
   ],
   "source": [
    "dmgs = df.merge(values, right_index=True, left_index=True).loc[:,[col,'damage_grade']]\n",
    "cmap = pd.DataFrame(columns=np.arange(1,8), index=np.arange(1,4)).fillna(0)\n",
    "for i in range(1,8):\n",
    "    cmap[i] = dmgs[dmgs[col] == i]['damage_grade'].value_counts().sort_index()/len(dmgs[dmgs[col] == i])*100\n",
    "cmap = cmap.T.fillna(0)\n",
    "cmap.loc[\"dataset\",:] = values['damage_grade'].value_counts()/len(values)*100\n",
    "colormap = plt.cm.RdBu_r\n",
    "plt.figure(figsize=(14,8))\n",
    "plt.title('Damage Grade Conditional Frequencies', y=1.05, size=15)\n",
    "sns.heatmap(cmap.fillna(100).astype(float) ,linewidths=0.1, vmax=100, vmin=0,\n",
    "            square=True, cmap=colormap, linecolor='white', annot=True)"
   ]
  },
  {
   "cell_type": "code",
   "execution_count": null,
   "metadata": {},
   "outputs": [],
   "source": [
    "#Ploting the mean of damages level against count floors of building. I added the mean of the wholedataset for comparison.\n",
    "\n"
   ]
  },
  {
   "cell_type": "code",
   "execution_count": 76,
   "metadata": {},
   "outputs": [
    {
     "ename": "NameError",
     "evalue": "name 'cmap' is not defined",
     "output_type": "error",
     "traceback": [
      "\u001b[0;31m---------------------------------------------------------------------------\u001b[0m",
      "\u001b[0;31mNameError\u001b[0m                                 Traceback (most recent call last)",
      "Cell \u001b[0;32mIn [76], line 1\u001b[0m\n\u001b[0;32m----> 1\u001b[0m cmap \u001b[39m=\u001b[39m cmap\u001b[39m.\u001b[39mdrop(index\u001b[39m=\u001b[39m\u001b[39m\"\u001b[39m\u001b[39mdataset\u001b[39m\u001b[39m\"\u001b[39m)\n\u001b[1;32m      2\u001b[0m expected_value \u001b[39m=\u001b[39m pd\u001b[39m.\u001b[39mDataFrame(index\u001b[39m=\u001b[39mcmap\u001b[39m.\u001b[39mindex, columns\u001b[39m=\u001b[39m[\u001b[39m\"\u001b[39m\u001b[39mexpected_value_damage\u001b[39m\u001b[39m\"\u001b[39m, \u001b[39m\"\u001b[39m\u001b[39mfrequency\u001b[39m\u001b[39m\"\u001b[39m])\n\u001b[1;32m      3\u001b[0m \u001b[39mfor\u001b[39;00m i \u001b[39min\u001b[39;00m expected_value\u001b[39m.\u001b[39mindex:\n",
      "\u001b[0;31mNameError\u001b[0m: name 'cmap' is not defined"
     ]
    }
   ],
   "source": [
    "cmap = cmap.drop(index=\"dataset\")\n",
    "expected_value = pd.DataFrame(index=cmap.index, columns=[\"expected_value_damage\", \"frequency\"])\n",
    "for i in expected_value.index:\n",
    "    expected_value.loc[i,\"expected_value_damage\"] = cmap.loc[i,1]+cmap.loc[i,2]*2+cmap.loc[i,3]*3\n",
    "expected_value[\"frequency\"] = df[col].value_counts().sort_index()/len(df)*100\n",
    "expected_value.plot(y=\"expected_value_damage\")\n",
    "plt.axhline(values['damage_grade'].mean(), color='r')\n",
    "plt.legend(labels=[\"expected value damage\", \"dataset mean\"])"
   ]
  },
  {
   "cell_type": "code",
   "execution_count": 77,
   "metadata": {},
   "outputs": [
    {
     "ename": "NameError",
     "evalue": "name 'expected_value' is not defined",
     "output_type": "error",
     "traceback": [
      "\u001b[0;31m---------------------------------------------------------------------------\u001b[0m",
      "\u001b[0;31mNameError\u001b[0m                                 Traceback (most recent call last)",
      "Cell \u001b[0;32mIn [77], line 1\u001b[0m\n\u001b[0;32m----> 1\u001b[0m expected_value \u001b[39m=\u001b[39m expected_value\u001b[39m.\u001b[39msort_index()\n\u001b[1;32m      2\u001b[0m expected_value\u001b[39m.\u001b[39mloc[\u001b[39m\"\u001b[39m\u001b[39mdataset\u001b[39m\u001b[39m\"\u001b[39m,\u001b[39m\"\u001b[39m\u001b[39mexpected_value_damage\u001b[39m\u001b[39m\"\u001b[39m] \u001b[39m=\u001b[39m values[\u001b[39m'\u001b[39m\u001b[39mdamage_grade\u001b[39m\u001b[39m'\u001b[39m]\u001b[39m.\u001b[39mmean()\n\u001b[1;32m      3\u001b[0m expected_value\n",
      "\u001b[0;31mNameError\u001b[0m: name 'expected_value' is not defined"
     ]
    }
   ],
   "source": [
    "expected_value = expected_value.sort_index()\n",
    "expected_value.loc[\"dataset\",\"expected_value_damage\"] = values['damage_grade'].mean()\n",
    "expected_value"
   ]
  },
  {
   "cell_type": "code",
   "execution_count": null,
   "metadata": {},
   "outputs": [],
   "source": [
    "#AGE_BUILDING"
   ]
  },
  {
   "cell_type": "code",
   "execution_count": 70,
   "metadata": {},
   "outputs": [
    {
     "data": {
      "text/plain": [
       "count    762106.000000\n",
       "mean         24.326405\n",
       "std          65.043704\n",
       "min           0.000000\n",
       "25%           9.000000\n",
       "50%          16.000000\n",
       "75%          27.000000\n",
       "max         999.000000\n",
       "Name: age_building, dtype: float64"
      ]
     },
     "execution_count": 70,
     "metadata": {},
     "output_type": "execute_result"
    }
   ],
   "source": [
    "col = \"age_building\"\n",
    "df[col].describe()"
   ]
  },
  {
   "cell_type": "code",
   "execution_count": null,
   "metadata": {},
   "outputs": [],
   "source": []
  },
  {
   "cell_type": "code",
   "execution_count": null,
   "metadata": {},
   "outputs": [],
   "source": []
  },
  {
   "cell_type": "code",
   "execution_count": null,
   "metadata": {},
   "outputs": [],
   "source": []
  },
  {
   "cell_type": "code",
   "execution_count": null,
   "metadata": {},
   "outputs": [],
   "source": []
  },
  {
   "cell_type": "code",
   "execution_count": null,
   "metadata": {},
   "outputs": [],
   "source": []
  },
  {
   "cell_type": "code",
   "execution_count": 47,
   "metadata": {},
   "outputs": [],
   "source": [
    "from matplotlib import pyplot as plt\n",
    "\n",
    "object_var = df.select_dtypes(include=['object'])\n"
   ]
  },
  {
   "cell_type": "code",
   "execution_count": 49,
   "metadata": {},
   "outputs": [
    {
     "ename": "TypeError",
     "evalue": "'value' must be an instance of str or bytes, not a float",
     "output_type": "error",
     "traceback": [
      "\u001b[0;31m---------------------------------------------------------------------------\u001b[0m",
      "\u001b[0;31mTypeError\u001b[0m                                 Traceback (most recent call last)",
      "Cell \u001b[0;32mIn [49], line 8\u001b[0m\n\u001b[1;32m      6\u001b[0m ax4\u001b[39m.\u001b[39mbar(object_var\u001b[39m.\u001b[39mground_floor_type\u001b[39m.\u001b[39munique(), object_var\u001b[39m.\u001b[39mground_floor_type\u001b[39m.\u001b[39mvalue_counts())\n\u001b[1;32m      7\u001b[0m ax5\u001b[39m.\u001b[39mbar(object_var\u001b[39m.\u001b[39mother_floor_type\u001b[39m.\u001b[39munique(), object_var\u001b[39m.\u001b[39mother_floor_type\u001b[39m.\u001b[39mvalue_counts())\n\u001b[0;32m----> 8\u001b[0m ax6\u001b[39m.\u001b[39mbar(object_var\u001b[39m.\u001b[39mposition\u001b[39m.\u001b[39munique(), object_var\u001b[39m.\u001b[39mposition\u001b[39m.\u001b[39mvalue_counts())\n\u001b[1;32m      9\u001b[0m ax7\u001b[39m.\u001b[39mbar(object_var\u001b[39m.\u001b[39mplan_configuration\u001b[39m.\u001b[39munique(), object_var\u001b[39m.\u001b[39mplan_configuration\u001b[39m.\u001b[39mvalue_counts())\n\u001b[1;32m     10\u001b[0m ax8\u001b[39m.\u001b[39mbar(object_var\u001b[39m.\u001b[39mcondition_post_eq\u001b[39m.\u001b[39munique(), object_var\u001b[39m.\u001b[39mcondition_post_eq\u001b[39m.\u001b[39mvalue_counts())\n",
      "File \u001b[0;32m~/.pyenv/versions/3.10.6/envs/lewagon/lib/python3.10/site-packages/matplotlib/__init__.py:1414\u001b[0m, in \u001b[0;36m_preprocess_data.<locals>.inner\u001b[0;34m(ax, data, *args, **kwargs)\u001b[0m\n\u001b[1;32m   1411\u001b[0m \u001b[39m@functools\u001b[39m\u001b[39m.\u001b[39mwraps(func)\n\u001b[1;32m   1412\u001b[0m \u001b[39mdef\u001b[39;00m \u001b[39minner\u001b[39m(ax, \u001b[39m*\u001b[39margs, data\u001b[39m=\u001b[39m\u001b[39mNone\u001b[39;00m, \u001b[39m*\u001b[39m\u001b[39m*\u001b[39mkwargs):\n\u001b[1;32m   1413\u001b[0m     \u001b[39mif\u001b[39;00m data \u001b[39mis\u001b[39;00m \u001b[39mNone\u001b[39;00m:\n\u001b[0;32m-> 1414\u001b[0m         \u001b[39mreturn\u001b[39;00m func(ax, \u001b[39m*\u001b[39;49m\u001b[39mmap\u001b[39;49m(sanitize_sequence, args), \u001b[39m*\u001b[39;49m\u001b[39m*\u001b[39;49mkwargs)\n\u001b[1;32m   1416\u001b[0m     bound \u001b[39m=\u001b[39m new_sig\u001b[39m.\u001b[39mbind(ax, \u001b[39m*\u001b[39margs, \u001b[39m*\u001b[39m\u001b[39m*\u001b[39mkwargs)\n\u001b[1;32m   1417\u001b[0m     auto_label \u001b[39m=\u001b[39m (bound\u001b[39m.\u001b[39marguments\u001b[39m.\u001b[39mget(label_namer)\n\u001b[1;32m   1418\u001b[0m                   \u001b[39mor\u001b[39;00m bound\u001b[39m.\u001b[39mkwargs\u001b[39m.\u001b[39mget(label_namer))\n",
      "File \u001b[0;32m~/.pyenv/versions/3.10.6/envs/lewagon/lib/python3.10/site-packages/matplotlib/axes/_axes.py:2320\u001b[0m, in \u001b[0;36mAxes.bar\u001b[0;34m(self, x, height, width, bottom, align, **kwargs)\u001b[0m\n\u001b[1;32m   2317\u001b[0m         x \u001b[39m=\u001b[39m \u001b[39m0\u001b[39m\n\u001b[1;32m   2319\u001b[0m \u001b[39mif\u001b[39;00m orientation \u001b[39m==\u001b[39m \u001b[39m'\u001b[39m\u001b[39mvertical\u001b[39m\u001b[39m'\u001b[39m:\n\u001b[0;32m-> 2320\u001b[0m     \u001b[39mself\u001b[39;49m\u001b[39m.\u001b[39;49m_process_unit_info(\n\u001b[1;32m   2321\u001b[0m         [(\u001b[39m\"\u001b[39;49m\u001b[39mx\u001b[39;49m\u001b[39m\"\u001b[39;49m, x), (\u001b[39m\"\u001b[39;49m\u001b[39my\u001b[39;49m\u001b[39m\"\u001b[39;49m, height)], kwargs, convert\u001b[39m=\u001b[39;49m\u001b[39mFalse\u001b[39;49;00m)\n\u001b[1;32m   2322\u001b[0m     \u001b[39mif\u001b[39;00m log:\n\u001b[1;32m   2323\u001b[0m         \u001b[39mself\u001b[39m\u001b[39m.\u001b[39mset_yscale(\u001b[39m'\u001b[39m\u001b[39mlog\u001b[39m\u001b[39m'\u001b[39m, nonpositive\u001b[39m=\u001b[39m\u001b[39m'\u001b[39m\u001b[39mclip\u001b[39m\u001b[39m'\u001b[39m)\n",
      "File \u001b[0;32m~/.pyenv/versions/3.10.6/envs/lewagon/lib/python3.10/site-packages/matplotlib/axes/_base.py:2526\u001b[0m, in \u001b[0;36m_AxesBase._process_unit_info\u001b[0;34m(self, datasets, kwargs, convert)\u001b[0m\n\u001b[1;32m   2524\u001b[0m     \u001b[39m# Update from data if axis is already set but no unit is set yet.\u001b[39;00m\n\u001b[1;32m   2525\u001b[0m     \u001b[39mif\u001b[39;00m axis \u001b[39mis\u001b[39;00m \u001b[39mnot\u001b[39;00m \u001b[39mNone\u001b[39;00m \u001b[39mand\u001b[39;00m data \u001b[39mis\u001b[39;00m \u001b[39mnot\u001b[39;00m \u001b[39mNone\u001b[39;00m \u001b[39mand\u001b[39;00m \u001b[39mnot\u001b[39;00m axis\u001b[39m.\u001b[39mhave_units():\n\u001b[0;32m-> 2526\u001b[0m         axis\u001b[39m.\u001b[39;49mupdate_units(data)\n\u001b[1;32m   2527\u001b[0m \u001b[39mfor\u001b[39;00m axis_name, axis \u001b[39min\u001b[39;00m axis_map\u001b[39m.\u001b[39mitems():\n\u001b[1;32m   2528\u001b[0m     \u001b[39m# Return if no axis is set.\u001b[39;00m\n\u001b[1;32m   2529\u001b[0m     \u001b[39mif\u001b[39;00m axis \u001b[39mis\u001b[39;00m \u001b[39mNone\u001b[39;00m:\n",
      "File \u001b[0;32m~/.pyenv/versions/3.10.6/envs/lewagon/lib/python3.10/site-packages/matplotlib/axis.py:1449\u001b[0m, in \u001b[0;36mAxis.update_units\u001b[0;34m(self, data)\u001b[0m\n\u001b[1;32m   1447\u001b[0m neednew \u001b[39m=\u001b[39m \u001b[39mself\u001b[39m\u001b[39m.\u001b[39mconverter \u001b[39m!=\u001b[39m converter\n\u001b[1;32m   1448\u001b[0m \u001b[39mself\u001b[39m\u001b[39m.\u001b[39mconverter \u001b[39m=\u001b[39m converter\n\u001b[0;32m-> 1449\u001b[0m default \u001b[39m=\u001b[39m \u001b[39mself\u001b[39;49m\u001b[39m.\u001b[39;49mconverter\u001b[39m.\u001b[39;49mdefault_units(data, \u001b[39mself\u001b[39;49m)\n\u001b[1;32m   1450\u001b[0m \u001b[39mif\u001b[39;00m default \u001b[39mis\u001b[39;00m \u001b[39mnot\u001b[39;00m \u001b[39mNone\u001b[39;00m \u001b[39mand\u001b[39;00m \u001b[39mself\u001b[39m\u001b[39m.\u001b[39munits \u001b[39mis\u001b[39;00m \u001b[39mNone\u001b[39;00m:\n\u001b[1;32m   1451\u001b[0m     \u001b[39mself\u001b[39m\u001b[39m.\u001b[39mset_units(default)\n",
      "File \u001b[0;32m~/.pyenv/versions/3.10.6/envs/lewagon/lib/python3.10/site-packages/matplotlib/category.py:116\u001b[0m, in \u001b[0;36mStrCategoryConverter.default_units\u001b[0;34m(data, axis)\u001b[0m\n\u001b[1;32m    114\u001b[0m \u001b[39m# the conversion call stack is default_units -> axis_info -> convert\u001b[39;00m\n\u001b[1;32m    115\u001b[0m \u001b[39mif\u001b[39;00m axis\u001b[39m.\u001b[39munits \u001b[39mis\u001b[39;00m \u001b[39mNone\u001b[39;00m:\n\u001b[0;32m--> 116\u001b[0m     axis\u001b[39m.\u001b[39mset_units(UnitData(data))\n\u001b[1;32m    117\u001b[0m \u001b[39melse\u001b[39;00m:\n\u001b[1;32m    118\u001b[0m     axis\u001b[39m.\u001b[39munits\u001b[39m.\u001b[39mupdate(data)\n",
      "File \u001b[0;32m~/.pyenv/versions/3.10.6/envs/lewagon/lib/python3.10/site-packages/matplotlib/category.py:192\u001b[0m, in \u001b[0;36mUnitData.__init__\u001b[0;34m(self, data)\u001b[0m\n\u001b[1;32m    190\u001b[0m \u001b[39mself\u001b[39m\u001b[39m.\u001b[39m_counter \u001b[39m=\u001b[39m itertools\u001b[39m.\u001b[39mcount()\n\u001b[1;32m    191\u001b[0m \u001b[39mif\u001b[39;00m data \u001b[39mis\u001b[39;00m \u001b[39mnot\u001b[39;00m \u001b[39mNone\u001b[39;00m:\n\u001b[0;32m--> 192\u001b[0m     \u001b[39mself\u001b[39;49m\u001b[39m.\u001b[39;49mupdate(data)\n",
      "File \u001b[0;32m~/.pyenv/versions/3.10.6/envs/lewagon/lib/python3.10/site-packages/matplotlib/category.py:227\u001b[0m, in \u001b[0;36mUnitData.update\u001b[0;34m(self, data)\u001b[0m\n\u001b[1;32m    224\u001b[0m convertible \u001b[39m=\u001b[39m \u001b[39mTrue\u001b[39;00m\n\u001b[1;32m    225\u001b[0m \u001b[39mfor\u001b[39;00m val \u001b[39min\u001b[39;00m OrderedDict\u001b[39m.\u001b[39mfromkeys(data):\n\u001b[1;32m    226\u001b[0m     \u001b[39m# OrderedDict just iterates over unique values in data.\u001b[39;00m\n\u001b[0;32m--> 227\u001b[0m     _api\u001b[39m.\u001b[39;49mcheck_isinstance((\u001b[39mstr\u001b[39;49m, \u001b[39mbytes\u001b[39;49m), value\u001b[39m=\u001b[39;49mval)\n\u001b[1;32m    228\u001b[0m     \u001b[39mif\u001b[39;00m convertible:\n\u001b[1;32m    229\u001b[0m         \u001b[39m# this will only be called so long as convertible is True.\u001b[39;00m\n\u001b[1;32m    230\u001b[0m         convertible \u001b[39m=\u001b[39m \u001b[39mself\u001b[39m\u001b[39m.\u001b[39m_str_is_convertible(val)\n",
      "File \u001b[0;32m~/.pyenv/versions/3.10.6/envs/lewagon/lib/python3.10/site-packages/matplotlib/_api/__init__.py:93\u001b[0m, in \u001b[0;36mcheck_isinstance\u001b[0;34m(_types, **kwargs)\u001b[0m\n\u001b[1;32m     91\u001b[0m     names\u001b[39m.\u001b[39mremove(\u001b[39m\"\u001b[39m\u001b[39mNone\u001b[39m\u001b[39m\"\u001b[39m)\n\u001b[1;32m     92\u001b[0m     names\u001b[39m.\u001b[39mappend(\u001b[39m\"\u001b[39m\u001b[39mNone\u001b[39m\u001b[39m\"\u001b[39m)\n\u001b[0;32m---> 93\u001b[0m \u001b[39mraise\u001b[39;00m \u001b[39mTypeError\u001b[39;00m(\n\u001b[1;32m     94\u001b[0m     \u001b[39m\"\u001b[39m\u001b[39m{!r}\u001b[39;00m\u001b[39m must be an instance of \u001b[39m\u001b[39m{}\u001b[39;00m\u001b[39m, not a \u001b[39m\u001b[39m{}\u001b[39;00m\u001b[39m\"\u001b[39m\u001b[39m.\u001b[39mformat(\n\u001b[1;32m     95\u001b[0m         k,\n\u001b[1;32m     96\u001b[0m         \u001b[39m\"\u001b[39m\u001b[39m, \u001b[39m\u001b[39m\"\u001b[39m\u001b[39m.\u001b[39mjoin(names[:\u001b[39m-\u001b[39m\u001b[39m1\u001b[39m]) \u001b[39m+\u001b[39m \u001b[39m\"\u001b[39m\u001b[39m or \u001b[39m\u001b[39m\"\u001b[39m \u001b[39m+\u001b[39m names[\u001b[39m-\u001b[39m\u001b[39m1\u001b[39m]\n\u001b[1;32m     97\u001b[0m         \u001b[39mif\u001b[39;00m \u001b[39mlen\u001b[39m(names) \u001b[39m>\u001b[39m \u001b[39m1\u001b[39m \u001b[39melse\u001b[39;00m names[\u001b[39m0\u001b[39m],\n\u001b[1;32m     98\u001b[0m         type_name(\u001b[39mtype\u001b[39m(v))))\n",
      "\u001b[0;31mTypeError\u001b[0m: 'value' must be an instance of str or bytes, not a float"
     ]
    },
    {
     "data": {
      "image/png": "[encoded data removed]",
      "text/plain": [
       "<Figure size 640x480 with 10 Axes>"
      ]
     },
     "metadata": {},
     "output_type": "display_data"
    }
   ],
   "source": [
    "fig,((ax1,ax2),(ax3,ax4),(ax5,ax6),(ax7,ax8),(ax9,ax10)) = plt.subplots(5,2)\n",
    "\n",
    "ax1.bar(object_var.land_surface_condition.unique(), object_var.land_surface_condition.value_counts())\n",
    "ax2.bar(object_var.foundation_type.unique(), object_var.foundation_type.value_counts())\n",
    "ax3.bar(object_var.roof_type.unique(), object_var.roof_type.value_counts())\n",
    "ax4.bar(object_var.ground_floor_type.unique(), object_var.ground_floor_type.value_counts())\n",
    "ax5.bar(object_var.other_floor_type.unique(), object_var.other_floor_type.value_counts())\n",
    "ax6.bar(object_var.position.unique(), object_var.position.value_counts())\n",
    "ax7.bar(object_var.plan_configuration.unique(), object_var.plan_configuration.value_counts())\n",
    "ax8.bar(object_var.condition_post_eq.unique(), object_var.condition_post_eq.value_counts())\n",
    "ax9.bar(object_var.damage_grade.unique(), object_var.damage_grade.value_counts())\n",
    "ax10.bar(object_var.technical_solution_proposed.unique(), object_var.technical_solution_proposed.value_counts())\n",
    "\n",
    "plt.tight_layout()\n",
    "plt.show()\n"
   ]
  },
  {
   "cell_type": "code",
   "execution_count": null,
   "metadata": {},
   "outputs": [],
   "source": []
  }
 ],
 "metadata": {
  "kernelspec": {
   "display_name": "Python 3 (ipykernel)",
   "language": "python",
   "name": "python3"
  },
  "language_info": {
   "codemirror_mode": {
    "name": "ipython",
    "version": 3
   },
   "file_extension": ".py",
   "mimetype": "text/x-python",
   "name": "python",
   "nbconvert_exporter": "python",
   "pygments_lexer": "ipython3",
   "version": "3.10.6"
  },
  "toc": {
   "base_numbering": 1,
   "nav_menu": {},
   "number_sections": true,
   "sideBar": true,
   "skip_h1_title": false,
   "title_cell": "Table of Contents",
   "title_sidebar": "Contents",
   "toc_cell": false,
   "toc_position": {},
   "toc_section_display": true,
   "toc_window_display": false
  },
  "vscode": {
   "interpreter": {
    "hash": "71e54ea95bf7a9a44a962e1483c6b7666cf454b2ff80a01438aca2ba6824ea94"
   }
  }
 },
 "nbformat": 4,
 "nbformat_minor": 2
}
