{
 "cells": [
  {
   "cell_type": "markdown",
   "metadata": {},
   "source": [
    "# Model flow on comp_data_household \n"
   ]
  },
  {
   "cell_type": "markdown",
   "metadata": {},
   "source": [
    "## Import packages and data"
   ]
  },
  {
   "cell_type": "code",
   "execution_count": 1,
   "metadata": {},
   "outputs": [],
   "source": [
    "%load_ext autoreload\n",
    "%autoreload 2"
   ]
  },
  {
   "cell_type": "code",
   "execution_count": 2,
   "metadata": {},
   "outputs": [],
   "source": [
    "import pandas as pd\n",
    "import numpy as np\n",
    "import matplotlib.pyplot as plt\n",
    "from earthquake_damage.ml_logic.preprocessor import cus_imputation, preprocess_features, preprocess_targets\n",
    "from earthquake_damage.data.main import train_test_val"
   ]
  },
  {
   "cell_type": "markdown",
   "metadata": {},
   "source": [
    "## Imputation and preprocess the data "
   ]
  },
  {
   "cell_type": "code",
   "execution_count": 249,
   "metadata": {},
   "outputs": [
    {
     "name": "stdout",
     "output_type": "stream",
     "text": [
      "\n",
      "Imputation...\n",
      "\n",
      "✅  There are 26 vaules missing in the dataset.\n",
      "\n",
      "✅ df_imputed, with shape (747137, 44)\n",
      "✅ df_imputed saved to /Users/chantalwuerschinger/code/chantalwuer/earthquake_damage/processed_data/df_imputed.csv\n"
     ]
    }
   ],
   "source": [
    "cus_imputation(filename = 'comp_data_household')"
   ]
  },
  {
   "cell_type": "code",
   "execution_count": 259,
   "metadata": {},
   "outputs": [
    {
     "name": "stdout",
     "output_type": "stream",
     "text": [
      "\n",
      "Preprocess target...\n",
      "\n",
      "✅ y processed, with shape (747137,)\n",
      "✅ y_processed saved to /Users/chantalwuerschinger/code/chantalwuer/earthquake_damage/processed_data/y_processed.csv\n"
     ]
    }
   ],
   "source": [
    "# preprocess_features()\n",
    "preprocess_targets()"
   ]
  },
  {
   "cell_type": "code",
   "execution_count": 263,
   "metadata": {},
   "outputs": [],
   "source": [
    "X_train, X_test, X_val, y_train, y_test, y_val = train_test_val()"
   ]
  },
  {
   "cell_type": "markdown",
   "metadata": {},
   "source": [
    "## Check data statistics"
   ]
  },
  {
   "cell_type": "code",
   "execution_count": 7,
   "metadata": {},
   "outputs": [
    {
     "data": {
      "text/plain": [
       "0"
      ]
     },
     "execution_count": 7,
     "metadata": {},
     "output_type": "execute_result"
    }
   ],
   "source": [
    "X.isna().sum().sum()"
   ]
  },
  {
   "cell_type": "code",
   "execution_count": 8,
   "metadata": {},
   "outputs": [
    {
     "data": {
      "text/plain": [
       "0"
      ]
     },
     "execution_count": 8,
     "metadata": {},
     "output_type": "execute_result"
    }
   ],
   "source": [
    "X.duplicated().sum()"
   ]
  },
  {
   "cell_type": "code",
   "execution_count": 9,
   "metadata": {},
   "outputs": [
    {
     "data": {
      "text/plain": [
       "damage_grade\n",
       "4               276274\n",
       "3               181467\n",
       "2               132168\n",
       "1                83609\n",
       "0                73619\n",
       "dtype: int64"
      ]
     },
     "execution_count": 9,
     "metadata": {},
     "output_type": "execute_result"
    }
   ],
   "source": [
    "y.value_counts()"
   ]
  },
  {
   "cell_type": "markdown",
   "metadata": {},
   "source": [
    "## PCA on dimensionality reduction \n",
    "### The accuracy & f1_micro score is better without PCA "
   ]
  },
  {
   "cell_type": "code",
   "execution_count": 28,
   "metadata": {},
   "outputs": [],
   "source": [
    "from sklearn.decomposition import PCA\n",
    "pca = PCA(n_components=10)\n",
    "X_train_pca = pca.fit_transform(X_train)\n"
   ]
  },
  {
   "cell_type": "code",
   "execution_count": 29,
   "metadata": {},
   "outputs": [
    {
     "data": {
      "text/html": [
       "<style>#sk-container-id-2 {color: black;background-color: white;}#sk-container-id-2 pre{padding: 0;}#sk-container-id-2 div.sk-toggleable {background-color: white;}#sk-container-id-2 label.sk-toggleable__label {cursor: pointer;display: block;width: 100%;margin-bottom: 0;padding: 0.3em;box-sizing: border-box;text-align: center;}#sk-container-id-2 label.sk-toggleable__label-arrow:before {content: \"▸\";float: left;margin-right: 0.25em;color: #696969;}#sk-container-id-2 label.sk-toggleable__label-arrow:hover:before {color: black;}#sk-container-id-2 div.sk-estimator:hover label.sk-toggleable__label-arrow:before {color: black;}#sk-container-id-2 div.sk-toggleable__content {max-height: 0;max-width: 0;overflow: hidden;text-align: left;background-color: #f0f8ff;}#sk-container-id-2 div.sk-toggleable__content pre {margin: 0.2em;color: black;border-radius: 0.25em;background-color: #f0f8ff;}#sk-container-id-2 input.sk-toggleable__control:checked~div.sk-toggleable__content {max-height: 200px;max-width: 100%;overflow: auto;}#sk-container-id-2 input.sk-toggleable__control:checked~label.sk-toggleable__label-arrow:before {content: \"▾\";}#sk-container-id-2 div.sk-estimator input.sk-toggleable__control:checked~label.sk-toggleable__label {background-color: #d4ebff;}#sk-container-id-2 div.sk-label input.sk-toggleable__control:checked~label.sk-toggleable__label {background-color: #d4ebff;}#sk-container-id-2 input.sk-hidden--visually {border: 0;clip: rect(1px 1px 1px 1px);clip: rect(1px, 1px, 1px, 1px);height: 1px;margin: -1px;overflow: hidden;padding: 0;position: absolute;width: 1px;}#sk-container-id-2 div.sk-estimator {font-family: monospace;background-color: #f0f8ff;border: 1px dotted black;border-radius: 0.25em;box-sizing: border-box;margin-bottom: 0.5em;}#sk-container-id-2 div.sk-estimator:hover {background-color: #d4ebff;}#sk-container-id-2 div.sk-parallel-item::after {content: \"\";width: 100%;border-bottom: 1px solid gray;flex-grow: 1;}#sk-container-id-2 div.sk-label:hover label.sk-toggleable__label {background-color: #d4ebff;}#sk-container-id-2 div.sk-serial::before {content: \"\";position: absolute;border-left: 1px solid gray;box-sizing: border-box;top: 0;bottom: 0;left: 50%;z-index: 0;}#sk-container-id-2 div.sk-serial {display: flex;flex-direction: column;align-items: center;background-color: white;padding-right: 0.2em;padding-left: 0.2em;position: relative;}#sk-container-id-2 div.sk-item {position: relative;z-index: 1;}#sk-container-id-2 div.sk-parallel {display: flex;align-items: stretch;justify-content: center;background-color: white;position: relative;}#sk-container-id-2 div.sk-item::before, #sk-container-id-2 div.sk-parallel-item::before {content: \"\";position: absolute;border-left: 1px solid gray;box-sizing: border-box;top: 0;bottom: 0;left: 50%;z-index: -1;}#sk-container-id-2 div.sk-parallel-item {display: flex;flex-direction: column;z-index: 1;position: relative;background-color: white;}#sk-container-id-2 div.sk-parallel-item:first-child::after {align-self: flex-end;width: 50%;}#sk-container-id-2 div.sk-parallel-item:last-child::after {align-self: flex-start;width: 50%;}#sk-container-id-2 div.sk-parallel-item:only-child::after {width: 0;}#sk-container-id-2 div.sk-dashed-wrapped {border: 1px dashed gray;margin: 0 0.4em 0.5em 0.4em;box-sizing: border-box;padding-bottom: 0.4em;background-color: white;}#sk-container-id-2 div.sk-label label {font-family: monospace;font-weight: bold;display: inline-block;line-height: 1.2em;}#sk-container-id-2 div.sk-label-container {text-align: center;}#sk-container-id-2 div.sk-container {/* jupyter's `normalize.less` sets `[hidden] { display: none; }` but bootstrap.min.css set `[hidden] { display: none !important; }` so we also need the `!important` here to be able to override the default hidden behavior on the sphinx rendered scikit-learn.org. See: https://github.com/scikit-learn/scikit-learn/issues/21755 */display: inline-block !important;position: relative;}#sk-container-id-2 div.sk-text-repr-fallback {display: none;}</style><div id=\"sk-container-id-2\" class=\"sk-top-container\"><div class=\"sk-text-repr-fallback\"><pre>KNeighborsClassifier()</pre><b>In a Jupyter environment, please rerun this cell to show the HTML representation or trust the notebook. <br />On GitHub, the HTML representation is unable to render, please try loading this page with nbviewer.org.</b></div><div class=\"sk-container\" hidden><div class=\"sk-item\"><div class=\"sk-estimator sk-toggleable\"><input class=\"sk-toggleable__control sk-hidden--visually\" id=\"sk-estimator-id-2\" type=\"checkbox\" checked><label for=\"sk-estimator-id-2\" class=\"sk-toggleable__label sk-toggleable__label-arrow\">KNeighborsClassifier</label><div class=\"sk-toggleable__content\"><pre>KNeighborsClassifier()</pre></div></div></div></div></div>"
      ],
      "text/plain": [
       "KNeighborsClassifier()"
      ]
     },
     "execution_count": 29,
     "metadata": {},
     "output_type": "execute_result"
    }
   ],
   "source": [
    "from sklearn.neighbors import KNeighborsClassifier\n",
    "knn = KNeighborsClassifier()\n",
    "knn.fit(X_train_pca, y_train)\n"
   ]
  },
  {
   "cell_type": "code",
   "execution_count": 30,
   "metadata": {},
   "outputs": [],
   "source": [
    "X_val_pca = pca.transform(X_val)\n",
    "y_val_pred_pca = knn.predict(X_val_pca)\n"
   ]
  },
  {
   "cell_type": "code",
   "execution_count": 31,
   "metadata": {},
   "outputs": [
    {
     "data": {
      "text/plain": [
       "0.3802300040908671"
      ]
     },
     "execution_count": 31,
     "metadata": {},
     "output_type": "execute_result"
    }
   ],
   "source": [
    "from sklearn.metrics import balanced_accuracy_score\n",
    "balanced_accuracy_score(y_val, y_val_pred_pca)"
   ]
  },
  {
   "cell_type": "code",
   "execution_count": 32,
   "metadata": {},
   "outputs": [],
   "source": [
    "knn.fit(X_train, y_train)\n",
    "y_val_pred = knn.predict(X_val)"
   ]
  },
  {
   "cell_type": "code",
   "execution_count": 33,
   "metadata": {},
   "outputs": [
    {
     "data": {
      "text/plain": [
       "0.4038442715541331"
      ]
     },
     "execution_count": 33,
     "metadata": {},
     "output_type": "execute_result"
    }
   ],
   "source": [
    "balanced_accuracy_score(y_val, y_val_pred)"
   ]
  },
  {
   "cell_type": "code",
   "execution_count": 34,
   "metadata": {},
   "outputs": [
    {
     "name": "stdout",
     "output_type": "stream",
     "text": [
      "f1-micro with pca 0.25027884109180787\n",
      "f1-micro without pca 0.2532412488511747\n"
     ]
    }
   ],
   "source": [
    "from sklearn.metrics import f1_score\n",
    "\n",
    "print('f1-micro with pca',f1_score(y_test, y_val_pred_pca, average='micro'))\n",
    "print('f1-micro without pca',f1_score(y_test, y_val_pred, average='micro'))\n"
   ]
  },
  {
   "cell_type": "code",
   "execution_count": 14,
   "metadata": {},
   "outputs": [
    {
     "data": {
      "text/plain": [
       "0.5820506643110172"
      ]
     },
     "execution_count": 14,
     "metadata": {},
     "output_type": "execute_result"
    }
   ],
   "source": [
    "from sklearn.metrics import f1_score\n",
    "f1_score(y_val, y_val_pred, average='micro')"
   ]
  },
  {
   "cell_type": "markdown",
   "metadata": {},
   "source": [
    "### Use model.feature_importances_ to select features is better than selectpercentile method"
   ]
  },
  {
   "cell_type": "code",
   "execution_count": 123,
   "metadata": {},
   "outputs": [],
   "source": [
    "from xgboost import XGBClassifier\n",
    "\n",
    "xgb_model = XGBClassifier(n_jobs=-1)\n",
    "\n",
    "xgb_model.fit(X_train, y_train)\n",
    "\n",
    "y_val_pred = xgb_model.predict(X_val)\n"
   ]
  },
  {
   "cell_type": "code",
   "execution_count": 128,
   "metadata": {},
   "outputs": [
    {
     "data": {
      "text/plain": [
       "Index(['pipeline-1__has_superstructure_mud_mortar_stone',\n",
       "       'pipeline-1__district_id',\n",
       "       'pipeline-2__foundation_type_Mud mortar-Stone/Brick',\n",
       "       'pipeline-2__ground_floor_type_RC',\n",
       "       'pipeline-1__has_superstructure_stone_flag',\n",
       "       'pipeline-2__roof_type_RCC/RB/RBC', 'pipeline-1__vdcmun_id',\n",
       "       'pipeline-2__other_floor_type_TImber/Bamboo-Mud', 'pipeline-1__ward_id',\n",
       "       'pipeline-1__has_superstructure_cement_mortar_brick',\n",
       "       'pipeline-1__has_superstructure_adobe_mud',\n",
       "       'pipeline-2__foundation_type_RC', 'pipeline-1__household_id',\n",
       "       'pipeline-1__has_superstructure_mud_mortar_brick',\n",
       "       'pipeline-1__has_superstructure_rc_engineered',\n",
       "       'pipeline-2__other_floor_type_Not applicable',\n",
       "       'pipeline-2__foundation_type_Bamboo/Timber',\n",
       "       'pipeline-2__ground_floor_type_Timber',\n",
       "       'pipeline-1__has_superstructure_timber',\n",
       "       'pipeline-2__roof_type_Bamboo/Timber-Light roof',\n",
       "       'pipeline-1__has_secondary_use', 'pipeline-2__foundation_type_Other',\n",
       "       'pipeline-1__age_building',\n",
       "       'pipeline-1__has_superstructure_rc_non_engineered',\n",
       "       'pipeline-2__ground_floor_type_Brick/Stone',\n",
       "       'pipeline-2__ground_floor_type_Mud',\n",
       "       'pipeline-2__roof_type_Bamboo/Timber-Heavy roof',\n",
       "       'pipeline-1__count_floors_pre_eq',\n",
       "       'pipeline-2__plan_configuration_L-shape',\n",
       "       'pipeline-1__has_secondary_use_other',\n",
       "       'pipeline-1__has_superstructure_cement_mortar_stone',\n",
       "       'pipeline-2__land_surface_condition_Flat',\n",
       "       'pipeline-1__has_superstructure_other',\n",
       "       'pipeline-1__has_superstructure_bamboo',\n",
       "       'pipeline-2__land_surface_condition_Steep slope',\n",
       "       'pipeline-1__has_secondary_use_agriculture',\n",
       "       'pipeline-2__plan_configuration_Others',\n",
       "       'pipeline-2__other_floor_type_RCC/RB/RBC',\n",
       "       'pipeline-2__other_floor_type_Timber-Planck',\n",
       "       'pipeline-2__legal_ownership_status_Public',\n",
       "       'pipeline-2__land_surface_condition_Moderate slope',\n",
       "       'pipeline-1__has_secondary_use_rental',\n",
       "       'pipeline-2__plan_configuration_Square',\n",
       "       'pipeline-2__plan_configuration_Multi-projected',\n",
       "       'pipeline-2__legal_ownership_status_Private',\n",
       "       'pipeline-2__legal_ownership_status_Institutional',\n",
       "       'pipeline-2__legal_ownership_status_Other',\n",
       "       'pipeline-1__count_families',\n",
       "       'pipeline-2__plan_configuration_Rectangular',\n",
       "       'pipeline-2__gender_household_head_Female',\n",
       "       'pipeline-2__foundation_type_Cement-Stone/Brick',\n",
       "       'pipeline-2__education_level_household_head_Other',\n",
       "       'pipeline-2__position_Not attached',\n",
       "       'pipeline-1__income_level_household',\n",
       "       'pipeline-2__ground_floor_type_Other',\n",
       "       'pipeline-1__has_secondary_use_institution',\n",
       "       'pipeline-2__position_Attached-2 side',\n",
       "       'pipeline-1__has_secondary_use_hotel',\n",
       "       'pipeline-2__position_Attached-3 side',\n",
       "       'pipeline-2__plan_configuration_H-shape',\n",
       "       'pipeline-2__education_level_household_head_Illiterate',\n",
       "       'pipeline-2__plan_configuration_Building with Central Courtyard',\n",
       "       'pipeline-1__has_secondary_use_school',\n",
       "       'pipeline-1__has_secondary_use_industry',\n",
       "       'pipeline-2__plan_configuration_T-shape',\n",
       "       'pipeline-1__has_secondary_use_health_post',\n",
       "       'pipeline-1__size_household', 'pipeline-1__age_household_head',\n",
       "       'pipeline-2__plan_configuration_U-shape',\n",
       "       'pipeline-2__education_level_household_head_Intermediate or equivalent',\n",
       "       'pipeline-2__education_level_household_head_University',\n",
       "       'pipeline-2__position_Attached-1 side',\n",
       "       'pipeline-1__has_secondary_use_gov_office',\n",
       "       'pipeline-2__education_level_household_head_Non-formal education',\n",
       "       'pipeline-2__education_level_household_head_High School',\n",
       "       'pipeline-2__education_level_household_head_In education'],\n",
       "      dtype='object')"
      ]
     },
     "execution_count": 128,
     "metadata": {},
     "output_type": "execute_result"
    }
   ],
   "source": [
    "pd.set_option('display.max_rows', None)\n",
    "a = pd.DataFrame(xgb_model.feature_importances_, index=X_train.columns).sort_values(by=0, ascending=False)\n",
    "model_feature = a.head(76).index\n",
    "model_feature "
   ]
  },
  {
   "cell_type": "code",
   "execution_count": 129,
   "metadata": {},
   "outputs": [
    {
     "data": {
      "text/plain": [
       "0.5820238955662036"
      ]
     },
     "execution_count": 129,
     "metadata": {},
     "output_type": "execute_result"
    }
   ],
   "source": [
    "xgb_model.fit(X_train[model_feature], y_train)\n",
    "\n",
    "y_val_pred_model_feature = xgb_model.predict(X_val[model_feature])\n",
    "\n",
    "f1_score(y_val, y_val_pred_model_feature, average='micro')"
   ]
  },
  {
   "cell_type": "markdown",
   "metadata": {},
   "source": [
    "### Use SelectPrecentile to select top 8 features from the dataset"
   ]
  },
  {
   "cell_type": "markdown",
   "metadata": {},
   "source": [
    "# GridSearch best parameter for XGBoostclassifier"
   ]
  },
  {
   "cell_type": "code",
   "execution_count": 135,
   "metadata": {},
   "outputs": [],
   "source": [
    "from sklearn.model_selection import GridSearchCV \n",
    "import warnings\n",
    "warnings.filterwarnings('ignore')\n"
   ]
  },
  {
   "cell_type": "code",
   "execution_count": 136,
   "metadata": {},
   "outputs": [],
   "source": [
    "grid = {\n",
    "    \"max_depth\": [3, 4, 5, 7],\n",
    "    \"learning_rate\": [0.1, 0.3, 0.5,1],\n",
    "    \"gamma\": [0, 0.25, 1],\n",
    "    \"reg_lambda\": [0, 1, 10],\n",
    "    \"subsample\": [0.8],\n",
    "    \"colsample_bytree\": [0.5],\n",
    "}"
   ]
  },
  {
   "cell_type": "code",
   "execution_count": 137,
   "metadata": {},
   "outputs": [],
   "source": [
    "model = XGBClassifier(n_jobs=-1, n_estimators=100, random_state=42)\n",
    "search = GridSearchCV(model, grid, scoring=\"f1_micro\", n_jobs=-1, cv=3, verbose=1)\n"
   ]
  },
  {
   "cell_type": "code",
   "execution_count": 138,
   "metadata": {},
   "outputs": [
    {
     "name": "stdout",
     "output_type": "stream",
     "text": [
      "Fitting 3 folds for each of 144 candidates, totalling 432 fits\n"
     ]
    },
    {
     "data": {
      "text/html": [
       "<style>#sk-container-id-4 {color: black;background-color: white;}#sk-container-id-4 pre{padding: 0;}#sk-container-id-4 div.sk-toggleable {background-color: white;}#sk-container-id-4 label.sk-toggleable__label {cursor: pointer;display: block;width: 100%;margin-bottom: 0;padding: 0.3em;box-sizing: border-box;text-align: center;}#sk-container-id-4 label.sk-toggleable__label-arrow:before {content: \"▸\";float: left;margin-right: 0.25em;color: #696969;}#sk-container-id-4 label.sk-toggleable__label-arrow:hover:before {color: black;}#sk-container-id-4 div.sk-estimator:hover label.sk-toggleable__label-arrow:before {color: black;}#sk-container-id-4 div.sk-toggleable__content {max-height: 0;max-width: 0;overflow: hidden;text-align: left;background-color: #f0f8ff;}#sk-container-id-4 div.sk-toggleable__content pre {margin: 0.2em;color: black;border-radius: 0.25em;background-color: #f0f8ff;}#sk-container-id-4 input.sk-toggleable__control:checked~div.sk-toggleable__content {max-height: 200px;max-width: 100%;overflow: auto;}#sk-container-id-4 input.sk-toggleable__control:checked~label.sk-toggleable__label-arrow:before {content: \"▾\";}#sk-container-id-4 div.sk-estimator input.sk-toggleable__control:checked~label.sk-toggleable__label {background-color: #d4ebff;}#sk-container-id-4 div.sk-label input.sk-toggleable__control:checked~label.sk-toggleable__label {background-color: #d4ebff;}#sk-container-id-4 input.sk-hidden--visually {border: 0;clip: rect(1px 1px 1px 1px);clip: rect(1px, 1px, 1px, 1px);height: 1px;margin: -1px;overflow: hidden;padding: 0;position: absolute;width: 1px;}#sk-container-id-4 div.sk-estimator {font-family: monospace;background-color: #f0f8ff;border: 1px dotted black;border-radius: 0.25em;box-sizing: border-box;margin-bottom: 0.5em;}#sk-container-id-4 div.sk-estimator:hover {background-color: #d4ebff;}#sk-container-id-4 div.sk-parallel-item::after {content: \"\";width: 100%;border-bottom: 1px solid gray;flex-grow: 1;}#sk-container-id-4 div.sk-label:hover label.sk-toggleable__label {background-color: #d4ebff;}#sk-container-id-4 div.sk-serial::before {content: \"\";position: absolute;border-left: 1px solid gray;box-sizing: border-box;top: 0;bottom: 0;left: 50%;z-index: 0;}#sk-container-id-4 div.sk-serial {display: flex;flex-direction: column;align-items: center;background-color: white;padding-right: 0.2em;padding-left: 0.2em;position: relative;}#sk-container-id-4 div.sk-item {position: relative;z-index: 1;}#sk-container-id-4 div.sk-parallel {display: flex;align-items: stretch;justify-content: center;background-color: white;position: relative;}#sk-container-id-4 div.sk-item::before, #sk-container-id-4 div.sk-parallel-item::before {content: \"\";position: absolute;border-left: 1px solid gray;box-sizing: border-box;top: 0;bottom: 0;left: 50%;z-index: -1;}#sk-container-id-4 div.sk-parallel-item {display: flex;flex-direction: column;z-index: 1;position: relative;background-color: white;}#sk-container-id-4 div.sk-parallel-item:first-child::after {align-self: flex-end;width: 50%;}#sk-container-id-4 div.sk-parallel-item:last-child::after {align-self: flex-start;width: 50%;}#sk-container-id-4 div.sk-parallel-item:only-child::after {width: 0;}#sk-container-id-4 div.sk-dashed-wrapped {border: 1px dashed gray;margin: 0 0.4em 0.5em 0.4em;box-sizing: border-box;padding-bottom: 0.4em;background-color: white;}#sk-container-id-4 div.sk-label label {font-family: monospace;font-weight: bold;display: inline-block;line-height: 1.2em;}#sk-container-id-4 div.sk-label-container {text-align: center;}#sk-container-id-4 div.sk-container {/* jupyter's `normalize.less` sets `[hidden] { display: none; }` but bootstrap.min.css set `[hidden] { display: none !important; }` so we also need the `!important` here to be able to override the default hidden behavior on the sphinx rendered scikit-learn.org. See: https://github.com/scikit-learn/scikit-learn/issues/21755 */display: inline-block !important;position: relative;}#sk-container-id-4 div.sk-text-repr-fallback {display: none;}</style><div id=\"sk-container-id-4\" class=\"sk-top-container\"><div class=\"sk-text-repr-fallback\"><pre>GridSearchCV(cv=3,\n",
       "             estimator=XGBClassifier(base_score=None, booster=None,\n",
       "                                     callbacks=None, colsample_bylevel=None,\n",
       "                                     colsample_bynode=None,\n",
       "                                     colsample_bytree=None,\n",
       "                                     early_stopping_rounds=None,\n",
       "                                     enable_categorical=False, eval_metric=None,\n",
       "                                     feature_types=None, gamma=None,\n",
       "                                     gpu_id=None, grow_policy=None,\n",
       "                                     importance_type=None,\n",
       "                                     interaction_constraints=None,\n",
       "                                     learning_rate=None,...\n",
       "                                     max_leaves=None, min_child_weight=None,\n",
       "                                     missing=nan, monotone_constraints=None,\n",
       "                                     n_estimators=100, n_jobs=-1,\n",
       "                                     num_parallel_tree=None, predictor=None,\n",
       "                                     random_state=42, ...),\n",
       "             n_jobs=-1,\n",
       "             param_grid={&#x27;colsample_bytree&#x27;: [0.5], &#x27;gamma&#x27;: [0, 0.25, 1],\n",
       "                         &#x27;learning_rate&#x27;: [0.1, 0.3, 0.5, 1],\n",
       "                         &#x27;max_depth&#x27;: [3, 4, 5, 7], &#x27;reg_lambda&#x27;: [0, 1, 10],\n",
       "                         &#x27;subsample&#x27;: [0.8]},\n",
       "             scoring=&#x27;f1_micro&#x27;, verbose=1)</pre><b>In a Jupyter environment, please rerun this cell to show the HTML representation or trust the notebook. <br />On GitHub, the HTML representation is unable to render, please try loading this page with nbviewer.org.</b></div><div class=\"sk-container\" hidden><div class=\"sk-item sk-dashed-wrapped\"><div class=\"sk-label-container\"><div class=\"sk-label sk-toggleable\"><input class=\"sk-toggleable__control sk-hidden--visually\" id=\"sk-estimator-id-8\" type=\"checkbox\" ><label for=\"sk-estimator-id-8\" class=\"sk-toggleable__label sk-toggleable__label-arrow\">GridSearchCV</label><div class=\"sk-toggleable__content\"><pre>GridSearchCV(cv=3,\n",
       "             estimator=XGBClassifier(base_score=None, booster=None,\n",
       "                                     callbacks=None, colsample_bylevel=None,\n",
       "                                     colsample_bynode=None,\n",
       "                                     colsample_bytree=None,\n",
       "                                     early_stopping_rounds=None,\n",
       "                                     enable_categorical=False, eval_metric=None,\n",
       "                                     feature_types=None, gamma=None,\n",
       "                                     gpu_id=None, grow_policy=None,\n",
       "                                     importance_type=None,\n",
       "                                     interaction_constraints=None,\n",
       "                                     learning_rate=None,...\n",
       "                                     max_leaves=None, min_child_weight=None,\n",
       "                                     missing=nan, monotone_constraints=None,\n",
       "                                     n_estimators=100, n_jobs=-1,\n",
       "                                     num_parallel_tree=None, predictor=None,\n",
       "                                     random_state=42, ...),\n",
       "             n_jobs=-1,\n",
       "             param_grid={&#x27;colsample_bytree&#x27;: [0.5], &#x27;gamma&#x27;: [0, 0.25, 1],\n",
       "                         &#x27;learning_rate&#x27;: [0.1, 0.3, 0.5, 1],\n",
       "                         &#x27;max_depth&#x27;: [3, 4, 5, 7], &#x27;reg_lambda&#x27;: [0, 1, 10],\n",
       "                         &#x27;subsample&#x27;: [0.8]},\n",
       "             scoring=&#x27;f1_micro&#x27;, verbose=1)</pre></div></div></div><div class=\"sk-parallel\"><div class=\"sk-parallel-item\"><div class=\"sk-item\"><div class=\"sk-label-container\"><div class=\"sk-label sk-toggleable\"><input class=\"sk-toggleable__control sk-hidden--visually\" id=\"sk-estimator-id-9\" type=\"checkbox\" ><label for=\"sk-estimator-id-9\" class=\"sk-toggleable__label sk-toggleable__label-arrow\">estimator: XGBClassifier</label><div class=\"sk-toggleable__content\"><pre>XGBClassifier(base_score=None, booster=None, callbacks=None,\n",
       "              colsample_bylevel=None, colsample_bynode=None,\n",
       "              colsample_bytree=None, early_stopping_rounds=None,\n",
       "              enable_categorical=False, eval_metric=None, feature_types=None,\n",
       "              gamma=None, gpu_id=None, grow_policy=None, importance_type=None,\n",
       "              interaction_constraints=None, learning_rate=None, max_bin=None,\n",
       "              max_cat_threshold=None, max_cat_to_onehot=None,\n",
       "              max_delta_step=None, max_depth=None, max_leaves=None,\n",
       "              min_child_weight=None, missing=nan, monotone_constraints=None,\n",
       "              n_estimators=100, n_jobs=-1, num_parallel_tree=None,\n",
       "              predictor=None, random_state=42, ...)</pre></div></div></div><div class=\"sk-serial\"><div class=\"sk-item\"><div class=\"sk-estimator sk-toggleable\"><input class=\"sk-toggleable__control sk-hidden--visually\" id=\"sk-estimator-id-10\" type=\"checkbox\" ><label for=\"sk-estimator-id-10\" class=\"sk-toggleable__label sk-toggleable__label-arrow\">XGBClassifier</label><div class=\"sk-toggleable__content\"><pre>XGBClassifier(base_score=None, booster=None, callbacks=None,\n",
       "              colsample_bylevel=None, colsample_bynode=None,\n",
       "              colsample_bytree=None, early_stopping_rounds=None,\n",
       "              enable_categorical=False, eval_metric=None, feature_types=None,\n",
       "              gamma=None, gpu_id=None, grow_policy=None, importance_type=None,\n",
       "              interaction_constraints=None, learning_rate=None, max_bin=None,\n",
       "              max_cat_threshold=None, max_cat_to_onehot=None,\n",
       "              max_delta_step=None, max_depth=None, max_leaves=None,\n",
       "              min_child_weight=None, missing=nan, monotone_constraints=None,\n",
       "              n_estimators=100, n_jobs=-1, num_parallel_tree=None,\n",
       "              predictor=None, random_state=42, ...)</pre></div></div></div></div></div></div></div></div></div></div>"
      ],
      "text/plain": [
       "GridSearchCV(cv=3,\n",
       "             estimator=XGBClassifier(base_score=None, booster=None,\n",
       "                                     callbacks=None, colsample_bylevel=None,\n",
       "                                     colsample_bynode=None,\n",
       "                                     colsample_bytree=None,\n",
       "                                     early_stopping_rounds=None,\n",
       "                                     enable_categorical=False, eval_metric=None,\n",
       "                                     feature_types=None, gamma=None,\n",
       "                                     gpu_id=None, grow_policy=None,\n",
       "                                     importance_type=None,\n",
       "                                     interaction_constraints=None,\n",
       "                                     learning_rate=None,...\n",
       "                                     max_leaves=None, min_child_weight=None,\n",
       "                                     missing=nan, monotone_constraints=None,\n",
       "                                     n_estimators=100, n_jobs=-1,\n",
       "                                     num_parallel_tree=None, predictor=None,\n",
       "                                     random_state=42, ...),\n",
       "             n_jobs=-1,\n",
       "             param_grid={'colsample_bytree': [0.5], 'gamma': [0, 0.25, 1],\n",
       "                         'learning_rate': [0.1, 0.3, 0.5, 1],\n",
       "                         'max_depth': [3, 4, 5, 7], 'reg_lambda': [0, 1, 10],\n",
       "                         'subsample': [0.8]},\n",
       "             scoring='f1_micro', verbose=1)"
      ]
     },
     "execution_count": 138,
     "metadata": {},
     "output_type": "execute_result"
    }
   ],
   "source": [
    "search.fit(X_train[model_feature], y_train) "
   ]
  },
  {
   "cell_type": "code",
   "execution_count": 140,
   "metadata": {},
   "outputs": [
    {
     "data": {
      "text/plain": [
       "{'colsample_bytree': 0.5,\n",
       " 'gamma': 0,\n",
       " 'learning_rate': 1,\n",
       " 'max_depth': 7,\n",
       " 'reg_lambda': 10,\n",
       " 'subsample': 0.8}"
      ]
     },
     "execution_count": 140,
     "metadata": {},
     "output_type": "execute_result"
    }
   ],
   "source": [
    "search.best_params_"
   ]
  },
  {
   "cell_type": "code",
   "execution_count": 141,
   "metadata": {},
   "outputs": [
    {
     "data": {
      "text/plain": [
       "0.5925735434158835"
      ]
     },
     "execution_count": 141,
     "metadata": {},
     "output_type": "execute_result"
    }
   ],
   "source": [
    "search.best_score_"
   ]
  },
  {
   "cell_type": "code",
   "execution_count": 142,
   "metadata": {},
   "outputs": [
    {
     "data": {
      "text/html": [
       "<style>#sk-container-id-5 {color: black;background-color: white;}#sk-container-id-5 pre{padding: 0;}#sk-container-id-5 div.sk-toggleable {background-color: white;}#sk-container-id-5 label.sk-toggleable__label {cursor: pointer;display: block;width: 100%;margin-bottom: 0;padding: 0.3em;box-sizing: border-box;text-align: center;}#sk-container-id-5 label.sk-toggleable__label-arrow:before {content: \"▸\";float: left;margin-right: 0.25em;color: #696969;}#sk-container-id-5 label.sk-toggleable__label-arrow:hover:before {color: black;}#sk-container-id-5 div.sk-estimator:hover label.sk-toggleable__label-arrow:before {color: black;}#sk-container-id-5 div.sk-toggleable__content {max-height: 0;max-width: 0;overflow: hidden;text-align: left;background-color: #f0f8ff;}#sk-container-id-5 div.sk-toggleable__content pre {margin: 0.2em;color: black;border-radius: 0.25em;background-color: #f0f8ff;}#sk-container-id-5 input.sk-toggleable__control:checked~div.sk-toggleable__content {max-height: 200px;max-width: 100%;overflow: auto;}#sk-container-id-5 input.sk-toggleable__control:checked~label.sk-toggleable__label-arrow:before {content: \"▾\";}#sk-container-id-5 div.sk-estimator input.sk-toggleable__control:checked~label.sk-toggleable__label {background-color: #d4ebff;}#sk-container-id-5 div.sk-label input.sk-toggleable__control:checked~label.sk-toggleable__label {background-color: #d4ebff;}#sk-container-id-5 input.sk-hidden--visually {border: 0;clip: rect(1px 1px 1px 1px);clip: rect(1px, 1px, 1px, 1px);height: 1px;margin: -1px;overflow: hidden;padding: 0;position: absolute;width: 1px;}#sk-container-id-5 div.sk-estimator {font-family: monospace;background-color: #f0f8ff;border: 1px dotted black;border-radius: 0.25em;box-sizing: border-box;margin-bottom: 0.5em;}#sk-container-id-5 div.sk-estimator:hover {background-color: #d4ebff;}#sk-container-id-5 div.sk-parallel-item::after {content: \"\";width: 100%;border-bottom: 1px solid gray;flex-grow: 1;}#sk-container-id-5 div.sk-label:hover label.sk-toggleable__label {background-color: #d4ebff;}#sk-container-id-5 div.sk-serial::before {content: \"\";position: absolute;border-left: 1px solid gray;box-sizing: border-box;top: 0;bottom: 0;left: 50%;z-index: 0;}#sk-container-id-5 div.sk-serial {display: flex;flex-direction: column;align-items: center;background-color: white;padding-right: 0.2em;padding-left: 0.2em;position: relative;}#sk-container-id-5 div.sk-item {position: relative;z-index: 1;}#sk-container-id-5 div.sk-parallel {display: flex;align-items: stretch;justify-content: center;background-color: white;position: relative;}#sk-container-id-5 div.sk-item::before, #sk-container-id-5 div.sk-parallel-item::before {content: \"\";position: absolute;border-left: 1px solid gray;box-sizing: border-box;top: 0;bottom: 0;left: 50%;z-index: -1;}#sk-container-id-5 div.sk-parallel-item {display: flex;flex-direction: column;z-index: 1;position: relative;background-color: white;}#sk-container-id-5 div.sk-parallel-item:first-child::after {align-self: flex-end;width: 50%;}#sk-container-id-5 div.sk-parallel-item:last-child::after {align-self: flex-start;width: 50%;}#sk-container-id-5 div.sk-parallel-item:only-child::after {width: 0;}#sk-container-id-5 div.sk-dashed-wrapped {border: 1px dashed gray;margin: 0 0.4em 0.5em 0.4em;box-sizing: border-box;padding-bottom: 0.4em;background-color: white;}#sk-container-id-5 div.sk-label label {font-family: monospace;font-weight: bold;display: inline-block;line-height: 1.2em;}#sk-container-id-5 div.sk-label-container {text-align: center;}#sk-container-id-5 div.sk-container {/* jupyter's `normalize.less` sets `[hidden] { display: none; }` but bootstrap.min.css set `[hidden] { display: none !important; }` so we also need the `!important` here to be able to override the default hidden behavior on the sphinx rendered scikit-learn.org. See: https://github.com/scikit-learn/scikit-learn/issues/21755 */display: inline-block !important;position: relative;}#sk-container-id-5 div.sk-text-repr-fallback {display: none;}</style><div id=\"sk-container-id-5\" class=\"sk-top-container\"><div class=\"sk-text-repr-fallback\"><pre>XGBClassifier(base_score=0.5, booster=&#x27;gbtree&#x27;, callbacks=None,\n",
       "              colsample_bylevel=1, colsample_bynode=1, colsample_bytree=0.5,\n",
       "              early_stopping_rounds=None, enable_categorical=False,\n",
       "              eval_metric=None, feature_types=None, gamma=0, gpu_id=-1,\n",
       "              grow_policy=&#x27;depthwise&#x27;, importance_type=None,\n",
       "              interaction_constraints=&#x27;&#x27;, learning_rate=1, max_bin=256,\n",
       "              max_cat_threshold=64, max_cat_to_onehot=4, max_delta_step=0,\n",
       "              max_depth=7, max_leaves=0, min_child_weight=1, missing=nan,\n",
       "              monotone_constraints=&#x27;()&#x27;, n_estimators=100, n_jobs=-1,\n",
       "              num_parallel_tree=1, objective=&#x27;multi:softprob&#x27;, predictor=&#x27;auto&#x27;, ...)</pre><b>In a Jupyter environment, please rerun this cell to show the HTML representation or trust the notebook. <br />On GitHub, the HTML representation is unable to render, please try loading this page with nbviewer.org.</b></div><div class=\"sk-container\" hidden><div class=\"sk-item\"><div class=\"sk-estimator sk-toggleable\"><input class=\"sk-toggleable__control sk-hidden--visually\" id=\"sk-estimator-id-11\" type=\"checkbox\" checked><label for=\"sk-estimator-id-11\" class=\"sk-toggleable__label sk-toggleable__label-arrow\">XGBClassifier</label><div class=\"sk-toggleable__content\"><pre>XGBClassifier(base_score=0.5, booster=&#x27;gbtree&#x27;, callbacks=None,\n",
       "              colsample_bylevel=1, colsample_bynode=1, colsample_bytree=0.5,\n",
       "              early_stopping_rounds=None, enable_categorical=False,\n",
       "              eval_metric=None, feature_types=None, gamma=0, gpu_id=-1,\n",
       "              grow_policy=&#x27;depthwise&#x27;, importance_type=None,\n",
       "              interaction_constraints=&#x27;&#x27;, learning_rate=1, max_bin=256,\n",
       "              max_cat_threshold=64, max_cat_to_onehot=4, max_delta_step=0,\n",
       "              max_depth=7, max_leaves=0, min_child_weight=1, missing=nan,\n",
       "              monotone_constraints=&#x27;()&#x27;, n_estimators=100, n_jobs=-1,\n",
       "              num_parallel_tree=1, objective=&#x27;multi:softprob&#x27;, predictor=&#x27;auto&#x27;, ...)</pre></div></div></div></div></div>"
      ],
      "text/plain": [
       "XGBClassifier(base_score=0.5, booster='gbtree', callbacks=None,\n",
       "              colsample_bylevel=1, colsample_bynode=1, colsample_bytree=0.5,\n",
       "              early_stopping_rounds=None, enable_categorical=False,\n",
       "              eval_metric=None, feature_types=None, gamma=0, gpu_id=-1,\n",
       "              grow_policy='depthwise', importance_type=None,\n",
       "              interaction_constraints='', learning_rate=1, max_bin=256,\n",
       "              max_cat_threshold=64, max_cat_to_onehot=4, max_delta_step=0,\n",
       "              max_depth=7, max_leaves=0, min_child_weight=1, missing=nan,\n",
       "              monotone_constraints='()', n_estimators=100, n_jobs=-1,\n",
       "              num_parallel_tree=1, objective='multi:softprob', predictor='auto', ...)"
      ]
     },
     "execution_count": 142,
     "metadata": {},
     "output_type": "execute_result"
    }
   ],
   "source": [
    "search.best_estimator_"
   ]
  },
  {
   "cell_type": "code",
   "execution_count": null,
   "metadata": {},
   "outputs": [],
   "source": [
    "best_model = XGBClassifier(n_jobs=-1, n_estimators=100, random_state=42, colsample_bytree=0.5,\n",
    "    gamma=0, learning_rate=1, max_depth=7, reg_lambda=10, subsample=0.8)\n",
    "best_model.fit(X_train[model_feature], y_train) "
   ]
  },
  {
   "cell_type": "code",
   "execution_count": null,
   "metadata": {},
   "outputs": [],
   "source": [
    "y_val_best = best_model.predict(X_val[model_feature])\n",
    "f1_score(y_val, y_val_best, average='micro') "
   ]
  },
  {
   "cell_type": "code",
   "execution_count": 168,
   "metadata": {},
   "outputs": [
    {
     "data": {
      "text/plain": [
       "(112071, 76)"
      ]
     },
     "execution_count": 168,
     "metadata": {},
     "output_type": "execute_result"
    }
   ],
   "source": [
    "X_train[model_feature].shape\n",
    "X_val[model_feature].shape"
   ]
  },
  {
   "cell_type": "markdown",
   "metadata": {},
   "source": [
    "# Build a neural network"
   ]
  },
  {
   "cell_type": "markdown",
   "metadata": {},
   "source": [
    "### Reload Data"
   ]
  },
  {
   "cell_type": "code",
   "execution_count": 120,
   "metadata": {},
   "outputs": [],
   "source": [
    "# data = pd.read_csv('/Users/chantalwuerschinger/code/chantalwuer/earthquake_damage/processed_data/comp_data_household.csv')\n",
    "data = pd.read_csv('/Users/chantalwuerschinger/code/chantalwuer/earthquake_damage/processed_data/comp_data_household.csv')\n"
   ]
  },
  {
   "cell_type": "code",
   "execution_count": 226,
   "metadata": {},
   "outputs": [],
   "source": [
    "data.dropna(inplace=True)"
   ]
  },
  {
   "cell_type": "code",
   "execution_count": 121,
   "metadata": {},
   "outputs": [
    {
     "data": {
      "text/html": [
       "<div>\n",
       "<style scoped>\n",
       "    .dataframe tbody tr th:only-of-type {\n",
       "        vertical-align: middle;\n",
       "    }\n",
       "\n",
       "    .dataframe tbody tr th {\n",
       "        vertical-align: top;\n",
       "    }\n",
       "\n",
       "    .dataframe thead th {\n",
       "        text-align: right;\n",
       "    }\n",
       "</style>\n",
       "<table border=\"1\" class=\"dataframe\">\n",
       "  <thead>\n",
       "    <tr style=\"text-align: right;\">\n",
       "      <th></th>\n",
       "      <th>building_id</th>\n",
       "      <th>district_id</th>\n",
       "      <th>vdcmun_id</th>\n",
       "      <th>ward_id</th>\n",
       "      <th>count_floors_pre_eq</th>\n",
       "      <th>age_building</th>\n",
       "      <th>land_surface_condition</th>\n",
       "      <th>foundation_type</th>\n",
       "      <th>roof_type</th>\n",
       "      <th>ground_floor_type</th>\n",
       "      <th>...</th>\n",
       "      <th>has_secondary_use_health_post</th>\n",
       "      <th>has_secondary_use_gov_office</th>\n",
       "      <th>has_secondary_use_use_police</th>\n",
       "      <th>has_secondary_use_other</th>\n",
       "      <th>household_id</th>\n",
       "      <th>gender_household_head</th>\n",
       "      <th>age_household_head</th>\n",
       "      <th>education_level_household_head</th>\n",
       "      <th>income_level_household</th>\n",
       "      <th>size_household</th>\n",
       "    </tr>\n",
       "  </thead>\n",
       "  <tbody>\n",
       "    <tr>\n",
       "      <th>0</th>\n",
       "      <td>120101000011</td>\n",
       "      <td>12</td>\n",
       "      <td>1207</td>\n",
       "      <td>120703</td>\n",
       "      <td>1</td>\n",
       "      <td>9</td>\n",
       "      <td>Flat</td>\n",
       "      <td>Other</td>\n",
       "      <td>Bamboo/Timber-Light roof</td>\n",
       "      <td>Mud</td>\n",
       "      <td>...</td>\n",
       "      <td>0</td>\n",
       "      <td>0</td>\n",
       "      <td>0</td>\n",
       "      <td>0</td>\n",
       "      <td>12010100001101</td>\n",
       "      <td>Male</td>\n",
       "      <td>31.0</td>\n",
       "      <td>Illiterate</td>\n",
       "      <td>Rs. 10 thousand</td>\n",
       "      <td>3.0</td>\n",
       "    </tr>\n",
       "    <tr>\n",
       "      <th>1</th>\n",
       "      <td>120101000021</td>\n",
       "      <td>12</td>\n",
       "      <td>1207</td>\n",
       "      <td>120703</td>\n",
       "      <td>1</td>\n",
       "      <td>15</td>\n",
       "      <td>Flat</td>\n",
       "      <td>Other</td>\n",
       "      <td>Bamboo/Timber-Light roof</td>\n",
       "      <td>Mud</td>\n",
       "      <td>...</td>\n",
       "      <td>0</td>\n",
       "      <td>0</td>\n",
       "      <td>0</td>\n",
       "      <td>0</td>\n",
       "      <td>12010100002101</td>\n",
       "      <td>Female</td>\n",
       "      <td>62.0</td>\n",
       "      <td>Illiterate</td>\n",
       "      <td>Rs. 10 thousand</td>\n",
       "      <td>6.0</td>\n",
       "    </tr>\n",
       "    <tr>\n",
       "      <th>2</th>\n",
       "      <td>120101000031</td>\n",
       "      <td>12</td>\n",
       "      <td>1207</td>\n",
       "      <td>120703</td>\n",
       "      <td>1</td>\n",
       "      <td>20</td>\n",
       "      <td>Flat</td>\n",
       "      <td>Other</td>\n",
       "      <td>Bamboo/Timber-Light roof</td>\n",
       "      <td>Mud</td>\n",
       "      <td>...</td>\n",
       "      <td>0</td>\n",
       "      <td>0</td>\n",
       "      <td>0</td>\n",
       "      <td>0</td>\n",
       "      <td>12010100003101</td>\n",
       "      <td>Male</td>\n",
       "      <td>51.0</td>\n",
       "      <td>Illiterate</td>\n",
       "      <td>Rs. 10 thousand</td>\n",
       "      <td>13.0</td>\n",
       "    </tr>\n",
       "    <tr>\n",
       "      <th>3</th>\n",
       "      <td>120101000041</td>\n",
       "      <td>12</td>\n",
       "      <td>1207</td>\n",
       "      <td>120703</td>\n",
       "      <td>1</td>\n",
       "      <td>20</td>\n",
       "      <td>Flat</td>\n",
       "      <td>Other</td>\n",
       "      <td>Bamboo/Timber-Light roof</td>\n",
       "      <td>Mud</td>\n",
       "      <td>...</td>\n",
       "      <td>0</td>\n",
       "      <td>0</td>\n",
       "      <td>0</td>\n",
       "      <td>0</td>\n",
       "      <td>12010100004101</td>\n",
       "      <td>Male</td>\n",
       "      <td>48.0</td>\n",
       "      <td>Illiterate</td>\n",
       "      <td>Rs. 10 thousand</td>\n",
       "      <td>5.0</td>\n",
       "    </tr>\n",
       "    <tr>\n",
       "      <th>4</th>\n",
       "      <td>120101000051</td>\n",
       "      <td>12</td>\n",
       "      <td>1207</td>\n",
       "      <td>120703</td>\n",
       "      <td>1</td>\n",
       "      <td>30</td>\n",
       "      <td>Flat</td>\n",
       "      <td>Other</td>\n",
       "      <td>Bamboo/Timber-Light roof</td>\n",
       "      <td>Mud</td>\n",
       "      <td>...</td>\n",
       "      <td>0</td>\n",
       "      <td>0</td>\n",
       "      <td>0</td>\n",
       "      <td>0</td>\n",
       "      <td>12010100005101</td>\n",
       "      <td>Male</td>\n",
       "      <td>70.0</td>\n",
       "      <td>Illiterate</td>\n",
       "      <td>Rs. 10 thousand</td>\n",
       "      <td>8.0</td>\n",
       "    </tr>\n",
       "  </tbody>\n",
       "</table>\n",
       "<p>5 rows × 44 columns</p>\n",
       "</div>"
      ],
      "text/plain": [
       "    building_id  district_id  vdcmun_id  ward_id  count_floors_pre_eq  \\\n",
       "0  120101000011           12       1207   120703                    1   \n",
       "1  120101000021           12       1207   120703                    1   \n",
       "2  120101000031           12       1207   120703                    1   \n",
       "3  120101000041           12       1207   120703                    1   \n",
       "4  120101000051           12       1207   120703                    1   \n",
       "\n",
       "   age_building land_surface_condition foundation_type  \\\n",
       "0             9                   Flat           Other   \n",
       "1            15                   Flat           Other   \n",
       "2            20                   Flat           Other   \n",
       "3            20                   Flat           Other   \n",
       "4            30                   Flat           Other   \n",
       "\n",
       "                  roof_type ground_floor_type  ...  \\\n",
       "0  Bamboo/Timber-Light roof               Mud  ...   \n",
       "1  Bamboo/Timber-Light roof               Mud  ...   \n",
       "2  Bamboo/Timber-Light roof               Mud  ...   \n",
       "3  Bamboo/Timber-Light roof               Mud  ...   \n",
       "4  Bamboo/Timber-Light roof               Mud  ...   \n",
       "\n",
       "  has_secondary_use_health_post has_secondary_use_gov_office  \\\n",
       "0                             0                            0   \n",
       "1                             0                            0   \n",
       "2                             0                            0   \n",
       "3                             0                            0   \n",
       "4                             0                            0   \n",
       "\n",
       "  has_secondary_use_use_police  has_secondary_use_other    household_id  \\\n",
       "0                            0                        0  12010100001101   \n",
       "1                            0                        0  12010100002101   \n",
       "2                            0                        0  12010100003101   \n",
       "3                            0                        0  12010100004101   \n",
       "4                            0                        0  12010100005101   \n",
       "\n",
       "   gender_household_head  age_household_head  education_level_household_head  \\\n",
       "0                   Male                31.0                      Illiterate   \n",
       "1                 Female                62.0                      Illiterate   \n",
       "2                   Male                51.0                      Illiterate   \n",
       "3                   Male                48.0                      Illiterate   \n",
       "4                   Male                70.0                      Illiterate   \n",
       "\n",
       "   income_level_household  size_household  \n",
       "0         Rs. 10 thousand             3.0  \n",
       "1         Rs. 10 thousand             6.0  \n",
       "2         Rs. 10 thousand            13.0  \n",
       "3         Rs. 10 thousand             5.0  \n",
       "4         Rs. 10 thousand             8.0  \n",
       "\n",
       "[5 rows x 44 columns]"
      ]
     },
     "execution_count": 121,
     "metadata": {},
     "output_type": "execute_result"
    }
   ],
   "source": [
    "data.head()"
   ]
  },
  {
   "cell_type": "code",
   "execution_count": 227,
   "metadata": {},
   "outputs": [],
   "source": [
    "X = data.drop(columns=['damage_grade', 'building_id'])\n",
    "y = data['damage_grade']"
   ]
  },
  {
   "cell_type": "code",
   "execution_count": 228,
   "metadata": {},
   "outputs": [],
   "source": [
    "from sklearn.preprocessing import OneHotEncoder, RobustScaler, LabelEncoder\n",
    "\n",
    "le = LabelEncoder()\n",
    "y_processed = le.fit_transform(y)"
   ]
  },
  {
   "cell_type": "code",
   "execution_count": 222,
   "metadata": {},
   "outputs": [
    {
     "data": {
      "text/plain": [
       "array([0, 1, 2, 3, 4])"
      ]
     },
     "execution_count": 222,
     "metadata": {},
     "output_type": "execute_result"
    }
   ],
   "source": [
    "np.unique(y_processed)"
   ]
  },
  {
   "cell_type": "code",
   "execution_count": 230,
   "metadata": {},
   "outputs": [
    {
     "name": "stdout",
     "output_type": "stream",
     "text": [
      "[[0. 0. 1. 0. 0.]\n",
      " [0. 0. 0. 0. 1.]\n",
      " [0. 1. 0. 0. 0.]\n",
      " ...\n",
      " [0. 0. 0. 0. 1.]\n",
      " [0. 0. 0. 0. 1.]\n",
      " [0. 0. 0. 0. 1.]]\n"
     ]
    }
   ],
   "source": [
    "from tensorflow.keras.utils import to_categorical\n",
    "y_cat = to_categorical(\n",
    "    y_processed, num_classes=5\n",
    ")\n",
    "print(y_cat)"
   ]
  },
  {
   "cell_type": "code",
   "execution_count": 202,
   "metadata": {},
   "outputs": [],
   "source": [
    "from sklearn.compose import make_column_transformer, make_column_selector\n",
    "from sklearn.pipeline import make_pipeline\n",
    "from sklearn.preprocessing import OneHotEncoder, RobustScaler, LabelEncoder\n",
    "from sklearn.impute import SimpleImputer\n",
    "\n",
    "num_transformer = make_pipeline(RobustScaler())\n",
    "num_col = make_column_selector(dtype_include=['int64', 'float64'])\n",
    "\n",
    "cat_transformer = make_pipeline(OneHotEncoder(handle_unknown='ignore'))\n",
    "cat_col = make_column_selector(dtype_include=['object'])\n",
    "\n",
    "preprocessor = make_column_transformer((num_transformer, num_col),\n",
    "                                            (cat_transformer, cat_col),\n",
    "                                            remainder='passthrough')"
   ]
  },
  {
   "cell_type": "code",
   "execution_count": 231,
   "metadata": {},
   "outputs": [],
   "source": [
    "X_processed = preprocessor.fit_transform(X)\n",
    "\n",
    "# Save data\n",
    "X_processed = pd.DataFrame(X_processed)\n",
    "X_processed.columns = preprocessor.get_feature_names_out()"
   ]
  },
  {
   "cell_type": "code",
   "execution_count": 204,
   "metadata": {},
   "outputs": [
    {
     "data": {
      "text/plain": [
       "(747137, 85)"
      ]
     },
     "execution_count": 204,
     "metadata": {},
     "output_type": "execute_result"
    }
   ],
   "source": [
    "X_processed.shape"
   ]
  },
  {
   "cell_type": "markdown",
   "metadata": {},
   "source": [
    "### Build Network"
   ]
  },
  {
   "cell_type": "code",
   "execution_count": 55,
   "metadata": {},
   "outputs": [],
   "source": [
    "from keras.callbacks import EarlyStopping\n",
    "from keras.models import Sequential\n",
    "from keras import layers"
   ]
  },
  {
   "cell_type": "code",
   "execution_count": 107,
   "metadata": {},
   "outputs": [
    {
     "data": {
      "text/plain": [
       "(83,)"
      ]
     },
     "execution_count": 107,
     "metadata": {},
     "output_type": "execute_result"
    }
   ],
   "source": [
    "X_train.shape[1:]"
   ]
  },
  {
   "cell_type": "code",
   "execution_count": 268,
   "metadata": {},
   "outputs": [],
   "source": [
    "from tensorflow.keras.utils import to_categorical\n",
    "y_train_cat = to_categorical(y_train, num_classes=5)\n",
    "y_test_cat = to_categorical(y_test, num_classes=5)\n",
    "y_val_cat = to_categorical(y_val, num_classes=5)"
   ]
  },
  {
   "cell_type": "code",
   "execution_count": 314,
   "metadata": {},
   "outputs": [],
   "source": [
    "def init_model():\n",
    "    model = Sequential()\n",
    "    \n",
    "    # model.add(layers.Dense(10, input_dim=X_train.shape[1], activation='relu'))\n",
    "    model.add(layers.Dense(50, input_dim=X_train.shape[1], activation='relu'))\n",
    "    model.add(layers.Dense(20, activation='relu'))\n",
    "    model.add(layers.Dropout(rate=0.2))\n",
    "    model.add(layers.Dense(5, activation='softmax'))\n",
    "    \n",
    "    model.compile(loss='categorical_crossentropy', optimizer='adam', metrics=['Accuracy', 'Precision', 'Recall'])\n",
    "    \n",
    "    return model"
   ]
  },
  {
   "cell_type": "code",
   "execution_count": 315,
   "metadata": {},
   "outputs": [
    {
     "name": "stdout",
     "output_type": "stream",
     "text": [
      "Model: \"sequential_30\"\n",
      "_________________________________________________________________\n",
      " Layer (type)                Output Shape              Param #   \n",
      "=================================================================\n",
      " dense_82 (Dense)            (None, 50)                4200      \n",
      "                                                                 \n",
      " dense_83 (Dense)            (None, 20)                1020      \n",
      "                                                                 \n",
      " dropout_4 (Dropout)         (None, 20)                0         \n",
      "                                                                 \n",
      " dense_84 (Dense)            (None, 5)                 105       \n",
      "                                                                 \n",
      "=================================================================\n",
      "Total params: 5,325\n",
      "Trainable params: 5,325\n",
      "Non-trainable params: 0\n",
      "_________________________________________________________________\n"
     ]
    }
   ],
   "source": [
    "model = init_model()\n",
    "model.summary()"
   ]
  },
  {
   "cell_type": "code",
   "execution_count": 316,
   "metadata": {},
   "outputs": [
    {
     "name": "stdout",
     "output_type": "stream",
     "text": [
      "Epoch 1/100\n",
      "16344/16344 [==============================] - 21s 1ms/step - loss: 1.2320 - Accuracy: 0.4658 - precision: 0.6437 - recall: 0.2173 - val_loss: 1.1743 - val_Accuracy: 0.4842 - val_precision: 0.6932 - val_recall: 0.2525\n",
      "Epoch 2/100\n",
      "16344/16344 [==============================] - 19s 1ms/step - loss: 1.1862 - Accuracy: 0.4818 - precision: 0.6847 - recall: 0.2440 - val_loss: 1.1653 - val_Accuracy: 0.4898 - val_precision: 0.7017 - val_recall: 0.2538\n",
      "Epoch 3/100\n",
      "16344/16344 [==============================] - 21s 1ms/step - loss: 1.1787 - Accuracy: 0.4855 - precision: 0.6910 - recall: 0.2484 - val_loss: 1.1581 - val_Accuracy: 0.4938 - val_precision: 0.6969 - val_recall: 0.2641\n",
      "Epoch 4/100\n",
      "16344/16344 [==============================] - 21s 1ms/step - loss: 1.1747 - Accuracy: 0.4881 - precision: 0.6921 - recall: 0.2498 - val_loss: 1.1562 - val_Accuracy: 0.4942 - val_precision: 0.6874 - val_recall: 0.2731\n",
      "Epoch 5/100\n",
      "16344/16344 [==============================] - 19s 1ms/step - loss: 1.1719 - Accuracy: 0.4894 - precision: 0.6937 - recall: 0.2516 - val_loss: 1.1556 - val_Accuracy: 0.4949 - val_precision: 0.7113 - val_recall: 0.2526\n",
      "Epoch 6/100\n",
      "16344/16344 [==============================] - 21s 1ms/step - loss: 1.1691 - Accuracy: 0.4906 - precision: 0.6952 - recall: 0.2544 - val_loss: 1.1518 - val_Accuracy: 0.4969 - val_precision: 0.6996 - val_recall: 0.2680\n",
      "Epoch 7/100\n",
      "16344/16344 [==============================] - 20s 1ms/step - loss: 1.1668 - Accuracy: 0.4916 - precision: 0.6953 - recall: 0.2548 - val_loss: 1.1534 - val_Accuracy: 0.4952 - val_precision: 0.7019 - val_recall: 0.2651\n",
      "Epoch 8/100\n",
      "16344/16344 [==============================] - 22s 1ms/step - loss: 1.1662 - Accuracy: 0.4923 - precision: 0.6962 - recall: 0.2547 - val_loss: 1.1496 - val_Accuracy: 0.4977 - val_precision: 0.7022 - val_recall: 0.2663\n",
      "Epoch 9/100\n",
      "16344/16344 [==============================] - 21s 1ms/step - loss: 1.1645 - Accuracy: 0.4929 - precision: 0.6962 - recall: 0.2563 - val_loss: 1.1512 - val_Accuracy: 0.4961 - val_precision: 0.7142 - val_recall: 0.2534\n",
      "Epoch 10/100\n",
      "16344/16344 [==============================] - 21s 1ms/step - loss: 1.1630 - Accuracy: 0.4934 - precision: 0.6969 - recall: 0.2573 - val_loss: 1.1469 - val_Accuracy: 0.4993 - val_precision: 0.6967 - val_recall: 0.2746\n",
      "Epoch 11/100\n",
      "16344/16344 [==============================] - 23s 1ms/step - loss: 1.1616 - Accuracy: 0.4949 - precision: 0.6970 - recall: 0.2583 - val_loss: 1.1481 - val_Accuracy: 0.4996 - val_precision: 0.7057 - val_recall: 0.2654\n",
      "Epoch 12/100\n",
      "16344/16344 [==============================] - 21s 1ms/step - loss: 1.1604 - Accuracy: 0.4950 - precision: 0.6982 - recall: 0.2590 - val_loss: 1.1477 - val_Accuracy: 0.4991 - val_precision: 0.6899 - val_recall: 0.2814\n",
      "Epoch 13/100\n",
      "16344/16344 [==============================] - 21s 1ms/step - loss: 1.1605 - Accuracy: 0.4953 - precision: 0.6979 - recall: 0.2601 - val_loss: 1.1464 - val_Accuracy: 0.4984 - val_precision: 0.6807 - val_recall: 0.2914\n",
      "Epoch 14/100\n",
      "16344/16344 [==============================] - 22s 1ms/step - loss: 1.1589 - Accuracy: 0.4964 - precision: 0.6969 - recall: 0.2602 - val_loss: 1.1454 - val_Accuracy: 0.4995 - val_precision: 0.6922 - val_recall: 0.2809\n",
      "Epoch 15/100\n",
      "16344/16344 [==============================] - 22s 1ms/step - loss: 1.1584 - Accuracy: 0.4957 - precision: 0.6983 - recall: 0.2600 - val_loss: 1.1461 - val_Accuracy: 0.4995 - val_precision: 0.6984 - val_recall: 0.2750\n",
      "Epoch 16/100\n",
      "16344/16344 [==============================] - 22s 1ms/step - loss: 1.1582 - Accuracy: 0.4954 - precision: 0.6981 - recall: 0.2609 - val_loss: 1.1451 - val_Accuracy: 0.5000 - val_precision: 0.7021 - val_recall: 0.2727\n",
      "Epoch 17/100\n",
      "16344/16344 [==============================] - 21s 1ms/step - loss: 1.1575 - Accuracy: 0.4960 - precision: 0.6980 - recall: 0.2615 - val_loss: 1.1447 - val_Accuracy: 0.5011 - val_precision: 0.7057 - val_recall: 0.2666\n",
      "Epoch 18/100\n",
      "16344/16344 [==============================] - 21s 1ms/step - loss: 1.1572 - Accuracy: 0.4968 - precision: 0.6985 - recall: 0.2616 - val_loss: 1.1443 - val_Accuracy: 0.5001 - val_precision: 0.7051 - val_recall: 0.2685\n",
      "Epoch 19/100\n",
      "16344/16344 [==============================] - 20s 1ms/step - loss: 1.1566 - Accuracy: 0.4966 - precision: 0.6989 - recall: 0.2622 - val_loss: 1.1462 - val_Accuracy: 0.5018 - val_precision: 0.7106 - val_recall: 0.2655\n",
      "Epoch 20/100\n",
      "16344/16344 [==============================] - 20s 1ms/step - loss: 1.1566 - Accuracy: 0.4964 - precision: 0.6985 - recall: 0.2616 - val_loss: 1.1444 - val_Accuracy: 0.5005 - val_precision: 0.6969 - val_recall: 0.2801\n",
      "Epoch 21/100\n",
      "16344/16344 [==============================] - 22s 1ms/step - loss: 1.1556 - Accuracy: 0.4971 - precision: 0.6993 - recall: 0.2623 - val_loss: 1.1441 - val_Accuracy: 0.5013 - val_precision: 0.7081 - val_recall: 0.2695\n",
      "Epoch 22/100\n",
      "16344/16344 [==============================] - 22s 1ms/step - loss: 1.1559 - Accuracy: 0.4967 - precision: 0.6992 - recall: 0.2626 - val_loss: 1.1419 - val_Accuracy: 0.5008 - val_precision: 0.6894 - val_recall: 0.2871\n",
      "Epoch 23/100\n",
      "16344/16344 [==============================] - 19s 1ms/step - loss: 1.1557 - Accuracy: 0.4970 - precision: 0.6988 - recall: 0.2628 - val_loss: 1.1461 - val_Accuracy: 0.5000 - val_precision: 0.7090 - val_recall: 0.2678\n",
      "Epoch 24/100\n",
      "16344/16344 [==============================] - 19s 1ms/step - loss: 1.1552 - Accuracy: 0.4976 - precision: 0.6991 - recall: 0.2632 - val_loss: 1.1438 - val_Accuracy: 0.5019 - val_precision: 0.7197 - val_recall: 0.2558\n",
      "Epoch 25/100\n",
      "16344/16344 [==============================] - 19s 1ms/step - loss: 1.1548 - Accuracy: 0.4976 - precision: 0.6985 - recall: 0.2638 - val_loss: 1.1441 - val_Accuracy: 0.5007 - val_precision: 0.7133 - val_recall: 0.2636\n",
      "Epoch 26/100\n",
      "16344/16344 [==============================] - 19s 1ms/step - loss: 1.1547 - Accuracy: 0.4972 - precision: 0.6998 - recall: 0.2634 - val_loss: 1.1447 - val_Accuracy: 0.5009 - val_precision: 0.7117 - val_recall: 0.2622\n",
      "Epoch 27/100\n",
      "16344/16344 [==============================] - 20s 1ms/step - loss: 1.1549 - Accuracy: 0.4973 - precision: 0.6989 - recall: 0.2633 - val_loss: 1.1426 - val_Accuracy: 0.5009 - val_precision: 0.7093 - val_recall: 0.2697\n",
      "Epoch 28/100\n",
      "16344/16344 [==============================] - 20s 1ms/step - loss: 1.1545 - Accuracy: 0.4978 - precision: 0.6990 - recall: 0.2634 - val_loss: 1.1425 - val_Accuracy: 0.5011 - val_precision: 0.7030 - val_recall: 0.2713\n",
      "Epoch 29/100\n",
      "16344/16344 [==============================] - 35s 2ms/step - loss: 1.1539 - Accuracy: 0.4972 - precision: 0.6985 - recall: 0.2647 - val_loss: 1.1409 - val_Accuracy: 0.5026 - val_precision: 0.7161 - val_recall: 0.2644\n",
      "Epoch 30/100\n",
      "16344/16344 [==============================] - 22s 1ms/step - loss: 1.1540 - Accuracy: 0.4978 - precision: 0.6987 - recall: 0.2644 - val_loss: 1.1415 - val_Accuracy: 0.5018 - val_precision: 0.7074 - val_recall: 0.2715\n",
      "Epoch 31/100\n",
      "16344/16344 [==============================] - 20s 1ms/step - loss: 1.1536 - Accuracy: 0.4973 - precision: 0.6989 - recall: 0.2653 - val_loss: 1.1429 - val_Accuracy: 0.5016 - val_precision: 0.7068 - val_recall: 0.2689\n",
      "Epoch 32/100\n",
      "16344/16344 [==============================] - 20s 1ms/step - loss: 1.1542 - Accuracy: 0.4977 - precision: 0.6990 - recall: 0.2647 - val_loss: 1.1416 - val_Accuracy: 0.5022 - val_precision: 0.7110 - val_recall: 0.2668\n",
      "Epoch 33/100\n",
      "16344/16344 [==============================] - 19s 1ms/step - loss: 1.1530 - Accuracy: 0.4982 - precision: 0.6994 - recall: 0.2659 - val_loss: 1.1421 - val_Accuracy: 0.5014 - val_precision: 0.7005 - val_recall: 0.2769\n",
      "Epoch 34/100\n",
      "16344/16344 [==============================] - 21s 1ms/step - loss: 1.1530 - Accuracy: 0.4977 - precision: 0.6997 - recall: 0.2653 - val_loss: 1.1422 - val_Accuracy: 0.5018 - val_precision: 0.6934 - val_recall: 0.2836\n",
      "Epoch 35/100\n",
      "16344/16344 [==============================] - 24s 1ms/step - loss: 1.1530 - Accuracy: 0.4981 - precision: 0.6979 - recall: 0.2652 - val_loss: 1.1408 - val_Accuracy: 0.5019 - val_precision: 0.6936 - val_recall: 0.2866\n",
      "Epoch 36/100\n",
      "16344/16344 [==============================] - 23s 1ms/step - loss: 1.1527 - Accuracy: 0.4984 - precision: 0.6993 - recall: 0.2658 - val_loss: 1.1410 - val_Accuracy: 0.5019 - val_precision: 0.6919 - val_recall: 0.2855\n",
      "Epoch 37/100\n",
      "16344/16344 [==============================] - 20s 1ms/step - loss: 1.1524 - Accuracy: 0.4984 - precision: 0.6984 - recall: 0.2658 - val_loss: 1.1420 - val_Accuracy: 0.5009 - val_precision: 0.6931 - val_recall: 0.2835\n",
      "Epoch 38/100\n",
      "16344/16344 [==============================] - 20s 1ms/step - loss: 1.1529 - Accuracy: 0.4979 - precision: 0.6993 - recall: 0.2656 - val_loss: 1.1426 - val_Accuracy: 0.5006 - val_precision: 0.7080 - val_recall: 0.2681\n",
      "Epoch 39/100\n",
      "16344/16344 [==============================] - 20s 1ms/step - loss: 1.1524 - Accuracy: 0.4984 - precision: 0.6997 - recall: 0.2659 - val_loss: 1.1421 - val_Accuracy: 0.5016 - val_precision: 0.7186 - val_recall: 0.2600\n",
      "Epoch 40/100\n",
      "16344/16344 [==============================] - 20s 1ms/step - loss: 1.1522 - Accuracy: 0.4978 - precision: 0.6996 - recall: 0.2656 - val_loss: 1.1414 - val_Accuracy: 0.5027 - val_precision: 0.7102 - val_recall: 0.2695\n",
      "Epoch 41/100\n",
      "16344/16344 [==============================] - 18s 1ms/step - loss: 1.1523 - Accuracy: 0.4987 - precision: 0.6988 - recall: 0.2668 - val_loss: 1.1404 - val_Accuracy: 0.5036 - val_precision: 0.7121 - val_recall: 0.2666\n",
      "Epoch 42/100\n",
      "16344/16344 [==============================] - 104s 6ms/step - loss: 1.1518 - Accuracy: 0.4986 - precision: 0.6997 - recall: 0.2664 - val_loss: 1.1397 - val_Accuracy: 0.5034 - val_precision: 0.7158 - val_recall: 0.2670\n",
      "Epoch 43/100\n",
      "16344/16344 [==============================] - 19s 1ms/step - loss: 1.1518 - Accuracy: 0.4979 - precision: 0.7002 - recall: 0.2664 - val_loss: 1.1397 - val_Accuracy: 0.5032 - val_precision: 0.7082 - val_recall: 0.2716\n",
      "Epoch 44/100\n",
      "16344/16344 [==============================] - 19s 1ms/step - loss: 1.1517 - Accuracy: 0.4983 - precision: 0.7001 - recall: 0.2665 - val_loss: 1.1423 - val_Accuracy: 0.5013 - val_precision: 0.7051 - val_recall: 0.2764\n",
      "Epoch 45/100\n",
      "16344/16344 [==============================] - 20s 1ms/step - loss: 1.1517 - Accuracy: 0.4983 - precision: 0.6994 - recall: 0.2667 - val_loss: 1.1410 - val_Accuracy: 0.5023 - val_precision: 0.6940 - val_recall: 0.2855\n",
      "Epoch 46/100\n",
      "16344/16344 [==============================] - 20s 1ms/step - loss: 1.1510 - Accuracy: 0.4983 - precision: 0.7006 - recall: 0.2674 - val_loss: 1.1395 - val_Accuracy: 0.5028 - val_precision: 0.7060 - val_recall: 0.2719\n",
      "Epoch 47/100\n",
      "16344/16344 [==============================] - 19s 1ms/step - loss: 1.1512 - Accuracy: 0.4980 - precision: 0.6996 - recall: 0.2668 - val_loss: 1.1401 - val_Accuracy: 0.5002 - val_precision: 0.7003 - val_recall: 0.2819\n",
      "Epoch 48/100\n",
      "16344/16344 [==============================] - 38s 2ms/step - loss: 1.1511 - Accuracy: 0.4981 - precision: 0.6997 - recall: 0.2667 - val_loss: 1.1420 - val_Accuracy: 0.5005 - val_precision: 0.6948 - val_recall: 0.2858\n",
      "Epoch 49/100\n",
      "16344/16344 [==============================] - 23s 1ms/step - loss: 1.1510 - Accuracy: 0.4983 - precision: 0.6993 - recall: 0.2673 - val_loss: 1.1391 - val_Accuracy: 0.5037 - val_precision: 0.7122 - val_recall: 0.2681\n",
      "Epoch 50/100\n",
      "16344/16344 [==============================] - 20s 1ms/step - loss: 1.1514 - Accuracy: 0.4983 - precision: 0.7000 - recall: 0.2667 - val_loss: 1.1422 - val_Accuracy: 0.4982 - val_precision: 0.6994 - val_recall: 0.2809\n",
      "Epoch 51/100\n",
      "16344/16344 [==============================] - 19s 1ms/step - loss: 1.1512 - Accuracy: 0.4985 - precision: 0.7002 - recall: 0.2670 - val_loss: 1.1409 - val_Accuracy: 0.5016 - val_precision: 0.7031 - val_recall: 0.2791\n",
      "Epoch 52/100\n",
      "16344/16344 [==============================] - 20s 1ms/step - loss: 1.1511 - Accuracy: 0.4982 - precision: 0.7011 - recall: 0.2669 - val_loss: 1.1405 - val_Accuracy: 0.5019 - val_precision: 0.6974 - val_recall: 0.2845\n",
      "Epoch 53/100\n",
      "16344/16344 [==============================] - 20s 1ms/step - loss: 1.1508 - Accuracy: 0.4987 - precision: 0.6995 - recall: 0.2669 - val_loss: 1.1378 - val_Accuracy: 0.5018 - val_precision: 0.7002 - val_recall: 0.2813\n",
      "Epoch 54/100\n",
      "16344/16344 [==============================] - 19s 1ms/step - loss: 1.1514 - Accuracy: 0.4976 - precision: 0.6996 - recall: 0.2668 - val_loss: 1.1421 - val_Accuracy: 0.5018 - val_precision: 0.7068 - val_recall: 0.2687\n",
      "Epoch 55/100\n",
      "16344/16344 [==============================] - 31s 2ms/step - loss: 1.1508 - Accuracy: 0.4984 - precision: 0.7005 - recall: 0.2681 - val_loss: 1.1388 - val_Accuracy: 0.5031 - val_precision: 0.7116 - val_recall: 0.2695\n",
      "Epoch 56/100\n",
      "16344/16344 [==============================] - 21s 1ms/step - loss: 1.1505 - Accuracy: 0.4988 - precision: 0.7005 - recall: 0.2680 - val_loss: 1.1389 - val_Accuracy: 0.5030 - val_precision: 0.7146 - val_recall: 0.2675\n",
      "Epoch 57/100\n",
      "16344/16344 [==============================] - 19s 1ms/step - loss: 1.1504 - Accuracy: 0.4988 - precision: 0.6999 - recall: 0.2669 - val_loss: 1.1426 - val_Accuracy: 0.5015 - val_precision: 0.7160 - val_recall: 0.2639\n",
      "Epoch 58/100\n",
      "16344/16344 [==============================] - 19s 1ms/step - loss: 1.1501 - Accuracy: 0.4989 - precision: 0.7000 - recall: 0.2674 - val_loss: 1.1393 - val_Accuracy: 0.5022 - val_precision: 0.6972 - val_recall: 0.2831\n",
      "Epoch 59/100\n",
      "16344/16344 [==============================] - 19s 1ms/step - loss: 1.1509 - Accuracy: 0.4994 - precision: 0.6994 - recall: 0.2679 - val_loss: 1.1406 - val_Accuracy: 0.5009 - val_precision: 0.7065 - val_recall: 0.2733\n",
      "Epoch 60/100\n",
      "16344/16344 [==============================] - 18s 1ms/step - loss: 1.1504 - Accuracy: 0.4983 - precision: 0.6998 - recall: 0.2676 - val_loss: 1.1422 - val_Accuracy: 0.5021 - val_precision: 0.6906 - val_recall: 0.2891\n",
      "Epoch 61/100\n",
      "16344/16344 [==============================] - 19s 1ms/step - loss: 1.1501 - Accuracy: 0.4990 - precision: 0.7002 - recall: 0.2687 - val_loss: 1.1415 - val_Accuracy: 0.4987 - val_precision: 0.6981 - val_recall: 0.2788\n",
      "Epoch 62/100\n",
      "16344/16344 [==============================] - 63s 4ms/step - loss: 1.1505 - Accuracy: 0.4985 - precision: 0.7004 - recall: 0.2680 - val_loss: 1.1407 - val_Accuracy: 0.5014 - val_precision: 0.7017 - val_recall: 0.2791\n",
      "Epoch 63/100\n",
      "16344/16344 [==============================] - 20s 1ms/step - loss: 1.1502 - Accuracy: 0.4991 - precision: 0.6998 - recall: 0.2674 - val_loss: 1.1404 - val_Accuracy: 0.5010 - val_precision: 0.6814 - val_recall: 0.2993\n",
      "Epoch 64/100\n",
      "16344/16344 [==============================] - 19s 1ms/step - loss: 1.1504 - Accuracy: 0.4985 - precision: 0.7001 - recall: 0.2678 - val_loss: 1.1395 - val_Accuracy: 0.5028 - val_precision: 0.7012 - val_recall: 0.2803\n",
      "Epoch 65/100\n",
      "16344/16344 [==============================] - 19s 1ms/step - loss: 1.1504 - Accuracy: 0.4996 - precision: 0.7001 - recall: 0.2679 - val_loss: 1.1416 - val_Accuracy: 0.5037 - val_precision: 0.7232 - val_recall: 0.2557\n",
      "Epoch 66/100\n",
      "16344/16344 [==============================] - 19s 1ms/step - loss: 1.1503 - Accuracy: 0.4988 - precision: 0.7000 - recall: 0.2686 - val_loss: 1.1377 - val_Accuracy: 0.5028 - val_precision: 0.7134 - val_recall: 0.2686\n",
      "Epoch 67/100\n",
      "16344/16344 [==============================] - 19s 1ms/step - loss: 1.1499 - Accuracy: 0.4993 - precision: 0.7010 - recall: 0.2678 - val_loss: 1.1397 - val_Accuracy: 0.5027 - val_precision: 0.6956 - val_recall: 0.2877\n",
      "Epoch 68/100\n",
      "16344/16344 [==============================] - 19s 1ms/step - loss: 1.1497 - Accuracy: 0.4988 - precision: 0.7003 - recall: 0.2687 - val_loss: 1.1387 - val_Accuracy: 0.5035 - val_precision: 0.7134 - val_recall: 0.2674\n",
      "Epoch 69/100\n",
      "16344/16344 [==============================] - 34s 2ms/step - loss: 1.1489 - Accuracy: 0.4994 - precision: 0.7004 - recall: 0.2686 - val_loss: 1.1410 - val_Accuracy: 0.5026 - val_precision: 0.7085 - val_recall: 0.2688\n",
      "Epoch 70/100\n",
      "16344/16344 [==============================] - 20s 1ms/step - loss: 1.1495 - Accuracy: 0.4989 - precision: 0.7002 - recall: 0.2680 - val_loss: 1.1414 - val_Accuracy: 0.5029 - val_precision: 0.7069 - val_recall: 0.2750\n",
      "Epoch 71/100\n",
      "16344/16344 [==============================] - 19s 1ms/step - loss: 1.1499 - Accuracy: 0.4986 - precision: 0.7008 - recall: 0.2673 - val_loss: 1.1414 - val_Accuracy: 0.5027 - val_precision: 0.7066 - val_recall: 0.2748\n",
      "Epoch 72/100\n",
      "16344/16344 [==============================] - 19s 1ms/step - loss: 1.1494 - Accuracy: 0.4992 - precision: 0.7002 - recall: 0.2686 - val_loss: 1.1392 - val_Accuracy: 0.5036 - val_precision: 0.7054 - val_recall: 0.2760\n",
      "Epoch 73/100\n",
      "16344/16344 [==============================] - 19s 1ms/step - loss: 1.1496 - Accuracy: 0.4989 - precision: 0.7006 - recall: 0.2684 - val_loss: 1.1399 - val_Accuracy: 0.5026 - val_precision: 0.7053 - val_recall: 0.2754\n",
      "Epoch 74/100\n",
      "16344/16344 [==============================] - 19s 1ms/step - loss: 1.1492 - Accuracy: 0.4998 - precision: 0.6998 - recall: 0.2686 - val_loss: 1.1384 - val_Accuracy: 0.5042 - val_precision: 0.7083 - val_recall: 0.2733\n",
      "Epoch 75/100\n",
      "16344/16344 [==============================] - 18s 1ms/step - loss: 1.1491 - Accuracy: 0.4996 - precision: 0.7010 - recall: 0.2685 - val_loss: 1.1401 - val_Accuracy: 0.5010 - val_precision: 0.7052 - val_recall: 0.2753\n",
      "Epoch 76/100\n",
      "16344/16344 [==============================] - 43s 3ms/step - loss: 1.1491 - Accuracy: 0.4993 - precision: 0.7006 - recall: 0.2685 - val_loss: 1.1386 - val_Accuracy: 0.5011 - val_precision: 0.7029 - val_recall: 0.2787\n",
      "Epoch 77/100\n",
      "16344/16344 [==============================] - 19s 1ms/step - loss: 1.1493 - Accuracy: 0.5000 - precision: 0.6998 - recall: 0.2687 - val_loss: 1.1390 - val_Accuracy: 0.5018 - val_precision: 0.6957 - val_recall: 0.2853\n",
      "Epoch 78/100\n",
      "16344/16344 [==============================] - 19s 1ms/step - loss: 1.1492 - Accuracy: 0.4988 - precision: 0.6999 - recall: 0.2687 - val_loss: 1.1417 - val_Accuracy: 0.5029 - val_precision: 0.7131 - val_recall: 0.2637\n",
      "Epoch 79/100\n",
      "16344/16344 [==============================] - 19s 1ms/step - loss: 1.1491 - Accuracy: 0.4986 - precision: 0.7008 - recall: 0.2685 - val_loss: 1.1399 - val_Accuracy: 0.5040 - val_precision: 0.7154 - val_recall: 0.2652\n",
      "Epoch 80/100\n",
      "16344/16344 [==============================] - 19s 1ms/step - loss: 1.1491 - Accuracy: 0.4993 - precision: 0.7006 - recall: 0.2696 - val_loss: 1.1401 - val_Accuracy: 0.5016 - val_precision: 0.6844 - val_recall: 0.2955\n",
      "Epoch 81/100\n",
      "16344/16344 [==============================] - 19s 1ms/step - loss: 1.1488 - Accuracy: 0.4996 - precision: 0.7006 - recall: 0.2695 - val_loss: 1.1394 - val_Accuracy: 0.5017 - val_precision: 0.7108 - val_recall: 0.2709\n",
      "Epoch 82/100\n",
      "16344/16344 [==============================] - 18s 1ms/step - loss: 1.1491 - Accuracy: 0.4992 - precision: 0.7009 - recall: 0.2687 - val_loss: 1.1403 - val_Accuracy: 0.5020 - val_precision: 0.7095 - val_recall: 0.2732\n",
      "Epoch 83/100\n",
      "16344/16344 [==============================] - 33s 2ms/step - loss: 1.1492 - Accuracy: 0.4993 - precision: 0.7011 - recall: 0.2688 - val_loss: 1.1385 - val_Accuracy: 0.5033 - val_precision: 0.7125 - val_recall: 0.2696\n",
      "Epoch 84/100\n",
      "16344/16344 [==============================] - 19s 1ms/step - loss: 1.1488 - Accuracy: 0.4991 - precision: 0.7010 - recall: 0.2692 - val_loss: 1.1398 - val_Accuracy: 0.5052 - val_precision: 0.7136 - val_recall: 0.2689\n",
      "Epoch 85/100\n",
      "16344/16344 [==============================] - 19s 1ms/step - loss: 1.1484 - Accuracy: 0.5001 - precision: 0.7008 - recall: 0.2700 - val_loss: 1.1397 - val_Accuracy: 0.5039 - val_precision: 0.7078 - val_recall: 0.2717\n",
      "Epoch 86/100\n",
      "16344/16344 [==============================] - 19s 1ms/step - loss: 1.1494 - Accuracy: 0.4993 - precision: 0.7012 - recall: 0.2684 - val_loss: 1.1390 - val_Accuracy: 0.5030 - val_precision: 0.7033 - val_recall: 0.2812\n"
     ]
    }
   ],
   "source": [
    "es = EarlyStopping(patience=20, restore_best_weights=True)\n",
    "\n",
    "history = model.fit(X_train, y_train_cat, \n",
    "          epochs=100, batch_size=32, verbose=1,\n",
    "          callbacks=[es], validation_data=(X_val, y_val_cat))\n"
   ]
  },
  {
   "cell_type": "code",
   "execution_count": 318,
   "metadata": {},
   "outputs": [
    {
     "data": {
      "text/plain": [
       "dict_keys(['loss', 'Accuracy', 'precision', 'recall', 'val_loss', 'val_Accuracy', 'val_precision', 'val_recall'])"
      ]
     },
     "execution_count": 318,
     "metadata": {},
     "output_type": "execute_result"
    }
   ],
   "source": [
    "history.history.keys()"
   ]
  },
  {
   "cell_type": "code",
   "execution_count": 319,
   "metadata": {},
   "outputs": [],
   "source": [
    "def plot_history(history):\n",
    "    plt.plot(history.history['Accuracy'])\n",
    "    plt.plot(history.history['val_Accuracy'])\n",
    "    plt.title('Model Loss')\n",
    "    plt.ylabel('Accuracy')\n",
    "    plt.xlabel('Epoch')\n",
    "    # plt.ylim(0, .4)\n",
    "    plt.legend(['Train', 'Val'], loc='best')\n",
    "    plt.show()"
   ]
  },
  {
   "cell_type": "code",
   "execution_count": 320,
   "metadata": {},
   "outputs": [
    {
     "data": {
      "image/png": "[encoded data removed]",
      "text/plain": [
       "<Figure size 640x480 with 1 Axes>"
      ]
     },
     "metadata": {},
     "output_type": "display_data"
    }
   ],
   "source": [
    "plot_history(history)"
   ]
  },
  {
   "cell_type": "code",
   "execution_count": 321,
   "metadata": {},
   "outputs": [
    {
     "name": "stdout",
     "output_type": "stream",
     "text": [
      "3503/3503 [==============================] - 6s 2ms/step - loss: 1.1344 - Accuracy: 0.5046 - precision: 0.7114 - recall: 0.2710\n"
     ]
    },
    {
     "data": {
      "text/plain": [
       "[1.1343718767166138, 0.5046176314353943, 0.711438000202179, 0.2710067629814148]"
      ]
     },
     "execution_count": 321,
     "metadata": {},
     "output_type": "execute_result"
    }
   ],
   "source": [
    "results_test = model.evaluate(X_test, y_test_cat)\n",
    "results_test"
   ]
  },
  {
   "cell_type": "code",
   "execution_count": null,
   "metadata": {},
   "outputs": [],
   "source": []
  }
 ],
 "metadata": {
  "kernelspec": {
   "display_name": "Python 3.10.6 64-bit ('earthquake_env')",
   "language": "python",
   "name": "python3"
  },
  "language_info": {
   "codemirror_mode": {
    "name": "ipython",
    "version": 3
   },
   "file_extension": ".py",
   "mimetype": "text/x-python",
   "name": "python",
   "nbconvert_exporter": "python",
   "pygments_lexer": "ipython3",
   "version": "3.10.6"
  },
  "orig_nbformat": 4,
  "vscode": {
   "interpreter": {
    "hash": "2f9be42f8ee9d683210b4f105245095b23f8a50188902d8867e978f6bd462757"
   }
  }
 },
 "nbformat": 4,
 "nbformat_minor": 2
}
