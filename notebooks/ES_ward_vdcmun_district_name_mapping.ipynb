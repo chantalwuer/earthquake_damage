{
 "cells": [
  {
   "cell_type": "code",
   "execution_count": null,
   "metadata": {},
   "outputs": [],
   "source": []
  }
 ],
 "metadata": {
  "kernelspec": {
   "display_name": "Python 3.10.6 64-bit ('shims')",
   "language": "python",
   "name": "python3"
  },
  "language_info": {
   "name": "python",
   "version": "3.10.6"
  },
  "orig_nbformat": 4,
  "vscode": {
   "interpreter": {
    "hash": "1aa8cbb2b8d44cb8cee1113a5983919b9ad0edee5776bf5ef1f04536bf38c499"
   }
  }
 },
 "nbformat": 4,
 "nbformat_minor": 2
}
