{
 "cells": [
  {
   "cell_type": "markdown",
   "metadata": {},
   "source": [
    "# Merging Tables onto Train Data"
   ]
  },
  {
   "cell_type": "markdown",
   "metadata": {},
   "source": [
    "## Import Packages and Data"
   ]
  },
  {
   "cell_type": "code",
   "execution_count": 1,
   "metadata": {},
   "outputs": [],
   "source": [
    "%load_ext autoreload\n",
    "%autoreload 2"
   ]
  },
  {
   "cell_type": "code",
   "execution_count": 24,
   "metadata": {},
   "outputs": [],
   "source": [
    "import pandas as pd\n",
    "import numpy as np"
   ]
  },
  {
   "cell_type": "code",
   "execution_count": 5,
   "metadata": {},
   "outputs": [],
   "source": [
    "train_values = pd.read_csv('/Users/chantalwuerschinger/code/chantalwuer/earthquake_damage/raw_data/challenge_data/train_values.csv')\n",
    "train_labels = pd.read_csv('/Users/chantalwuerschinger/code/chantalwuer/earthquake_damage/raw_data/challenge_data/train_labels.csv')\n",
    "test_values = pd.read_csv('/Users/chantalwuerschinger/code/chantalwuer/earthquake_damage/raw_data/challenge_data/test_values.csv')"
   ]
  },
  {
   "cell_type": "code",
   "execution_count": 6,
   "metadata": {},
   "outputs": [],
   "source": [
    "# household_dem = pd.read_csv('/Users/chantalwuerschinger/code/chantalwuer/earthquake_damage/raw_data/household/csv_household_demographics.csv')\n",
    "b_structure = pd.read_csv('/Users/chantalwuerschinger/code/chantalwuer/earthquake_damage/raw_data/building/csv_building_structure.csv')\n",
    "b_damage_assessment = pd.read_csv('/Users/chantalwuerschinger/code/chantalwuer/earthquake_damage/raw_data/building/csv_building_damage_assessment.csv', low_memory=False)\n",
    "b_owner_use = pd.read_csv('/Users/chantalwuerschinger/code/chantalwuer/earthquake_damage/raw_data/building/csv_building_ownership_and_use.csv')"
   ]
  },
  {
   "cell_type": "markdown",
   "metadata": {},
   "source": [
    "## Drop Unrelated Info from DataFrames"
   ]
  },
  {
   "cell_type": "markdown",
   "metadata": {},
   "source": [
    "### Building Structure"
   ]
  },
  {
   "cell_type": "code",
   "execution_count": 7,
   "metadata": {},
   "outputs": [
    {
     "data": {
      "text/plain": [
       "Index(['building_id', 'district_id', 'vdcmun_id', 'ward_id',\n",
       "       'count_floors_pre_eq', 'count_floors_post_eq', 'age_building',\n",
       "       'plinth_area_sq_ft', 'height_ft_pre_eq', 'height_ft_post_eq',\n",
       "       'land_surface_condition', 'foundation_type', 'roof_type',\n",
       "       'ground_floor_type', 'other_floor_type', 'position',\n",
       "       'plan_configuration', 'has_superstructure_adobe_mud',\n",
       "       'has_superstructure_mud_mortar_stone', 'has_superstructure_stone_flag',\n",
       "       'has_superstructure_cement_mortar_stone',\n",
       "       'has_superstructure_mud_mortar_brick',\n",
       "       'has_superstructure_cement_mortar_brick', 'has_superstructure_timber',\n",
       "       'has_superstructure_bamboo', 'has_superstructure_rc_non_engineered',\n",
       "       'has_superstructure_rc_engineered', 'has_superstructure_other',\n",
       "       'condition_post_eq', 'damage_grade', 'technical_solution_proposed'],\n",
       "      dtype='object')"
      ]
     },
     "execution_count": 7,
     "metadata": {},
     "output_type": "execute_result"
    }
   ],
   "source": [
    "b_structure.columns"
   ]
  },
  {
   "cell_type": "code",
   "execution_count": 8,
   "metadata": {},
   "outputs": [],
   "source": [
    "b_str_keep = ['building_id', 'district_id', 'vdcmun_id', 'ward_id',\n",
    "       'count_floors_pre_eq', 'age_building',\n",
    "       'land_surface_condition', 'foundation_type', 'roof_type',\n",
    "       'ground_floor_type', 'other_floor_type', 'position',\n",
    "       'plan_configuration', 'has_superstructure_adobe_mud',\n",
    "       'has_superstructure_mud_mortar_stone', 'has_superstructure_stone_flag',\n",
    "       'has_superstructure_cement_mortar_stone',\n",
    "       'has_superstructure_mud_mortar_brick',\n",
    "       'has_superstructure_cement_mortar_brick', 'has_superstructure_timber',\n",
    "       'has_superstructure_bamboo', 'has_superstructure_rc_non_engineered',\n",
    "       'has_superstructure_rc_engineered', 'has_superstructure_other', 'damage_grade']"
   ]
  },
  {
   "cell_type": "code",
   "execution_count": 9,
   "metadata": {},
   "outputs": [
    {
     "data": {
      "text/plain": [
       "['count_floors_post_eq',\n",
       " 'plinth_area_sq_ft',\n",
       " 'height_ft_pre_eq',\n",
       " 'height_ft_post_eq',\n",
       " 'condition_post_eq',\n",
       " 'technical_solution_proposed']"
      ]
     },
     "execution_count": 9,
     "metadata": {},
     "output_type": "execute_result"
    }
   ],
   "source": [
    "drop = []\n",
    "for i in b_structure.columns:\n",
    "    if i not in b_str_keep:\n",
    "        drop.append(i)\n",
    "        \n",
    "drop"
   ]
  },
  {
   "cell_type": "code",
   "execution_count": 10,
   "metadata": {},
   "outputs": [],
   "source": [
    "b_structure = b_structure.drop(drop, axis=1)"
   ]
  },
  {
   "cell_type": "markdown",
   "metadata": {},
   "source": [
    "### Building Damage Assessment --> NOT NEEDED"
   ]
  },
  {
   "cell_type": "code",
   "execution_count": 11,
   "metadata": {},
   "outputs": [
    {
     "data": {
      "text/plain": [
       "Index(['building_id', 'district_id', 'vdcmun_id', 'ward_id',\n",
       "       'damage_overall_collapse', 'damage_overall_leaning',\n",
       "       'damage_overall_adjacent_building_risk', 'damage_foundation_severe',\n",
       "       'damage_foundation_moderate', 'damage_foundation_insignificant',\n",
       "       'damage_roof_severe', 'damage_roof_moderate',\n",
       "       'damage_roof_insignificant', 'damage_corner_separation_severe',\n",
       "       'damage_corner_separation_moderate',\n",
       "       'damage_corner_separation_insignificant',\n",
       "       'damage_diagonal_cracking_severe', 'damage_diagonal_cracking_moderate',\n",
       "       'damage_diagonal_cracking_insignificant',\n",
       "       'damage_in_plane_failure_severe', 'damage_in_plane_failure_moderate',\n",
       "       'damage_in_plane_failure_insignificant',\n",
       "       'damage_out_of_plane_failure_severe',\n",
       "       'damage_out_of_plane_failure_moderate',\n",
       "       'damage_out_of_plane_failure_insignificant',\n",
       "       'damage_out_of_plane_failure_walls_ncfr_severe',\n",
       "       'damage_out_of_plane_failure_walls_ncfr_moderate',\n",
       "       'damage_out_of_plane_failure_walls_ncfr_insignificant',\n",
       "       'damage_gable_failure_severe', 'damage_gable_failure_moderate',\n",
       "       'damage_gable_failure_insignificant',\n",
       "       'damage_delamination_failure_severe',\n",
       "       'damage_delamination_failure_moderate',\n",
       "       'damage_delamination_failure_insignificant',\n",
       "       'damage_column_failure_severe', 'damage_column_failure_moderate',\n",
       "       'damage_column_failure_insignificant', 'damage_beam_failure_severe',\n",
       "       'damage_beam_failure_moderate', 'damage_beam_failure_insignificant',\n",
       "       'damage_infill_partition_failure_severe',\n",
       "       'damage_infill_partition_failure_moderate',\n",
       "       'damage_infill_partition_failure_insignificant',\n",
       "       'damage_staircase_severe', 'damage_staircase_moderate',\n",
       "       'damage_staircase_insignificant', 'damage_parapet_severe',\n",
       "       'damage_parapet_moderate', 'damage_parapet_insignificant',\n",
       "       'damage_cladding_glazing_severe', 'damage_cladding_glazing_moderate',\n",
       "       'damage_cladding_glazing_insignificant', 'area_assesed', 'damage_grade',\n",
       "       'technical_solution_proposed', 'has_repair_started',\n",
       "       'has_damage_foundation', 'has_damage_roof',\n",
       "       'has_damage_corner_separation', 'has_damage_diagonal_cracking',\n",
       "       'has_damage_in_plane_failure', 'has_damage_out_of_plane_failure',\n",
       "       'has_damage_out_of_plane_walls_ncfr_failure',\n",
       "       'has_damage_gable_failure', 'has_damage_delamination_failure',\n",
       "       'has_damage_column_failure', 'has_damage_beam_failure',\n",
       "       'has_damage_infill_partition_failure', 'has_damage_staircase',\n",
       "       'has_damage_parapet', 'has_damage_cladding_glazing',\n",
       "       'has_geotechnical_risk', 'has_geotechnical_risk_land_settlement',\n",
       "       'has_geotechnical_risk_fault_crack',\n",
       "       'has_geotechnical_risk_liquefaction', 'has_geotechnical_risk_landslide',\n",
       "       'has_geotechnical_risk_rock_fall', 'has_geotechnical_risk_flood',\n",
       "       'has_geotechnical_risk_other'],\n",
       "      dtype='object')"
      ]
     },
     "execution_count": 11,
     "metadata": {},
     "output_type": "execute_result"
    }
   ],
   "source": [
    "b_damage_assessment.columns"
   ]
  },
  {
   "cell_type": "code",
   "execution_count": 12,
   "metadata": {},
   "outputs": [],
   "source": [
    "b_dam_keep = ['building_id',\n",
    "        'damage_grade']"
   ]
  },
  {
   "cell_type": "code",
   "execution_count": 13,
   "metadata": {},
   "outputs": [
    {
     "data": {
      "text/plain": [
       "['district_id',\n",
       " 'vdcmun_id',\n",
       " 'ward_id',\n",
       " 'damage_overall_collapse',\n",
       " 'damage_overall_leaning',\n",
       " 'damage_overall_adjacent_building_risk',\n",
       " 'damage_foundation_severe',\n",
       " 'damage_foundation_moderate',\n",
       " 'damage_foundation_insignificant',\n",
       " 'damage_roof_severe',\n",
       " 'damage_roof_moderate',\n",
       " 'damage_roof_insignificant',\n",
       " 'damage_corner_separation_severe',\n",
       " 'damage_corner_separation_moderate',\n",
       " 'damage_corner_separation_insignificant',\n",
       " 'damage_diagonal_cracking_severe',\n",
       " 'damage_diagonal_cracking_moderate',\n",
       " 'damage_diagonal_cracking_insignificant',\n",
       " 'damage_in_plane_failure_severe',\n",
       " 'damage_in_plane_failure_moderate',\n",
       " 'damage_in_plane_failure_insignificant',\n",
       " 'damage_out_of_plane_failure_severe',\n",
       " 'damage_out_of_plane_failure_moderate',\n",
       " 'damage_out_of_plane_failure_insignificant',\n",
       " 'damage_out_of_plane_failure_walls_ncfr_severe',\n",
       " 'damage_out_of_plane_failure_walls_ncfr_moderate',\n",
       " 'damage_out_of_plane_failure_walls_ncfr_insignificant',\n",
       " 'damage_gable_failure_severe',\n",
       " 'damage_gable_failure_moderate',\n",
       " 'damage_gable_failure_insignificant',\n",
       " 'damage_delamination_failure_severe',\n",
       " 'damage_delamination_failure_moderate',\n",
       " 'damage_delamination_failure_insignificant',\n",
       " 'damage_column_failure_severe',\n",
       " 'damage_column_failure_moderate',\n",
       " 'damage_column_failure_insignificant',\n",
       " 'damage_beam_failure_severe',\n",
       " 'damage_beam_failure_moderate',\n",
       " 'damage_beam_failure_insignificant',\n",
       " 'damage_infill_partition_failure_severe',\n",
       " 'damage_infill_partition_failure_moderate',\n",
       " 'damage_infill_partition_failure_insignificant',\n",
       " 'damage_staircase_severe',\n",
       " 'damage_staircase_moderate',\n",
       " 'damage_staircase_insignificant',\n",
       " 'damage_parapet_severe',\n",
       " 'damage_parapet_moderate',\n",
       " 'damage_parapet_insignificant',\n",
       " 'damage_cladding_glazing_severe',\n",
       " 'damage_cladding_glazing_moderate',\n",
       " 'damage_cladding_glazing_insignificant',\n",
       " 'area_assesed',\n",
       " 'technical_solution_proposed',\n",
       " 'has_repair_started',\n",
       " 'has_damage_foundation',\n",
       " 'has_damage_roof',\n",
       " 'has_damage_corner_separation',\n",
       " 'has_damage_diagonal_cracking',\n",
       " 'has_damage_in_plane_failure',\n",
       " 'has_damage_out_of_plane_failure',\n",
       " 'has_damage_out_of_plane_walls_ncfr_failure',\n",
       " 'has_damage_gable_failure',\n",
       " 'has_damage_delamination_failure',\n",
       " 'has_damage_column_failure',\n",
       " 'has_damage_beam_failure',\n",
       " 'has_damage_infill_partition_failure',\n",
       " 'has_damage_staircase',\n",
       " 'has_damage_parapet',\n",
       " 'has_damage_cladding_glazing',\n",
       " 'has_geotechnical_risk',\n",
       " 'has_geotechnical_risk_land_settlement',\n",
       " 'has_geotechnical_risk_fault_crack',\n",
       " 'has_geotechnical_risk_liquefaction',\n",
       " 'has_geotechnical_risk_landslide',\n",
       " 'has_geotechnical_risk_rock_fall',\n",
       " 'has_geotechnical_risk_flood',\n",
       " 'has_geotechnical_risk_other']"
      ]
     },
     "execution_count": 13,
     "metadata": {},
     "output_type": "execute_result"
    }
   ],
   "source": [
    "b_dam_drop = []\n",
    "for i in b_damage_assessment.columns:\n",
    "    if i not in b_dam_keep:\n",
    "        b_dam_drop.append(i)\n",
    "        \n",
    "b_dam_drop"
   ]
  },
  {
   "cell_type": "code",
   "execution_count": 14,
   "metadata": {},
   "outputs": [],
   "source": [
    "b_damage_assessment = b_damage_assessment.drop(b_dam_drop, axis=1)"
   ]
  },
  {
   "cell_type": "markdown",
   "metadata": {},
   "source": [
    "### Building Ownership and Use"
   ]
  },
  {
   "cell_type": "code",
   "execution_count": 15,
   "metadata": {},
   "outputs": [
    {
     "data": {
      "text/plain": [
       "Index(['building_id', 'district_id', 'vdcmun_id', 'ward_id',\n",
       "       'legal_ownership_status', 'count_families', 'has_secondary_use',\n",
       "       'has_secondary_use_agriculture', 'has_secondary_use_hotel',\n",
       "       'has_secondary_use_rental', 'has_secondary_use_institution',\n",
       "       'has_secondary_use_school', 'has_secondary_use_industry',\n",
       "       'has_secondary_use_health_post', 'has_secondary_use_gov_office',\n",
       "       'has_secondary_use_use_police', 'has_secondary_use_other'],\n",
       "      dtype='object')"
      ]
     },
     "execution_count": 15,
     "metadata": {},
     "output_type": "execute_result"
    }
   ],
   "source": [
    "b_owner_use.columns"
   ]
  },
  {
   "cell_type": "markdown",
   "metadata": {},
   "source": [
    "Here we are keeping all columns"
   ]
  },
  {
   "cell_type": "code",
   "execution_count": 16,
   "metadata": {},
   "outputs": [],
   "source": [
    "b_owner_keep = ['building_id',\n",
    "       'legal_ownership_status', 'count_families', 'has_secondary_use',\n",
    "       'has_secondary_use_agriculture', 'has_secondary_use_hotel',\n",
    "       'has_secondary_use_rental', 'has_secondary_use_institution',\n",
    "       'has_secondary_use_school', 'has_secondary_use_industry',\n",
    "       'has_secondary_use_health_post', 'has_secondary_use_gov_office',\n",
    "       'has_secondary_use_use_police', 'has_secondary_use_other']"
   ]
  },
  {
   "cell_type": "code",
   "execution_count": 17,
   "metadata": {},
   "outputs": [
    {
     "data": {
      "text/plain": [
       "['district_id', 'vdcmun_id', 'ward_id']"
      ]
     },
     "execution_count": 17,
     "metadata": {},
     "output_type": "execute_result"
    }
   ],
   "source": [
    "b_owner_drop = []\n",
    "for i in b_owner_use.columns:\n",
    "    if i not in b_owner_keep:\n",
    "        b_owner_drop.append(i)\n",
    "        \n",
    "b_owner_drop"
   ]
  },
  {
   "cell_type": "code",
   "execution_count": 18,
   "metadata": {},
   "outputs": [],
   "source": [
    "b_owner_use = b_owner_use.drop(b_owner_drop, axis=1)"
   ]
  },
  {
   "cell_type": "markdown",
   "metadata": {},
   "source": [
    "## Merging Tables"
   ]
  },
  {
   "cell_type": "code",
   "execution_count": 19,
   "metadata": {},
   "outputs": [
    {
     "data": {
      "text/html": [
       "<div>\n",
       "<style scoped>\n",
       "    .dataframe tbody tr th:only-of-type {\n",
       "        vertical-align: middle;\n",
       "    }\n",
       "\n",
       "    .dataframe tbody tr th {\n",
       "        vertical-align: top;\n",
       "    }\n",
       "\n",
       "    .dataframe thead th {\n",
       "        text-align: right;\n",
       "    }\n",
       "</style>\n",
       "<table border=\"1\" class=\"dataframe\">\n",
       "  <thead>\n",
       "    <tr style=\"text-align: right;\">\n",
       "      <th></th>\n",
       "      <th>building_id</th>\n",
       "      <th>district_id</th>\n",
       "      <th>vdcmun_id</th>\n",
       "      <th>ward_id</th>\n",
       "      <th>count_floors_pre_eq</th>\n",
       "      <th>age_building</th>\n",
       "      <th>land_surface_condition</th>\n",
       "      <th>foundation_type</th>\n",
       "      <th>roof_type</th>\n",
       "      <th>ground_floor_type</th>\n",
       "      <th>...</th>\n",
       "      <th>has_secondary_use_agriculture</th>\n",
       "      <th>has_secondary_use_hotel</th>\n",
       "      <th>has_secondary_use_rental</th>\n",
       "      <th>has_secondary_use_institution</th>\n",
       "      <th>has_secondary_use_school</th>\n",
       "      <th>has_secondary_use_industry</th>\n",
       "      <th>has_secondary_use_health_post</th>\n",
       "      <th>has_secondary_use_gov_office</th>\n",
       "      <th>has_secondary_use_use_police</th>\n",
       "      <th>has_secondary_use_other</th>\n",
       "    </tr>\n",
       "  </thead>\n",
       "  <tbody>\n",
       "    <tr>\n",
       "      <th>0</th>\n",
       "      <td>120101000011</td>\n",
       "      <td>12</td>\n",
       "      <td>1207</td>\n",
       "      <td>120703</td>\n",
       "      <td>1</td>\n",
       "      <td>9</td>\n",
       "      <td>Flat</td>\n",
       "      <td>Other</td>\n",
       "      <td>Bamboo/Timber-Light roof</td>\n",
       "      <td>Mud</td>\n",
       "      <td>...</td>\n",
       "      <td>0</td>\n",
       "      <td>0</td>\n",
       "      <td>0</td>\n",
       "      <td>0</td>\n",
       "      <td>0</td>\n",
       "      <td>0</td>\n",
       "      <td>0</td>\n",
       "      <td>0</td>\n",
       "      <td>0</td>\n",
       "      <td>0</td>\n",
       "    </tr>\n",
       "    <tr>\n",
       "      <th>1</th>\n",
       "      <td>120101000021</td>\n",
       "      <td>12</td>\n",
       "      <td>1207</td>\n",
       "      <td>120703</td>\n",
       "      <td>1</td>\n",
       "      <td>15</td>\n",
       "      <td>Flat</td>\n",
       "      <td>Other</td>\n",
       "      <td>Bamboo/Timber-Light roof</td>\n",
       "      <td>Mud</td>\n",
       "      <td>...</td>\n",
       "      <td>0</td>\n",
       "      <td>0</td>\n",
       "      <td>0</td>\n",
       "      <td>0</td>\n",
       "      <td>0</td>\n",
       "      <td>0</td>\n",
       "      <td>0</td>\n",
       "      <td>0</td>\n",
       "      <td>0</td>\n",
       "      <td>0</td>\n",
       "    </tr>\n",
       "    <tr>\n",
       "      <th>2</th>\n",
       "      <td>120101000031</td>\n",
       "      <td>12</td>\n",
       "      <td>1207</td>\n",
       "      <td>120703</td>\n",
       "      <td>1</td>\n",
       "      <td>20</td>\n",
       "      <td>Flat</td>\n",
       "      <td>Other</td>\n",
       "      <td>Bamboo/Timber-Light roof</td>\n",
       "      <td>Mud</td>\n",
       "      <td>...</td>\n",
       "      <td>0</td>\n",
       "      <td>0</td>\n",
       "      <td>0</td>\n",
       "      <td>0</td>\n",
       "      <td>0</td>\n",
       "      <td>0</td>\n",
       "      <td>0</td>\n",
       "      <td>0</td>\n",
       "      <td>0</td>\n",
       "      <td>0</td>\n",
       "    </tr>\n",
       "    <tr>\n",
       "      <th>3</th>\n",
       "      <td>120101000041</td>\n",
       "      <td>12</td>\n",
       "      <td>1207</td>\n",
       "      <td>120703</td>\n",
       "      <td>1</td>\n",
       "      <td>20</td>\n",
       "      <td>Flat</td>\n",
       "      <td>Other</td>\n",
       "      <td>Bamboo/Timber-Light roof</td>\n",
       "      <td>Mud</td>\n",
       "      <td>...</td>\n",
       "      <td>0</td>\n",
       "      <td>0</td>\n",
       "      <td>0</td>\n",
       "      <td>0</td>\n",
       "      <td>0</td>\n",
       "      <td>0</td>\n",
       "      <td>0</td>\n",
       "      <td>0</td>\n",
       "      <td>0</td>\n",
       "      <td>0</td>\n",
       "    </tr>\n",
       "    <tr>\n",
       "      <th>4</th>\n",
       "      <td>120101000051</td>\n",
       "      <td>12</td>\n",
       "      <td>1207</td>\n",
       "      <td>120703</td>\n",
       "      <td>1</td>\n",
       "      <td>30</td>\n",
       "      <td>Flat</td>\n",
       "      <td>Other</td>\n",
       "      <td>Bamboo/Timber-Light roof</td>\n",
       "      <td>Mud</td>\n",
       "      <td>...</td>\n",
       "      <td>0</td>\n",
       "      <td>0</td>\n",
       "      <td>0</td>\n",
       "      <td>0</td>\n",
       "      <td>0</td>\n",
       "      <td>0</td>\n",
       "      <td>0</td>\n",
       "      <td>0</td>\n",
       "      <td>0</td>\n",
       "      <td>0</td>\n",
       "    </tr>\n",
       "  </tbody>\n",
       "</table>\n",
       "<p>5 rows × 38 columns</p>\n",
       "</div>"
      ],
      "text/plain": [
       "    building_id  district_id  vdcmun_id  ward_id  count_floors_pre_eq  \\\n",
       "0  120101000011           12       1207   120703                    1   \n",
       "1  120101000021           12       1207   120703                    1   \n",
       "2  120101000031           12       1207   120703                    1   \n",
       "3  120101000041           12       1207   120703                    1   \n",
       "4  120101000051           12       1207   120703                    1   \n",
       "\n",
       "   age_building land_surface_condition foundation_type  \\\n",
       "0             9                   Flat           Other   \n",
       "1            15                   Flat           Other   \n",
       "2            20                   Flat           Other   \n",
       "3            20                   Flat           Other   \n",
       "4            30                   Flat           Other   \n",
       "\n",
       "                  roof_type ground_floor_type  ...  \\\n",
       "0  Bamboo/Timber-Light roof               Mud  ...   \n",
       "1  Bamboo/Timber-Light roof               Mud  ...   \n",
       "2  Bamboo/Timber-Light roof               Mud  ...   \n",
       "3  Bamboo/Timber-Light roof               Mud  ...   \n",
       "4  Bamboo/Timber-Light roof               Mud  ...   \n",
       "\n",
       "  has_secondary_use_agriculture has_secondary_use_hotel  \\\n",
       "0                             0                       0   \n",
       "1                             0                       0   \n",
       "2                             0                       0   \n",
       "3                             0                       0   \n",
       "4                             0                       0   \n",
       "\n",
       "  has_secondary_use_rental  has_secondary_use_institution  \\\n",
       "0                        0                              0   \n",
       "1                        0                              0   \n",
       "2                        0                              0   \n",
       "3                        0                              0   \n",
       "4                        0                              0   \n",
       "\n",
       "   has_secondary_use_school  has_secondary_use_industry  \\\n",
       "0                         0                           0   \n",
       "1                         0                           0   \n",
       "2                         0                           0   \n",
       "3                         0                           0   \n",
       "4                         0                           0   \n",
       "\n",
       "   has_secondary_use_health_post  has_secondary_use_gov_office  \\\n",
       "0                              0                             0   \n",
       "1                              0                             0   \n",
       "2                              0                             0   \n",
       "3                              0                             0   \n",
       "4                              0                             0   \n",
       "\n",
       "   has_secondary_use_use_police  has_secondary_use_other  \n",
       "0                             0                        0  \n",
       "1                             0                        0  \n",
       "2                             0                        0  \n",
       "3                             0                        0  \n",
       "4                             0                        0  \n",
       "\n",
       "[5 rows x 38 columns]"
      ]
     },
     "execution_count": 19,
     "metadata": {},
     "output_type": "execute_result"
    }
   ],
   "source": [
    "merged = pd.merge(b_structure, b_owner_use, on='building_id', how='inner')\n",
    "merged.head()"
   ]
  },
  {
   "cell_type": "code",
   "execution_count": 22,
   "metadata": {},
   "outputs": [
    {
     "data": {
      "text/plain": [
       "building_id                                0\n",
       "district_id                                0\n",
       "vdcmun_id                                  0\n",
       "ward_id                                    0\n",
       "count_floors_pre_eq                        0\n",
       "age_building                               0\n",
       "land_surface_condition                     0\n",
       "foundation_type                            0\n",
       "roof_type                                  0\n",
       "ground_floor_type                          0\n",
       "other_floor_type                           0\n",
       "position                                   1\n",
       "plan_configuration                         1\n",
       "has_superstructure_adobe_mud               0\n",
       "has_superstructure_mud_mortar_stone        0\n",
       "has_superstructure_stone_flag              0\n",
       "has_superstructure_cement_mortar_stone     0\n",
       "has_superstructure_mud_mortar_brick        0\n",
       "has_superstructure_cement_mortar_brick     0\n",
       "has_superstructure_timber                  0\n",
       "has_superstructure_bamboo                  0\n",
       "has_superstructure_rc_non_engineered       0\n",
       "has_superstructure_rc_engineered           0\n",
       "has_superstructure_other                   0\n",
       "damage_grade                              12\n",
       "legal_ownership_status                     0\n",
       "count_families                             2\n",
       "has_secondary_use                         10\n",
       "has_secondary_use_agriculture              0\n",
       "has_secondary_use_hotel                    0\n",
       "has_secondary_use_rental                   0\n",
       "has_secondary_use_institution              0\n",
       "has_secondary_use_school                   0\n",
       "has_secondary_use_industry                 0\n",
       "has_secondary_use_health_post              0\n",
       "has_secondary_use_gov_office               0\n",
       "has_secondary_use_use_police               0\n",
       "has_secondary_use_other                    0\n",
       "dtype: int64"
      ]
     },
     "execution_count": 22,
     "metadata": {},
     "output_type": "execute_result"
    }
   ],
   "source": [
    "merged.isna().sum()"
   ]
  },
  {
   "cell_type": "code",
   "execution_count": 21,
   "metadata": {},
   "outputs": [
    {
     "data": {
      "text/plain": [
       "building_id                                 int64\n",
       "district_id                                 int64\n",
       "vdcmun_id                                   int64\n",
       "ward_id                                     int64\n",
       "count_floors_pre_eq                         int64\n",
       "age_building                                int64\n",
       "land_surface_condition                     object\n",
       "foundation_type                            object\n",
       "roof_type                                  object\n",
       "ground_floor_type                          object\n",
       "other_floor_type                           object\n",
       "position                                   object\n",
       "plan_configuration                         object\n",
       "has_superstructure_adobe_mud                int64\n",
       "has_superstructure_mud_mortar_stone         int64\n",
       "has_superstructure_stone_flag               int64\n",
       "has_superstructure_cement_mortar_stone      int64\n",
       "has_superstructure_mud_mortar_brick         int64\n",
       "has_superstructure_cement_mortar_brick      int64\n",
       "has_superstructure_timber                   int64\n",
       "has_superstructure_bamboo                   int64\n",
       "has_superstructure_rc_non_engineered        int64\n",
       "has_superstructure_rc_engineered            int64\n",
       "has_superstructure_other                    int64\n",
       "damage_grade                               object\n",
       "legal_ownership_status                     object\n",
       "count_families                            float64\n",
       "has_secondary_use                         float64\n",
       "has_secondary_use_agriculture               int64\n",
       "has_secondary_use_hotel                     int64\n",
       "has_secondary_use_rental                    int64\n",
       "has_secondary_use_institution               int64\n",
       "has_secondary_use_school                    int64\n",
       "has_secondary_use_industry                  int64\n",
       "has_secondary_use_health_post               int64\n",
       "has_secondary_use_gov_office                int64\n",
       "has_secondary_use_use_police                int64\n",
       "has_secondary_use_other                     int64\n",
       "dtype: object"
      ]
     },
     "execution_count": 21,
     "metadata": {},
     "output_type": "execute_result"
    }
   ],
   "source": [
    "merged.dtypes"
   ]
  },
  {
   "cell_type": "code",
   "execution_count": 54,
   "metadata": {},
   "outputs": [],
   "source": [
    "merged.to_csv('/Users/chantalwuerschinger/code/chantalwuer/earthquake_damage/raw_data/merged_table.csv', index=False)"
   ]
  },
  {
   "cell_type": "markdown",
   "metadata": {},
   "source": [
    "## Merge additional information"
   ]
  },
  {
   "cell_type": "code",
   "execution_count": 23,
   "metadata": {},
   "outputs": [],
   "source": [
    "merged_df = merged.copy()"
   ]
  },
  {
   "cell_type": "code",
   "execution_count": null,
   "metadata": {},
   "outputs": [],
   "source": []
  },
  {
   "cell_type": "markdown",
   "metadata": {},
   "source": [
    "## Check out contents of dataframes"
   ]
  },
  {
   "cell_type": "code",
   "execution_count": 8,
   "metadata": {},
   "outputs": [],
   "source": [
    "train_data_columns = ['building_id', 'geo_level_1_id', 'geo_level_2_id', 'geo_level_3_id',\n",
    "       'count_floors_pre_eq', 'age', 'area_percentage', 'height_percentage',\n",
    "       'land_surface_condition', 'foundation_type', 'roof_type',\n",
    "       'ground_floor_type', 'other_floor_type', 'position',\n",
    "       'plan_configuration', 'has_superstructure_adobe_mud',\n",
    "       'has_superstructure_mud_mortar_stone', 'has_superstructure_stone_flag',\n",
    "       'has_superstructure_cement_mortar_stone',\n",
    "       'has_superstructure_mud_mortar_brick',\n",
    "       'has_superstructure_cement_mortar_brick', 'has_superstructure_timber',\n",
    "       'has_superstructure_bamboo', 'has_superstructure_rc_non_engineered',\n",
    "       'has_superstructure_rc_engineered', 'has_superstructure_other',\n",
    "       'legal_ownership_status', 'count_families', 'has_secondary_use',\n",
    "       'has_secondary_use_agriculture', 'has_secondary_use_hotel',\n",
    "       'has_secondary_use_rental', 'has_secondary_use_institution',\n",
    "       'has_secondary_use_school', 'has_secondary_use_industry',\n",
    "       'has_secondary_use_health_post', 'has_secondary_use_gov_office',\n",
    "       'has_secondary_use_use_police', 'has_secondary_use_other']"
   ]
  },
  {
   "cell_type": "code",
   "execution_count": 10,
   "metadata": {},
   "outputs": [],
   "source": [
    "household_columns = ['household_id',\n",
    "                    'gender_household_head', 'age_household_head', 'caste_household',\n",
    "                    'education_level_household_head', 'income_level_household',\n",
    "                    'size_household']\n",
    "\n",
    "columns_to_drop = ['district_id', 'vdcmun_id', 'ward_id', 'is_bank_account_present_in_household']"
   ]
  },
  {
   "cell_type": "code",
   "execution_count": 13,
   "metadata": {},
   "outputs": [
    {
     "data": {
      "text/html": [
       "<div>\n",
       "<style scoped>\n",
       "    .dataframe tbody tr th:only-of-type {\n",
       "        vertical-align: middle;\n",
       "    }\n",
       "\n",
       "    .dataframe tbody tr th {\n",
       "        vertical-align: top;\n",
       "    }\n",
       "\n",
       "    .dataframe thead th {\n",
       "        text-align: right;\n",
       "    }\n",
       "</style>\n",
       "<table border=\"1\" class=\"dataframe\">\n",
       "  <thead>\n",
       "    <tr style=\"text-align: right;\">\n",
       "      <th></th>\n",
       "      <th>household_id</th>\n",
       "      <th>district_id</th>\n",
       "      <th>vdcmun_id</th>\n",
       "      <th>ward_id</th>\n",
       "      <th>gender_household_head</th>\n",
       "      <th>age_household_head</th>\n",
       "      <th>caste_household</th>\n",
       "      <th>education_level_household_head</th>\n",
       "      <th>income_level_household</th>\n",
       "      <th>size_household</th>\n",
       "      <th>is_bank_account_present_in_household</th>\n",
       "    </tr>\n",
       "  </thead>\n",
       "  <tbody>\n",
       "    <tr>\n",
       "      <th>0</th>\n",
       "      <td>12010100001101</td>\n",
       "      <td>12</td>\n",
       "      <td>1207</td>\n",
       "      <td>120703</td>\n",
       "      <td>Male</td>\n",
       "      <td>31.0</td>\n",
       "      <td>Rai</td>\n",
       "      <td>Illiterate</td>\n",
       "      <td>Rs. 10 thousand</td>\n",
       "      <td>3.0</td>\n",
       "      <td>0.0</td>\n",
       "    </tr>\n",
       "    <tr>\n",
       "      <th>1</th>\n",
       "      <td>12010100002101</td>\n",
       "      <td>12</td>\n",
       "      <td>1207</td>\n",
       "      <td>120703</td>\n",
       "      <td>Female</td>\n",
       "      <td>62.0</td>\n",
       "      <td>Rai</td>\n",
       "      <td>Illiterate</td>\n",
       "      <td>Rs. 10 thousand</td>\n",
       "      <td>6.0</td>\n",
       "      <td>0.0</td>\n",
       "    </tr>\n",
       "    <tr>\n",
       "      <th>2</th>\n",
       "      <td>12010100003101</td>\n",
       "      <td>12</td>\n",
       "      <td>1207</td>\n",
       "      <td>120703</td>\n",
       "      <td>Male</td>\n",
       "      <td>51.0</td>\n",
       "      <td>Gharti/Bhujel</td>\n",
       "      <td>Illiterate</td>\n",
       "      <td>Rs. 10 thousand</td>\n",
       "      <td>13.0</td>\n",
       "      <td>0.0</td>\n",
       "    </tr>\n",
       "    <tr>\n",
       "      <th>3</th>\n",
       "      <td>12010100004101</td>\n",
       "      <td>12</td>\n",
       "      <td>1207</td>\n",
       "      <td>120703</td>\n",
       "      <td>Male</td>\n",
       "      <td>48.0</td>\n",
       "      <td>Gharti/Bhujel</td>\n",
       "      <td>Illiterate</td>\n",
       "      <td>Rs. 10 thousand</td>\n",
       "      <td>5.0</td>\n",
       "      <td>0.0</td>\n",
       "    </tr>\n",
       "    <tr>\n",
       "      <th>4</th>\n",
       "      <td>12010100005101</td>\n",
       "      <td>12</td>\n",
       "      <td>1207</td>\n",
       "      <td>120703</td>\n",
       "      <td>Male</td>\n",
       "      <td>70.0</td>\n",
       "      <td>Gharti/Bhujel</td>\n",
       "      <td>Illiterate</td>\n",
       "      <td>Rs. 10 thousand</td>\n",
       "      <td>8.0</td>\n",
       "      <td>0.0</td>\n",
       "    </tr>\n",
       "  </tbody>\n",
       "</table>\n",
       "</div>"
      ],
      "text/plain": [
       "     household_id  district_id  vdcmun_id  ward_id gender_household_head  \\\n",
       "0  12010100001101           12       1207   120703                  Male   \n",
       "1  12010100002101           12       1207   120703                Female   \n",
       "2  12010100003101           12       1207   120703                  Male   \n",
       "3  12010100004101           12       1207   120703                  Male   \n",
       "4  12010100005101           12       1207   120703                  Male   \n",
       "\n",
       "   age_household_head caste_household education_level_household_head  \\\n",
       "0                31.0             Rai                     Illiterate   \n",
       "1                62.0             Rai                     Illiterate   \n",
       "2                51.0   Gharti/Bhujel                     Illiterate   \n",
       "3                48.0   Gharti/Bhujel                     Illiterate   \n",
       "4                70.0   Gharti/Bhujel                     Illiterate   \n",
       "\n",
       "  income_level_household  size_household  is_bank_account_present_in_household  \n",
       "0        Rs. 10 thousand             3.0                                   0.0  \n",
       "1        Rs. 10 thousand             6.0                                   0.0  \n",
       "2        Rs. 10 thousand            13.0                                   0.0  \n",
       "3        Rs. 10 thousand             5.0                                   0.0  \n",
       "4        Rs. 10 thousand             8.0                                   0.0  "
      ]
     },
     "execution_count": 13,
     "metadata": {},
     "output_type": "execute_result"
    }
   ],
   "source": [
    "household_dem_s = household_dem.drop(columns_to_drop, axis=1)\n",
    "household_dem.head()"
   ]
  },
  {
   "cell_type": "code",
   "execution_count": 21,
   "metadata": {},
   "outputs": [
    {
     "data": {
      "text/plain": [
       "Index(['building_id', 'geo_level_1_id', 'geo_level_2_id', 'geo_level_3_id',\n",
       "       'count_floors_pre_eq', 'age', 'area_percentage', 'height_percentage',\n",
       "       'land_surface_condition', 'foundation_type', 'roof_type',\n",
       "       'ground_floor_type', 'other_floor_type', 'position',\n",
       "       'plan_configuration', 'has_superstructure_adobe_mud',\n",
       "       'has_superstructure_mud_mortar_stone', 'has_superstructure_stone_flag',\n",
       "       'has_superstructure_cement_mortar_stone',\n",
       "       'has_superstructure_mud_mortar_brick',\n",
       "       'has_superstructure_cement_mortar_brick', 'has_superstructure_timber',\n",
       "       'has_superstructure_bamboo', 'has_superstructure_rc_non_engineered',\n",
       "       'has_superstructure_rc_engineered', 'has_superstructure_other',\n",
       "       'legal_ownership_status', 'count_families', 'has_secondary_use',\n",
       "       'has_secondary_use_agriculture', 'has_secondary_use_hotel',\n",
       "       'has_secondary_use_rental', 'has_secondary_use_institution',\n",
       "       'has_secondary_use_school', 'has_secondary_use_industry',\n",
       "       'has_secondary_use_health_post', 'has_secondary_use_gov_office',\n",
       "       'has_secondary_use_use_police', 'has_secondary_use_other'],\n",
       "      dtype='object')"
      ]
     },
     "execution_count": 21,
     "metadata": {},
     "output_type": "execute_result"
    }
   ],
   "source": [
    "train_values.columns"
   ]
  },
  {
   "cell_type": "code",
   "execution_count": null,
   "metadata": {},
   "outputs": [],
   "source": []
  }
 ],
 "metadata": {
  "kernelspec": {
   "display_name": "Python 3.10.6 64-bit ('earthquake_env')",
   "language": "python",
   "name": "python3"
  },
  "language_info": {
   "codemirror_mode": {
    "name": "ipython",
    "version": 3
   },
   "file_extension": ".py",
   "mimetype": "text/x-python",
   "name": "python",
   "nbconvert_exporter": "python",
   "pygments_lexer": "ipython3",
   "version": "3.10.6"
  },
  "orig_nbformat": 4,
  "vscode": {
   "interpreter": {
    "hash": "2f9be42f8ee9d683210b4f105245095b23f8a50188902d8867e978f6bd462757"
   }
  }
 },
 "nbformat": 4,
 "nbformat_minor": 2
}
